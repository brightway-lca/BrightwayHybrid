{
 "cells": [
  {
   "attachments": {},
   "cell_type": "markdown",
   "metadata": {},
   "source": [
    "# 0.1. imports"
   ]
  },
  {
   "cell_type": "code",
   "execution_count": 1,
   "metadata": {},
   "outputs": [],
   "source": [
    "# i/o\n",
    "import sys\n",
    "import os\n",
    "from pathlib import Path\n",
    "import gzip\n",
    "import pickle\n",
    "# git\n",
    "import git\n",
    "# configuration\n",
    "import yaml\n",
    "# data science\n",
    "import pandas as pd\n",
    "import copy\n",
    "# lca\n",
    "import pymrio\n",
    "import ecospold2matrix as e2m\n",
    "# type hints\n",
    "from pymrio import IOSystem\n",
    "from pathlib import PosixPath"
   ]
  },
  {
   "attachments": {},
   "cell_type": "markdown",
   "metadata": {},
   "source": [
    "# 0.2. file paths\n",
    "## 0.2.1. directories"
   ]
  },
  {
   "cell_type": "code",
   "execution_count": 2,
   "metadata": {},
   "outputs": [],
   "source": [
    "%%capture\n",
    "print(path_dir_data := Path(Path.home() / 'data'))\n",
    "print(path_dir_data_raw := Path(path_dir_data / 'data_raw'))\n",
    "print(path_dir_data_processed := Path(path_dir_data / 'data_processed'))"
   ]
  },
  {
   "cell_type": "code",
   "execution_count": 3,
   "metadata": {},
   "outputs": [],
   "source": [
    "%%capture\n",
    "print(path_dir_repo_pylcaio_parent := Path(Path.home() / 'github'))\n",
    "print(path_dir_repo_pylcaio_src := Path(path_dir_repo_pylcaio_parent / 'pylcaio/src'))"
   ]
  },
  {
   "cell_type": "code",
   "execution_count": 4,
   "metadata": {},
   "outputs": [],
   "source": [
    "%%capture\n",
    "print(path_dir_exiobase := path_dir_data_raw / 'exiobase_3_8')\n",
    "print(path_dir_ecoinvent := path_dir_data_raw / 'ecoinvent_3.8_cutoff_ecoSpold02')"
   ]
  },
  {
   "attachments": {},
   "cell_type": "markdown",
   "metadata": {},
   "source": [
    "## 0.2.2. files"
   ]
  },
  {
   "cell_type": "code",
   "execution_count": 5,
   "metadata": {},
   "outputs": [],
   "source": [
    "%%capture\n",
    "print(path_file_ecoinvent_LCIA_implementation := str(path_dir_ecoinvent / 'LCIA Implementation v3.8.xlsx'))"
   ]
  },
  {
   "attachments": {},
   "cell_type": "markdown",
   "metadata": {},
   "source": [
    "### ℹ️ prerequisites\n",
    "\n",
    "1. `Ecoinvent` data present in directory `path_dir_data_raw`\n",
    "2. `Exiobase` data present in directory `path_dir_data_raw` or internet connection for automatic download from zenodo.org"
   ]
  },
  {
   "attachments": {},
   "cell_type": "markdown",
   "metadata": {},
   "source": [
    "# 1. data preparation\n",
    "\n",
    "## 1.0. variables "
   ]
  },
  {
   "cell_type": "code",
   "execution_count": 6,
   "metadata": {},
   "outputs": [],
   "source": [
    "str_exiobase_system: str = 'pxp'\n",
    "str_exiobase_year: str = '2011'\n",
    "str_exiobase_zip_file: str = 'IOT_' + str_exiobase_year + '_' + str_exiobase_system + '.zip'"
   ]
  },
  {
   "cell_type": "markdown",
   "metadata": {},
   "source": [
    "## 1.1. download `Exiobase` from zenodo.org "
   ]
  },
  {
   "cell_type": "code",
   "execution_count": 7,
   "metadata": {},
   "outputs": [],
   "source": [
    "if path_dir_exiobase.exists():\n",
    "    pass\n",
    "else:\n",
    "    pymrio.download_exiobase3(\n",
    "        storage_folder = path_dir_exiobase,\n",
    "        system = str_exiobase_system,\n",
    "        years = str_exiobase_year\n",
    "    )"
   ]
  },
  {
   "attachments": {},
   "cell_type": "markdown",
   "metadata": {},
   "source": [
    "## 1.2. check if `Ecoinvent` data is present"
   ]
  },
  {
   "cell_type": "code",
   "execution_count": 8,
   "metadata": {},
   "outputs": [],
   "source": [
    "assert path_dir_ecoinvent.exists(), 'Ecoinvent data not found.'"
   ]
  },
  {
   "attachments": {},
   "cell_type": "markdown",
   "metadata": {},
   "source": [
    "# 2. parse databases\n",
    "## 2.1. parse `Exiobase`"
   ]
  },
  {
   "cell_type": "code",
   "execution_count": 9,
   "metadata": {},
   "outputs": [],
   "source": [
    "exiobase: pymrio.IOSystem = pymrio.parse_exiobase3(path_dir_exiobase / str_exiobase_zip_file)"
   ]
  },
  {
   "attachments": {},
   "cell_type": "markdown",
   "metadata": {},
   "source": [
    "## 2.2. parse `Ecoinvent`"
   ]
  },
  {
   "cell_type": "code",
   "execution_count": 83,
   "metadata": {},
   "outputs": [
    {
     "name": "stderr",
     "output_type": "stream",
     "text": [
      "2023-01-12 16:06:26,010 - ecoinvent_3_8 - INFO - Ecospold2Matrix Processing\n",
      "INFO:ecoinvent_3_8:Ecospold2Matrix Processing\n",
      "2023-01-12 16:06:26,143 - ecoinvent_3_8 - INFO - Current git commit: 7446636687ac9de51a2c39d0f8557bd8e23413cd\n",
      "INFO:ecoinvent_3_8:Current git commit: 7446636687ac9de51a2c39d0f8557bd8e23413cd\n",
      "2023-01-12 16:06:26,145 - ecoinvent_3_8 - INFO - Project name: ecoinvent_3_8\n",
      "INFO:ecoinvent_3_8:Project name: ecoinvent_3_8\n",
      "2023-01-12 16:06:26,146 - ecoinvent_3_8 - INFO - Unit process and Master data directory: /Users/michaelweinold/data/data_raw/ecoinvent_3.8_cutoff_ecoSpold02\n",
      "INFO:ecoinvent_3_8:Unit process and Master data directory: /Users/michaelweinold/data/data_raw/ecoinvent_3.8_cutoff_ecoSpold02\n",
      "2023-01-12 16:06:26,146 - ecoinvent_3_8 - INFO - Data saved in: /Users/michaelweinold/data/data_processed\n",
      "INFO:ecoinvent_3_8:Data saved in: /Users/michaelweinold/data/data_processed\n",
      "2023-01-12 16:06:26,147 - ecoinvent_3_8 - INFO - Replace Not-a-Number instances with 0.0 in all matrices\n",
      "INFO:ecoinvent_3_8:Replace Not-a-Number instances with 0.0 in all matrices\n",
      "2023-01-12 16:06:26,148 - ecoinvent_3_8 - INFO - Pickle intermediate results to files\n",
      "INFO:ecoinvent_3_8:Pickle intermediate results to files\n",
      "2023-01-12 16:06:26,149 - ecoinvent_3_8 - INFO - Order processes based on: ISIC, activityName\n",
      "INFO:ecoinvent_3_8:Order processes based on: ISIC, activityName\n",
      "2023-01-12 16:06:26,149 - ecoinvent_3_8 - INFO - Order elementary exchanges based on: comp, name, subcomp\n",
      "INFO:ecoinvent_3_8:Order elementary exchanges based on: comp, name, subcomp\n",
      "2023-01-12 16:06:26,164 - ecoinvent_3_8 - WARNING - obs2char_subcomps constraints temporarily relaxed because not full recipe parsed\n",
      "WARNING:ecoinvent_3_8:obs2char_subcomps constraints temporarily relaxed because not full recipe parsed\n"
     ]
    }
   ],
   "source": [
    "parser = e2m.Ecospold2Matrix(\n",
    "    sys_dir = str(path_dir_ecoinvent), # passing a Posix Path object breaks the functionality\n",
    "    project_name = 'ecoinvent_3_8',\n",
    "    out_dir = path_dir_data_processed,\n",
    "    characterisation_file = path_file_ecoinvent_LCIA_implementation,\n",
    "    positive_waste = False,\n",
    "    nan2null = True\n",
    ")\n",
    "parser.save_interm = False\n",
    "parser.prefer_pickles = True"
   ]
  },
  {
   "cell_type": "code",
   "execution_count": 84,
   "metadata": {},
   "outputs": [
    {
     "name": "stderr",
     "output_type": "stream",
     "text": [
      "2023-01-12 16:06:27,126 - ecoinvent_3_8 - INFO - Products extracted from IntermediateExchanges.xml with SHA-1 of 1da23bc8fd24d97422a2a21ba3626d2cdfa6a428\n",
      "INFO:ecoinvent_3_8:Products extracted from IntermediateExchanges.xml with SHA-1 of 1da23bc8fd24d97422a2a21ba3626d2cdfa6a428\n",
      "2023-01-12 16:07:02,399 - ecoinvent_3_8 - WARNING - Removed 162 duplicate rows from activity_list, see duplicate_activity_list.csv.\n",
      "WARNING:ecoinvent_3_8:Removed 162 duplicate rows from activity_list, see duplicate_activity_list.csv.\n",
      "2023-01-12 16:07:02,493 - ecoinvent_3_8 - INFO - Activities extracted from ActivityIndex.xml with SHA-1 of 03403c01ac6f74a5d6cc5ca8820593f7e516b709\n",
      "INFO:ecoinvent_3_8:Activities extracted from ActivityIndex.xml with SHA-1 of 03403c01ac6f74a5d6cc5ca8820593f7e516b709\n",
      "2023-01-12 16:07:02,666 - ecoinvent_3_8 - INFO - Processing 19565 files in /Users/michaelweinold/data/data_raw/ecoinvent_3.8_cutoff_ecoSpold02/datasets\n",
      "INFO:ecoinvent_3_8:Processing 19565 files in /Users/michaelweinold/data/data_raw/ecoinvent_3.8_cutoff_ecoSpold02/datasets\n",
      "2023-01-12 16:08:26,728 - ecoinvent_3_8 - INFO - Processing 19565 files - this may take a while ...\n",
      "INFO:ecoinvent_3_8:Processing 19565 files - this may take a while ...\n",
      "2023-01-12 16:17:01,784 - ecoinvent_3_8 - INFO - Elementary flows extracted from ElementaryExchanges.xml with SHA-1 of f65edb9180cc5fb6df99289157b5aab92d30c0d1\n",
      "INFO:ecoinvent_3_8:Elementary flows extracted from ElementaryExchanges.xml with SHA-1 of f65edb9180cc5fb6df99289157b5aab92d30c0d1\n",
      "2023-01-12 16:17:01,810 - ecoinvent_3_8 - INFO - OK.   No untraceable flows.\n",
      "INFO:ecoinvent_3_8:OK.   No untraceable flows.\n",
      "2023-01-12 16:17:02,284 - ecoinvent_3_8 - INFO - OK. Source activities seem in order. Each product traceable to an activity that actually does produce or distribute this product.\n",
      "INFO:ecoinvent_3_8:OK. Source activities seem in order. Each product traceable to an activity that actually does produce or distribute this product.\n",
      "2023-01-12 16:17:02,734 - ecoinvent_3_8 - INFO - Starting to assemble the matrices\n",
      "INFO:ecoinvent_3_8:Starting to assemble the matrices\n",
      "2023-01-12 16:17:05,448 - ecoinvent_3_8 - INFO - fillna\n",
      "INFO:ecoinvent_3_8:fillna\n",
      "2023-01-12 16:17:15,609 - ecoinvent_3_8 - INFO - Starting normalizing matrices\n",
      "INFO:ecoinvent_3_8:Starting normalizing matrices\n",
      "2023-01-12 16:17:34,344 - ecoinvent_3_8 - INFO - Characterisation file seems to be ecoinvent LCIA implementation. Will apply simple name matching\n",
      "INFO:ecoinvent_3_8:Characterisation file seems to be ecoinvent LCIA implementation. Will apply simple name matching\n"
     ]
    },
    {
     "name": "stdout",
     "output_type": "stream",
     "text": [
      "starting characterisation\n"
     ]
    },
    {
     "name": "stderr",
     "output_type": "stream",
     "text": [
      "2023-01-12 16:17:59,356 - ecoinvent_3_8 - INFO - Starting characterisation matching\n",
      "INFO:ecoinvent_3_8:Starting characterisation matching\n",
      "2023-01-12 16:18:03,956 - ecoinvent_3_8 - INFO - Characterisation matching done. C matrix created\n",
      "INFO:ecoinvent_3_8:Characterisation matching done. C matrix created\n",
      "2023-01-12 16:18:03,956 - ecoinvent_3_8 - INFO - Starting to export to file\n",
      "INFO:ecoinvent_3_8:Starting to export to file\n",
      "2023-01-12 16:18:03,957 - ecoinvent_3_8 - INFO - about to write to file\n",
      "INFO:ecoinvent_3_8:about to write to file\n",
      "2023-01-12 16:23:01,175 - ecoinvent_3_8 - INFO - Final, symmetric, normalized matrices saved in /Users/michaelweinold/data/data_processed/ecoinvent_3_8Pandas_symmNorm.gz.pickle with SHA-1 of a39b4e71f0e953ba18b995c33619865b62f679a5\n",
      "INFO:ecoinvent_3_8:Final, symmetric, normalized matrices saved in /Users/michaelweinold/data/data_processed/ecoinvent_3_8Pandas_symmNorm.gz.pickle with SHA-1 of a39b4e71f0e953ba18b995c33619865b62f679a5\n",
      "2023-01-12 16:28:01,666 - ecoinvent_3_8 - INFO - Final, symmetric, scaled-up flow matrices saved in /Users/michaelweinold/data/data_processed/ecoinvent_3_8Pandas_symmScale.gz.pickle with SHA-1 of 88a1dc685b1cde420f221004fbb48aa26d4b487c\n",
      "INFO:ecoinvent_3_8:Final, symmetric, scaled-up flow matrices saved in /Users/michaelweinold/data/data_processed/ecoinvent_3_8Pandas_symmScale.gz.pickle with SHA-1 of 88a1dc685b1cde420f221004fbb48aa26d4b487c\n",
      "2023-01-12 16:28:01,669 - ecoinvent_3_8 - INFO - Done running ecospold2matrix.ecospold_to_Leontief\n",
      "INFO:ecoinvent_3_8:Done running ecospold2matrix.ecospold_to_Leontief\n"
     ]
    }
   ],
   "source": [
    "parser.ecospold_to_Leontief(\n",
    "    fileformats = 'Pandas',\n",
    "    with_absolute_flows = True\n",
    ")"
   ]
  },
  {
   "cell_type": "code",
   "execution_count": 85,
   "metadata": {},
   "outputs": [],
   "source": [
    "Path.unlink(Path.cwd() / ('ecoinvent_3_8' + '_characterisation.db'), missing_ok = True)\n",
    "Path.unlink(Path.cwd() / 'C_long', missing_ok = True)"
   ]
  },
  {
   "attachments": {},
   "cell_type": "markdown",
   "metadata": {},
   "source": [
    "# 3. `pylcaio`\n",
    "## 3.1. `pylcaio` import"
   ]
  },
  {
   "cell_type": "code",
   "execution_count": 9,
   "metadata": {},
   "outputs": [],
   "source": [
    "if path_dir_repo_pylcaio_src.exists():\n",
    "    pass\n",
    "else:\n",
    "    git.Git(path_dir_repo_pylcaio_parent).clone(\"https://github.com/michaelweinold/pylcaio.git\")"
   ]
  },
  {
   "cell_type": "code",
   "execution_count": 11,
   "metadata": {},
   "outputs": [],
   "source": [
    "sys.path.append(str(path_dir_repo_pylcaio_src))\n",
    "import pylcaio "
   ]
  },
  {
   "cell_type": "code",
   "execution_count": 11,
   "metadata": {},
   "outputs": [],
   "source": [
    "with gzip.open('/Users/michaelweinold/data/data_processed/ecoinvent_3_8Pandas_symmNorm.gz.pickle','rb') as f:\n",
    "    ecoinvent = pd.read_pickle(f)"
   ]
  },
  {
   "cell_type": "code",
   "execution_count": 14,
   "metadata": {},
   "outputs": [],
   "source": [
    "database_loader: pylcaio.DatabaseLoader  = pylcaio.DatabaseLoader(\n",
    "    lca_database_processed = ecoinvent,\n",
    "    io_database_processed = exiobase,\n",
    "    lca_database_name_and_version = 'ecoinvent3.8',\n",
    "    io_database_name_and_version = 'exiobase3'\n",
    ")"
   ]
  },
  {
   "cell_type": "code",
   "execution_count": 15,
   "metadata": {},
   "outputs": [
    {
     "name": "stdout",
     "output_type": "stream",
     "text": [
      "No path for the capital folder was provided. Capitals will not be endogenized\n"
     ]
    }
   ],
   "source": [
    "lcaio_object: pylcaio.LCAIO = database_loader.combine_ecoinvent_exiobase(\n",
    "    complete_extensions = False,\n",
    "    impact_world = False,\n",
    "    regionalized = False\n",
    ")"
   ]
  },
  {
   "cell_type": "code",
   "execution_count": 16,
   "metadata": {},
   "outputs": [
    {
     "name": "stdout",
     "output_type": "stream",
     "text": [
      "Indentifying Rest of World regions...\n",
      "Updating electricity prices...\n",
      "Calculating productions volumes...\n",
      "Adjusting low production volume processes...\n",
      "Extending inventory...\n",
      "Building H matrix...\n"
     ]
    },
    {
     "name": "stderr",
     "output_type": "stream",
     "text": [
      "/Users/michaelweinold/github/pylcaio/src/pylcaio.py:875: FutureWarning: The frame.append method is deprecated and will be removed from pandas in a future version. Use pandas.concat instead.\n",
      "  self.H = self.H.append([self.H] * (self.number_of_countries_IO + self.number_of_RoW_IO - 1))\n"
     ]
    },
    {
     "name": "stdout",
     "output_type": "stream",
     "text": [
      "Building geography concordance...\n",
      "Filter H matrix...\n",
      "Build Cut-off matrix...\n",
      "Add processes with 'priceless scaling' to Cut-off matrix...\n"
     ]
    },
    {
     "name": "stderr",
     "output_type": "stream",
     "text": [
      "/Users/michaelweinold/github/pylcaio/src/pylcaio.py:1050: FutureWarning: The frame.append method is deprecated and will be removed from pandas in a future version. Use pandas.concat instead.\n",
      "  self.G = self.G.append([self.G] * (self.number_of_countries_IO + self.number_of_RoW_IO - 1))\n"
     ]
    }
   ],
   "source": [
    "lcaio_object.hybridize(\n",
    "    price_neutral_cut_off_matrix = False,\n",
    "    method_double_counting = 'STAM',\n",
    "    capitals = False,\n",
    "    priceless_scaling = True\n",
    ")"
   ]
  },
  {
   "cell_type": "code",
   "execution_count": 19,
   "metadata": {},
   "outputs": [
    {
     "name": "stdout",
     "output_type": "stream",
     "text": [
      "Database saved to /Users/michaelweinold/data/data_processed/hybrid.pickle\n",
      "Description file saved to /Users/michaelweinold/data/data_processed/description_hybrid.txt\n"
     ]
    }
   ],
   "source": [
    "lcaio_object.save_system(\n",
    "    file_name = 'hybrid.pickle',\n",
    "    file_path = path_dir_data_processed,\n",
    "    format = 'pickle'\n",
    ")"
   ]
  },
  {
   "cell_type": "code",
   "execution_count": 20,
   "metadata": {},
   "outputs": [],
   "source": [
    "with gzip.open('/Users/michaelweinold/data/data_processed/hybrid.pickle','rb') as f:\n",
    "    hybrid_pickle = pd.read_pickle(f)"
   ]
  },
  {
   "cell_type": "code",
   "execution_count": 12,
   "metadata": {},
   "outputs": [],
   "source": [
    "lcaio_analysis: pylcaio.Analysis = pylcaio.Analysis('/Users/michaelweinold/data/data_processed/hybrid.pickle')"
   ]
  },
  {
   "cell_type": "code",
   "execution_count": 13,
   "metadata": {},
   "outputs": [],
   "source": [
    "eidatasets = str(Path(path_dir_ecoinvent / 'datasets'))"
   ]
  },
  {
   "cell_type": "code",
   "execution_count": 14,
   "metadata": {},
   "outputs": [
    {
     "name": "stdout",
     "output_type": "stream",
     "text": [
      "Biosphere database already present!!! No setup is needed\n",
      "Extracting XML data from 19565 datasets\n",
      "Extracted 19565 datasets in 17.73 seconds\n",
      "Applying strategy: normalize_units\n",
      "Applying strategy: update_ecoinvent_locations\n",
      "Applying strategy: remove_zero_amount_coproducts\n",
      "Applying strategy: remove_zero_amount_inputs_with_no_activity\n",
      "Applying strategy: remove_unnamed_parameters\n",
      "Applying strategy: es2_assign_only_product_with_amount_as_reference_product\n",
      "Applying strategy: assign_single_product_as_activity\n",
      "Applying strategy: create_composite_code\n",
      "Applying strategy: drop_unspecified_subcategories\n",
      "Applying strategy: fix_ecoinvent_flows_pre35\n",
      "Applying strategy: drop_temporary_outdated_biosphere_flows\n",
      "Applying strategy: link_biosphere_by_flow_uuid\n",
      "Applying strategy: link_internal_technosphere_by_composite_code\n",
      "Applying strategy: delete_exchanges_missing_activity\n",
      "Applying strategy: delete_ghost_exchanges\n",
      "Applying strategy: remove_uncertainty_from_negative_loss_exchanges\n",
      "Applying strategy: fix_unreasonably_high_lognormal_uncertainties\n",
      "Applying strategy: set_lognormal_loc_value\n",
      "Applying strategy: convert_activity_parameters_to_list\n",
      "Applying strategy: add_cpc_classification_from_single_reference_product\n",
      "Applying strategy: delete_none_synonyms\n",
      "Applied 21 strategies in 3.37 seconds\n",
      "Vacuuming database \n",
      "Warning: No valid output stream.\n",
      "Title: Writing activities to SQLite3 database:\n",
      "  Started: 01/13/2023 12:12:33\n",
      "  Finished: 01/13/2023 12:12:53\n",
      "  Total time elapsed: 00:00:19\n",
      "  CPU %: 97.70\n",
      "  Memory %: 27.76\n",
      "Created database: hybrid-ecoinvent\n",
      "Starting import of exiobase\n",
      "Aggregating results\n",
      "Formating data\n"
     ]
    },
    {
     "ename": "AttributeError",
     "evalue": "'tuple' object has no attribute 'split'",
     "output_type": "error",
     "traceback": [
      "\u001b[0;31m---------------------------------------------------------------------------\u001b[0m",
      "\u001b[0;31mAttributeError\u001b[0m                            Traceback (most recent call last)",
      "Cell \u001b[0;32mIn[14], line 1\u001b[0m\n\u001b[0;32m----> 1\u001b[0m lcaio_analysis\u001b[39m.\u001b[39;49mexport_to_brightway2(\n\u001b[1;32m      2\u001b[0m     bw2_project_name \u001b[39m=\u001b[39;49m \u001b[39m'\u001b[39;49m\u001b[39mtest2\u001b[39;49m\u001b[39m'\u001b[39;49m,\n\u001b[1;32m      3\u001b[0m     created_database_name \u001b[39m=\u001b[39;49m \u001b[39m'\u001b[39;49m\u001b[39mhybrid_test2\u001b[39;49m\u001b[39m'\u001b[39;49m,\n\u001b[1;32m      4\u001b[0m     path_to_ecoinvent_ecospold_datasets \u001b[39m=\u001b[39;49m eidatasets,\n\u001b[1;32m      5\u001b[0m     aggregated \u001b[39m=\u001b[39;49m \u001b[39mFalse\u001b[39;49;00m\n\u001b[1;32m      6\u001b[0m )\n",
      "File \u001b[0;32m~/github/pylcaio/src/pylcaio.py:2249\u001b[0m, in \u001b[0;36mAnalysis.export_to_brightway2\u001b[0;34m(self, bw2_project_name, created_database_name, path_to_ecoinvent_ecospold_datasets, aggregated)\u001b[0m\n\u001b[1;32m   2245\u001b[0m eco_importer\u001b[39m.\u001b[39mwrite_database()\n\u001b[1;32m   2247\u001b[0m \u001b[39mif\u001b[39;00m \u001b[39mnot\u001b[39;00m aggregated:\n\u001b[1;32m   2248\u001b[0m     \u001b[39m# importing exiobase into the project\u001b[39;00m\n\u001b[0;32m-> 2249\u001b[0m     \u001b[39mself\u001b[39;49m\u001b[39m.\u001b[39;49mimport_exiobase_into_brightway2()\n\u001b[1;32m   2251\u001b[0m \u001b[39m# importing hybrid ecoinvent\u001b[39;00m\n\u001b[1;32m   2252\u001b[0m \u001b[39mself\u001b[39m\u001b[39m.\u001b[39mimport_hybrid_ecoinvent_into_brightway2(created_database_name, aggregated)\n",
      "File \u001b[0;32m~/github/pylcaio/src/pylcaio.py:2278\u001b[0m, in \u001b[0;36mAnalysis.import_exiobase_into_brightway2\u001b[0;34m(self)\u001b[0m\n\u001b[1;32m   2273\u001b[0m         IW_pylcaio_to_bw2[IW_category] \u001b[39m=\u001b[39m \\\n\u001b[1;32m   2274\u001b[0m         bw2data\u001b[39m.\u001b[39mmethods\u001b[39m.\u001b[39mget((\u001b[39m'\u001b[39m\u001b[39mIMPACTWorld+ (Default_Recommended_Damage 1.46)\u001b[39m\u001b[39m'\u001b[39m, IW_category\u001b[39m.\u001b[39msplit(\u001b[39m'\u001b[39m\u001b[39m (\u001b[39m\u001b[39m'\u001b[39m)[\u001b[39m0\u001b[39m]))[\n\u001b[1;32m   2275\u001b[0m             \u001b[39m'\u001b[39m\u001b[39mabbreviation\u001b[39m\u001b[39m'\u001b[39m]\n\u001b[1;32m   2276\u001b[0m     \u001b[39melse\u001b[39;00m:\n\u001b[1;32m   2277\u001b[0m         IW_pylcaio_to_bw2[IW_category] \u001b[39m=\u001b[39m \\\n\u001b[0;32m-> 2278\u001b[0m         bw2data\u001b[39m.\u001b[39mmethods\u001b[39m.\u001b[39mget((\u001b[39m'\u001b[39m\u001b[39mIMPACTWorld+ (Default_Recommended_Midpoint 1.28)\u001b[39m\u001b[39m'\u001b[39m, IW_category\u001b[39m.\u001b[39;49msplit(\u001b[39m'\u001b[39m\u001b[39m (\u001b[39m\u001b[39m'\u001b[39m)[\u001b[39m0\u001b[39m]))[\n\u001b[1;32m   2279\u001b[0m             \u001b[39m'\u001b[39m\u001b[39mabbreviation\u001b[39m\u001b[39m'\u001b[39m]\n\u001b[1;32m   2280\u001b[0m aggregated_results\u001b[39m.\u001b[39mindex \u001b[39m=\u001b[39m \u001b[39mlist\u001b[39m(IW_pylcaio_to_bw2\u001b[39m.\u001b[39mvalues())\n\u001b[1;32m   2282\u001b[0m \u001b[39m# create dummy exchanges and characterization factors to enable the storing of LCIA scores into exchanges\u001b[39;00m\n",
      "\u001b[0;31mAttributeError\u001b[0m: 'tuple' object has no attribute 'split'"
     ]
    }
   ],
   "source": [
    "lcaio_analysis.export_to_brightway2(\n",
    "    bw2_project_name = 'test2',\n",
    "    created_database_name = 'hybrid_test2',\n",
    "    path_to_ecoinvent_ecospold_datasets = eidatasets,\n",
    "    aggregated = False\n",
    ")"
   ]
  },
  {
   "cell_type": "code",
   "execution_count": 16,
   "metadata": {},
   "outputs": [],
   "source": [
    "import bw2data"
   ]
  },
  {
   "cell_type": "code",
   "execution_count": 53,
   "metadata": {},
   "outputs": [
    {
     "data": {
      "text/plain": [
       "NoneType"
      ]
     },
     "execution_count": 53,
     "metadata": {},
     "output_type": "execute_result"
    }
   ],
   "source": [
    "type(bw2data.methods.get('CML 2001 (superseded)'))"
   ]
  },
  {
   "cell_type": "code",
   "execution_count": 62,
   "metadata": {},
   "outputs": [
    {
     "ename": "SyntaxError",
     "evalue": "incomplete input (520947138.py, line 2)",
     "output_type": "error",
     "traceback": [
      "\u001b[0;36m  Cell \u001b[0;32mIn[62], line 2\u001b[0;36m\u001b[0m\n\u001b[0;31m    #print(i)\u001b[0m\n\u001b[0m             ^\u001b[0m\n\u001b[0;31mSyntaxError\u001b[0m\u001b[0;31m:\u001b[0m incomplete input\n"
     ]
    }
   ],
   "source": [
    "for i in bw2data.methods:\n",
    "    #print(i)"
   ]
  },
  {
   "cell_type": "code",
   "execution_count": 23,
   "metadata": {},
   "outputs": [],
   "source": [
    "impact_categories: list = lcaio_analysis.impact_categories_IO\n",
    "methods: list = list(bw2data.methods)"
   ]
  },
  {
   "cell_type": "code",
   "execution_count": 32,
   "metadata": {},
   "outputs": [],
   "source": [
    "dict_impact_categories = dict.fromkeys(impact_categories)"
   ]
  },
  {
   "cell_type": "code",
   "execution_count": 39,
   "metadata": {},
   "outputs": [
    {
     "data": {
      "text/plain": [
       "\"('Problem oriented approach: baseline\""
      ]
     },
     "execution_count": 39,
     "metadata": {},
     "output_type": "execute_result"
    }
   ],
   "source": [
    "str(impact_categories[0]).split(' (')[0]"
   ]
  },
  {
   "cell_type": "code",
   "execution_count": 63,
   "metadata": {},
   "outputs": [],
   "source": [
    "search_term: str = 'IMPACTWorld+'\n",
    "for tup in bw2data.methods:\n",
    "    if search_term in tup:\n",
    "        print(tup)"
   ]
  },
  {
   "cell_type": "code",
   "execution_count": 70,
   "metadata": {},
   "outputs": [
    {
     "data": {
      "text/plain": [
       "Methods dictionary with 1020 objects, including:\n",
       "\t('CML 2001 (superseded)', 'acidification potential', 'average European')\n",
       "\t('CML 2001 (superseded)', 'acidification potential', 'generic')\n",
       "\t('CML 2001 (superseded)', 'climate change', 'GWP 100a')\n",
       "\t('CML 2001 (superseded)', 'climate change', 'GWP 20a')\n",
       "\t('CML 2001 (superseded)', 'climate change', 'GWP 500a')\n",
       "\t('CML 2001 (superseded)', 'climate change', 'lower limit of net GWP')\n",
       "\t('CML 2001 (superseded)', 'climate change', 'upper limit of net GWP')\n",
       "\t('CML 2001 (superseded)', 'eutrophication potential', 'average European')\n",
       "\t('CML 2001 (superseded)', 'eutrophication potential', 'generic')\n",
       "\t('CML 2001 (superseded)', 'freshwater aquatic ecotoxicity', 'FAETP 100a')\n",
       "Use `list(this object)` to get the complete list."
      ]
     },
     "execution_count": 70,
     "metadata": {},
     "output_type": "execute_result"
    }
   ],
   "source": [
    "bw2data.methods"
   ]
  },
  {
   "cell_type": "code",
   "execution_count": 68,
   "metadata": {},
   "outputs": [
    {
     "data": {
      "text/plain": [
       "[('IMPACTWorld+ (Default_Recommended_Midpoint 1.28)',\n",
       "  'Land occupation, biodiversity'),\n",
       " ('IMPACTWorld+ (Default_Recommended_Midpoint 1.28)',\n",
       "  'Particulate matter formation'),\n",
       " ('IMPACTWorld+ (Default_Recommended_Midpoint 1.28)', 'Ionizing radiations'),\n",
       " ('IMPACTWorld+ (Default_Recommended_Damage 1.46)',\n",
       "  'Climate change, ecosystem quality, short term'),\n",
       " ('IMPACTWorld+ (Default_Recommended_Damage 1.46)',\n",
       "  'Climate change, ecosystem quality, long term'),\n",
       " ('IMPACTWorld+ (Default_Recommended_Damage 1.46)',\n",
       "  'Climate change, human health, short term'),\n",
       " ('IMPACTWorld+ (Default_Recommended_Damage 1.46)',\n",
       "  'Climate change, human health, long term'),\n",
       " ('IMPACTWorld+ (Default_Recommended_Damage 1.46)',\n",
       "  'Marine acidification, short term'),\n",
       " ('IMPACTWorld+ (Default_Recommended_Damage 1.46)',\n",
       "  'Marine acidification, long term'),\n",
       " ('IMPACTWorld+ (Default_Recommended_Damage 1.46)',\n",
       "  'Land occupation, biodiversity'),\n",
       " ('IMPACTWorld+ (Default_Recommended_Damage 1.46)',\n",
       "  'Water availability, human health'),\n",
       " ('IMPACTWorld+ (Default_Recommended_Damage 1.46)',\n",
       "  'Water availability, freshwater ecosystem'),\n",
       " ('IMPACTWorld+ (Default_Recommended_Damage 1.46)',\n",
       "  'Water availability, terrestrial ecosystem'),\n",
       " ('IMPACTWorld+ (Default_Recommended_Damage 1.46)',\n",
       "  'Thermally polluted water'),\n",
       " ('IMPACTWorld+ (Default_Recommended_Damage 1.46)',\n",
       "  'Photochemical oxidant formation'),\n",
       " ('IMPACTWorld+ (Default_Recommended_Damage 1.46)',\n",
       "  'Ionizing radiation, human health'),\n",
       " ('IMPACTWorld+ (Default_Recommended_Damage 1.46)', 'Ozone layer depletion'),\n",
       " ('IMPACTWorld+ (Default_Recommended_Damage 1.46)',\n",
       "  'Freshwater ecotoxicity, short term'),\n",
       " ('IMPACTWorld+ (Default_Recommended_Damage 1.46)',\n",
       "  'Freshwater ecotoxicity, long term'),\n",
       " ('IMPACTWorld+ (Default_Recommended_Damage 1.46)',\n",
       "  'Human toxicity cancer, short term'),\n",
       " ('IMPACTWorld+ (Default_Recommended_Damage 1.46)',\n",
       "  'Human toxicity cancer, long term'),\n",
       " ('IMPACTWorld+ (Default_Recommended_Damage 1.46)',\n",
       "  'Human toxicity non-cancer, short term'),\n",
       " ('IMPACTWorld+ (Default_Recommended_Damage 1.46)',\n",
       "  'Human toxicity non-cancer, long term'),\n",
       " ('IMPACTWorld+ (Default_Recommended_Damage 1.46)',\n",
       "  'Freshwater acidification'),\n",
       " ('IMPACTWorld+ (Default_Recommended_Damage 1.46)',\n",
       "  'Terrestrial acidification'),\n",
       " ('IMPACTWorld+ (Default_Recommended_Damage 1.46)',\n",
       "  'Freshwater eutrophication'),\n",
       " ('IMPACTWorld+ (Default_Recommended_Damage 1.46)', 'Marine eutrophication'),\n",
       " ('IMPACTWorld+ (Default_Recommended_Damage 1.46)',\n",
       "  'Land transformation, biodiversity'),\n",
       " ('IMPACTWorld+ (Default_Recommended_Damage 1.46)',\n",
       "  'Particulate matter formation')]"
      ]
     },
     "execution_count": 68,
     "metadata": {},
     "output_type": "execute_result"
    }
   ],
   "source": [
    "list(bw2data.methods)[-30:-1]"
   ]
  },
  {
   "cell_type": "code",
   "execution_count": 69,
   "metadata": {},
   "outputs": [],
   "source": [
    "bw2data.methods.get('IMPACTWorld+ (Default_Recommended_Damage 1.46)')"
   ]
  },
  {
   "cell_type": "code",
   "execution_count": 50,
   "metadata": {},
   "outputs": [
    {
     "name": "stdout",
     "output_type": "stream",
     "text": [
      "('ECOINDICATOR 99\n",
      "('ECOINDICATOR 99\n",
      "('ECOINDICATOR 99\n",
      "('ECOINDICATOR 99\n",
      "('ECOINDICATOR 99\n",
      "('ECOINDICATOR 99\n",
      "('ECOINDICATOR 99\n",
      "('ECOINDICATOR 99\n",
      "('ECOINDICATOR 99\n",
      "('ECOINDICATOR 99\n",
      "('ECOINDICATOR 99\n",
      "('ECOINDICATOR 99\n",
      "('ECOINDICATOR 99\n",
      "('ECOINDICATOR 99\n",
      "('ECOINDICATOR 99\n",
      "('ECOINDICATOR 99\n",
      "('ECOINDICATOR 99\n",
      "('ECOINDICATOR 99\n"
     ]
    }
   ],
   "source": [
    "for IW_category in IW_pylcaio_to_bw2:\n",
    "    if 'PDF' in IW_category or 'DALY' in IW_category:\n",
    "        print(str(IW_category).split( ' (' )[0])"
   ]
  },
  {
   "cell_type": "code",
   "execution_count": 45,
   "metadata": {},
   "outputs": [
    {
     "ename": "TypeError",
     "evalue": "'NoneType' object is not subscriptable",
     "output_type": "error",
     "traceback": [
      "\u001b[0;31m---------------------------------------------------------------------------\u001b[0m",
      "\u001b[0;31mTypeError\u001b[0m                                 Traceback (most recent call last)",
      "Cell \u001b[0;32mIn[45], line 9\u001b[0m\n\u001b[1;32m      4\u001b[0m         IW_pylcaio_to_bw2[IW_category] \u001b[39m=\u001b[39m \\\n\u001b[1;32m      5\u001b[0m         bw2data\u001b[39m.\u001b[39mmethods\u001b[39m.\u001b[39mget((\u001b[39m'\u001b[39m\u001b[39mIMPACTWorld+ (Default_Recommended_Damage 1.46)\u001b[39m\u001b[39m'\u001b[39m, \u001b[39mstr\u001b[39m(IW_category)\u001b[39m.\u001b[39msplit( \u001b[39m'\u001b[39m\u001b[39m (\u001b[39m\u001b[39m'\u001b[39m )[\u001b[39m0\u001b[39m] ) )[\n\u001b[1;32m      6\u001b[0m             \u001b[39m'\u001b[39m\u001b[39mabbreviation\u001b[39m\u001b[39m'\u001b[39m]\n\u001b[1;32m      7\u001b[0m     \u001b[39melse\u001b[39;00m:\n\u001b[1;32m      8\u001b[0m         IW_pylcaio_to_bw2[IW_category] \u001b[39m=\u001b[39m \\\n\u001b[0;32m----> 9\u001b[0m         bw2data\u001b[39m.\u001b[39;49mmethods\u001b[39m.\u001b[39;49mget((\u001b[39m'\u001b[39;49m\u001b[39mIMPACTWorld+ (Default_Recommended_Midpoint 1.28)\u001b[39;49m\u001b[39m'\u001b[39;49m, \u001b[39mstr\u001b[39;49m(IW_category)\u001b[39m.\u001b[39;49msplit(\u001b[39m'\u001b[39;49m\u001b[39m (\u001b[39;49m\u001b[39m'\u001b[39;49m)[\u001b[39m0\u001b[39;49m]))[\n\u001b[1;32m     10\u001b[0m             \u001b[39m'\u001b[39;49m\u001b[39mabbreviation\u001b[39;49m\u001b[39m'\u001b[39;49m]\n\u001b[1;32m     11\u001b[0m aggregated_results\u001b[39m.\u001b[39mindex \u001b[39m=\u001b[39m \u001b[39mlist\u001b[39m(IW_pylcaio_to_bw2\u001b[39m.\u001b[39mvalues())\n",
      "\u001b[0;31mTypeError\u001b[0m: 'NoneType' object is not subscriptable"
     ]
    }
   ],
   "source": [
    "IW_pylcaio_to_bw2 = dict.fromkeys(impact_categories)\n",
    "for IW_category in IW_pylcaio_to_bw2:\n",
    "    if 'PDF' in IW_category or 'DALY' in IW_category:\n",
    "        IW_pylcaio_to_bw2[IW_category] = \\\n",
    "        bw2data.methods.get(('IMPACTWorld+ (Default_Recommended_Damage 1.46)', str(IW_category).split( ' (' )[0] ) )[\n",
    "            'abbreviation']\n",
    "    else:\n",
    "        IW_pylcaio_to_bw2[IW_category] = \\\n",
    "        bw2data.methods.get(('IMPACTWorld+ (Default_Recommended_Midpoint 1.28)', str(IW_category).split(' (')[0]))[\n",
    "            'abbreviation']\n",
    "aggregated_results.index = list(IW_pylcaio_to_bw2.values())"
   ]
  },
  {
   "cell_type": "code",
   "execution_count": 11,
   "metadata": {},
   "outputs": [
    {
     "data": {
      "text/plain": [
       "<1113x9800 sparse matrix of type '<class 'numpy.float64'>'\n",
       "\twith 1852282 stored elements in Compressed Sparse Row format>"
      ]
     },
     "execution_count": 11,
     "metadata": {},
     "output_type": "execute_result"
    }
   ],
   "source": [
    "lcaio_analysis.F_io"
   ]
  },
  {
   "cell_type": "code",
   "execution_count": 12,
   "metadata": {},
   "outputs": [
    {
     "data": {
      "text/html": [
       "<div>\n",
       "<style scoped>\n",
       "    .dataframe tbody tr th:only-of-type {\n",
       "        vertical-align: middle;\n",
       "    }\n",
       "\n",
       "    .dataframe tbody tr th {\n",
       "        vertical-align: top;\n",
       "    }\n",
       "\n",
       "    .dataframe thead th {\n",
       "        text-align: right;\n",
       "    }\n",
       "</style>\n",
       "<table border=\"1\" class=\"dataframe\">\n",
       "  <thead>\n",
       "    <tr style=\"text-align: right;\">\n",
       "      <th></th>\n",
       "    </tr>\n",
       "  </thead>\n",
       "  <tbody>\n",
       "  </tbody>\n",
       "</table>\n",
       "</div>"
      ],
      "text/plain": [
       "Empty DataFrame\n",
       "Columns: []\n",
       "Index: []"
      ]
     },
     "execution_count": 12,
     "metadata": {},
     "output_type": "execute_result"
    }
   ],
   "source": [
    "lcaio_analysis.A_io_f"
   ]
  },
  {
   "cell_type": "code",
   "execution_count": null,
   "metadata": {},
   "outputs": [],
   "source": [
    "        for IW_category in IW_pylcaio_to_bw2:"
   ]
  },
  {
   "cell_type": "code",
   "execution_count": 28,
   "metadata": {},
   "outputs": [],
   "source": [
    "from bw2data import methods"
   ]
  },
  {
   "cell_type": "code",
   "execution_count": 27,
   "metadata": {},
   "outputs": [
    {
     "ename": "AttributeError",
     "evalue": "'LCAIO' object has no attribute 'impact_categories_IO'",
     "output_type": "error",
     "traceback": [
      "\u001b[0;31m---------------------------------------------------------------------------\u001b[0m",
      "\u001b[0;31mAttributeError\u001b[0m                            Traceback (most recent call last)",
      "Cell \u001b[0;32mIn[27], line 1\u001b[0m\n\u001b[0;32m----> 1\u001b[0m IW_pylcaio_to_bw2 \u001b[39m=\u001b[39m \u001b[39mdict\u001b[39m\u001b[39m.\u001b[39mfromkeys(lcaio_object\u001b[39m.\u001b[39;49mimpact_categories_IO)\n",
      "\u001b[0;31mAttributeError\u001b[0m: 'LCAIO' object has no attribute 'impact_categories_IO'"
     ]
    }
   ],
   "source": [
    "IW_pylcaio_to_bw2 = dict.fromkeys(lcaio_object.a\n",
    "impact_categories_IO)"
   ]
  },
  {
   "cell_type": "code",
   "execution_count": 17,
   "metadata": {},
   "outputs": [
    {
     "data": {
      "text/plain": [
       "<9800x19565 sparse matrix of type '<class 'numpy.float64'>'\n",
       "\twith 34068818 stored elements in Compressed Sparse Row format>"
      ]
     },
     "execution_count": 17,
     "metadata": {},
     "output_type": "execute_result"
    }
   ],
   "source": [
    "lcaio_object.A_io_f_uncorrected"
   ]
  },
  {
   "cell_type": "code",
   "execution_count": 36,
   "metadata": {},
   "outputs": [
    {
     "data": {
      "text/plain": [
       "[('Problem oriented approach: baseline (CML, 2001)',\n",
       "  'abiotic depletion (elements, ultimate ultimate reserves)',\n",
       "  'ADPelements (Oers et al. 2001)',\n",
       "  'kg antimony eq.'),\n",
       " ('Problem oriented approach: baseline (CML, 2001)',\n",
       "  'abiotic depletion (fossil fuels)',\n",
       "  'ADPfossil fuels (Oers et al., 2001)',\n",
       "  'MJ'),\n",
       " ('Problem oriented approach: non baseline (CML, 2001)',\n",
       "  'abiotic depletion (elements, reserve base)',\n",
       "  'ADPelements (Oers et al. 2001)',\n",
       "  'kg antimony eq.')]"
      ]
     },
     "execution_count": 36,
     "metadata": {},
     "output_type": "execute_result"
    }
   ],
   "source": [
    "[*lcaio_analysis.impact_categories_IO][0:3]"
   ]
  },
  {
   "cell_type": "code",
   "execution_count": null,
   "metadata": {},
   "outputs": [],
   "source": [
    "IW_pylcaio_to_bw2[IW_category] = methods.get(('IMPACTWorld+ (Default_Recommended_Midpoint 1.28)', IW_category.split(' (')[0]))[\n",
    "                    'abbreviation']"
   ]
  }
 ],
 "metadata": {
  "kernelspec": {
   "display_name": "pylcaio_ecoinvent_3_8",
   "language": "python",
   "name": "python3"
  },
  "language_info": {
   "codemirror_mode": {
    "name": "ipython",
    "version": 3
   },
   "file_extension": ".py",
   "mimetype": "text/x-python",
   "name": "python",
   "nbconvert_exporter": "python",
   "pygments_lexer": "ipython3",
   "version": "3.11.0"
  },
  "orig_nbformat": 4,
  "vscode": {
   "interpreter": {
    "hash": "4c94ee24e1532ac4488012501eb7eb91918c4fcf855f7040e8d54c11fc95bf9d"
   }
  }
 },
 "nbformat": 4,
 "nbformat_minor": 2
}
