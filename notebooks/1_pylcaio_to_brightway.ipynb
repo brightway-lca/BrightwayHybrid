{
 "cells": [
  {
   "attachments": {},
   "cell_type": "markdown",
   "metadata": {},
   "source": [
    "# 0.1. imports"
   ]
  },
  {
   "cell_type": "code",
   "execution_count": 37,
   "metadata": {},
   "outputs": [],
   "source": [
    "# i/o\n",
    "import sys\n",
    "import os\n",
    "from pathlib import Path\n",
    "import gzip\n",
    "import pickle\n",
    "# configuration\n",
    "import yaml\n",
    "# data science\n",
    "import pandas as pd\n",
    "import copy\n",
    "# lca\n",
    "import pymrio\n",
    "import ecospold2matrix as e2m\n",
    "# type hints\n",
    "from pymrio import IOSystem\n",
    "from pathlib import PosixPath"
   ]
  },
  {
   "attachments": {},
   "cell_type": "markdown",
   "metadata": {},
   "source": [
    "# 0.2. file paths\n",
    "## 0.2.1. directories"
   ]
  },
  {
   "cell_type": "code",
   "execution_count": 7,
   "metadata": {},
   "outputs": [],
   "source": [
    "%%capture\n",
    "print(path_dir_data := Path(Path.home() / 'data'))\n",
    "print(path_dir_data_raw := Path(path_dir_data / 'data_raw'))\n",
    "print(path_dir_data_processed := Path(path_dir_data / 'data_processed'))"
   ]
  },
  {
   "cell_type": "code",
   "execution_count": 25,
   "metadata": {},
   "outputs": [
    {
     "name": "stdout",
     "output_type": "stream",
     "text": [
      "/Users/michaelweinold/data/data_raw/exiobase_3_8\n",
      "/Users/michaelweinold/data/data_raw/ecoinvent_3.8_cutoff_ecoSpold02\n"
     ]
    }
   ],
   "source": [
    "print(path_dir_exiobase := path_dir_data_raw / 'exiobase_3_8')\n",
    "print(path_dir_ecoinvent := path_dir_data_raw / 'ecoinvent_3.8_cutoff_ecoSpold02')"
   ]
  },
  {
   "attachments": {},
   "cell_type": "markdown",
   "metadata": {},
   "source": [
    "## 0.2.2. files\n",
    "\n",
    "### ℹ️ prerequisites\n",
    "\n"
   ]
  },
  {
   "attachments": {},
   "cell_type": "markdown",
   "metadata": {},
   "source": [
    "1. `Ecoinvent` data present in directory `path_dir_data_raw`\n",
    "2. `Exiobase` data present in directory `path_dir_data_raw` or internet connection for automatic download from zenodo.org"
   ]
  },
  {
   "attachments": {},
   "cell_type": "markdown",
   "metadata": {},
   "source": [
    "# 1. data preparation\n",
    "\n",
    "## 1.0. variables "
   ]
  },
  {
   "cell_type": "code",
   "execution_count": 33,
   "metadata": {},
   "outputs": [],
   "source": [
    "str_exiobase_system: str = 'pxp'\n",
    "str_exiobase_year: str = '2011'\n",
    "str_exiobase_zip_file: str = 'IOT_' + str_exiobase_year + '_' + str_exiobase_system + '.zip'"
   ]
  },
  {
   "cell_type": "markdown",
   "metadata": {},
   "source": [
    "## 1.1. download `Exiobase` from zenodo.org "
   ]
  },
  {
   "cell_type": "code",
   "execution_count": 31,
   "metadata": {},
   "outputs": [
    {
     "name": "stdout",
     "output_type": "stream",
     "text": [
      "Exiobase data already present.\n"
     ]
    }
   ],
   "source": [
    "if path_dir_exiobase.exists():\n",
    "    print('Exiobase data already present.')\n",
    "    pass\n",
    "else:\n",
    "    pymrio.download_exiobase3(\n",
    "        storage_folder = path_dir_exiobase,\n",
    "        system = str_exiobase_system,\n",
    "        years = str_exiobase_year\n",
    "    )"
   ]
  },
  {
   "attachments": {},
   "cell_type": "markdown",
   "metadata": {},
   "source": [
    "## 1.2. check if `Ecoinvent` data is present"
   ]
  },
  {
   "cell_type": "code",
   "execution_count": 28,
   "metadata": {},
   "outputs": [],
   "source": [
    "assert path_dir_ecoinvent.exists(), 'Ecoinvent data not found.'"
   ]
  },
  {
   "attachments": {},
   "cell_type": "markdown",
   "metadata": {},
   "source": [
    "# 2. parse databases\n",
    "## 2.1. parse `Exiobase`"
   ]
  },
  {
   "cell_type": "code",
   "execution_count": 35,
   "metadata": {},
   "outputs": [],
   "source": [
    "exiobase: pymrio.IOSystem = pymrio.parse_exiobase3(path_dir_exiobase / str_exiobase_zip_file)"
   ]
  },
  {
   "attachments": {},
   "cell_type": "markdown",
   "metadata": {},
   "source": [
    "## 2.2. parse `Ecoinvent`"
   ]
  },
  {
   "cell_type": "code",
   "execution_count": 38,
   "metadata": {},
   "outputs": [
    {
     "name": "stderr",
     "output_type": "stream",
     "text": [
      "2023-01-12 12:17:13,932 - ecoinvent_3_8 - INFO - Ecospold2Matrix Processing\n",
      "INFO:ecoinvent_3_8:Ecospold2Matrix Processing\n",
      "2023-01-12 12:17:14,029 - ecoinvent_3_8 - INFO - Current git commit: d167650d60bc9a54ebcf80744e72d8e6d8d3ece3\n",
      "INFO:ecoinvent_3_8:Current git commit: d167650d60bc9a54ebcf80744e72d8e6d8d3ece3\n",
      "2023-01-12 12:17:14,031 - ecoinvent_3_8 - INFO - Project name: ecoinvent_3_8\n",
      "INFO:ecoinvent_3_8:Project name: ecoinvent_3_8\n",
      "2023-01-12 12:17:14,032 - ecoinvent_3_8 - INFO - Unit process and Master data directory: /Users/michaelweinold/data/data_raw/ecoinvent_3.8_cutoff_ecoSpold02\n",
      "INFO:ecoinvent_3_8:Unit process and Master data directory: /Users/michaelweinold/data/data_raw/ecoinvent_3.8_cutoff_ecoSpold02\n",
      "2023-01-12 12:17:14,032 - ecoinvent_3_8 - INFO - Data saved in: /Users/michaelweinold/data/data_processed\n",
      "INFO:ecoinvent_3_8:Data saved in: /Users/michaelweinold/data/data_processed\n",
      "2023-01-12 12:17:14,033 - ecoinvent_3_8 - INFO - Replace Not-a-Number instances with 0.0 in all matrices\n",
      "INFO:ecoinvent_3_8:Replace Not-a-Number instances with 0.0 in all matrices\n",
      "2023-01-12 12:17:14,034 - ecoinvent_3_8 - INFO - Pickle intermediate results to files\n",
      "INFO:ecoinvent_3_8:Pickle intermediate results to files\n",
      "2023-01-12 12:17:14,034 - ecoinvent_3_8 - INFO - Order processes based on: ISIC, activityName\n",
      "INFO:ecoinvent_3_8:Order processes based on: ISIC, activityName\n",
      "2023-01-12 12:17:14,035 - ecoinvent_3_8 - INFO - Order elementary exchanges based on: comp, name, subcomp\n",
      "INFO:ecoinvent_3_8:Order elementary exchanges based on: comp, name, subcomp\n",
      "rm: ecoinvent_3_8_characterisation.db: No such file or directory\n",
      "2023-01-12 12:17:14,048 - ecoinvent_3_8 - WARNING - obs2char_subcomps constraints temporarily relaxed because not full recipe parsed\n",
      "WARNING:ecoinvent_3_8:obs2char_subcomps constraints temporarily relaxed because not full recipe parsed\n"
     ]
    }
   ],
   "source": [
    "parser = e2m.Ecospold2Matrix(\n",
    "    sys_dir = str(path_dir_ecoinvent), # passing a Posix Path object breaks the functionality\n",
    "    project_name = 'ecoinvent_3_8',\n",
    "    out_dir = path_dir_data_processed,\n",
    "    positive_waste = False,\n",
    "    nan2null = True\n",
    ")\n",
    "parser.save_interm = False\n",
    "parser.prefer_pickles = True"
   ]
  },
  {
   "cell_type": "code",
   "execution_count": 39,
   "metadata": {},
   "outputs": [
    {
     "name": "stderr",
     "output_type": "stream",
     "text": [
      "2023-01-12 12:17:58,799 - ecoinvent_3_8 - INFO - Products extracted from IntermediateExchanges.xml with SHA-1 of 1da23bc8fd24d97422a2a21ba3626d2cdfa6a428\n",
      "INFO:ecoinvent_3_8:Products extracted from IntermediateExchanges.xml with SHA-1 of 1da23bc8fd24d97422a2a21ba3626d2cdfa6a428\n",
      "2023-01-12 12:18:24,604 - ecoinvent_3_8 - WARNING - Removed 162 duplicate rows from activity_list, see duplicate_activity_list.csv.\n",
      "WARNING:ecoinvent_3_8:Removed 162 duplicate rows from activity_list, see duplicate_activity_list.csv.\n",
      "2023-01-12 12:18:24,690 - ecoinvent_3_8 - INFO - Activities extracted from ActivityIndex.xml with SHA-1 of 03403c01ac6f74a5d6cc5ca8820593f7e516b709\n",
      "INFO:ecoinvent_3_8:Activities extracted from ActivityIndex.xml with SHA-1 of 03403c01ac6f74a5d6cc5ca8820593f7e516b709\n",
      "2023-01-12 12:18:24,866 - ecoinvent_3_8 - INFO - Processing 19565 files in /Users/michaelweinold/data/data_raw/ecoinvent_3.8_cutoff_ecoSpold02/datasets\n",
      "INFO:ecoinvent_3_8:Processing 19565 files in /Users/michaelweinold/data/data_raw/ecoinvent_3.8_cutoff_ecoSpold02/datasets\n",
      "2023-01-12 12:19:38,336 - ecoinvent_3_8 - INFO - Processing 19565 files - this may take a while ...\n",
      "INFO:ecoinvent_3_8:Processing 19565 files - this may take a while ...\n",
      "2023-01-12 12:21:42,882 - ecoinvent_3_8 - INFO - Elementary flows extracted from ElementaryExchanges.xml with SHA-1 of f65edb9180cc5fb6df99289157b5aab92d30c0d1\n",
      "INFO:ecoinvent_3_8:Elementary flows extracted from ElementaryExchanges.xml with SHA-1 of f65edb9180cc5fb6df99289157b5aab92d30c0d1\n",
      "2023-01-12 12:21:42,910 - ecoinvent_3_8 - INFO - OK.   No untraceable flows.\n",
      "INFO:ecoinvent_3_8:OK.   No untraceable flows.\n",
      "2023-01-12 12:21:43,234 - ecoinvent_3_8 - INFO - OK. Source activities seem in order. Each product traceable to an activity that actually does produce or distribute this product.\n",
      "INFO:ecoinvent_3_8:OK. Source activities seem in order. Each product traceable to an activity that actually does produce or distribute this product.\n",
      "2023-01-12 12:21:43,701 - ecoinvent_3_8 - INFO - Starting to assemble the matrices\n",
      "INFO:ecoinvent_3_8:Starting to assemble the matrices\n",
      "2023-01-12 12:21:46,263 - ecoinvent_3_8 - INFO - fillna\n",
      "INFO:ecoinvent_3_8:fillna\n",
      "2023-01-12 12:21:57,057 - ecoinvent_3_8 - INFO - Starting normalizing matrices\n",
      "INFO:ecoinvent_3_8:Starting normalizing matrices\n",
      "2023-01-12 12:22:14,193 - ecoinvent_3_8 - INFO - Starting to export to file\n",
      "INFO:ecoinvent_3_8:Starting to export to file\n",
      "2023-01-12 12:22:14,195 - ecoinvent_3_8 - INFO - about to write to file\n",
      "INFO:ecoinvent_3_8:about to write to file\n",
      "2023-01-12 12:27:12,487 - ecoinvent_3_8 - INFO - Final, symmetric, normalized matrices saved in /Users/michaelweinold/data/data_processed/ecoinvent_3_8Pandas_symmNorm.gz.pickle with SHA-1 of 1633c5a1ea36e3a8a16180382643170aee364f97\n",
      "INFO:ecoinvent_3_8:Final, symmetric, normalized matrices saved in /Users/michaelweinold/data/data_processed/ecoinvent_3_8Pandas_symmNorm.gz.pickle with SHA-1 of 1633c5a1ea36e3a8a16180382643170aee364f97\n",
      "2023-01-12 12:32:14,998 - ecoinvent_3_8 - INFO - Final, symmetric, scaled-up flow matrices saved in /Users/michaelweinold/data/data_processed/ecoinvent_3_8Pandas_symmScale.gz.pickle with SHA-1 of 3cbd7a500740565e50868be4b375a9cd4183793a\n",
      "INFO:ecoinvent_3_8:Final, symmetric, scaled-up flow matrices saved in /Users/michaelweinold/data/data_processed/ecoinvent_3_8Pandas_symmScale.gz.pickle with SHA-1 of 3cbd7a500740565e50868be4b375a9cd4183793a\n",
      "2023-01-12 12:32:14,999 - ecoinvent_3_8 - INFO - Done running ecospold2matrix.ecospold_to_Leontief\n",
      "INFO:ecoinvent_3_8:Done running ecospold2matrix.ecospold_to_Leontief\n"
     ]
    }
   ],
   "source": [
    "parser.ecospold_to_Leontief(\n",
    "    fileformats = 'Pandas',\n",
    "    with_absolute_flows = True\n",
    ")"
   ]
  },
  {
   "cell_type": "code",
   "execution_count": 40,
   "metadata": {},
   "outputs": [],
   "source": [
    "Path.unlink(Path.cwd() / ('ecoinvent_3_8' + '_characterisation.db'), missing_ok = True)\n",
    "Path.unlink(Path.cwd() / 'C_long', missing_ok = True)"
   ]
  },
  {
   "attachments": {},
   "cell_type": "markdown",
   "metadata": {},
   "source": [
    "# 3. `pylcaio` import"
   ]
  },
  {
   "cell_type": "code",
   "execution_count": null,
   "metadata": {},
   "outputs": [],
   "source": []
  }
 ],
 "metadata": {
  "kernelspec": {
   "display_name": "pylcaio",
   "language": "python",
   "name": "python3"
  },
  "language_info": {
   "codemirror_mode": {
    "name": "ipython",
    "version": 3
   },
   "file_extension": ".py",
   "mimetype": "text/x-python",
   "name": "python",
   "nbconvert_exporter": "python",
   "pygments_lexer": "ipython3",
   "version": "3.11.0"
  },
  "orig_nbformat": 4,
  "vscode": {
   "interpreter": {
    "hash": "af11b17298303d3420ac04a2d81997bb73d15b4df2e0afffe06f0aa93756cff5"
   }
  }
 },
 "nbformat": 4,
 "nbformat_minor": 2
}
