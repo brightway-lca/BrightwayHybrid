{
 "cells": [
  {
   "attachments": {},
   "cell_type": "markdown",
   "metadata": {},
   "source": [
    "### Prerequisites\n",
    "\n",
    "1. Install `pylcaio_ecoinvent_3_8` from [`pylcaio_ecoinvent_3_8.yml`](https://github.com/michaelweinold/config_conda/blob/main/pylcaio_ecoinvent_3_8.yml)\n",
    "2. Install `pylcaio_ecoinvent_3_9` from [`pylcaio_ecoinvent_3_9.yml`](https://github.com/michaelweinold/config_conda/blob/main/pylcaio_ecoinvent_3_9.yml)\n",
    "3. Ecoinvent database (spold files, etc.) in directory named `ecoinvent_3.9.1_cutoff_ecoSpold02` in the raw data directory (`path_dir_data_raw`)\n",
    "4. Ecoinvent characterization file `LCIA_Implementation_v3.9.1.xlsx` in directory named `ecoinvent_3_9_1_cutoff_ecoSpold02` in the raw data directory (`path_dir_data_raw`)\n",
    "5. `Exiobase` data present in directory `path_dir_data_raw` or internet connection for automatic download from zenodo.org\n",
    "\n",
    "## 0. Setup\n",
    "### 0.1. Imports"
   ]
  },
  {
   "cell_type": "code",
   "execution_count": 1,
   "metadata": {},
   "outputs": [],
   "source": [
    "# i/o\n",
    "import sys\n",
    "import os\n",
    "from pathlib import Path\n",
    "import gzip\n",
    "import pickle\n",
    "# git\n",
    "import git\n",
    "# configuration\n",
    "import yaml\n",
    "# data science\n",
    "import pandas as pd\n",
    "import copy\n",
    "# lca\n",
    "import pymrio\n",
    "import ecospold2matrix as e2m\n",
    "# type hints\n",
    "from pymrio import IOSystem\n",
    "from pathlib import PosixPath"
   ]
  },
  {
   "attachments": {},
   "cell_type": "markdown",
   "metadata": {},
   "source": [
    "### 0.2. Variables"
   ]
  },
  {
   "cell_type": "code",
   "execution_count": 2,
   "metadata": {},
   "outputs": [],
   "source": [
    "str_ecoinvent_version: str = '3.8'\n",
    "str_exiobase_system: str = 'pxp'\n",
    "str_exiobase_year: str = '2011'\n",
    "str_exiobase_zip_file: str = 'IOT_' + str_exiobase_year + '_' + str_exiobase_system + '.zip'"
   ]
  },
  {
   "attachments": {},
   "cell_type": "markdown",
   "metadata": {},
   "source": [
    "### 0.3. File Paths\n",
    "#### 0.3.1. Directories"
   ]
  },
  {
   "cell_type": "code",
   "execution_count": 3,
   "metadata": {},
   "outputs": [],
   "source": [
    "%%capture\n",
    "print(path_dir_data := Path(Path.home() / 'data'))\n",
    "print(path_dir_data_raw := Path(path_dir_data / 'data_raw'))\n",
    "print(path_dir_data_processed := Path(path_dir_data / 'data_processed'))"
   ]
  },
  {
   "cell_type": "code",
   "execution_count": 4,
   "metadata": {},
   "outputs": [],
   "source": [
    "%%capture\n",
    "print(path_dir_repo_pylcaio_parent := Path(Path.home() / 'github'))\n",
    "print(path_dir_repo_pylcaio_src := Path(path_dir_repo_pylcaio_parent / 'pylcaio/src'))"
   ]
  },
  {
   "cell_type": "code",
   "execution_count": 5,
   "metadata": {},
   "outputs": [],
   "source": [
    "%%capture\n",
    "print(path_dir_exiobase_raw := path_dir_data_raw / 'exiobase_3_8')\n",
    "print(path_dir_ecoinvent_raw := path_dir_data_raw / str('ecoinvent_' + str_ecoinvent_version + '_cutoff_ecoSpold02'))"
   ]
  },
  {
   "attachments": {},
   "cell_type": "markdown",
   "metadata": {},
   "source": [
    "#### 0.3.2. Files"
   ]
  },
  {
   "cell_type": "code",
   "execution_count": 6,
   "metadata": {},
   "outputs": [],
   "source": [
    "%%capture\n",
    "print(path_file_exiobase_processed := path_dir_data_processed / 'exiobase_3_8.pickle')\n",
    "print(path_file_ecoinvent_processed := path_dir_data_processed / str('ecoinvent_' + str_ecoinvent_version + 'Pandas_symmNorm.gz.pickle'))"
   ]
  },
  {
   "cell_type": "code",
   "execution_count": 7,
   "metadata": {},
   "outputs": [],
   "source": [
    "%%capture\n",
    "print(path_file_hybrid_system := Path(path_dir_data_processed / 'hybrid.pickle'))"
   ]
  },
  {
   "cell_type": "code",
   "execution_count": 8,
   "metadata": {},
   "outputs": [],
   "source": [
    "%%capture\n",
    "print(path_file_ecoinvent_LCIA_implementation := str(path_dir_ecoinvent_raw / str('LCIA_Implementation_v' + str_ecoinvent_version + '.xlsx')))"
   ]
  },
  {
   "attachments": {},
   "cell_type": "markdown",
   "metadata": {},
   "source": [
    "## 1. Data Preparation"
   ]
  },
  {
   "attachments": {},
   "cell_type": "markdown",
   "metadata": {},
   "source": [
    "### 1.1. Download `Exiobase` from zenodo.org "
   ]
  },
  {
   "cell_type": "code",
   "execution_count": 12,
   "metadata": {},
   "outputs": [],
   "source": [
    "if path_dir_exiobase_raw.exists():\n",
    "    pass\n",
    "else:\n",
    "    pymrio.download_exiobase3(\n",
    "        storage_folder = path_dir_exiobase_raw,\n",
    "        system = str_exiobase_system,\n",
    "        years = str_exiobase_year\n",
    "    )"
   ]
  },
  {
   "attachments": {},
   "cell_type": "markdown",
   "metadata": {},
   "source": [
    "### 1.2. Check if `Ecoinvent` data is present"
   ]
  },
  {
   "cell_type": "code",
   "execution_count": 13,
   "metadata": {},
   "outputs": [],
   "source": [
    "assert path_dir_ecoinvent_raw.exists(), 'Ecoinvent data not found.'"
   ]
  },
  {
   "attachments": {},
   "cell_type": "markdown",
   "metadata": {},
   "source": [
    "## 2. Parse Databases (needs to be run only once)\n",
    "### 2.1. Parse `Exiobase`\n",
    "\n",
    "⏳ ~1.5 min on MacBook Pro"
   ]
  },
  {
   "cell_type": "code",
   "execution_count": 11,
   "metadata": {},
   "outputs": [],
   "source": [
    "exiobase: pymrio.IOSystem = pymrio.parse_exiobase3(path_dir_exiobase_raw / str_exiobase_zip_file)\n",
    "with open(path_file_exiobase_processed, 'wb') as file_handle:\n",
    "    pickle.dump(obj = exiobase, file = file_handle, protocol=pickle.HIGHEST_PROTOCOL)"
   ]
  },
  {
   "attachments": {},
   "cell_type": "markdown",
   "metadata": {},
   "source": [
    "### 2.2. Parse `Ecoinvent`\n",
    "\n",
    "⏳ ~15 min on MacBook Pro"
   ]
  },
  {
   "cell_type": "code",
   "execution_count": 9,
   "metadata": {},
   "outputs": [
    {
     "name": "stderr",
     "output_type": "stream",
     "text": [
      "2023-02-23 16:36:28,043 - ecoinvent_3.8 - INFO - Ecospold2Matrix Processing\n",
      "2023-02-23 16:36:28,057 - ecoinvent_3.8 - INFO - Current git commit: f81888470d18f0c102d0b6e5272ccbf6bf07dd1a\n",
      "2023-02-23 16:36:28,058 - ecoinvent_3.8 - INFO - Project name: ecoinvent_3.8\n",
      "2023-02-23 16:36:28,059 - ecoinvent_3.8 - INFO - Unit process and Master data directory: /Users/michaelweinold/data/data_raw/ecoinvent_3.8_cutoff_ecoSpold02\n",
      "2023-02-23 16:36:28,059 - ecoinvent_3.8 - INFO - Data saved in: /Users/michaelweinold/data/data_processed\n",
      "2023-02-23 16:36:28,059 - ecoinvent_3.8 - INFO - Replace Not-a-Number instances with 0.0 in all matrices\n",
      "2023-02-23 16:36:28,060 - ecoinvent_3.8 - INFO - Pickle intermediate results to files\n",
      "2023-02-23 16:36:28,060 - ecoinvent_3.8 - INFO - Order processes based on: ISIC, activityName\n",
      "2023-02-23 16:36:28,060 - ecoinvent_3.8 - INFO - Order elementary exchanges based on: comp, name, subcomp\n",
      "rm: ecoinvent_3.8_characterisation.db: No such file or directory\n",
      "2023-02-23 16:36:28,072 - ecoinvent_3.8 - WARNING - obs2char_subcomps constraints temporarily relaxed because not full recipe parsed\n"
     ]
    }
   ],
   "source": [
    "parser = e2m.Ecospold2Matrix(\n",
    "    sys_dir = str(path_dir_ecoinvent_raw), # passing a Posix Path object breaks the functionality\n",
    "    project_name = str('ecoinvent_' + str_ecoinvent_version),\n",
    "    out_dir = path_dir_data_processed,\n",
    "    characterisation_file = path_file_ecoinvent_LCIA_implementation,\n",
    "    positive_waste = False,\n",
    "    nan2null = True\n",
    ")\n",
    "parser.save_interm = False\n",
    "parser.prefer_pickles = True"
   ]
  },
  {
   "cell_type": "code",
   "execution_count": 10,
   "metadata": {},
   "outputs": [
    {
     "name": "stderr",
     "output_type": "stream",
     "text": [
      "2023-02-23 16:36:34,004 - ecoinvent_3.8 - INFO - Products extracted from IntermediateExchanges.xml with SHA-1 of 1da23bc8fd24d97422a2a21ba3626d2cdfa6a428\n",
      "2023-02-23 16:36:56,683 - ecoinvent_3.8 - WARNING - Removed 162 duplicate rows from activity_list, see duplicate_activity_list.csv.\n",
      "2023-02-23 16:36:56,747 - ecoinvent_3.8 - INFO - Activities extracted from ActivityIndex.xml with SHA-1 of 03403c01ac6f74a5d6cc5ca8820593f7e516b709\n",
      "2023-02-23 16:36:56,775 - ecoinvent_3.8 - INFO - Processing 19565 files in /Users/michaelweinold/data/data_raw/ecoinvent_3.8_cutoff_ecoSpold02/datasets\n",
      "2023-02-23 16:38:07,333 - ecoinvent_3.8 - INFO - Processing 19565 files - this may take a while ...\n",
      "2023-02-23 16:39:37,374 - ecoinvent_3.8 - INFO - Elementary flows extracted from ElementaryExchanges.xml with SHA-1 of f65edb9180cc5fb6df99289157b5aab92d30c0d1\n",
      "2023-02-23 16:39:37,393 - ecoinvent_3.8 - INFO - OK.   No untraceable flows.\n",
      "2023-02-23 16:39:37,625 - ecoinvent_3.8 - INFO - OK. Source activities seem in order. Each product traceable to an activity that actually does produce or distribute this product.\n",
      "2023-02-23 16:39:37,882 - ecoinvent_3.8 - INFO - Starting to assemble the matrices\n",
      "2023-02-23 16:39:39,639 - ecoinvent_3.8 - INFO - fillna\n",
      "2023-02-23 16:39:44,155 - ecoinvent_3.8 - INFO - Starting normalizing matrices\n"
     ]
    },
    {
     "name": "stdout",
     "output_type": "stream",
     "text": [
      "starting characterisation\n",
      "            cas                                        aName     bad_cas  \\\n",
      "0       93-65-2                                     mecoprop   7085-19-0   \n",
      "1   107534-96-3                                 tebuconazole  80443-41-0   \n",
      "2      302-04-5                                          NaN  71048-69-6   \n",
      "3   138261-41-3                                          NaN  38261-41-3   \n",
      "4      108-62-3                                  metaldehyde   9002-91-9   \n",
      "5      107-15-3                                          NaN    117-15-3   \n",
      "6       74-89-5                                 methyl amine     75-89-5   \n",
      "7    17428-41-0                                 arsenic, ion   7440-38-2   \n",
      "8    22537-48-0                                 cadmium, ion   7440-43-9   \n",
      "9    18540-29-9                                  chromium vi   7440-47-3   \n",
      "10   17493-86-6                                  Copper, ion   7440-50-8   \n",
      "11   14701-22-5                                  Nickel, ion   7440-02-0   \n",
      "12   14701-22-5                                    Nickel II   7440-02-0   \n",
      "13   14701-21-4                                  silver, ion   7440-22-4   \n",
      "14   22537-50-4                                     tin, ion   7440-31-5   \n",
      "15   22541-77-1                                vanadium, ion   7440-62-2   \n",
      "16   23713-49-7                                    zinc, ion   7440-66-6   \n",
      "17    2764-72-9                                       diquat    231-36-7   \n",
      "18      56-35-9                        tributyltin compounds  56573-85-4   \n",
      "19    7429-90-5  Aluminium, 24% in bauxite, 11% in crude ore   1318-16-7   \n",
      "20   20193-67-3                                   %hfe-236fa         NaN   \n",
      "21   57041-67-5                                  %hfe-236ea2         NaN   \n",
      "22  160620-20-2                                    %356pcc3%         NaN   \n",
      "23   50807-77-7                                     %356pcf2         NaN   \n",
      "24   35042-99-0                                    %356pcf3%         NaN   \n",
      "25     382-34-3                                    %356mec3%         NaN   \n",
      "26   22410-44-2                                     %245cb2%         NaN   \n",
      "27   84011-15-4                                     %245fa1%         NaN   \n",
      "28     375-03-1                                    %347mcc3%         NaN   \n",
      "29      74-82-8          Methane, from soil or biomass stock         NaN   \n",
      "30     678-26-2                             Perfluoropentane         NaN   \n",
      "31     298-00-0                             Methyl parathion         NaN   \n",
      "32     630-08-0  Carbon monoxide, from soil or biomass stock         NaN   \n",
      "33          NaN     Gas, mine, off-gas, process, coal mining   8006-14-2   \n",
      "\n",
      "                                              comment  \n",
      "0                                      deprecated CAS  \n",
      "1                                      deprecated cas  \n",
      "2                      deprecated cas for thiocyanate  \n",
      "3                        invalid cas for imidacloprid  \n",
      "4            was cas of the polymer, not the molecule  \n",
      "5               invalid cas, typo for ethylenediamine  \n",
      "6                                 invalid CAS (typo?)  \n",
      "7               scifinder CAS for arsenic ion, As(5+)  \n",
      "8                       scifinder CAS for cadmium ion  \n",
      "9   scifinder CAS for chromium VI, no need to use ...  \n",
      "10                       scifinder CAS for copper ion  \n",
      "11                        scifinder CAS for Nickel II  \n",
      "12                        scifinder CAS for Nickel II  \n",
      "13                           scifinder CAS for Ag(+1)  \n",
      "14                           scifinder CAS for Sn(4+)  \n",
      "15                     scifinder CAS for vanadium ion  \n",
      "16                           scifinder cas for Zn(2+)  \n",
      "17  was cas of ion, not neutral molecule, caused c...  \n",
      "18  both cas numbers tributyltin based. picked cas...  \n",
      "19     Use CAS of Aluminium, not the bauxite it is in  \n",
      "20                                      scifinder CAS  \n",
      "21  Desflurane: see http://www.ecfr.gov/cgi-bin/te...  \n",
      "22                                      Scifinder CAS  \n",
      "23  see http://www.ecfr.gov/cgi-bin/text-idx?  SID...  \n",
      "24  see http://www.ecfr.gov/cgi-bin/text-idx?  SID...  \n",
      "25  see http://www.ecfr.gov/cgi-bin/text-idx?  SID...  \n",
      "26  see http://www.ecfr.gov/cgi-bin/text-idx?  SID...  \n",
      "27  see http://www.ecfr.gov/cgi-bin/text-idx?  SID...  \n",
      "28  see http://www.ecfr.gov/cgi-bin/text-idx?  SID...  \n",
      "29                Methane is methane, should have CAS  \n",
      "30                                     Missing CAS!!!  \n",
      "31                                     Missing CAS!!!  \n",
      "32                                        Missing CAS  \n",
      "33  Different resource depletion than normal natur...  \n",
      "    approximationLevel                                              aName  \\\n",
      "0                    0                                           Chloride   \n",
      "1                    0                     Occupation, urban, green areas   \n",
      "2                    0                 Cyclohexane (for all cycloalkanes)   \n",
      "3                    0                             Fresh water (obsolete)   \n",
      "4                    0             Occupation, annual crop, non-irrigated   \n",
      "5                    0                                 Occupation, arable   \n",
      "6                    0                     Transformation, to unspecified   \n",
      "7                    0                   Transformation, from unspecified   \n",
      "8                    0                                         Occupation   \n",
      "9                    1                                            Cadmium   \n",
      "10                   1                                             Indium   \n",
      "11                   1                                               Zinc   \n",
      "12                   1                                               Iron   \n",
      "13                   1                                                Tin   \n",
      "14                   1                                          Aluminium   \n",
      "15                   2                                Cyhalothrin, gamma-   \n",
      "16                   2                                  Zeta-cypermethrin   \n",
      "17                   2  Occupation, annual crop, non-irrigated, intensive   \n",
      "18                   2                        Transformation, from forest   \n",
      "19                   2                        Transformation, from forest   \n",
      "20                   2  NMVOC, non-methane volatile organic compounds,...   \n",
      "21                   3                          Transformation, to forest   \n",
      "22                   3                                 Occupation, arable   \n",
      "23                   3                                 Occupation, arable   \n",
      "24                   3                         Occupation, permanent crop   \n",
      "\n",
      "                                          anotherName  \\\n",
      "0                                           Chlorides   \n",
      "1                       Occupation, urban, green area   \n",
      "2            Hydrocarbons, aliphatic, alkanes, cyclic   \n",
      "3                                        Water, fresh   \n",
      "4                   Occupation, arable, non-irrigated   \n",
      "5            Occupation, arable land, unspecified use   \n",
      "6                          Transformation, to unknown   \n",
      "7                        Transformation, from unknown   \n",
      "8                                 Occupation, unknown   \n",
      "9   Cadmium, 0.30% in sulfide, Cd 0.18%, Pb, Zn, A...   \n",
      "10  Indium, 0.005% in sulfide, In 0.003%, Pb, Zn, ...   \n",
      "11     Zinc, 9.0% in sulfide, Zn 5.3%, Pb, Ag, Cd, In   \n",
      "12           Iron, 72% in magnetite, 14% in crude ore   \n",
      "13         Tin, 79% in cassiterite, 0.1% in crude ore   \n",
      "14        Aluminium, 24% in bauxite, 11% in crude ore   \n",
      "15                                 Lambda-cyhalothrin   \n",
      "16                                       Cypermethrin   \n",
      "17  Occupation, arable, non-irrigated, monotone-in...   \n",
      "18     Transformation, from forest, primary (non-use)   \n",
      "19   Transformation, from forest, secondary (non-use)   \n",
      "20  VOC, volatile organic compounds, unspecified o...   \n",
      "21                         Transformation, to forest%   \n",
      "22                                Occupation, arable%   \n",
      "23                           Occupation, annual crop%   \n",
      "24                        Occupation, permanent crop%   \n",
      "\n",
      "                                              comment  \n",
      "0                                     Singular/plural  \n",
      "1                                     Singular/plural  \n",
      "2                                                 NaN  \n",
      "3                                                 NaN  \n",
      "4                                                 NaN  \n",
      "5                                                 NaN  \n",
      "6                                                 NaN  \n",
      "7                                                 NaN  \n",
      "8                                                 NaN  \n",
      "9                                                 NaN  \n",
      "10                                                NaN  \n",
      "11                                                NaN  \n",
      "12                                                NaN  \n",
      "13                                                NaN  \n",
      "14                                                NaN  \n",
      "15  wikipedia: Gamma-cyhalothrin is the most insec...  \n",
      "16                                                NaN  \n",
      "17                                                NaN  \n",
      "18                                                NaN  \n",
      "19                                                NaN  \n",
      "20                                                NaN  \n",
      "21                                                NaN  \n",
      "22                                                NaN  \n",
      "23                                                NaN  \n",
      "24                                                NaN  \n",
      "   factorValue impactID                                           aName  \\\n",
      "0          0.0    WDP20  Water, turbine use, unspecified natural origin   \n",
      "1          0.0   WDP100  Water, turbine use, unspecified natural origin   \n",
      "2          0.0   WDPInf  Water, turbine use, unspecified natural origin   \n",
      "\n",
      "       comp      subcomp unit  \n",
      "0  resource  unspecified   m3  \n",
      "1  resource  unspecified   m3  \n",
      "2  resource  unspecified   m3  \n"
     ]
    },
    {
     "name": "stderr",
     "output_type": "stream",
     "text": [
      "/opt/homebrew/Caskroom/miniconda/base/envs/pylcaio_ecoinvent_3_8/lib/python3.11/site-packages/ecospold2matrix/ecospold2matrix.py:2799: FutureWarning: The default value of regex will change from True to False in a future version.\n",
      "  self.STR.cas = self.STR.cas.str.replace('^[0]*','')\n"
     ]
    },
    {
     "ename": "OperationalError",
     "evalue": "duplicate column name: id",
     "output_type": "error",
     "traceback": [
      "\u001b[0;31m---------------------------------------------------------------------------\u001b[0m",
      "\u001b[0;31mOperationalError\u001b[0m                          Traceback (most recent call last)",
      "Cell \u001b[0;32mIn[10], line 1\u001b[0m\n\u001b[0;32m----> 1\u001b[0m parser\u001b[39m.\u001b[39;49mecospold_to_Leontief(\n\u001b[1;32m      2\u001b[0m     fileformats \u001b[39m=\u001b[39;49m \u001b[39m'\u001b[39;49m\u001b[39mPandas\u001b[39;49m\u001b[39m'\u001b[39;49m,\n\u001b[1;32m      3\u001b[0m     with_absolute_flows \u001b[39m=\u001b[39;49m \u001b[39mTrue\u001b[39;49;00m\n\u001b[1;32m      4\u001b[0m )\n",
      "File \u001b[0;32m/opt/homebrew/Caskroom/miniconda/base/envs/pylcaio_ecoinvent_3_8/lib/python3.11/site-packages/ecospold2matrix/ecospold2matrix.py:425\u001b[0m, in \u001b[0;36mEcospold2Matrix.ecospold_to_Leontief\u001b[0;34m(self, fileformats, with_absolute_flows, lci_check, rtol, atol, imax, characterisation_file, ardaidmatching_file)\u001b[0m\n\u001b[1;32m    423\u001b[0m \u001b[39melse\u001b[39;00m:\n\u001b[1;32m    424\u001b[0m     \u001b[39mself\u001b[39m\u001b[39m.\u001b[39mprepare_matching_load_parameters()\n\u001b[0;32m--> 425\u001b[0m     \u001b[39mself\u001b[39;49m\u001b[39m.\u001b[39;49mprocess_inventory_elementary_flows()\n\u001b[1;32m    426\u001b[0m     \u001b[39mself\u001b[39m\u001b[39m.\u001b[39mread_characterisation()\n\u001b[1;32m    427\u001b[0m     \u001b[39mself\u001b[39m\u001b[39m.\u001b[39mpopulate_complementary_tables()\n",
      "File \u001b[0;32m/opt/homebrew/Caskroom/miniconda/base/envs/pylcaio_ecoinvent_3_8/lib/python3.11/site-packages/ecospold2matrix/ecospold2matrix.py:2803\u001b[0m, in \u001b[0;36mEcospold2Matrix.process_inventory_elementary_flows\u001b[0;34m(self)\u001b[0m\n\u001b[1;32m   2801\u001b[0m \u001b[39m# export to tmp SQL table\u001b[39;00m\n\u001b[1;32m   2802\u001b[0m c \u001b[39m=\u001b[39m \u001b[39mself\u001b[39m\u001b[39m.\u001b[39mconn\u001b[39m.\u001b[39mcursor()\n\u001b[0;32m-> 2803\u001b[0m \u001b[39mself\u001b[39;49m\u001b[39m.\u001b[39;49mSTR\u001b[39m.\u001b[39;49mto_sql(\u001b[39m'\u001b[39;49m\u001b[39mdirty_inventory\u001b[39;49m\u001b[39m'\u001b[39;49m,\n\u001b[1;32m   2804\u001b[0m                 \u001b[39mself\u001b[39;49m\u001b[39m.\u001b[39;49mconn,\n\u001b[1;32m   2805\u001b[0m                 index_label\u001b[39m=\u001b[39;49m\u001b[39m'\u001b[39;49m\u001b[39mid\u001b[39;49m\u001b[39m'\u001b[39;49m,\n\u001b[1;32m   2806\u001b[0m                 if_exists\u001b[39m=\u001b[39;49m\u001b[39m'\u001b[39;49m\u001b[39mreplace\u001b[39;49m\u001b[39m'\u001b[39;49m)\n\u001b[1;32m   2807\u001b[0m c\u001b[39m.\u001b[39mexecute( \u001b[39m\"\"\"\u001b[39m\n\u001b[1;32m   2808\u001b[0m \u001b[39mINSERT INTO raw_inventory(id, name, comp, subcomp, unit, cas)\u001b[39m\n\u001b[1;32m   2809\u001b[0m \u001b[39mSELECT DISTINCT id, name, comp, subcomp, unit, cas\u001b[39m\n\u001b[1;32m   2810\u001b[0m \u001b[39mFROM dirty_inventory;\u001b[39m\n\u001b[1;32m   2811\u001b[0m \u001b[39m\u001b[39m\u001b[39m\"\"\"\u001b[39m)\n\u001b[1;32m   2813\u001b[0m \u001b[39mself\u001b[39m\u001b[39m.\u001b[39mclean_label(\u001b[39m'\u001b[39m\u001b[39mraw_inventory\u001b[39m\u001b[39m'\u001b[39m)\n",
      "File \u001b[0;32m/opt/homebrew/Caskroom/miniconda/base/envs/pylcaio_ecoinvent_3_8/lib/python3.11/site-packages/pandas/core/generic.py:2987\u001b[0m, in \u001b[0;36mNDFrame.to_sql\u001b[0;34m(self, name, con, schema, if_exists, index, index_label, chunksize, dtype, method)\u001b[0m\n\u001b[1;32m   2830\u001b[0m \u001b[39m\u001b[39m\u001b[39m\"\"\"\u001b[39;00m\n\u001b[1;32m   2831\u001b[0m \u001b[39mWrite records stored in a DataFrame to a SQL database.\u001b[39;00m\n\u001b[1;32m   2832\u001b[0m \n\u001b[0;32m   (...)\u001b[0m\n\u001b[1;32m   2983\u001b[0m \u001b[39m[(1,), (None,), (2,)]\u001b[39;00m\n\u001b[1;32m   2984\u001b[0m \u001b[39m\"\"\"\u001b[39;00m  \u001b[39m# noqa:E501\u001b[39;00m\n\u001b[1;32m   2985\u001b[0m \u001b[39mfrom\u001b[39;00m \u001b[39mpandas\u001b[39;00m\u001b[39m.\u001b[39;00m\u001b[39mio\u001b[39;00m \u001b[39mimport\u001b[39;00m sql\n\u001b[0;32m-> 2987\u001b[0m \u001b[39mreturn\u001b[39;00m sql\u001b[39m.\u001b[39;49mto_sql(\n\u001b[1;32m   2988\u001b[0m     \u001b[39mself\u001b[39;49m,\n\u001b[1;32m   2989\u001b[0m     name,\n\u001b[1;32m   2990\u001b[0m     con,\n\u001b[1;32m   2991\u001b[0m     schema\u001b[39m=\u001b[39;49mschema,\n\u001b[1;32m   2992\u001b[0m     if_exists\u001b[39m=\u001b[39;49mif_exists,\n\u001b[1;32m   2993\u001b[0m     index\u001b[39m=\u001b[39;49mindex,\n\u001b[1;32m   2994\u001b[0m     index_label\u001b[39m=\u001b[39;49mindex_label,\n\u001b[1;32m   2995\u001b[0m     chunksize\u001b[39m=\u001b[39;49mchunksize,\n\u001b[1;32m   2996\u001b[0m     dtype\u001b[39m=\u001b[39;49mdtype,\n\u001b[1;32m   2997\u001b[0m     method\u001b[39m=\u001b[39;49mmethod,\n\u001b[1;32m   2998\u001b[0m )\n",
      "File \u001b[0;32m/opt/homebrew/Caskroom/miniconda/base/envs/pylcaio_ecoinvent_3_8/lib/python3.11/site-packages/pandas/io/sql.py:695\u001b[0m, in \u001b[0;36mto_sql\u001b[0;34m(frame, name, con, schema, if_exists, index, index_label, chunksize, dtype, method, engine, **engine_kwargs)\u001b[0m\n\u001b[1;32m    690\u001b[0m \u001b[39melif\u001b[39;00m \u001b[39mnot\u001b[39;00m \u001b[39misinstance\u001b[39m(frame, DataFrame):\n\u001b[1;32m    691\u001b[0m     \u001b[39mraise\u001b[39;00m \u001b[39mNotImplementedError\u001b[39;00m(\n\u001b[1;32m    692\u001b[0m         \u001b[39m\"\u001b[39m\u001b[39m'\u001b[39m\u001b[39mframe\u001b[39m\u001b[39m'\u001b[39m\u001b[39m argument should be either a Series or a DataFrame\u001b[39m\u001b[39m\"\u001b[39m\n\u001b[1;32m    693\u001b[0m     )\n\u001b[0;32m--> 695\u001b[0m \u001b[39mreturn\u001b[39;00m pandas_sql\u001b[39m.\u001b[39;49mto_sql(\n\u001b[1;32m    696\u001b[0m     frame,\n\u001b[1;32m    697\u001b[0m     name,\n\u001b[1;32m    698\u001b[0m     if_exists\u001b[39m=\u001b[39;49mif_exists,\n\u001b[1;32m    699\u001b[0m     index\u001b[39m=\u001b[39;49mindex,\n\u001b[1;32m    700\u001b[0m     index_label\u001b[39m=\u001b[39;49mindex_label,\n\u001b[1;32m    701\u001b[0m     schema\u001b[39m=\u001b[39;49mschema,\n\u001b[1;32m    702\u001b[0m     chunksize\u001b[39m=\u001b[39;49mchunksize,\n\u001b[1;32m    703\u001b[0m     dtype\u001b[39m=\u001b[39;49mdtype,\n\u001b[1;32m    704\u001b[0m     method\u001b[39m=\u001b[39;49mmethod,\n\u001b[1;32m    705\u001b[0m     engine\u001b[39m=\u001b[39;49mengine,\n\u001b[1;32m    706\u001b[0m     \u001b[39m*\u001b[39;49m\u001b[39m*\u001b[39;49mengine_kwargs,\n\u001b[1;32m    707\u001b[0m )\n",
      "File \u001b[0;32m/opt/homebrew/Caskroom/miniconda/base/envs/pylcaio_ecoinvent_3_8/lib/python3.11/site-packages/pandas/io/sql.py:2187\u001b[0m, in \u001b[0;36mSQLiteDatabase.to_sql\u001b[0;34m(self, frame, name, if_exists, index, index_label, schema, chunksize, dtype, method, **kwargs)\u001b[0m\n\u001b[1;32m   2176\u001b[0m             \u001b[39mraise\u001b[39;00m \u001b[39mValueError\u001b[39;00m(\u001b[39mf\u001b[39m\u001b[39m\"\u001b[39m\u001b[39m{\u001b[39;00mcol\u001b[39m}\u001b[39;00m\u001b[39m (\u001b[39m\u001b[39m{\u001b[39;00mmy_type\u001b[39m}\u001b[39;00m\u001b[39m) not a string\u001b[39m\u001b[39m\"\u001b[39m)\n\u001b[1;32m   2178\u001b[0m table \u001b[39m=\u001b[39m SQLiteTable(\n\u001b[1;32m   2179\u001b[0m     name,\n\u001b[1;32m   2180\u001b[0m     \u001b[39mself\u001b[39m,\n\u001b[0;32m   (...)\u001b[0m\n\u001b[1;32m   2185\u001b[0m     dtype\u001b[39m=\u001b[39mdtype,\n\u001b[1;32m   2186\u001b[0m )\n\u001b[0;32m-> 2187\u001b[0m table\u001b[39m.\u001b[39;49mcreate()\n\u001b[1;32m   2188\u001b[0m \u001b[39mreturn\u001b[39;00m table\u001b[39m.\u001b[39minsert(chunksize, method)\n",
      "File \u001b[0;32m/opt/homebrew/Caskroom/miniconda/base/envs/pylcaio_ecoinvent_3_8/lib/python3.11/site-packages/pandas/io/sql.py:838\u001b[0m, in \u001b[0;36mSQLTable.create\u001b[0;34m(self)\u001b[0m\n\u001b[1;32m    836\u001b[0m         \u001b[39mraise\u001b[39;00m \u001b[39mValueError\u001b[39;00m(\u001b[39mf\u001b[39m\u001b[39m\"\u001b[39m\u001b[39m'\u001b[39m\u001b[39m{\u001b[39;00m\u001b[39mself\u001b[39m\u001b[39m.\u001b[39mif_exists\u001b[39m}\u001b[39;00m\u001b[39m'\u001b[39m\u001b[39m is not valid for if_exists\u001b[39m\u001b[39m\"\u001b[39m)\n\u001b[1;32m    837\u001b[0m \u001b[39melse\u001b[39;00m:\n\u001b[0;32m--> 838\u001b[0m     \u001b[39mself\u001b[39;49m\u001b[39m.\u001b[39;49m_execute_create()\n",
      "File \u001b[0;32m/opt/homebrew/Caskroom/miniconda/base/envs/pylcaio_ecoinvent_3_8/lib/python3.11/site-packages/pandas/io/sql.py:1871\u001b[0m, in \u001b[0;36mSQLiteTable._execute_create\u001b[0;34m(self)\u001b[0m\n\u001b[1;32m   1869\u001b[0m \u001b[39mwith\u001b[39;00m \u001b[39mself\u001b[39m\u001b[39m.\u001b[39mpd_sql\u001b[39m.\u001b[39mrun_transaction() \u001b[39mas\u001b[39;00m conn:\n\u001b[1;32m   1870\u001b[0m     \u001b[39mfor\u001b[39;00m stmt \u001b[39min\u001b[39;00m \u001b[39mself\u001b[39m\u001b[39m.\u001b[39mtable:\n\u001b[0;32m-> 1871\u001b[0m         conn\u001b[39m.\u001b[39;49mexecute(stmt)\n",
      "\u001b[0;31mOperationalError\u001b[0m: duplicate column name: id"
     ]
    }
   ],
   "source": [
    "parser.ecospold_to_Leontief(\n",
    "    fileformats = 'Pandas',\n",
    "    with_absolute_flows = True\n",
    ")"
   ]
  },
  {
   "attachments": {},
   "cell_type": "markdown",
   "metadata": {},
   "source": [
    "#### 2.2.1. Remove Temporary Files"
   ]
  },
  {
   "cell_type": "code",
   "execution_count": 3,
   "metadata": {},
   "outputs": [],
   "source": [
    "Path.unlink(Path.cwd() / ('ecoinvent_3_9' + '_characterisation.db'), missing_ok = True)\n",
    "Path.unlink(Path.cwd() / 'C_long', missing_ok = True)"
   ]
  },
  {
   "attachments": {},
   "cell_type": "markdown",
   "metadata": {},
   "source": [
    "## 3. Load Databases"
   ]
  },
  {
   "cell_type": "code",
   "execution_count": 24,
   "metadata": {},
   "outputs": [],
   "source": [
    "exiobase: IOSystem = pd.read_pickle(path_file_exiobase_processed)\n",
    "with gzip.open(path_file_ecoinvent_processed,'rb') as f:\n",
    "    ecoinvent = pd.read_pickle(f)"
   ]
  },
  {
   "attachments": {},
   "cell_type": "markdown",
   "metadata": {},
   "source": [
    "## 4. `pylcaio`\n",
    "### 4.1. `pylcaio` Import\n",
    "\n",
    "⏳ ~5 min on MacBook Pro"
   ]
  },
  {
   "cell_type": "code",
   "execution_count": 25,
   "metadata": {},
   "outputs": [],
   "source": [
    "if path_dir_repo_pylcaio_src.exists():\n",
    "    pass\n",
    "else:\n",
    "    git.Git(path_dir_repo_pylcaio_parent).clone(\"https://github.com/MaximeAgez/pylcaio\")"
   ]
  },
  {
   "cell_type": "code",
   "execution_count": 26,
   "metadata": {},
   "outputs": [],
   "source": [
    "sys.path.append(str(path_dir_repo_pylcaio_src))\n",
    "import pylcaio "
   ]
  },
  {
   "cell_type": "code",
   "execution_count": 27,
   "metadata": {},
   "outputs": [],
   "source": [
    "database_loader: pylcaio.DatabaseLoader  = pylcaio.DatabaseLoader(\n",
    "    lca_database_processed = ecoinvent,\n",
    "    io_database_processed = exiobase,\n",
    "    lca_database_name_and_version = 'ecoinvent3.9',\n",
    "    io_database_name_and_version = 'exiobase3'\n",
    ")"
   ]
  },
  {
   "cell_type": "code",
   "execution_count": 28,
   "metadata": {},
   "outputs": [
    {
     "name": "stdout",
     "output_type": "stream",
     "text": [
      "No path for the capital folder was provided. Capitals will not be endogenized\n"
     ]
    }
   ],
   "source": [
    "lcaio_object: pylcaio.LCAIO = database_loader.combine_ecoinvent_exiobase(\n",
    "    complete_extensions = False,\n",
    "    impact_world = True,\n",
    "    regionalized = False\n",
    ")"
   ]
  },
  {
   "cell_type": "code",
   "execution_count": 31,
   "metadata": {},
   "outputs": [
    {
     "ename": "KeyError",
     "evalue": "\"None of [Index(['1048ed29-dc9e-5866-8b1c-d8a72a8267ed_3f6dada9-2497-4e1c-9e1b-eabafa6920f8',\\n       '332eb8bb-add8-5317-8710-96775c4e0953_3f6dada9-2497-4e1c-9e1b-eabafa6920f8',\\n       '3957068b-07f6-586c-83ea-5911f7c1d7e0_3f6dada9-2497-4e1c-9e1b-eabafa6920f8',\\n       'd2080a25-f29e-5e9d-8fd1-55d77ec791e7_3f6dada9-2497-4e1c-9e1b-eabafa6920f8',\\n       '02f02f1a-e177-5c99-ab52-fb2768e76071_a235b2ff-3237-44b0-a445-b852376a1939',\\n       '02f02f1a-e177-5c99-ab52-fb2768e76071_d7f544d6-c372-4fc3-81ae-44aa3614c9fc',\\n       '99808fb5-5e9a-5b68-970b-bad146e2de29_a235b2ff-3237-44b0-a445-b852376a1939',\\n       '99808fb5-5e9a-5b68-970b-bad146e2de29_d7f544d6-c372-4fc3-81ae-44aa3614c9fc',\\n       '07c1b13f-25ff-54ff-846c-54d0920de46c_692b4f7e-9e79-4f69-b22f-b66f68f2f9cc',\\n       '07c1b13f-25ff-54ff-846c-54d0920de46c_f467c4d0-ea1c-4ae3-8d69-712598a0478a',\\n       ...\\n       'a078a64e-ed02-5fae-8868-a02f3368f7e1_57143a43-20ab-44a5-a4a2-26effbdfafd1',\\n       'bf68033b-50f5-596a-a605-247a69f1a1b4_57143a43-20ab-44a5-a4a2-26effbdfafd1',\\n       '30f669a7-4631-5081-9769-bb9ccb7d5810_aa6252cb-4154-42a5-8d03-6a345ee108b8',\\n       '579c86f3-072d-5967-b391-86cbbc0b4048_71ea78cc-59a2-469a-bf4e-ac659ca0b32c',\\n       '39964ce2-5de7-5d31-b31c-46ebb0bdd0e5_c784e421-2f79-47e4-8b6d-2c29fa41aad0',\\n       '4242d0f1-ffbe-5679-93e8-4314a71646a8_cc7e810b-79d2-4c9c-96e6-60a3c739952c',\\n       '96b5d631-96e5-508e-880a-381a93402b23_bc5bb983-c18d-4c7c-9035-850b88974d59',\\n       '85e606eb-2a57-5221-b5b4-401371acb39d_923a8462-8631-4096-bf70-1aa37f90341b',\\n       '881f0e6f-186e-569a-9a7e-f38f779c9551_8e8b442a-da4e-42e1-9b6c-bd83619f8cb0',\\n       '98f1a041-6f8a-5279-83b4-15a8217f4f1c_24423cba-455e-4dd1-a473-65f0e667397c'],\\n      dtype='object', length=5789)] are in the [index]\"",
     "output_type": "error",
     "traceback": [
      "\u001b[0;31m---------------------------------------------------------------------------\u001b[0m",
      "\u001b[0;31mKeyError\u001b[0m                                  Traceback (most recent call last)",
      "Cell \u001b[0;32mIn[31], line 1\u001b[0m\n\u001b[0;32m----> 1\u001b[0m lcaio_object\u001b[39m.\u001b[39;49mhybridize(\n\u001b[1;32m      2\u001b[0m     method_double_counting \u001b[39m=\u001b[39;49m \u001b[39m'\u001b[39;49m\u001b[39mSTAM\u001b[39;49m\u001b[39m'\u001b[39;49m,\n\u001b[1;32m      3\u001b[0m     capitals \u001b[39m=\u001b[39;49m \u001b[39mFalse\u001b[39;49;00m,\n\u001b[1;32m      4\u001b[0m )\n",
      "File \u001b[0;32m~/github/pylcaio/src/pylcaio.py:759\u001b[0m, in \u001b[0;36mLCAIO.hybridize\u001b[0;34m(self, method_double_counting, capitals)\u001b[0m\n\u001b[1;32m    757\u001b[0m \u001b[39mself\u001b[39m\u001b[39m.\u001b[39mcalc_productions()\n\u001b[1;32m    758\u001b[0m \u001b[39mself\u001b[39m\u001b[39m.\u001b[39mlow_production_volume_processes()\n\u001b[0;32m--> 759\u001b[0m \u001b[39mself\u001b[39;49m\u001b[39m.\u001b[39;49mextend_inventory()\n\u001b[1;32m    761\u001b[0m \u001b[39m# ---- CONVERSION PART ------\u001b[39;00m\n\u001b[1;32m    763\u001b[0m \u001b[39mself\u001b[39m\u001b[39m.\u001b[39mH \u001b[39m=\u001b[39m pd\u001b[39m.\u001b[39mDataFrame(\u001b[39m0\u001b[39m, index\u001b[39m=\u001b[39m\u001b[39mself\u001b[39m\u001b[39m.\u001b[39msectors_of_IO, columns\u001b[39m=\u001b[39m\u001b[39mself\u001b[39m\u001b[39m.\u001b[39mPRO_f\u001b[39m.\u001b[39mindex, dtype\u001b[39m=\u001b[39m\u001b[39m'\u001b[39m\u001b[39mint64\u001b[39m\u001b[39m'\u001b[39m)\n",
      "File \u001b[0;32m~/github/pylcaio/src/pylcaio.py:1196\u001b[0m, in \u001b[0;36mLCAIO.extend_inventory\u001b[0;34m(self)\u001b[0m\n\u001b[1;32m   1194\u001b[0m ANT \u001b[39m=\u001b[39m \u001b[39mself\u001b[39m\u001b[39m.\u001b[39mA_ff\u001b[39m.\u001b[39mcopy()\n\u001b[1;32m   1195\u001b[0m ANT \u001b[39m=\u001b[39m pd\u001b[39m.\u001b[39mDataFrame(ANT\u001b[39m.\u001b[39mtodense(), \u001b[39mself\u001b[39m\u001b[39m.\u001b[39mPRO_f\u001b[39m.\u001b[39mindex, \u001b[39mself\u001b[39m\u001b[39m.\u001b[39mPRO_f\u001b[39m.\u001b[39mindex)\n\u001b[0;32m-> 1196\u001b[0m ANT\u001b[39m.\u001b[39;49mloc[\u001b[39mself\u001b[39;49m\u001b[39m.\u001b[39;49mlist_to_hyb] \u001b[39m=\u001b[39m \u001b[39m0\u001b[39m\n\u001b[1;32m   1197\u001b[0m ANT\u001b[39m.\u001b[39mfillna(\u001b[39m0\u001b[39m,inplace\u001b[39m=\u001b[39m\u001b[39mTrue\u001b[39;00m)\n\u001b[1;32m   1199\u001b[0m \u001b[39m# matrix of production processes\u001b[39;00m\n",
      "File \u001b[0;32m/opt/homebrew/Caskroom/miniconda/base/envs/pylcaio_ecoinvent_3_9/lib/python3.11/site-packages/pandas/core/indexing.py:814\u001b[0m, in \u001b[0;36m_LocationIndexer.__setitem__\u001b[0;34m(self, key, value)\u001b[0m\n\u001b[1;32m    812\u001b[0m \u001b[39melse\u001b[39;00m:\n\u001b[1;32m    813\u001b[0m     key \u001b[39m=\u001b[39m com\u001b[39m.\u001b[39mapply_if_callable(key, \u001b[39mself\u001b[39m\u001b[39m.\u001b[39mobj)\n\u001b[0;32m--> 814\u001b[0m indexer \u001b[39m=\u001b[39m \u001b[39mself\u001b[39;49m\u001b[39m.\u001b[39;49m_get_setitem_indexer(key)\n\u001b[1;32m    815\u001b[0m \u001b[39mself\u001b[39m\u001b[39m.\u001b[39m_has_valid_setitem_indexer(key)\n\u001b[1;32m    817\u001b[0m iloc \u001b[39m=\u001b[39m \u001b[39mself\u001b[39m \u001b[39mif\u001b[39;00m \u001b[39mself\u001b[39m\u001b[39m.\u001b[39mname \u001b[39m==\u001b[39m \u001b[39m\"\u001b[39m\u001b[39miloc\u001b[39m\u001b[39m\"\u001b[39m \u001b[39melse\u001b[39;00m \u001b[39mself\u001b[39m\u001b[39m.\u001b[39mobj\u001b[39m.\u001b[39miloc\n",
      "File \u001b[0;32m/opt/homebrew/Caskroom/miniconda/base/envs/pylcaio_ecoinvent_3_9/lib/python3.11/site-packages/pandas/core/indexing.py:703\u001b[0m, in \u001b[0;36m_LocationIndexer._get_setitem_indexer\u001b[0;34m(self, key)\u001b[0m\n\u001b[1;32m    699\u001b[0m \u001b[39mif\u001b[39;00m \u001b[39misinstance\u001b[39m(key, \u001b[39mrange\u001b[39m):\n\u001b[1;32m    700\u001b[0m     \u001b[39m# GH#45479 test_loc_setitem_range_key\u001b[39;00m\n\u001b[1;32m    701\u001b[0m     key \u001b[39m=\u001b[39m \u001b[39mlist\u001b[39m(key)\n\u001b[0;32m--> 703\u001b[0m \u001b[39mreturn\u001b[39;00m \u001b[39mself\u001b[39;49m\u001b[39m.\u001b[39;49m_convert_to_indexer(key, axis\u001b[39m=\u001b[39;49m\u001b[39m0\u001b[39;49m)\n",
      "File \u001b[0;32m/opt/homebrew/Caskroom/miniconda/base/envs/pylcaio_ecoinvent_3_9/lib/python3.11/site-packages/pandas/core/indexing.py:1396\u001b[0m, in \u001b[0;36m_LocIndexer._convert_to_indexer\u001b[0;34m(self, key, axis)\u001b[0m\n\u001b[1;32m   1394\u001b[0m         \u001b[39mreturn\u001b[39;00m key\n\u001b[1;32m   1395\u001b[0m     \u001b[39melse\u001b[39;00m:\n\u001b[0;32m-> 1396\u001b[0m         \u001b[39mreturn\u001b[39;00m \u001b[39mself\u001b[39;49m\u001b[39m.\u001b[39;49m_get_listlike_indexer(key, axis)[\u001b[39m1\u001b[39m]\n\u001b[1;32m   1397\u001b[0m \u001b[39melse\u001b[39;00m:\n\u001b[1;32m   1398\u001b[0m     \u001b[39mtry\u001b[39;00m:\n",
      "File \u001b[0;32m/opt/homebrew/Caskroom/miniconda/base/envs/pylcaio_ecoinvent_3_9/lib/python3.11/site-packages/pandas/core/indexing.py:1432\u001b[0m, in \u001b[0;36m_LocIndexer._get_listlike_indexer\u001b[0;34m(self, key, axis)\u001b[0m\n\u001b[1;32m   1429\u001b[0m ax \u001b[39m=\u001b[39m \u001b[39mself\u001b[39m\u001b[39m.\u001b[39mobj\u001b[39m.\u001b[39m_get_axis(axis)\n\u001b[1;32m   1430\u001b[0m axis_name \u001b[39m=\u001b[39m \u001b[39mself\u001b[39m\u001b[39m.\u001b[39mobj\u001b[39m.\u001b[39m_get_axis_name(axis)\n\u001b[0;32m-> 1432\u001b[0m keyarr, indexer \u001b[39m=\u001b[39m ax\u001b[39m.\u001b[39;49m_get_indexer_strict(key, axis_name)\n\u001b[1;32m   1434\u001b[0m \u001b[39mreturn\u001b[39;00m keyarr, indexer\n",
      "File \u001b[0;32m/opt/homebrew/Caskroom/miniconda/base/envs/pylcaio_ecoinvent_3_9/lib/python3.11/site-packages/pandas/core/indexes/base.py:6070\u001b[0m, in \u001b[0;36mIndex._get_indexer_strict\u001b[0;34m(self, key, axis_name)\u001b[0m\n\u001b[1;32m   6067\u001b[0m \u001b[39melse\u001b[39;00m:\n\u001b[1;32m   6068\u001b[0m     keyarr, indexer, new_indexer \u001b[39m=\u001b[39m \u001b[39mself\u001b[39m\u001b[39m.\u001b[39m_reindex_non_unique(keyarr)\n\u001b[0;32m-> 6070\u001b[0m \u001b[39mself\u001b[39;49m\u001b[39m.\u001b[39;49m_raise_if_missing(keyarr, indexer, axis_name)\n\u001b[1;32m   6072\u001b[0m keyarr \u001b[39m=\u001b[39m \u001b[39mself\u001b[39m\u001b[39m.\u001b[39mtake(indexer)\n\u001b[1;32m   6073\u001b[0m \u001b[39mif\u001b[39;00m \u001b[39misinstance\u001b[39m(key, Index):\n\u001b[1;32m   6074\u001b[0m     \u001b[39m# GH 42790 - Preserve name from an Index\u001b[39;00m\n",
      "File \u001b[0;32m/opt/homebrew/Caskroom/miniconda/base/envs/pylcaio_ecoinvent_3_9/lib/python3.11/site-packages/pandas/core/indexes/base.py:6130\u001b[0m, in \u001b[0;36mIndex._raise_if_missing\u001b[0;34m(self, key, indexer, axis_name)\u001b[0m\n\u001b[1;32m   6128\u001b[0m     \u001b[39mif\u001b[39;00m use_interval_msg:\n\u001b[1;32m   6129\u001b[0m         key \u001b[39m=\u001b[39m \u001b[39mlist\u001b[39m(key)\n\u001b[0;32m-> 6130\u001b[0m     \u001b[39mraise\u001b[39;00m \u001b[39mKeyError\u001b[39;00m(\u001b[39mf\u001b[39m\u001b[39m\"\u001b[39m\u001b[39mNone of [\u001b[39m\u001b[39m{\u001b[39;00mkey\u001b[39m}\u001b[39;00m\u001b[39m] are in the [\u001b[39m\u001b[39m{\u001b[39;00maxis_name\u001b[39m}\u001b[39;00m\u001b[39m]\u001b[39m\u001b[39m\"\u001b[39m)\n\u001b[1;32m   6132\u001b[0m not_found \u001b[39m=\u001b[39m \u001b[39mlist\u001b[39m(ensure_index(key)[missing_mask\u001b[39m.\u001b[39mnonzero()[\u001b[39m0\u001b[39m]]\u001b[39m.\u001b[39munique())\n\u001b[1;32m   6133\u001b[0m \u001b[39mraise\u001b[39;00m \u001b[39mKeyError\u001b[39;00m(\u001b[39mf\u001b[39m\u001b[39m\"\u001b[39m\u001b[39m{\u001b[39;00mnot_found\u001b[39m}\u001b[39;00m\u001b[39m not in index\u001b[39m\u001b[39m\"\u001b[39m)\n",
      "\u001b[0;31mKeyError\u001b[0m: \"None of [Index(['1048ed29-dc9e-5866-8b1c-d8a72a8267ed_3f6dada9-2497-4e1c-9e1b-eabafa6920f8',\\n       '332eb8bb-add8-5317-8710-96775c4e0953_3f6dada9-2497-4e1c-9e1b-eabafa6920f8',\\n       '3957068b-07f6-586c-83ea-5911f7c1d7e0_3f6dada9-2497-4e1c-9e1b-eabafa6920f8',\\n       'd2080a25-f29e-5e9d-8fd1-55d77ec791e7_3f6dada9-2497-4e1c-9e1b-eabafa6920f8',\\n       '02f02f1a-e177-5c99-ab52-fb2768e76071_a235b2ff-3237-44b0-a445-b852376a1939',\\n       '02f02f1a-e177-5c99-ab52-fb2768e76071_d7f544d6-c372-4fc3-81ae-44aa3614c9fc',\\n       '99808fb5-5e9a-5b68-970b-bad146e2de29_a235b2ff-3237-44b0-a445-b852376a1939',\\n       '99808fb5-5e9a-5b68-970b-bad146e2de29_d7f544d6-c372-4fc3-81ae-44aa3614c9fc',\\n       '07c1b13f-25ff-54ff-846c-54d0920de46c_692b4f7e-9e79-4f69-b22f-b66f68f2f9cc',\\n       '07c1b13f-25ff-54ff-846c-54d0920de46c_f467c4d0-ea1c-4ae3-8d69-712598a0478a',\\n       ...\\n       'a078a64e-ed02-5fae-8868-a02f3368f7e1_57143a43-20ab-44a5-a4a2-26effbdfafd1',\\n       'bf68033b-50f5-596a-a605-247a69f1a1b4_57143a43-20ab-44a5-a4a2-26effbdfafd1',\\n       '30f669a7-4631-5081-9769-bb9ccb7d5810_aa6252cb-4154-42a5-8d03-6a345ee108b8',\\n       '579c86f3-072d-5967-b391-86cbbc0b4048_71ea78cc-59a2-469a-bf4e-ac659ca0b32c',\\n       '39964ce2-5de7-5d31-b31c-46ebb0bdd0e5_c784e421-2f79-47e4-8b6d-2c29fa41aad0',\\n       '4242d0f1-ffbe-5679-93e8-4314a71646a8_cc7e810b-79d2-4c9c-96e6-60a3c739952c',\\n       '96b5d631-96e5-508e-880a-381a93402b23_bc5bb983-c18d-4c7c-9035-850b88974d59',\\n       '85e606eb-2a57-5221-b5b4-401371acb39d_923a8462-8631-4096-bf70-1aa37f90341b',\\n       '881f0e6f-186e-569a-9a7e-f38f779c9551_8e8b442a-da4e-42e1-9b6c-bd83619f8cb0',\\n       '98f1a041-6f8a-5279-83b4-15a8217f4f1c_24423cba-455e-4dd1-a473-65f0e667397c'],\\n      dtype='object', length=5789)] are in the [index]\""
     ]
    }
   ],
   "source": [
    "lcaio_object.hybridize(\n",
    "    method_double_counting = 'STAM',\n",
    "    capitals = False,\n",
    ")"
   ]
  },
  {
   "cell_type": "code",
   "execution_count": 20,
   "metadata": {},
   "outputs": [
    {
     "name": "stdout",
     "output_type": "stream",
     "text": [
      "Database saved to /Users/michaelweinold/data/data_processed/hybrid_iwp.pickle\n",
      "Description file saved to /Users/michaelweinold/data/data_processed/description_hybrid_iw.txt\n"
     ]
    }
   ],
   "source": [
    "lcaio_object.save_system(\n",
    "    file_name = 'hybrid_iwp.pickle',\n",
    "    file_path = path_dir_data_processed,\n",
    "    format = 'pickle'\n",
    ")"
   ]
  }
 ],
 "metadata": {
  "kernelspec": {
   "display_name": "pylcaio_ecoinvent_3_8",
   "language": "python",
   "name": "python3"
  },
  "language_info": {
   "codemirror_mode": {
    "name": "ipython",
    "version": 3
   },
   "file_extension": ".py",
   "mimetype": "text/x-python",
   "name": "python",
   "nbconvert_exporter": "python",
   "pygments_lexer": "ipython3",
   "version": "3.11.0"
  },
  "orig_nbformat": 4,
  "vscode": {
   "interpreter": {
    "hash": "4c94ee24e1532ac4488012501eb7eb91918c4fcf855f7040e8d54c11fc95bf9d"
   }
  }
 },
 "nbformat": 4,
 "nbformat_minor": 2
}
