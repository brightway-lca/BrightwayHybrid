{
 "cells": [
  {
   "attachments": {},
   "cell_type": "markdown",
   "metadata": {},
   "source": [
    "### ✅ prerequisites\n",
    "\n",
    " - [ ] conda environment `pylcaio_ecoinvent_3_8` created with [`pylcaio_ecoinvent_3_8.yml`](https://github.com/michaelweinold/config_conda/blob/main/bw_import_ei38.yml)\n",
    "\n",
    "# 0.1. imports"
   ]
  },
  {
   "cell_type": "code",
   "execution_count": 1,
   "metadata": {},
   "outputs": [],
   "source": [
    "# i/o\n",
    "import sys\n",
    "import os\n",
    "from pathlib import Path\n",
    "import gzip\n",
    "import pickle\n",
    "# git\n",
    "import git\n",
    "# configuration\n",
    "import yaml\n",
    "# data science\n",
    "import pandas as pd\n",
    "import copy\n",
    "# lca\n",
    "import pymrio\n",
    "import ecospold2matrix as e2m\n",
    "# type hints\n",
    "from pymrio import IOSystem\n",
    "from pathlib import PosixPath"
   ]
  },
  {
   "attachments": {},
   "cell_type": "markdown",
   "metadata": {},
   "source": [
    "# 0.2. file paths\n",
    "## 0.2.1. directories\n",
    "\n",
    "### ✅ prerequisites\n",
    "\n",
    "- [ ] Ecoinvent database in directory names `ecoinvent_3.8_cutoff_ecoSpold02` in raw data directory (`path_dir_data_raw`) \n",
    "- [ ] Ecoinvent characterization file `LCIA Implementation v3.8.xlsx` in the Ecoinvent directory"
   ]
  },
  {
   "cell_type": "code",
   "execution_count": 2,
   "metadata": {},
   "outputs": [],
   "source": [
    "%%capture\n",
    "print(path_dir_data := Path(Path.home() / 'data'))\n",
    "print(path_dir_data_raw := Path(path_dir_data / 'data_raw'))\n",
    "print(path_dir_data_processed := Path(path_dir_data / 'data_processed'))"
   ]
  },
  {
   "cell_type": "code",
   "execution_count": 3,
   "metadata": {},
   "outputs": [],
   "source": [
    "%%capture\n",
    "print(path_dir_repo_pylcaio_parent := Path(Path.home() / 'github'))\n",
    "print(path_dir_repo_pylcaio_src := Path(path_dir_repo_pylcaio_parent / 'pylcaio/src'))"
   ]
  },
  {
   "cell_type": "code",
   "execution_count": 4,
   "metadata": {},
   "outputs": [],
   "source": [
    "%%capture\n",
    "print(path_dir_exiobase_raw := path_dir_data_raw / 'exiobase_3_8')\n",
    "print(path_dir_ecoinvent_raw := path_dir_data_raw / 'ecoinvent_3.8_cutoff_ecoSpold02')"
   ]
  },
  {
   "attachments": {},
   "cell_type": "markdown",
   "metadata": {},
   "source": [
    "## 0.2.2. files"
   ]
  },
  {
   "cell_type": "code",
   "execution_count": 5,
   "metadata": {},
   "outputs": [],
   "source": [
    "%%capture\n",
    "print(path_file_exiobase_processed := path_dir_data_processed / 'exiobase_3_8.pickle')\n",
    "print(path_file_ecoinvent_processed := path_dir_data_processed / 'ecoinvent_3_8Pandas_symmNorm.gz.pickle')"
   ]
  },
  {
   "cell_type": "code",
   "execution_count": 6,
   "metadata": {},
   "outputs": [],
   "source": [
    "%%capture\n",
    "print(path_file_hybrid_system := Path(path_dir_data_processed / 'hybrid.pickle'))"
   ]
  },
  {
   "cell_type": "code",
   "execution_count": 7,
   "metadata": {},
   "outputs": [],
   "source": [
    "%%capture\n",
    "print(path_file_ecoinvent_LCIA_implementation := str(path_dir_ecoinvent_raw / 'LCIA Implementation v3.8.xlsx'))"
   ]
  },
  {
   "attachments": {},
   "cell_type": "markdown",
   "metadata": {},
   "source": [
    "### ℹ️ prerequisites\n",
    "\n",
    "1. `Ecoinvent` data present in directory `path_dir_data_raw`\n",
    "2. `Exiobase` data present in directory `path_dir_data_raw` or internet connection for automatic download from zenodo.org"
   ]
  },
  {
   "attachments": {},
   "cell_type": "markdown",
   "metadata": {},
   "source": [
    "# 1. data preparation\n",
    "\n",
    "## 1.0. variables "
   ]
  },
  {
   "cell_type": "code",
   "execution_count": 8,
   "metadata": {},
   "outputs": [],
   "source": [
    "str_exiobase_system: str = 'pxp'\n",
    "str_exiobase_year: str = '2011'\n",
    "str_exiobase_zip_file: str = 'IOT_' + str_exiobase_year + '_' + str_exiobase_system + '.zip'"
   ]
  },
  {
   "cell_type": "markdown",
   "metadata": {},
   "source": [
    "## 1.1. download `Exiobase` from zenodo.org "
   ]
  },
  {
   "cell_type": "code",
   "execution_count": 9,
   "metadata": {},
   "outputs": [],
   "source": [
    "if path_dir_exiobase_raw.exists():\n",
    "    pass\n",
    "else:\n",
    "    pymrio.download_exiobase3(\n",
    "        storage_folder = path_dir_exiobase_raw,\n",
    "        system = str_exiobase_system,\n",
    "        years = str_exiobase_year\n",
    "    )"
   ]
  },
  {
   "attachments": {},
   "cell_type": "markdown",
   "metadata": {},
   "source": [
    "## 1.2. check if `Ecoinvent` data is present"
   ]
  },
  {
   "cell_type": "code",
   "execution_count": 10,
   "metadata": {},
   "outputs": [],
   "source": [
    "assert path_dir_ecoinvent_raw.exists(), 'Ecoinvent data not found.'"
   ]
  },
  {
   "attachments": {},
   "cell_type": "markdown",
   "metadata": {},
   "source": [
    "# 2. parse databases (needs to be run only once)\n",
    "## 2.1. parse `Exiobase`\n",
    "\n",
    "⏳ ~1.5 min on MacBook Pro"
   ]
  },
  {
   "cell_type": "code",
   "execution_count": 12,
   "metadata": {},
   "outputs": [],
   "source": [
    "exiobase: pymrio.IOSystem = pymrio.parse_exiobase3(path_dir_exiobase_raw / str_exiobase_zip_file)\n",
    "with open(path_file_exiobase_processed, 'wb') as file_handle:\n",
    "    pickle.dump(obj = exiobase, file = file_handle, protocol=pickle.HIGHEST_PROTOCOL)"
   ]
  },
  {
   "attachments": {},
   "cell_type": "markdown",
   "metadata": {},
   "source": [
    "## 2.2. parse `Ecoinvent`\n",
    "\n",
    "⏳ ~15 min on MacBook Pro"
   ]
  },
  {
   "cell_type": "code",
   "execution_count": 13,
   "metadata": {},
   "outputs": [
    {
     "name": "stderr",
     "output_type": "stream",
     "text": [
      "2023-01-16 09:51:35,170 - ecoinvent_3_8 - INFO - Ecospold2Matrix Processing\n",
      "INFO:ecoinvent_3_8:Ecospold2Matrix Processing\n",
      "2023-01-16 09:51:35,197 - ecoinvent_3_8 - INFO - Current git commit: 104a593aca2a8315e39eebd43e7722070f9cc584\n",
      "INFO:ecoinvent_3_8:Current git commit: 104a593aca2a8315e39eebd43e7722070f9cc584\n",
      "2023-01-16 09:51:35,199 - ecoinvent_3_8 - INFO - Project name: ecoinvent_3_8\n",
      "INFO:ecoinvent_3_8:Project name: ecoinvent_3_8\n",
      "2023-01-16 09:51:35,199 - ecoinvent_3_8 - INFO - Unit process and Master data directory: /Users/michaelweinold/data/data_raw/ecoinvent_3.8_cutoff_ecoSpold02\n",
      "INFO:ecoinvent_3_8:Unit process and Master data directory: /Users/michaelweinold/data/data_raw/ecoinvent_3.8_cutoff_ecoSpold02\n",
      "2023-01-16 09:51:35,200 - ecoinvent_3_8 - INFO - Data saved in: /Users/michaelweinold/data/data_processed\n",
      "INFO:ecoinvent_3_8:Data saved in: /Users/michaelweinold/data/data_processed\n",
      "2023-01-16 09:51:35,201 - ecoinvent_3_8 - INFO - Replace Not-a-Number instances with 0.0 in all matrices\n",
      "INFO:ecoinvent_3_8:Replace Not-a-Number instances with 0.0 in all matrices\n",
      "2023-01-16 09:51:35,201 - ecoinvent_3_8 - INFO - Pickle intermediate results to files\n",
      "INFO:ecoinvent_3_8:Pickle intermediate results to files\n",
      "2023-01-16 09:51:35,202 - ecoinvent_3_8 - INFO - Order processes based on: ISIC, activityName\n",
      "INFO:ecoinvent_3_8:Order processes based on: ISIC, activityName\n",
      "2023-01-16 09:51:35,202 - ecoinvent_3_8 - INFO - Order elementary exchanges based on: comp, name, subcomp\n",
      "INFO:ecoinvent_3_8:Order elementary exchanges based on: comp, name, subcomp\n",
      "rm: ecoinvent_3_8_characterisation.db: No such file or directory\n",
      "2023-01-16 09:51:35,217 - ecoinvent_3_8 - WARNING - obs2char_subcomps constraints temporarily relaxed because not full recipe parsed\n",
      "WARNING:ecoinvent_3_8:obs2char_subcomps constraints temporarily relaxed because not full recipe parsed\n"
     ]
    }
   ],
   "source": [
    "parser = e2m.Ecospold2Matrix(\n",
    "    sys_dir = str(path_dir_ecoinvent_raw), # passing a Posix Path object breaks the functionality\n",
    "    project_name = 'ecoinvent_3_8',\n",
    "    out_dir = path_dir_data_processed,\n",
    "    characterisation_file = path_file_ecoinvent_LCIA_implementation,\n",
    "    positive_waste = False,\n",
    "    nan2null = True\n",
    ")\n",
    "parser.save_interm = False\n",
    "parser.prefer_pickles = True"
   ]
  },
  {
   "cell_type": "code",
   "execution_count": 14,
   "metadata": {},
   "outputs": [
    {
     "name": "stderr",
     "output_type": "stream",
     "text": [
      "2023-01-16 09:51:41,699 - ecoinvent_3_8 - INFO - Products extracted from IntermediateExchanges.xml with SHA-1 of 1da23bc8fd24d97422a2a21ba3626d2cdfa6a428\n",
      "INFO:ecoinvent_3_8:Products extracted from IntermediateExchanges.xml with SHA-1 of 1da23bc8fd24d97422a2a21ba3626d2cdfa6a428\n",
      "2023-01-16 09:52:05,657 - ecoinvent_3_8 - WARNING - Removed 162 duplicate rows from activity_list, see duplicate_activity_list.csv.\n",
      "WARNING:ecoinvent_3_8:Removed 162 duplicate rows from activity_list, see duplicate_activity_list.csv.\n",
      "2023-01-16 09:52:05,727 - ecoinvent_3_8 - INFO - Activities extracted from ActivityIndex.xml with SHA-1 of 03403c01ac6f74a5d6cc5ca8820593f7e516b709\n",
      "INFO:ecoinvent_3_8:Activities extracted from ActivityIndex.xml with SHA-1 of 03403c01ac6f74a5d6cc5ca8820593f7e516b709\n",
      "2023-01-16 09:52:05,857 - ecoinvent_3_8 - INFO - Processing 19565 files in /Users/michaelweinold/data/data_raw/ecoinvent_3.8_cutoff_ecoSpold02/datasets\n",
      "INFO:ecoinvent_3_8:Processing 19565 files in /Users/michaelweinold/data/data_raw/ecoinvent_3.8_cutoff_ecoSpold02/datasets\n",
      "2023-01-16 09:53:16,845 - ecoinvent_3_8 - INFO - Processing 19565 files - this may take a while ...\n",
      "INFO:ecoinvent_3_8:Processing 19565 files - this may take a while ...\n",
      "2023-01-16 09:54:53,369 - ecoinvent_3_8 - INFO - Elementary flows extracted from ElementaryExchanges.xml with SHA-1 of f65edb9180cc5fb6df99289157b5aab92d30c0d1\n",
      "INFO:ecoinvent_3_8:Elementary flows extracted from ElementaryExchanges.xml with SHA-1 of f65edb9180cc5fb6df99289157b5aab92d30c0d1\n",
      "2023-01-16 09:54:53,391 - ecoinvent_3_8 - INFO - OK.   No untraceable flows.\n",
      "INFO:ecoinvent_3_8:OK.   No untraceable flows.\n",
      "2023-01-16 09:54:53,615 - ecoinvent_3_8 - INFO - OK. Source activities seem in order. Each product traceable to an activity that actually does produce or distribute this product.\n",
      "INFO:ecoinvent_3_8:OK. Source activities seem in order. Each product traceable to an activity that actually does produce or distribute this product.\n",
      "2023-01-16 09:54:53,878 - ecoinvent_3_8 - INFO - Starting to assemble the matrices\n",
      "INFO:ecoinvent_3_8:Starting to assemble the matrices\n",
      "2023-01-16 09:54:56,184 - ecoinvent_3_8 - INFO - fillna\n",
      "INFO:ecoinvent_3_8:fillna\n",
      "2023-01-16 09:55:01,030 - ecoinvent_3_8 - INFO - Starting normalizing matrices\n",
      "INFO:ecoinvent_3_8:Starting normalizing matrices\n",
      "2023-01-16 09:55:11,256 - ecoinvent_3_8 - INFO - Characterisation file seems to be ecoinvent LCIA implementation. Will apply simple name matching\n",
      "INFO:ecoinvent_3_8:Characterisation file seems to be ecoinvent LCIA implementation. Will apply simple name matching\n"
     ]
    },
    {
     "name": "stdout",
     "output_type": "stream",
     "text": [
      "starting characterisation\n"
     ]
    },
    {
     "name": "stderr",
     "output_type": "stream",
     "text": [
      "2023-01-16 09:55:20,283 - ecoinvent_3_8 - INFO - Starting characterisation matching\n",
      "INFO:ecoinvent_3_8:Starting characterisation matching\n",
      "2023-01-16 09:55:24,324 - ecoinvent_3_8 - INFO - Characterisation matching done. C matrix created\n",
      "INFO:ecoinvent_3_8:Characterisation matching done. C matrix created\n",
      "2023-01-16 09:55:24,375 - ecoinvent_3_8 - INFO - Starting to export to file\n",
      "INFO:ecoinvent_3_8:Starting to export to file\n",
      "2023-01-16 09:55:24,375 - ecoinvent_3_8 - INFO - about to write to file\n",
      "INFO:ecoinvent_3_8:about to write to file\n",
      "2023-01-16 10:00:19,401 - ecoinvent_3_8 - INFO - Final, symmetric, normalized matrices saved in /Users/michaelweinold/data/data_processed/ecoinvent_3_8Pandas_symmNorm.gz.pickle with SHA-1 of 4c3f0a4025e9920d7b6b508bd85a35fca5974a95\n",
      "INFO:ecoinvent_3_8:Final, symmetric, normalized matrices saved in /Users/michaelweinold/data/data_processed/ecoinvent_3_8Pandas_symmNorm.gz.pickle with SHA-1 of 4c3f0a4025e9920d7b6b508bd85a35fca5974a95\n",
      "2023-01-16 10:05:18,678 - ecoinvent_3_8 - INFO - Final, symmetric, scaled-up flow matrices saved in /Users/michaelweinold/data/data_processed/ecoinvent_3_8Pandas_symmScale.gz.pickle with SHA-1 of 51d0c2824694129ca469af6f8fde25ba5c558e18\n",
      "INFO:ecoinvent_3_8:Final, symmetric, scaled-up flow matrices saved in /Users/michaelweinold/data/data_processed/ecoinvent_3_8Pandas_symmScale.gz.pickle with SHA-1 of 51d0c2824694129ca469af6f8fde25ba5c558e18\n",
      "2023-01-16 10:05:18,679 - ecoinvent_3_8 - INFO - Done running ecospold2matrix.ecospold_to_Leontief\n",
      "INFO:ecoinvent_3_8:Done running ecospold2matrix.ecospold_to_Leontief\n"
     ]
    }
   ],
   "source": [
    "parser.ecospold_to_Leontief(\n",
    "    fileformats = 'Pandas',\n",
    "    with_absolute_flows = True\n",
    ")"
   ]
  },
  {
   "attachments": {},
   "cell_type": "markdown",
   "metadata": {},
   "source": [
    "### 2.2.1. remove temporary files"
   ]
  },
  {
   "cell_type": "code",
   "execution_count": 15,
   "metadata": {},
   "outputs": [],
   "source": [
    "Path.unlink(Path.cwd() / ('ecoinvent_3_8' + '_characterisation.db'), missing_ok = True)\n",
    "Path.unlink(Path.cwd() / 'C_long', missing_ok = True)"
   ]
  },
  {
   "attachments": {},
   "cell_type": "markdown",
   "metadata": {},
   "source": [
    "# 3. load databases"
   ]
  },
  {
   "cell_type": "code",
   "execution_count": 14,
   "metadata": {},
   "outputs": [],
   "source": [
    "exiobase: IOSystem = pd.read_pickle(path_file_exiobase_processed)\n",
    "with gzip.open(path_file_ecoinvent_processed,'rb') as f:\n",
    "    ecoinvent = pd.read_pickle(f)"
   ]
  },
  {
   "attachments": {},
   "cell_type": "markdown",
   "metadata": {},
   "source": [
    "# 4. `pylcaio`\n",
    "## 4.1. `pylcaio` import\n",
    "\n",
    "⏳ ~5 min on MacBook Pro"
   ]
  },
  {
   "cell_type": "code",
   "execution_count": 8,
   "metadata": {},
   "outputs": [],
   "source": [
    "if path_dir_repo_pylcaio_src.exists():\n",
    "    pass\n",
    "else:\n",
    "    git.Git(path_dir_repo_pylcaio_parent).clone(\"https://github.com/michaelweinold/pylcaio.git\")"
   ]
  },
  {
   "cell_type": "code",
   "execution_count": 9,
   "metadata": {},
   "outputs": [],
   "source": [
    "sys.path.append(str(path_dir_repo_pylcaio_src))\n",
    "import pylcaio "
   ]
  },
  {
   "cell_type": "code",
   "execution_count": 11,
   "metadata": {},
   "outputs": [
    {
     "ename": "NameError",
     "evalue": "name 'ecoinvent' is not defined",
     "output_type": "error",
     "traceback": [
      "\u001b[0;31m---------------------------------------------------------------------------\u001b[0m",
      "\u001b[0;31mNameError\u001b[0m                                 Traceback (most recent call last)",
      "Cell \u001b[0;32mIn[11], line 2\u001b[0m\n\u001b[1;32m      1\u001b[0m database_loader: pylcaio\u001b[39m.\u001b[39mDatabaseLoader  \u001b[39m=\u001b[39m pylcaio\u001b[39m.\u001b[39mDatabaseLoader(\n\u001b[0;32m----> 2\u001b[0m     lca_database_processed \u001b[39m=\u001b[39m ecoinvent,\n\u001b[1;32m      3\u001b[0m     io_database_processed \u001b[39m=\u001b[39m exiobase,\n\u001b[1;32m      4\u001b[0m     lca_database_name_and_version \u001b[39m=\u001b[39m \u001b[39m'\u001b[39m\u001b[39mecoinvent3.8\u001b[39m\u001b[39m'\u001b[39m,\n\u001b[1;32m      5\u001b[0m     io_database_name_and_version \u001b[39m=\u001b[39m \u001b[39m'\u001b[39m\u001b[39mexiobase3\u001b[39m\u001b[39m'\u001b[39m\n\u001b[1;32m      6\u001b[0m )\n",
      "\u001b[0;31mNameError\u001b[0m: name 'ecoinvent' is not defined"
     ]
    }
   ],
   "source": [
    "database_loader: pylcaio.DatabaseLoader  = pylcaio.DatabaseLoader(\n",
    "    lca_database_processed = ecoinvent,\n",
    "    io_database_processed = exiobase,\n",
    "    lca_database_name_and_version = 'ecoinvent3.8',\n",
    "    io_database_name_and_version = 'exiobase3'\n",
    ")"
   ]
  },
  {
   "cell_type": "code",
   "execution_count": 18,
   "metadata": {},
   "outputs": [
    {
     "name": "stdout",
     "output_type": "stream",
     "text": [
      "No path for the capital folder was provided. Capitals will not be endogenized\n"
     ]
    }
   ],
   "source": [
    "lcaio_object: pylcaio.LCAIO = database_loader.combine_ecoinvent_exiobase(\n",
    "    complete_extensions = False,\n",
    "    impact_world = True,\n",
    "    regionalized = False\n",
    ")"
   ]
  },
  {
   "cell_type": "code",
   "execution_count": 19,
   "metadata": {},
   "outputs": [
    {
     "name": "stdout",
     "output_type": "stream",
     "text": [
      "Indentifying Rest of World regions...\n",
      "Updating electricity prices...\n",
      "Calculating productions volumes...\n",
      "Adjusting low production volume processes...\n",
      "Extending inventory...\n",
      "Building H matrix...\n"
     ]
    },
    {
     "name": "stderr",
     "output_type": "stream",
     "text": [
      "/Users/michaelweinold/github/pylcaio/src/pylcaio.py:875: FutureWarning: The frame.append method is deprecated and will be removed from pandas in a future version. Use pandas.concat instead.\n",
      "  self.H = self.H.append([self.H] * (self.number_of_countries_IO + self.number_of_RoW_IO - 1))\n"
     ]
    },
    {
     "name": "stdout",
     "output_type": "stream",
     "text": [
      "Building geography concordance...\n",
      "Filter H matrix...\n",
      "Build Cut-off matrix...\n",
      "Add processes with 'priceless scaling' to Cut-off matrix...\n"
     ]
    },
    {
     "name": "stderr",
     "output_type": "stream",
     "text": [
      "/Users/michaelweinold/github/pylcaio/src/pylcaio.py:1050: FutureWarning: The frame.append method is deprecated and will be removed from pandas in a future version. Use pandas.concat instead.\n",
      "  self.G = self.G.append([self.G] * (self.number_of_countries_IO + self.number_of_RoW_IO - 1))\n"
     ]
    }
   ],
   "source": [
    "lcaio_object.hybridize(\n",
    "    price_neutral_cut_off_matrix = False,\n",
    "    method_double_counting = 'STAM',\n",
    "    capitals = False,\n",
    "    priceless_scaling = True\n",
    ")"
   ]
  },
  {
   "cell_type": "code",
   "execution_count": 20,
   "metadata": {},
   "outputs": [
    {
     "name": "stdout",
     "output_type": "stream",
     "text": [
      "Database saved to /Users/michaelweinold/data/data_processed/hybrid_iwp.pickle\n",
      "Description file saved to /Users/michaelweinold/data/data_processed/description_hybrid_iw.txt\n"
     ]
    }
   ],
   "source": [
    "lcaio_object.save_system(\n",
    "    file_name = 'hybrid_iwp.pickle',\n",
    "    file_path = path_dir_data_processed,\n",
    "    format = 'pickle'\n",
    ")"
   ]
  },
  {
   "attachments": {},
   "cell_type": "markdown",
   "metadata": {},
   "source": [
    "## 3.2. `pylcaio` export to `brightway`"
   ]
  },
  {
   "cell_type": "code",
   "execution_count": 10,
   "metadata": {},
   "outputs": [],
   "source": [
    "lcaio_analysis: pylcaio.Analysis = pylcaio.Analysis('/Users/michaelweinold/data/data_processed/hybrid_iwp.pickle')\n",
    "eidatasets = str(Path(path_dir_ecoinvent_raw / 'datasets')) # needs to be str, passing a Posix Path object breaks the functionality"
   ]
  },
  {
   "cell_type": "code",
   "execution_count": 11,
   "metadata": {},
   "outputs": [
    {
     "name": "stdout",
     "output_type": "stream",
     "text": [
      "Biosphere database already present!!! No setup is needed\n",
      "Extracting XML data from 19565 datasets\n",
      "Extracted 19565 datasets in 15.91 seconds\n",
      "Applying strategy: normalize_units\n",
      "Applying strategy: update_ecoinvent_locations\n",
      "Applying strategy: remove_zero_amount_coproducts\n",
      "Applying strategy: remove_zero_amount_inputs_with_no_activity\n",
      "Applying strategy: remove_unnamed_parameters\n",
      "Applying strategy: es2_assign_only_product_with_amount_as_reference_product\n",
      "Applying strategy: assign_single_product_as_activity\n",
      "Applying strategy: create_composite_code\n",
      "Applying strategy: drop_unspecified_subcategories\n",
      "Applying strategy: fix_ecoinvent_flows_pre35\n",
      "Applying strategy: drop_temporary_outdated_biosphere_flows\n",
      "Applying strategy: link_biosphere_by_flow_uuid\n",
      "Applying strategy: link_internal_technosphere_by_composite_code\n",
      "Applying strategy: delete_exchanges_missing_activity\n",
      "Applying strategy: delete_ghost_exchanges\n",
      "Applying strategy: remove_uncertainty_from_negative_loss_exchanges\n",
      "Applying strategy: fix_unreasonably_high_lognormal_uncertainties\n",
      "Applying strategy: set_lognormal_loc_value\n",
      "Applying strategy: convert_activity_parameters_to_list\n",
      "Applying strategy: add_cpc_classification_from_single_reference_product\n",
      "Applying strategy: delete_none_synonyms\n",
      "Applied 21 strategies in 4.96 seconds\n",
      "Vacuuming database \n",
      "Warning: No valid output stream.\n",
      "Title: Writing activities to SQLite3 database:\n",
      "  Started: 01/16/2023 14:47:42\n",
      "  Finished: 01/16/2023 14:48:02\n",
      "  Total time elapsed: 00:00:19\n",
      "  CPU %: 97.30\n",
      "  Memory %: 12.91\n",
      "Created database: hybrid-ecoinvent\n",
      "Starting import of exiobase\n",
      "Aggregating results\n",
      "Formating data\n",
      "> \u001b[0;32m/Users/michaelweinold/github/pylcaio/src/pylcaio.py\u001b[0m(2275)\u001b[0;36mimport_exiobase_into_brightway2\u001b[0;34m()\u001b[0m\n",
      "\u001b[0;32m   2273 \u001b[0;31m                \u001b[0mpdb\u001b[0m\u001b[0;34m.\u001b[0m\u001b[0mset_trace\u001b[0m\u001b[0;34m(\u001b[0m\u001b[0;34m)\u001b[0m\u001b[0;34m\u001b[0m\u001b[0;34m\u001b[0m\u001b[0m\n",
      "\u001b[0m\u001b[0;32m   2274 \u001b[0;31m                \u001b[0mIW_pylcaio_to_bw2\u001b[0m\u001b[0;34m[\u001b[0m\u001b[0mIW_category\u001b[0m\u001b[0;34m]\u001b[0m \u001b[0;34m=\u001b[0m\u001b[0;31m \u001b[0m\u001b[0;31m\\\u001b[0m\u001b[0;34m\u001b[0m\u001b[0;34m\u001b[0m\u001b[0m\n",
      "\u001b[0m\u001b[0;32m-> 2275 \u001b[0;31m                bw2data.methods.get(('IMPACTWorld+ (Default_Recommended_Damage 1.46)', IW_category.split(' (')[0]))[\n",
      "\u001b[0m\u001b[0;32m   2276 \u001b[0;31m                    'abbreviation']\n",
      "\u001b[0m\u001b[0;32m   2277 \u001b[0;31m            \u001b[0;32melse\u001b[0m\u001b[0;34m:\u001b[0m\u001b[0;34m\u001b[0m\u001b[0;34m\u001b[0m\u001b[0m\n",
      "\u001b[0m\n",
      "'Climate change, ecosystem quality, long term (PDF.m2.yr)'\n",
      "*** SyntaxError: unmatched ')'\n",
      "'Climate change, ecosystem quality, long term'\n",
      "*** TypeError: 'NoneType' object is not subscriptable\n",
      "*** NameError: name 'bw2data_methods' is not defined\n",
      "'impactworld-default_recommended_damage-146c.44382b299009378d7bb290318c2eb05e'\n",
      "'Climate change, ecosystem quality, long term'\n",
      "'impactworld-default_recommended_damage-146c.44382b299009378d7bb290318c2eb05e'\n",
      "'impactworld-default_recommended_damage-146c.44382b299009378d7bb290318c2eb05e'\n",
      "'impactworld-default_recommended_damage-146c.44382b299009378d7bb290318c2eb05e'\n",
      "'impactworld-default_recommended_damage-146c.44382b299009378d7bb290318c2eb05e'\n",
      "'impactworld-default_recommended_damage-146c.44382b299009378d7bb290318c2eb05e'\n",
      "> \u001b[0;32m/Users/michaelweinold/github/pylcaio/src/pylcaio.py\u001b[0m(2275)\u001b[0;36mimport_exiobase_into_brightway2\u001b[0;34m()\u001b[0m\n",
      "\u001b[0;32m   2273 \u001b[0;31m                \u001b[0mpdb\u001b[0m\u001b[0;34m.\u001b[0m\u001b[0mset_trace\u001b[0m\u001b[0;34m(\u001b[0m\u001b[0;34m)\u001b[0m\u001b[0;34m\u001b[0m\u001b[0;34m\u001b[0m\u001b[0m\n",
      "\u001b[0m\u001b[0;32m   2274 \u001b[0;31m                \u001b[0mIW_pylcaio_to_bw2\u001b[0m\u001b[0;34m[\u001b[0m\u001b[0mIW_category\u001b[0m\u001b[0;34m]\u001b[0m \u001b[0;34m=\u001b[0m\u001b[0;31m \u001b[0m\u001b[0;31m\\\u001b[0m\u001b[0;34m\u001b[0m\u001b[0;34m\u001b[0m\u001b[0m\n",
      "\u001b[0m\u001b[0;32m-> 2275 \u001b[0;31m                bw2data.methods.get(('IMPACTWorld+ (Default_Recommended_Damage 1.46)', IW_category.split(' (')[0]))[\n",
      "\u001b[0m\u001b[0;32m   2276 \u001b[0;31m                    'abbreviation']\n",
      "\u001b[0m\u001b[0;32m   2277 \u001b[0;31m            \u001b[0;32melse\u001b[0m\u001b[0;34m:\u001b[0m\u001b[0;34m\u001b[0m\u001b[0;34m\u001b[0m\u001b[0m\n",
      "\u001b[0m\n",
      "> \u001b[0;32m/Users/michaelweinold/github/pylcaio/src/pylcaio.py\u001b[0m(2275)\u001b[0;36mimport_exiobase_into_brightway2\u001b[0;34m()\u001b[0m\n",
      "\u001b[0;32m   2273 \u001b[0;31m                \u001b[0mpdb\u001b[0m\u001b[0;34m.\u001b[0m\u001b[0mset_trace\u001b[0m\u001b[0;34m(\u001b[0m\u001b[0;34m)\u001b[0m\u001b[0;34m\u001b[0m\u001b[0;34m\u001b[0m\u001b[0m\n",
      "\u001b[0m\u001b[0;32m   2274 \u001b[0;31m                \u001b[0mIW_pylcaio_to_bw2\u001b[0m\u001b[0;34m[\u001b[0m\u001b[0mIW_category\u001b[0m\u001b[0;34m]\u001b[0m \u001b[0;34m=\u001b[0m\u001b[0;31m \u001b[0m\u001b[0;31m\\\u001b[0m\u001b[0;34m\u001b[0m\u001b[0;34m\u001b[0m\u001b[0m\n",
      "\u001b[0m\u001b[0;32m-> 2275 \u001b[0;31m                bw2data.methods.get(('IMPACTWorld+ (Default_Recommended_Damage 1.46)', IW_category.split(' (')[0]))[\n",
      "\u001b[0m\u001b[0;32m   2276 \u001b[0;31m                    'abbreviation']\n",
      "\u001b[0m\u001b[0;32m   2277 \u001b[0;31m            \u001b[0;32melse\u001b[0m\u001b[0;34m:\u001b[0m\u001b[0;34m\u001b[0m\u001b[0;34m\u001b[0m\u001b[0m\n",
      "\u001b[0m\n",
      "> \u001b[0;32m/Users/michaelweinold/github/pylcaio/src/pylcaio.py\u001b[0m(2275)\u001b[0;36mimport_exiobase_into_brightway2\u001b[0;34m()\u001b[0m\n",
      "\u001b[0;32m   2273 \u001b[0;31m                \u001b[0mpdb\u001b[0m\u001b[0;34m.\u001b[0m\u001b[0mset_trace\u001b[0m\u001b[0;34m(\u001b[0m\u001b[0;34m)\u001b[0m\u001b[0;34m\u001b[0m\u001b[0;34m\u001b[0m\u001b[0m\n",
      "\u001b[0m\u001b[0;32m   2274 \u001b[0;31m                \u001b[0mIW_pylcaio_to_bw2\u001b[0m\u001b[0;34m[\u001b[0m\u001b[0mIW_category\u001b[0m\u001b[0;34m]\u001b[0m \u001b[0;34m=\u001b[0m\u001b[0;31m \u001b[0m\u001b[0;31m\\\u001b[0m\u001b[0;34m\u001b[0m\u001b[0;34m\u001b[0m\u001b[0m\n",
      "\u001b[0m\u001b[0;32m-> 2275 \u001b[0;31m                bw2data.methods.get(('IMPACTWorld+ (Default_Recommended_Damage 1.46)', IW_category.split(' (')[0]))[\n",
      "\u001b[0m\u001b[0;32m   2276 \u001b[0;31m                    'abbreviation']\n",
      "\u001b[0m\u001b[0;32m   2277 \u001b[0;31m            \u001b[0;32melse\u001b[0m\u001b[0;34m:\u001b[0m\u001b[0;34m\u001b[0m\u001b[0;34m\u001b[0m\u001b[0m\n",
      "\u001b[0m\n",
      "> \u001b[0;32m/Users/michaelweinold/github/pylcaio/src/pylcaio.py\u001b[0m(2275)\u001b[0;36mimport_exiobase_into_brightway2\u001b[0;34m()\u001b[0m\n",
      "\u001b[0;32m   2273 \u001b[0;31m                \u001b[0mpdb\u001b[0m\u001b[0;34m.\u001b[0m\u001b[0mset_trace\u001b[0m\u001b[0;34m(\u001b[0m\u001b[0;34m)\u001b[0m\u001b[0;34m\u001b[0m\u001b[0;34m\u001b[0m\u001b[0m\n",
      "\u001b[0m\u001b[0;32m   2274 \u001b[0;31m                \u001b[0mIW_pylcaio_to_bw2\u001b[0m\u001b[0;34m[\u001b[0m\u001b[0mIW_category\u001b[0m\u001b[0;34m]\u001b[0m \u001b[0;34m=\u001b[0m\u001b[0;31m \u001b[0m\u001b[0;31m\\\u001b[0m\u001b[0;34m\u001b[0m\u001b[0;34m\u001b[0m\u001b[0m\n",
      "\u001b[0m\u001b[0;32m-> 2275 \u001b[0;31m                bw2data.methods.get(('IMPACTWorld+ (Default_Recommended_Damage 1.46)', IW_category.split(' (')[0]))[\n",
      "\u001b[0m\u001b[0;32m   2276 \u001b[0;31m                    'abbreviation']\n",
      "\u001b[0m\u001b[0;32m   2277 \u001b[0;31m            \u001b[0;32melse\u001b[0m\u001b[0;34m:\u001b[0m\u001b[0;34m\u001b[0m\u001b[0;34m\u001b[0m\u001b[0m\n",
      "\u001b[0m\n",
      "> \u001b[0;32m/Users/michaelweinold/github/pylcaio/src/pylcaio.py\u001b[0m(2275)\u001b[0;36mimport_exiobase_into_brightway2\u001b[0;34m()\u001b[0m\n",
      "\u001b[0;32m   2273 \u001b[0;31m                \u001b[0mpdb\u001b[0m\u001b[0;34m.\u001b[0m\u001b[0mset_trace\u001b[0m\u001b[0;34m(\u001b[0m\u001b[0;34m)\u001b[0m\u001b[0;34m\u001b[0m\u001b[0;34m\u001b[0m\u001b[0m\n",
      "\u001b[0m\u001b[0;32m   2274 \u001b[0;31m                \u001b[0mIW_pylcaio_to_bw2\u001b[0m\u001b[0;34m[\u001b[0m\u001b[0mIW_category\u001b[0m\u001b[0;34m]\u001b[0m \u001b[0;34m=\u001b[0m\u001b[0;31m \u001b[0m\u001b[0;31m\\\u001b[0m\u001b[0;34m\u001b[0m\u001b[0;34m\u001b[0m\u001b[0m\n",
      "\u001b[0m\u001b[0;32m-> 2275 \u001b[0;31m                bw2data.methods.get(('IMPACTWorld+ (Default_Recommended_Damage 1.46)', IW_category.split(' (')[0]))[\n",
      "\u001b[0m\u001b[0;32m   2276 \u001b[0;31m                    'abbreviation']\n",
      "\u001b[0m\u001b[0;32m   2277 \u001b[0;31m            \u001b[0;32melse\u001b[0m\u001b[0;34m:\u001b[0m\u001b[0;34m\u001b[0m\u001b[0;34m\u001b[0m\u001b[0m\n",
      "\u001b[0m\n"
     ]
    }
   ],
   "source": [
    "lcaio_analysis.export_to_brightway2(\n",
    "    bw2_project_name = 'test_2',\n",
    "    created_database_name = 'hybrid_test_2',\n",
    "    path_to_ecoinvent_ecospold_datasets = '/Users/michaelweinold/data/data_raw/ecoinvent_3.8_cutoff_ecoSpold02/datasets',\n",
    "    aggregated = False\n",
    ")"
   ]
  },
  {
   "attachments": {},
   "cell_type": "markdown",
   "metadata": {},
   "source": [
    "# 5. investigation"
   ]
  },
  {
   "cell_type": "code",
   "execution_count": 12,
   "metadata": {},
   "outputs": [
    {
     "ename": "NameError",
     "evalue": "name 'hybrid' is not defined",
     "output_type": "error",
     "traceback": [
      "\u001b[0;31m---------------------------------------------------------------------------\u001b[0m",
      "\u001b[0;31mNameError\u001b[0m                                 Traceback (most recent call last)",
      "Cell \u001b[0;32mIn[12], line 1\u001b[0m\n\u001b[0;32m----> 1\u001b[0m hybrid\n",
      "\u001b[0;31mNameError\u001b[0m: name 'hybrid' is not defined"
     ]
    }
   ],
   "source": [
    "hybrid"
   ]
  },
  {
   "cell_type": "code",
   "execution_count": 25,
   "metadata": {},
   "outputs": [],
   "source": [
    "import bw2data\n",
    "import bw2io"
   ]
  },
  {
   "cell_type": "code",
   "execution_count": 27,
   "metadata": {},
   "outputs": [
    {
     "data": {
      "text/plain": [
       "[('IMPACTWorld+ (Default_Recommended_Damage 1.46)',\n",
       "  'Water availability, human health'),\n",
       " ('IMPACTWorld+ (Default_Recommended_Damage 1.46)',\n",
       "  'Water availability, freshwater ecosystem'),\n",
       " ('IMPACTWorld+ (Default_Recommended_Damage 1.46)',\n",
       "  'Water availability, terrestrial ecosystem'),\n",
       " ('IMPACTWorld+ (Default_Recommended_Damage 1.46)',\n",
       "  'Thermally polluted water'),\n",
       " ('IMPACTWorld+ (Default_Recommended_Damage 1.46)',\n",
       "  'Photochemical oxidant formation'),\n",
       " ('IMPACTWorld+ (Default_Recommended_Damage 1.46)',\n",
       "  'Ionizing radiation, human health'),\n",
       " ('IMPACTWorld+ (Default_Recommended_Damage 1.46)', 'Ozone layer depletion'),\n",
       " ('IMPACTWorld+ (Default_Recommended_Damage 1.46)',\n",
       "  'Freshwater ecotoxicity, short term'),\n",
       " ('IMPACTWorld+ (Default_Recommended_Damage 1.46)',\n",
       "  'Freshwater ecotoxicity, long term'),\n",
       " ('IMPACTWorld+ (Default_Recommended_Damage 1.46)',\n",
       "  'Human toxicity cancer, short term'),\n",
       " ('IMPACTWorld+ (Default_Recommended_Damage 1.46)',\n",
       "  'Human toxicity cancer, long term'),\n",
       " ('IMPACTWorld+ (Default_Recommended_Damage 1.46)',\n",
       "  'Human toxicity non-cancer, short term'),\n",
       " ('IMPACTWorld+ (Default_Recommended_Damage 1.46)',\n",
       "  'Human toxicity non-cancer, long term'),\n",
       " ('IMPACTWorld+ (Default_Recommended_Damage 1.46)',\n",
       "  'Freshwater acidification'),\n",
       " ('IMPACTWorld+ (Default_Recommended_Damage 1.46)',\n",
       "  'Terrestrial acidification'),\n",
       " ('IMPACTWorld+ (Default_Recommended_Damage 1.46)',\n",
       "  'Freshwater eutrophication'),\n",
       " ('IMPACTWorld+ (Default_Recommended_Damage 1.46)', 'Marine eutrophication'),\n",
       " ('IMPACTWorld+ (Default_Recommended_Damage 1.46)',\n",
       "  'Land transformation, biodiversity'),\n",
       " ('IMPACTWorld+ (Default_Recommended_Damage 1.46)',\n",
       "  'Particulate matter formation')]"
      ]
     },
     "execution_count": 27,
     "metadata": {},
     "output_type": "execute_result"
    }
   ],
   "source": [
    "[*bw2data.methods][-20:-1]"
   ]
  },
  {
   "cell_type": "code",
   "execution_count": 29,
   "metadata": {},
   "outputs": [],
   "source": [
    "# export bw2data.methods to pickle for investigation\n",
    "bw2data_methods = bw2data.methods\n",
    "with open('/Users/michaelweinold/github/bw_hybrid/notebooks/bw2data_methods.pickle', 'wb') as file_handle:\n",
    "    pickle.dump(obj = bw2data_methods, file = file_handle, protocol=pickle.HIGHEST_PROTOCOL)"
   ]
  },
  {
   "cell_type": "code",
   "execution_count": 28,
   "metadata": {},
   "outputs": [
    {
     "data": {
      "text/plain": [
       "[('Problem oriented approach: baseline (CML, 2001)',\n",
       "  'abiotic depletion (fossil fuels)',\n",
       "  'ADPfossil fuels (Oers et al., 2001)',\n",
       "  'MJ'),\n",
       " ('Problem oriented approach: non baseline (CML, 2001)',\n",
       "  'abiotic depletion (elements, reserve base)',\n",
       "  'ADPelements (Oers et al. 2001)',\n",
       "  'kg antimony eq.'),\n",
       " ('Problem oriented approach: non baseline (CML, 2001)',\n",
       "  'abiotic depletion (elements, economic reserve)',\n",
       "  'ADPelements (Oers et al. 2001)',\n",
       "  'kg antimony eq.'),\n",
       " ('Problem oriented approach: non baseline (CML, 2001)',\n",
       "  'Landuse increase of land competition',\n",
       "  'LUC (Guinee et al, 2001)',\n",
       "  'm2*yr')]"
      ]
     },
     "execution_count": 28,
     "metadata": {},
     "output_type": "execute_result"
    }
   ],
   "source": [
    "lcaio_analysis.impact_categories_IO[1:5]"
   ]
  }
 ],
 "metadata": {
  "kernelspec": {
   "display_name": "pylcaio_ecoinvent_3_8",
   "language": "python",
   "name": "python3"
  },
  "language_info": {
   "codemirror_mode": {
    "name": "ipython",
    "version": 3
   },
   "file_extension": ".py",
   "mimetype": "text/x-python",
   "name": "python",
   "nbconvert_exporter": "python",
   "pygments_lexer": "ipython3",
   "version": "3.11.0 | packaged by conda-forge | (main, Oct 25 2022, 06:21:25) [Clang 14.0.4 ]"
  },
  "orig_nbformat": 4,
  "vscode": {
   "interpreter": {
    "hash": "4c94ee24e1532ac4488012501eb7eb91918c4fcf855f7040e8d54c11fc95bf9d"
   }
  }
 },
 "nbformat": 4,
 "nbformat_minor": 2
}
