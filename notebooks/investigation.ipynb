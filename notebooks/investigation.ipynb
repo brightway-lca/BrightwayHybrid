{
 "cells": [
  {
   "cell_type": "code",
   "execution_count": 6,
   "metadata": {},
   "outputs": [],
   "source": [
    "# i/o\n",
    "import sys\n",
    "import os\n",
    "from pathlib import Path\n",
    "import gzip\n",
    "import pickle\n",
    "# git\n",
    "import git\n",
    "# configuration\n",
    "import yaml\n",
    "# data science\n",
    "import pandas as pd\n",
    "import copy\n",
    "# lca\n",
    "import pymrio\n",
    "import ecospold2matrix as e2m\n",
    "# type hints\n",
    "from pymrio import IOSystem\n",
    "from pathlib import PosixPath"
   ]
  },
  {
   "cell_type": "code",
   "execution_count": 22,
   "metadata": {},
   "outputs": [],
   "source": [
    "with gzip.open('/Users/michaelweinold/data/data_processed/hybrid.pickle','rb') as f:\n",
    "    hybrid = pd.read_pickle(f)"
   ]
  },
  {
   "cell_type": "code",
   "execution_count": 24,
   "metadata": {},
   "outputs": [
    {
     "data": {
      "text/plain": [
       "dict_keys(['PRO_f', 'A_ff', 'A_io', 'A_io_f', 'F_f', 'F_io', 'C_f', 'C_io', 'hybridized_processes', 'description', 'sectors_of_IO', 'regions_of_IO', 'flows_of_IO', 'impact_categories_IO', 'IMP', 'STR'])"
      ]
     },
     "execution_count": 24,
     "metadata": {},
     "output_type": "execute_result"
    }
   ],
   "source": [
    "hybrid.keys()"
   ]
  },
  {
   "cell_type": "code",
   "execution_count": 8,
   "metadata": {},
   "outputs": [],
   "source": [
    "with gzip.open('/Users/michaelweinold/data/data_processed/hybrid_iwp.pickle','rb') as f:\n",
    "    hybrid_iwp = pd.read_pickle(f)"
   ]
  },
  {
   "cell_type": "code",
   "execution_count": 9,
   "metadata": {},
   "outputs": [],
   "source": [
    "bw2data_methods = pd.read_pickle('/Users/michaelweinold/github/bw_hybrid/notebooks/bw2data_methods.pickle')"
   ]
  },
  {
   "cell_type": "code",
   "execution_count": 10,
   "metadata": {},
   "outputs": [],
   "source": [
    "IW_pylcaio_to_bw2 = dict.fromkeys(hybrid_iwp['impact_categories_IO'])"
   ]
  },
  {
   "cell_type": "code",
   "execution_count": 18,
   "metadata": {},
   "outputs": [
    {
     "name": "stdout",
     "output_type": "stream",
     "text": [
      "keywords found, Climate change, ecosystem quality, long term (PDF.m2.yr)\n",
      "keywords found, Climate change, ecosystem quality, short term (PDF.m2.yr)\n",
      "keywords found, Climate change, human health, long term (DALY)\n",
      "keywords found, Climate change, human health, short term (DALY)\n",
      "no keyword found, Climate change, long term (kg CO2 eq (long))\n",
      "Climate change, long term\n",
      "no keyword found, Climate change, short term (kg CO2 eq (short))\n",
      "Climate change, short term\n",
      "keywords found, Freshwater acidification (PDF.m2.yr)\n",
      "no keyword found, Freshwater acidification (kg SO2 eq)\n",
      "Freshwater acidification\n",
      "no keyword found, Freshwater ecotoxicity (CTUe)\n",
      "Freshwater ecotoxicity\n",
      "keywords found, Freshwater ecotoxicity, long term (PDF.m2.yr)\n",
      "keywords found, Freshwater ecotoxicity, short term (PDF.m2.yr)\n",
      "keywords found, Freshwater eutrophication (PDF.m2.yr)\n",
      "no keyword found, Freshwater eutrophication (kg PO4 P-lim eq)\n",
      "Freshwater eutrophication\n",
      "no keyword found, Human toxicity cancer (CTUh)\n",
      "Human toxicity cancer\n",
      "keywords found, Human toxicity cancer, long term (DALY)\n",
      "keywords found, Human toxicity cancer, short term (DALY)\n",
      "no keyword found, Human toxicity non-cancer (CTUh)\n",
      "Human toxicity non-cancer\n"
     ]
    },
    {
     "ename": "TypeError",
     "evalue": "'NoneType' object is not subscriptable",
     "output_type": "error",
     "traceback": [
      "\u001b[0;31m---------------------------------------------------------------------------\u001b[0m",
      "\u001b[0;31mTypeError\u001b[0m                                 Traceback (most recent call last)",
      "Cell \u001b[0;32mIn[18], line 11\u001b[0m\n\u001b[1;32m      8\u001b[0m \u001b[39mprint\u001b[39m(\u001b[39m'\u001b[39m\u001b[39mno keyword found,\u001b[39m\u001b[39m'\u001b[39m, IW_category)\n\u001b[1;32m      9\u001b[0m \u001b[39mprint\u001b[39m(IW_category\u001b[39m.\u001b[39msplit(\u001b[39m'\u001b[39m\u001b[39m (\u001b[39m\u001b[39m'\u001b[39m)[\u001b[39m0\u001b[39m])\n\u001b[1;32m     10\u001b[0m IW_pylcaio_to_bw2[IW_category] \u001b[39m=\u001b[39m \\\n\u001b[0;32m---> 11\u001b[0m bw2data_methods\u001b[39m.\u001b[39;49mget((\u001b[39m'\u001b[39;49m\u001b[39mIMPACTWorld+ (Default_Recommended_Midpoint 1.28)\u001b[39;49m\u001b[39m'\u001b[39;49m, IW_category\u001b[39m.\u001b[39;49msplit(\u001b[39m'\u001b[39;49m\u001b[39m (\u001b[39;49m\u001b[39m'\u001b[39;49m)[\u001b[39m0\u001b[39;49m]))[\n\u001b[1;32m     12\u001b[0m     \u001b[39m'\u001b[39;49m\u001b[39mabbreviation\u001b[39;49m\u001b[39m'\u001b[39;49m]\n",
      "\u001b[0;31mTypeError\u001b[0m: 'NoneType' object is not subscriptable"
     ]
    }
   ],
   "source": [
    "for IW_category in IW_pylcaio_to_bw2:\n",
    "    if 'PDF' in IW_category or 'DALY' in IW_category:\n",
    "        print('keywords found,', IW_category)\n",
    "        IW_pylcaio_to_bw2[IW_category] = \\\n",
    "        bw2data_methods.get(('IMPACTWorld+ (Default_Recommended_Damage 1.46)', IW_category.split(' (')[0]))[\n",
    "            'abbreviation']\n",
    "    else:\n",
    "        print('no keyword found,', IW_category)\n",
    "        print(IW_category.split(' (')[0])\n",
    "        IW_pylcaio_to_bw2[IW_category] = \\\n",
    "        bw2data_methods.get(('IMPACTWorld+ (Default_Recommended_Midpoint 1.28)', IW_category.split(' (')[0]))[\n",
    "            'abbreviation']"
   ]
  },
  {
   "cell_type": "code",
   "execution_count": 21,
   "metadata": {},
   "outputs": [
    {
     "ename": "TypeError",
     "evalue": "type 'NoneType' is not subscriptable",
     "output_type": "error",
     "traceback": [
      "\u001b[0;31m---------------------------------------------------------------------------\u001b[0m",
      "\u001b[0;31mTypeError\u001b[0m                                 Traceback (most recent call last)",
      "Cell \u001b[0;32mIn[21], line 1\u001b[0m\n\u001b[0;32m----> 1\u001b[0m \u001b[39mtype\u001b[39;49m(bw2data_methods\u001b[39m.\u001b[39;49mget((\u001b[39m'\u001b[39;49m\u001b[39mIMPACTWorld+ (Default_Recommended_Midpoint 1.28)\u001b[39;49m\u001b[39m'\u001b[39;49m, \u001b[39m'\u001b[39;49m\u001b[39mHuman toxicity non-cancer\u001b[39;49m\u001b[39m'\u001b[39;49m)))[\u001b[39m'\u001b[39;49m\u001b[39mabbreviation\u001b[39;49m\u001b[39m'\u001b[39;49m]\n",
      "\u001b[0;31mTypeError\u001b[0m: type 'NoneType' is not subscriptable"
     ]
    }
   ],
   "source": [
    "type(bw2data_methods.get(('IMPACTWorld+ (Default_Recommended_Midpoint 1.28)', 'Human toxicity non-cancer')))['abbreviation']"
   ]
  }
 ],
 "metadata": {
  "kernelspec": {
   "display_name": "pylcaio_ecoinvent_3_8",
   "language": "python",
   "name": "python3"
  },
  "language_info": {
   "codemirror_mode": {
    "name": "ipython",
    "version": 3
   },
   "file_extension": ".py",
   "mimetype": "text/x-python",
   "name": "python",
   "nbconvert_exporter": "python",
   "pygments_lexer": "ipython3",
   "version": "3.11.0 | packaged by conda-forge | (main, Oct 25 2022, 06:21:25) [Clang 14.0.4 ]"
  },
  "orig_nbformat": 4,
  "vscode": {
   "interpreter": {
    "hash": "4c94ee24e1532ac4488012501eb7eb91918c4fcf855f7040e8d54c11fc95bf9d"
   }
  }
 },
 "nbformat": 4,
 "nbformat_minor": 2
}
