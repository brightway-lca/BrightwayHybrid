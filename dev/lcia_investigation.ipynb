{
 "cells": [
  {
   "cell_type": "code",
   "execution_count": 14,
   "metadata": {},
   "outputs": [],
   "source": [
    "import bw2data as bd\n",
    "import bw2calc as bc\n",
    "import bw2io as bi\n",
    "import pkg_resources\n",
    "import bw_processing as bp"
   ]
  },
  {
   "cell_type": "code",
   "execution_count": 2,
   "metadata": {},
   "outputs": [],
   "source": [
    "bd.projects.set_current(\"ei_3_10\")"
   ]
  },
  {
   "cell_type": "code",
   "execution_count": 10,
   "metadata": {},
   "outputs": [],
   "source": [
    "iw_ei = bi.BW2Package.load_file('/Users/michaelweinold/github/pylcaio/src/Data/LCIA/impact_world_plus_21_brightway2_expert_version_ei310.5535d12bedce3770ffef004e84229fd1.bw2package')"
   ]
  },
  {
   "cell_type": "code",
   "execution_count": 30,
   "metadata": {},
   "outputs": [
    {
     "data": {
      "text/plain": [
       "[('ecoinvent-3.10',\n",
       "  'IMPACT World+ v2.0.1, footprint version',\n",
       "  'climate change',\n",
       "  'carbon footprint'),\n",
       " ('ecoinvent-3.10',\n",
       "  'IMPACT World+ v2.0.1, footprint version',\n",
       "  'ecosystem quality',\n",
       "  'remaining ecosystem quality damage'),\n",
       " ('ecoinvent-3.10',\n",
       "  'IMPACT World+ v2.0.1, footprint version',\n",
       "  'energy resources: non-renewable',\n",
       "  'fossil and nuclear energy use'),\n",
       " ('ecoinvent-3.10',\n",
       "  'IMPACT World+ v2.0.1, footprint version',\n",
       "  'human health',\n",
       "  'remaining human health damage'),\n",
       " ('ecoinvent-3.10',\n",
       "  'IMPACT World+ v2.0.1, footprint version',\n",
       "  'water use',\n",
       "  'water scarcity footprint')]"
      ]
     },
     "execution_count": 30,
     "metadata": {},
     "output_type": "execute_result"
    }
   ],
   "source": [
    "[meth for meth in bd.methods if 'IMPACT World+' in meth[1]]"
   ]
  },
  {
   "cell_type": "code",
   "execution_count": null,
   "metadata": {},
   "outputs": [],
   "source": [
    "iw_ei[0]"
   ]
  },
  {
   "cell_type": "code",
   "execution_count": 32,
   "metadata": {},
   "outputs": [
    {
     "data": {
      "text/plain": [
       "[('IMPACT World+ Damage 2.1 for ecoinvent v3.10',\n",
       "  'Ecosystem quality',\n",
       "  'Climate change, ecosystem quality, long term'),\n",
       " ('IMPACT World+ Damage 2.1 for ecoinvent v3.10',\n",
       "  'Ecosystem quality',\n",
       "  'Climate change, ecosystem quality, short term'),\n",
       " ('IMPACT World+ Damage 2.1 for ecoinvent v3.10',\n",
       "  'Human health',\n",
       "  'Climate change, human health, long term'),\n",
       " ('IMPACT World+ Damage 2.1 for ecoinvent v3.10',\n",
       "  'Human health',\n",
       "  'Climate change, human health, short term'),\n",
       " ('IMPACT World+ Midpoint 2.1 for ecoinvent v3.10',\n",
       "  'Midpoint',\n",
       "  'Climate change, long term'),\n",
       " ('IMPACT World+ Midpoint 2.1 for ecoinvent v3.10',\n",
       "  'Midpoint',\n",
       "  'Climate change, short term'),\n",
       " ('IMPACT World+ Damage 2.1 for ecoinvent v3.10',\n",
       "  'Ecosystem quality',\n",
       "  'Fisheries impact'),\n",
       " ('IMPACT World+ Midpoint 2.1 for ecoinvent v3.10',\n",
       "  'Midpoint',\n",
       "  'Fossil and nuclear energy use'),\n",
       " ('IMPACT World+ Midpoint 2.1 for ecoinvent v3.10',\n",
       "  'Midpoint',\n",
       "  'Freshwater acidification'),\n",
       " ('IMPACT World+ Damage 2.1 for ecoinvent v3.10',\n",
       "  'Ecosystem quality',\n",
       "  'Freshwater acidification'),\n",
       " ('IMPACT World+ Midpoint 2.1 for ecoinvent v3.10',\n",
       "  'Midpoint',\n",
       "  'Freshwater ecotoxicity'),\n",
       " ('IMPACT World+ Damage 2.1 for ecoinvent v3.10',\n",
       "  'Ecosystem quality',\n",
       "  'Freshwater ecotoxicity, long term'),\n",
       " ('IMPACT World+ Damage 2.1 for ecoinvent v3.10',\n",
       "  'Ecosystem quality',\n",
       "  'Freshwater ecotoxicity, short term'),\n",
       " ('IMPACT World+ Midpoint 2.1 for ecoinvent v3.10',\n",
       "  'Midpoint',\n",
       "  'Freshwater eutrophication'),\n",
       " ('IMPACT World+ Damage 2.1 for ecoinvent v3.10',\n",
       "  'Ecosystem quality',\n",
       "  'Freshwater eutrophication'),\n",
       " ('IMPACT World+ Midpoint 2.1 for ecoinvent v3.10',\n",
       "  'Midpoint',\n",
       "  'Human toxicity cancer'),\n",
       " ('IMPACT World+ Damage 2.1 for ecoinvent v3.10',\n",
       "  'Human health',\n",
       "  'Human toxicity cancer, long term'),\n",
       " ('IMPACT World+ Damage 2.1 for ecoinvent v3.10',\n",
       "  'Human health',\n",
       "  'Human toxicity cancer, short term'),\n",
       " ('IMPACT World+ Midpoint 2.1 for ecoinvent v3.10',\n",
       "  'Midpoint',\n",
       "  'Human toxicity non-cancer'),\n",
       " ('IMPACT World+ Damage 2.1 for ecoinvent v3.10',\n",
       "  'Human health',\n",
       "  'Human toxicity non-cancer, long term'),\n",
       " ('IMPACT World+ Damage 2.1 for ecoinvent v3.10',\n",
       "  'Human health',\n",
       "  'Human toxicity non-cancer, short term'),\n",
       " ('IMPACT World+ Midpoint 2.1 for ecoinvent v3.10',\n",
       "  'Midpoint',\n",
       "  'Ionizing radiations'),\n",
       " ('IMPACT World+ Damage 2.1 for ecoinvent v3.10',\n",
       "  'Ecosystem quality',\n",
       "  'Ionizing radiations, ecosystem quality'),\n",
       " ('IMPACT World+ Damage 2.1 for ecoinvent v3.10',\n",
       "  'Human health',\n",
       "  'Ionizing radiations, human health'),\n",
       " ('IMPACT World+ Midpoint 2.1 for ecoinvent v3.10',\n",
       "  'Midpoint',\n",
       "  'Land occupation, biodiversity'),\n",
       " ('IMPACT World+ Damage 2.1 for ecoinvent v3.10',\n",
       "  'Ecosystem quality',\n",
       "  'Land occupation, biodiversity'),\n",
       " ('IMPACT World+ Midpoint 2.1 for ecoinvent v3.10',\n",
       "  'Midpoint',\n",
       "  'Land transformation, biodiversity'),\n",
       " ('IMPACT World+ Damage 2.1 for ecoinvent v3.10',\n",
       "  'Ecosystem quality',\n",
       "  'Land transformation, biodiversity'),\n",
       " ('IMPACT World+ Damage 2.1 for ecoinvent v3.10',\n",
       "  'Ecosystem quality',\n",
       "  'Marine acidification, long term'),\n",
       " ('IMPACT World+ Damage 2.1 for ecoinvent v3.10',\n",
       "  'Ecosystem quality',\n",
       "  'Marine acidification, short term'),\n",
       " ('IMPACT World+ Damage 2.1 for ecoinvent v3.10',\n",
       "  'Ecosystem quality',\n",
       "  'Marine ecotoxicity, long term'),\n",
       " ('IMPACT World+ Damage 2.1 for ecoinvent v3.10',\n",
       "  'Ecosystem quality',\n",
       "  'Marine ecotoxicity, short term'),\n",
       " ('IMPACT World+ Midpoint 2.1 for ecoinvent v3.10',\n",
       "  'Midpoint',\n",
       "  'Marine eutrophication'),\n",
       " ('IMPACT World+ Damage 2.1 for ecoinvent v3.10',\n",
       "  'Ecosystem quality',\n",
       "  'Marine eutrophication'),\n",
       " ('IMPACT World+ Midpoint 2.1 for ecoinvent v3.10',\n",
       "  'Midpoint',\n",
       "  'Mineral resources use'),\n",
       " ('IMPACT World+ Midpoint 2.1 for ecoinvent v3.10',\n",
       "  'Midpoint',\n",
       "  'Ozone layer depletion'),\n",
       " ('IMPACT World+ Damage 2.1 for ecoinvent v3.10',\n",
       "  'Human health',\n",
       "  'Ozone layer depletion'),\n",
       " ('IMPACT World+ Midpoint 2.1 for ecoinvent v3.10',\n",
       "  'Midpoint',\n",
       "  'Particulate matter formation'),\n",
       " ('IMPACT World+ Damage 2.1 for ecoinvent v3.10',\n",
       "  'Human health',\n",
       "  'Particulate matter formation'),\n",
       " ('IMPACT World+ Midpoint 2.1 for ecoinvent v3.10',\n",
       "  'Midpoint',\n",
       "  'Photochemical ozone formation'),\n",
       " ('IMPACT World+ Damage 2.1 for ecoinvent v3.10',\n",
       "  'Ecosystem quality',\n",
       "  'Photochemical ozone formation, ecosystem quality'),\n",
       " ('IMPACT World+ Damage 2.1 for ecoinvent v3.10',\n",
       "  'Human health',\n",
       "  'Photochemical ozone formation, human health'),\n",
       " ('IMPACT World+ Midpoint 2.1 for ecoinvent v3.10',\n",
       "  'Midpoint',\n",
       "  'Terrestrial acidification'),\n",
       " ('IMPACT World+ Damage 2.1 for ecoinvent v3.10',\n",
       "  'Ecosystem quality',\n",
       "  'Terrestrial acidification'),\n",
       " ('IMPACT World+ Damage 2.1 for ecoinvent v3.10',\n",
       "  'Ecosystem quality',\n",
       "  'Terrestrial ecotoxicity, long term'),\n",
       " ('IMPACT World+ Damage 2.1 for ecoinvent v3.10',\n",
       "  'Ecosystem quality',\n",
       "  'Terrestrial ecotoxicity, short term'),\n",
       " ('IMPACT World+ Damage 2.1 for ecoinvent v3.10',\n",
       "  'Ecosystem quality',\n",
       "  'Thermally polluted water'),\n",
       " ('IMPACT World+ Damage 2.1 for ecoinvent v3.10',\n",
       "  'Ecosystem quality',\n",
       "  'Water availability, freshwater ecosystem'),\n",
       " ('IMPACT World+ Damage 2.1 for ecoinvent v3.10',\n",
       "  'Human health',\n",
       "  'Water availability, human health'),\n",
       " ('IMPACT World+ Damage 2.1 for ecoinvent v3.10',\n",
       "  'Ecosystem quality',\n",
       "  'Water availability, terrestrial ecosystem'),\n",
       " ('IMPACT World+ Midpoint 2.1 for ecoinvent v3.10',\n",
       "  'Midpoint',\n",
       "  'Water scarcity'),\n",
       " ('IMPACT World+ Damage 2.1 for ecoinvent v3.10',\n",
       "  'Human health',\n",
       "  'Total human health'),\n",
       " ('IMPACT World+ Damage 2.1 for ecoinvent v3.10',\n",
       "  'Ecosystem quality',\n",
       "  'Total ecosystem quality')]"
      ]
     },
     "execution_count": 32,
     "metadata": {},
     "output_type": "execute_result"
    }
   ],
   "source": [
    "[dict['name'] for dict in iw_ei]"
   ]
  },
  {
   "cell_type": "code",
   "execution_count": 35,
   "metadata": {},
   "outputs": [],
   "source": [
    "import pandas as pd"
   ]
  },
  {
   "cell_type": "code",
   "execution_count": 36,
   "metadata": {},
   "outputs": [],
   "source": [
    "C_exio = pd.read_excel('/Users/michaelweinold/github/pylcaio/src/Data/LCIA/impact_world_plus_2.1_expert_version_exiobase.xlsx', index_col=0)\n",
    "# change to series (more efficient)\n",
    "C_exio = C_exio.stack()\n",
    "# remove null CFs\n",
    "C_exio = C_exio[C_exio != 0]"
   ]
  },
  {
   "cell_type": "code",
   "execution_count": 37,
   "metadata": {},
   "outputs": [
    {
     "data": {
      "text/plain": [
       "Climate change, ecosystem quality, long term (PDF.m2.yr)  CO2 - combustion - air                                                                    4.158335e-01\n",
       "                                                          CH4 - combustion - air                                                                    1.761156e+00\n",
       "                                                          N2O - combustion - air                                                                    5.085253e+01\n",
       "                                                          CO - combustion - air                                                                     3.775785e-04\n",
       "                                                          CH4 - non combustion - Extraction/production of (natural) gas - air                       1.761156e+00\n",
       "                                                                                                                                                        ...     \n",
       "Water scarcity (m3 world-eq)                              Water Consumption Blue - Electricity - once-through - Electricity by solar thermal        3.820000e+07\n",
       "                                                          Water Consumption Blue - Electricity - once-through - Electricity by tide, wave, ocean    3.820000e+07\n",
       "                                                          Water Consumption Blue - Electricity - once-through - Electricity by Geothermal           3.820000e+07\n",
       "                                                          Water Consumption Blue - Electricity - once-through - Electricity nec                     3.820000e+07\n",
       "                                                          Water Consumption Blue - Domestic - domestic Water Consumption Blue                       3.820000e+07\n",
       "Length: 2475, dtype: float64"
      ]
     },
     "execution_count": 37,
     "metadata": {},
     "output_type": "execute_result"
    }
   ],
   "source": [
    "C_exio"
   ]
  }
 ],
 "metadata": {
  "kernelspec": {
   "display_name": "bw25",
   "language": "python",
   "name": "python3"
  },
  "language_info": {
   "codemirror_mode": {
    "name": "ipython",
    "version": 3
   },
   "file_extension": ".py",
   "mimetype": "text/x-python",
   "name": "python",
   "nbconvert_exporter": "python",
   "pygments_lexer": "ipython3",
   "version": "3.11.10"
  }
 },
 "nbformat": 4,
 "nbformat_minor": 2
}
