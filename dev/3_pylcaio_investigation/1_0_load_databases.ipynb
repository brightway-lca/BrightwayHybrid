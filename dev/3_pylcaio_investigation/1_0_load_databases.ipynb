{
 "cells": [
  {
   "attachments": {},
   "cell_type": "markdown",
   "metadata": {},
   "source": [
    "# 0.1. imports"
   ]
  },
  {
   "cell_type": "code",
   "execution_count": 1,
   "metadata": {},
   "outputs": [],
   "source": [
    "# i/o\n",
    "import sys\n",
    "import os\n",
    "from pathlib import Path\n",
    "import gzip\n",
    "import pickle\n",
    "# configuration\n",
    "import yaml\n",
    "# lca\n",
    "import ecospold2matrix as e2m\n",
    "import pymrio\n",
    "#import brightway2 as bw\n",
    "# type hints\n",
    "from ecospold2matrix import ecospold2matrix\n",
    "from pymrio import IOSystem\n",
    "# data science\n",
    "import pandas as pd\n",
    "# deep copy\n",
    "import copy"
   ]
  },
  {
   "attachments": {},
   "cell_type": "markdown",
   "metadata": {},
   "source": [
    "# 0.2. config"
   ]
  },
  {
   "cell_type": "code",
   "execution_count": 2,
   "metadata": {},
   "outputs": [],
   "source": [
    "with open('../config.yaml', 'r') as filestream:\n",
    "    config = yaml.load(filestream, Loader = yaml.FullLoader)"
   ]
  },
  {
   "attachments": {},
   "cell_type": "markdown",
   "metadata": {},
   "source": [
    "# 0.3. load `pylcaio`"
   ]
  },
  {
   "cell_type": "code",
   "execution_count": 3,
   "metadata": {},
   "outputs": [],
   "source": [
    "sys.path.append(str(Path(Path.home(), config['path_dir_repo_pylcaio'])))\n",
    "import pylcaio"
   ]
  },
  {
   "attachments": {},
   "cell_type": "markdown",
   "metadata": {},
   "source": [
    "# 0.4. file paths\n",
    "## 0.4.1. names"
   ]
  },
  {
   "cell_type": "code",
   "execution_count": 4,
   "metadata": {},
   "outputs": [],
   "source": [
    "%%capture\n",
    "print(ecoinvent_version_name := config['ecoinvent_version_name'])"
   ]
  },
  {
   "attachments": {},
   "cell_type": "markdown",
   "metadata": {},
   "source": [
    "## 0.4.2. directories"
   ]
  },
  {
   "cell_type": "code",
   "execution_count": 5,
   "metadata": {},
   "outputs": [],
   "source": [
    "%%capture\n",
    "print(path_dir_data := Path(Path.home(), config['path_dir_data']))\n",
    "print(path_dir_data_raw := Path(path_dir_data, config['path_dir_data_raw']))\n",
    "print(path_dir_data_processed := Path(path_dir_data, config['path_dir_data_processed']))"
   ]
  },
  {
   "attachments": {},
   "cell_type": "markdown",
   "metadata": {},
   "source": [
    "## 0.4.3. files"
   ]
  },
  {
   "cell_type": "code",
   "execution_count": 6,
   "metadata": {},
   "outputs": [],
   "source": [
    "%%capture\n",
    "print(path_dir_exiobase_2011_pxp := Path(path_dir_data_raw, 'IOT_2011_pxp.zip'))\n",
    "print(path_file_e2m_pickle := Path(path_dir_data_processed, (config['ecoinvent_version_name'] + config['e2m_pickle_filename'])))"
   ]
  },
  {
   "cell_type": "code",
   "execution_count": 7,
   "metadata": {},
   "outputs": [],
   "source": [
    "%%capture\n",
    "print(path_pylcaio_database_loader_class_instance := Path(path_dir_data_processed, config['pylcaio_database_loader_class_instance']))\n",
    "print(path_pylcaio_class_instance_before_hybrid := Path(path_dir_data_processed, config['pylcaio_class_instance_before_hybrid']))\n",
    "print(path_pylcaio_class_instance_after_hybrid := Path(path_dir_data_processed, config['pylcaio_class_instance_after_hybrid']))"
   ]
  },
  {
   "attachments": {},
   "cell_type": "markdown",
   "metadata": {},
   "source": [
    "# 1. load databases\n",
    "## 1.1. load `Exiobase`"
   ]
  },
  {
   "cell_type": "code",
   "execution_count": 8,
   "metadata": {},
   "outputs": [],
   "source": [
    "exiobase: pymrio.IOSystem = pymrio.parse_exiobase3(path_dir_exiobase_2011_pxp)"
   ]
  },
  {
   "attachments": {},
   "cell_type": "markdown",
   "metadata": {},
   "source": [
    "## 1.2. load `Ecoinvent`"
   ]
  },
  {
   "cell_type": "code",
   "execution_count": 9,
   "metadata": {},
   "outputs": [],
   "source": [
    "with gzip.open(path_file_e2m_pickle, 'rb') as filestream:\n",
    "    ecoinvent: dict = pd.read_pickle(filestream)"
   ]
  },
  {
   "attachments": {},
   "cell_type": "markdown",
   "metadata": {},
   "source": [
    "# 2. main `pylcaio` functionality"
   ]
  },
  {
   "cell_type": "code",
   "execution_count": 11,
   "metadata": {},
   "outputs": [],
   "source": [
    "database_loader: pylcaio.DatabaseLoader  = pylcaio.DatabaseLoader(\n",
    "    lca_database_processed = ecoinvent,\n",
    "    io_database_processed = exiobase,\n",
    "    lca_database_name_and_version = 'ecoinvent3.5',\n",
    "    io_database_name_and_version = 'exiobase3'\n",
    ")"
   ]
  },
  {
   "cell_type": "code",
   "execution_count": 12,
   "metadata": {},
   "outputs": [],
   "source": [
    "with open(path_pylcaio_database_loader_class_instance, 'wb') as file_handle:\n",
    "    pickle.dump(obj = database_loader, file = file_handle, protocol=pickle.HIGHEST_PROTOCOL)"
   ]
  },
  {
   "cell_type": "code",
   "execution_count": 13,
   "metadata": {},
   "outputs": [
    {
     "name": "stdout",
     "output_type": "stream",
     "text": [
      "No path for the capital folder was provided. Capitals will not be endogenized\n"
     ]
    }
   ],
   "source": [
    "lcaio_object: pylcaio.LCAIO = database_loader.combine_ecoinvent_exiobase(\n",
    "    complete_extensions = False,\n",
    "    impact_world = False,\n",
    "    regionalized = False)"
   ]
  },
  {
   "cell_type": "code",
   "execution_count": 14,
   "metadata": {},
   "outputs": [],
   "source": [
    "with open(path_pylcaio_class_instance_before_hybrid, 'wb') as file_handle:\n",
    "    pickle.dump(obj = lcaio_object, file = file_handle, protocol=pickle.HIGHEST_PROTOCOL)"
   ]
  },
  {
   "cell_type": "code",
   "execution_count": 15,
   "metadata": {},
   "outputs": [
    {
     "name": "stdout",
     "output_type": "stream",
     "text": [
      "Indentifying Rest of World regions...\n",
      "Updating electricity prices...\n",
      "Calculating productions volumes...\n",
      "Adjusting low production volume processes...\n",
      "Extending inventory...\n",
      "Building H matrix...\n"
     ]
    },
    {
     "name": "stderr",
     "output_type": "stream",
     "text": [
      "/Users/michaelweinold/github/pylcaio/src/pylcaio.py:874: FutureWarning: The frame.append method is deprecated and will be removed from pandas in a future version. Use pandas.concat instead.\n",
      "  self.H = self.H.append([self.H] * (self.number_of_countries_IO + self.number_of_RoW_IO - 1))\n"
     ]
    },
    {
     "name": "stdout",
     "output_type": "stream",
     "text": [
      "Building geography concordance...\n",
      "Filter H matrix...\n",
      "Build Cut-off matrix...\n",
      "Add processes with 'priceless scaling' to Cut-off matrix...\n"
     ]
    }
   ],
   "source": [
    "lcaio_object.hybridize(\n",
    "    price_neutral_cut_off_matrix = 'STAM',\n",
    "    capitals = False,\n",
    "    priceless_scaling = True)"
   ]
  },
  {
   "cell_type": "code",
   "execution_count": null,
   "metadata": {},
   "outputs": [],
   "source": [
    "with open(path_pylcaio_class_instance_after_hybrid, 'wb') as file_handle:\n",
    "    pickle.dump(obj = lcaio_object, file = file_handle, protocol=pickle.HIGHEST_PROTOCOL)"
   ]
  }
 ],
 "metadata": {
  "kernelspec": {
   "display_name": "Python 3.10.6 ('pylcaio')",
   "language": "python",
   "name": "python3"
  },
  "language_info": {
   "codemirror_mode": {
    "name": "ipython",
    "version": 3
   },
   "file_extension": ".py",
   "mimetype": "text/x-python",
   "name": "python",
   "nbconvert_exporter": "python",
   "pygments_lexer": "ipython3",
   "version": "3.11.0 | packaged by conda-forge | (main, Oct 25 2022, 06:21:25) [Clang 14.0.4 ]"
  },
  "orig_nbformat": 4,
  "vscode": {
   "interpreter": {
    "hash": "af11b17298303d3420ac04a2d81997bb73d15b4df2e0afffe06f0aa93756cff5"
   }
  }
 },
 "nbformat": 4,
 "nbformat_minor": 2
}
