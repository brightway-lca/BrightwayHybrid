{
 "cells": [
  {
   "cell_type": "code",
   "execution_count": 1,
   "metadata": {},
   "outputs": [],
   "source": [
    "import bw2data as bd\n",
    "import bw2calc as bc\n",
    "import bw2io as bi"
   ]
  },
  {
   "cell_type": "code",
   "execution_count": 2,
   "metadata": {},
   "outputs": [
    {
     "data": {
      "text/plain": [
       "Brightway2 projects manager with 3 objects:\n",
       "\tUSEEIO-1.1\n",
       "\tdefault\n",
       "\tei_3_10\n",
       "Use `projects.report()` to get a report on all projects."
      ]
     },
     "execution_count": 2,
     "metadata": {},
     "output_type": "execute_result"
    }
   ],
   "source": [
    "bd.projects"
   ]
  },
  {
   "cell_type": "code",
   "execution_count": 3,
   "metadata": {},
   "outputs": [],
   "source": [
    "bd.projects.set_current(\"ei_3_10\")"
   ]
  },
  {
   "cell_type": "code",
   "execution_count": 4,
   "metadata": {},
   "outputs": [],
   "source": [
    "if 'ecoinvent-3.10-apos' not in bd.databases:\n",
    "    bi.import_ecoinvent_release(\n",
    "        version='3.10',\n",
    "        system_model='apos',\n",
    "        username='username',\n",
    "        password='password'\n",
    "    )"
   ]
  },
  {
   "cell_type": "code",
   "execution_count": 5,
   "metadata": {},
   "outputs": [],
   "source": [
    "ei = bd.Database(\"ecoinvent-3.10-apos\")\n",
    "bio = bd.Database(\"ecoinvent-3.10-biosphere\")"
   ]
  },
  {
   "cell_type": "code",
   "execution_count": 6,
   "metadata": {},
   "outputs": [
    {
     "data": {
      "text/plain": [
       "Brightway2 Method: IPCC 2021: climate change: global warming potential (GWP100)"
      ]
     },
     "execution_count": 6,
     "metadata": {},
     "output_type": "execute_result"
    }
   ],
   "source": [
    "bd.Method(('IPCC 2021', 'climate change', 'global warming potential (GWP100)'))"
   ]
  },
  {
   "cell_type": "code",
   "execution_count": 7,
   "metadata": {},
   "outputs": [
    {
     "name": "stderr",
     "output_type": "stream",
     "text": [
      "/opt/homebrew/Caskroom/miniconda/base/envs/bw25/lib/python3.11/site-packages/scikits/umfpack/umfpack.py:736: UmfpackWarning: (almost) singular matrix! (estimated cond. number: 5.95e+12)\n",
      "  warnings.warn(msg, UmfpackWarning)\n"
     ]
    }
   ],
   "source": [
    "my_functional_unit, data_objs, _ = bd.prepare_lca_inputs(\n",
    "    {ei.random(): 1},\n",
    "    method=('ecoinvent-3.10', 'IPCC 2021', 'climate change: fossil', 'global warming potential (GWP100)'))\n",
    "my_lca = bc.LCA(demand=my_functional_unit, data_objs=data_objs)\n",
    "my_lca.lci()\n",
    "my_lca.lcia()"
   ]
  },
  {
   "cell_type": "code",
   "execution_count": 9,
   "metadata": {},
   "outputs": [
    {
     "data": {
      "text/plain": [
       "{'overwrite': False,\n",
       " 'format': 'Ecoinvent XML',\n",
       " 'depends': ['ecoinvent-3.10-biosphere'],\n",
       " 'backend': 'sqlite',\n",
       " 'number': 24033,\n",
       " 'modified': '2025-03-03T13:28:18.864088',\n",
       " 'geocollections': ['world'],\n",
       " 'processed': '2025-03-03T13:29:24.884994',\n",
       " 'dirty': False,\n",
       " 'searchable': True}"
      ]
     },
     "execution_count": 9,
     "metadata": {},
     "output_type": "execute_result"
    }
   ],
   "source": [
    "ei.metadata"
   ]
  },
  {
   "cell_type": "code",
   "execution_count": 28,
   "metadata": {},
   "outputs": [],
   "source": [
    "A_P = my_lca.technosphere_matrix.todense()"
   ]
  },
  {
   "cell_type": "code",
   "execution_count": 34,
   "metadata": {},
   "outputs": [
    {
     "data": {
      "text/plain": [
       "(24033, 24033)"
      ]
     },
     "execution_count": 34,
     "metadata": {},
     "output_type": "execute_result"
    }
   ],
   "source": [
    "A_P.shape"
   ]
  },
  {
   "cell_type": "code",
   "execution_count": 36,
   "metadata": {},
   "outputs": [
    {
     "name": "stdout",
     "output_type": "stream",
     "text": [
      "[ 1. -1.  1. ...  1.  1.  1.]\n"
     ]
    }
   ],
   "source": [
    "import numpy as np\n",
    "\n",
    "diagonal_elements = np.diag(A_P)\n",
    "print(diagonal_elements)"
   ]
  },
  {
   "cell_type": "code",
   "execution_count": null,
   "metadata": {},
   "outputs": [
    {
     "data": {
      "text/plain": [
       "['technosphere_mm',\n",
       " 'biosphere_mm',\n",
       " 'characterization_mm',\n",
       " 'normalization_mm',\n",
       " 'weighting_mm']"
      ]
     },
     "execution_count": 37,
     "metadata": {},
     "output_type": "execute_result"
    }
   ],
   "source": [
    "my_lca.matrix_labels"
   ]
  },
  {
   "cell_type": "code",
   "execution_count": 38,
   "metadata": {},
   "outputs": [
    {
     "data": {
      "text/plain": [
       "<matrix_utils.mapped_matrix.MappedMatrix at 0x303d24310>"
      ]
     },
     "execution_count": 38,
     "metadata": {},
     "output_type": "execute_result"
    }
   ],
   "source": [
    "my_lca.technosphere_mm"
   ]
  },
  {
   "cell_type": "code",
   "execution_count": 50,
   "metadata": {},
   "outputs": [
    {
     "data": {
      "text/plain": [
       "['product', 'activity', 'biosphere']"
      ]
     },
     "execution_count": 50,
     "metadata": {},
     "output_type": "execute_result"
    }
   ],
   "source": [
    "[dct for dct in my_lca.dicts]"
   ]
  },
  {
   "cell_type": "code",
   "execution_count": 51,
   "metadata": {},
   "outputs": [
    {
     "data": {
      "text/plain": [
       "array([0., 0., 0., ..., 0., 0., 0.])"
      ]
     },
     "execution_count": 51,
     "metadata": {},
     "output_type": "execute_result"
    }
   ],
   "source": [
    "my_lca.demand_array"
   ]
  },
  {
   "cell_type": "code",
   "execution_count": 46,
   "metadata": {},
   "outputs": [
    {
     "data": {
      "text/html": [
       "<div>\n",
       "<style scoped>\n",
       "    .dataframe tbody tr th:only-of-type {\n",
       "        vertical-align: middle;\n",
       "    }\n",
       "\n",
       "    .dataframe tbody tr th {\n",
       "        vertical-align: top;\n",
       "    }\n",
       "\n",
       "    .dataframe thead th {\n",
       "        text-align: right;\n",
       "    }\n",
       "</style>\n",
       "<table border=\"1\" class=\"dataframe\">\n",
       "  <thead>\n",
       "    <tr style=\"text-align: right;\">\n",
       "      <th></th>\n",
       "      <th>row_index</th>\n",
       "      <th>col_index</th>\n",
       "      <th>amount</th>\n",
       "      <th>row_id</th>\n",
       "      <th>col_id</th>\n",
       "      <th>row_database</th>\n",
       "      <th>row_code</th>\n",
       "      <th>row_name</th>\n",
       "      <th>row_location</th>\n",
       "      <th>row_unit</th>\n",
       "      <th>row_type</th>\n",
       "      <th>row_categories</th>\n",
       "      <th>row_product</th>\n",
       "      <th>col_database</th>\n",
       "      <th>col_code</th>\n",
       "      <th>col_name</th>\n",
       "      <th>col_location</th>\n",
       "      <th>col_unit</th>\n",
       "      <th>col_type</th>\n",
       "      <th>col_reference_product</th>\n",
       "    </tr>\n",
       "  </thead>\n",
       "  <tbody>\n",
       "    <tr>\n",
       "      <th>0</th>\n",
       "      <td>894</td>\n",
       "      <td>3795</td>\n",
       "      <td>0.193041</td>\n",
       "      <td>1390</td>\n",
       "      <td>8158</td>\n",
       "      <td>ecoinvent-3.10-biosphere</td>\n",
       "      <td>70ef743b-3ed5-4a6d-b192-fb6d62378555</td>\n",
       "      <td>Methane, fossil</td>\n",
       "      <td>None</td>\n",
       "      <td>kilogram</td>\n",
       "      <td>emission</td>\n",
       "      <td>air::non-urban air or from high stacks</td>\n",
       "      <td>None</td>\n",
       "      <td>ecoinvent-3.10-apos</td>\n",
       "      <td>7b5a5559edda911873790bbcb60e6e6d</td>\n",
       "      <td>natural gas venting from petroleum/natural gas...</td>\n",
       "      <td>GLO</td>\n",
       "      <td>cubic meter</td>\n",
       "      <td>processwithreferenceproduct</td>\n",
       "      <td>natural gas, vented</td>\n",
       "    </tr>\n",
       "    <tr>\n",
       "      <th>1</th>\n",
       "      <td>716</td>\n",
       "      <td>11171</td>\n",
       "      <td>0.093577</td>\n",
       "      <td>1031</td>\n",
       "      <td>15534</td>\n",
       "      <td>ecoinvent-3.10-biosphere</td>\n",
       "      <td>aa7cac3a-3625-41d4-bc54-33e2cf11ec46</td>\n",
       "      <td>Carbon dioxide, fossil</td>\n",
       "      <td>None</td>\n",
       "      <td>kilogram</td>\n",
       "      <td>emission</td>\n",
       "      <td>air::non-urban air or from high stacks</td>\n",
       "      <td>None</td>\n",
       "      <td>ecoinvent-3.10-apos</td>\n",
       "      <td>d9d2c422fa1f93b8eba0eedd2c1eed4b</td>\n",
       "      <td>treatment of waste natural gas, sweet, burned ...</td>\n",
       "      <td>GLO</td>\n",
       "      <td>megajoule</td>\n",
       "      <td>processwithreferenceproduct</td>\n",
       "      <td>waste natural gas, sweet</td>\n",
       "    </tr>\n",
       "    <tr>\n",
       "      <th>2</th>\n",
       "      <td>716</td>\n",
       "      <td>4864</td>\n",
       "      <td>0.018326</td>\n",
       "      <td>1031</td>\n",
       "      <td>9227</td>\n",
       "      <td>ecoinvent-3.10-biosphere</td>\n",
       "      <td>aa7cac3a-3625-41d4-bc54-33e2cf11ec46</td>\n",
       "      <td>Carbon dioxide, fossil</td>\n",
       "      <td>None</td>\n",
       "      <td>kilogram</td>\n",
       "      <td>emission</td>\n",
       "      <td>air::non-urban air or from high stacks</td>\n",
       "      <td>None</td>\n",
       "      <td>ecoinvent-3.10-apos</td>\n",
       "      <td>21bc6d3090f800221bf8fec10c5cb926</td>\n",
       "      <td>sweet gas, burned in gas turbine</td>\n",
       "      <td>GLO</td>\n",
       "      <td>megajoule</td>\n",
       "      <td>processwithreferenceproduct</td>\n",
       "      <td>sweet gas, burned in gas turbine</td>\n",
       "    </tr>\n",
       "    <tr>\n",
       "      <th>3</th>\n",
       "      <td>716</td>\n",
       "      <td>153</td>\n",
       "      <td>0.015115</td>\n",
       "      <td>1031</td>\n",
       "      <td>4516</td>\n",
       "      <td>ecoinvent-3.10-biosphere</td>\n",
       "      <td>aa7cac3a-3625-41d4-bc54-33e2cf11ec46</td>\n",
       "      <td>Carbon dioxide, fossil</td>\n",
       "      <td>None</td>\n",
       "      <td>kilogram</td>\n",
       "      <td>emission</td>\n",
       "      <td>air::non-urban air or from high stacks</td>\n",
       "      <td>None</td>\n",
       "      <td>ecoinvent-3.10-apos</td>\n",
       "      <td>b59e11d6b0705d752468fbe345a3c890</td>\n",
       "      <td>electricity production, natural gas, conventio...</td>\n",
       "      <td>IR</td>\n",
       "      <td>kilowatt hour</td>\n",
       "      <td>processwithreferenceproduct</td>\n",
       "      <td>electricity, high voltage</td>\n",
       "    </tr>\n",
       "    <tr>\n",
       "      <th>4</th>\n",
       "      <td>716</td>\n",
       "      <td>21164</td>\n",
       "      <td>0.005255</td>\n",
       "      <td>1031</td>\n",
       "      <td>25527</td>\n",
       "      <td>ecoinvent-3.10-biosphere</td>\n",
       "      <td>aa7cac3a-3625-41d4-bc54-33e2cf11ec46</td>\n",
       "      <td>Carbon dioxide, fossil</td>\n",
       "      <td>None</td>\n",
       "      <td>kilogram</td>\n",
       "      <td>emission</td>\n",
       "      <td>air::non-urban air or from high stacks</td>\n",
       "      <td>None</td>\n",
       "      <td>ecoinvent-3.10-apos</td>\n",
       "      <td>af773879ef758a1bb18281db03837750</td>\n",
       "      <td>electricity production, natural gas, combined ...</td>\n",
       "      <td>IR</td>\n",
       "      <td>kilowatt hour</td>\n",
       "      <td>processwithreferenceproduct</td>\n",
       "      <td>electricity, high voltage</td>\n",
       "    </tr>\n",
       "    <tr>\n",
       "      <th>...</th>\n",
       "      <td>...</td>\n",
       "      <td>...</td>\n",
       "      <td>...</td>\n",
       "      <td>...</td>\n",
       "      <td>...</td>\n",
       "      <td>...</td>\n",
       "      <td>...</td>\n",
       "      <td>...</td>\n",
       "      <td>...</td>\n",
       "      <td>...</td>\n",
       "      <td>...</td>\n",
       "      <td>...</td>\n",
       "      <td>...</td>\n",
       "      <td>...</td>\n",
       "      <td>...</td>\n",
       "      <td>...</td>\n",
       "      <td>...</td>\n",
       "      <td>...</td>\n",
       "      <td>...</td>\n",
       "      <td>...</td>\n",
       "    </tr>\n",
       "    <tr>\n",
       "      <th>195</th>\n",
       "      <td>80</td>\n",
       "      <td>9221</td>\n",
       "      <td>0.000014</td>\n",
       "      <td>107</td>\n",
       "      <td>13584</td>\n",
       "      <td>ecoinvent-3.10-biosphere</td>\n",
       "      <td>f9749677-9c9f-4678-ab55-c607dfdc2cb9</td>\n",
       "      <td>Carbon dioxide, fossil</td>\n",
       "      <td>None</td>\n",
       "      <td>kilogram</td>\n",
       "      <td>emission</td>\n",
       "      <td>air::urban air close to ground</td>\n",
       "      <td>None</td>\n",
       "      <td>ecoinvent-3.10-apos</td>\n",
       "      <td>e1fe506535af6a474217dfeb82104ea6</td>\n",
       "      <td>heat and power co-generation, natural gas, 500...</td>\n",
       "      <td>CH</td>\n",
       "      <td>megajoule</td>\n",
       "      <td>processwithreferenceproduct</td>\n",
       "      <td>heat, district or industrial, natural gas</td>\n",
       "    </tr>\n",
       "    <tr>\n",
       "      <th>196</th>\n",
       "      <td>716</td>\n",
       "      <td>3684</td>\n",
       "      <td>0.000014</td>\n",
       "      <td>1031</td>\n",
       "      <td>8047</td>\n",
       "      <td>ecoinvent-3.10-biosphere</td>\n",
       "      <td>aa7cac3a-3625-41d4-bc54-33e2cf11ec46</td>\n",
       "      <td>Carbon dioxide, fossil</td>\n",
       "      <td>None</td>\n",
       "      <td>kilogram</td>\n",
       "      <td>emission</td>\n",
       "      <td>air::non-urban air or from high stacks</td>\n",
       "      <td>None</td>\n",
       "      <td>ecoinvent-3.10-apos</td>\n",
       "      <td>43643666f6e70fb6b0045670ec8a10b1</td>\n",
       "      <td>heat and power co-generation, natural gas, con...</td>\n",
       "      <td>RoW</td>\n",
       "      <td>kilowatt hour</td>\n",
       "      <td>processwithreferenceproduct</td>\n",
       "      <td>electricity, high voltage</td>\n",
       "    </tr>\n",
       "    <tr>\n",
       "      <th>197</th>\n",
       "      <td>716</td>\n",
       "      <td>328</td>\n",
       "      <td>0.000014</td>\n",
       "      <td>1031</td>\n",
       "      <td>4691</td>\n",
       "      <td>ecoinvent-3.10-biosphere</td>\n",
       "      <td>aa7cac3a-3625-41d4-bc54-33e2cf11ec46</td>\n",
       "      <td>Carbon dioxide, fossil</td>\n",
       "      <td>None</td>\n",
       "      <td>kilogram</td>\n",
       "      <td>emission</td>\n",
       "      <td>air::non-urban air or from high stacks</td>\n",
       "      <td>None</td>\n",
       "      <td>ecoinvent-3.10-apos</td>\n",
       "      <td>18e83b444edc926f08399647d7c01df2</td>\n",
       "      <td>electricity production, natural gas, combined ...</td>\n",
       "      <td>JP</td>\n",
       "      <td>kilowatt hour</td>\n",
       "      <td>processwithreferenceproduct</td>\n",
       "      <td>electricity, high voltage</td>\n",
       "    </tr>\n",
       "    <tr>\n",
       "      <th>198</th>\n",
       "      <td>718</td>\n",
       "      <td>20376</td>\n",
       "      <td>0.000014</td>\n",
       "      <td>1034</td>\n",
       "      <td>24739</td>\n",
       "      <td>ecoinvent-3.10-biosphere</td>\n",
       "      <td>349b29d1-3e58-4c66-98b9-9d1a076efd2e</td>\n",
       "      <td>Carbon dioxide, fossil</td>\n",
       "      <td>None</td>\n",
       "      <td>kilogram</td>\n",
       "      <td>emission</td>\n",
       "      <td>air</td>\n",
       "      <td>None</td>\n",
       "      <td>ecoinvent-3.10-apos</td>\n",
       "      <td>2c0b0375b7d2a843d2d0c8e457f6d34f</td>\n",
       "      <td>clinker production</td>\n",
       "      <td>BR</td>\n",
       "      <td>kilogram</td>\n",
       "      <td>processwithreferenceproduct</td>\n",
       "      <td>clinker</td>\n",
       "    </tr>\n",
       "    <tr>\n",
       "      <th>199</th>\n",
       "      <td>716</td>\n",
       "      <td>766</td>\n",
       "      <td>0.000014</td>\n",
       "      <td>1031</td>\n",
       "      <td>5129</td>\n",
       "      <td>ecoinvent-3.10-biosphere</td>\n",
       "      <td>aa7cac3a-3625-41d4-bc54-33e2cf11ec46</td>\n",
       "      <td>Carbon dioxide, fossil</td>\n",
       "      <td>None</td>\n",
       "      <td>kilogram</td>\n",
       "      <td>emission</td>\n",
       "      <td>air::non-urban air or from high stacks</td>\n",
       "      <td>None</td>\n",
       "      <td>ecoinvent-3.10-apos</td>\n",
       "      <td>68e7f51034314248ac95e6977ec26c7c</td>\n",
       "      <td>heat and power co-generation, hard coal</td>\n",
       "      <td>RU</td>\n",
       "      <td>kilowatt hour</td>\n",
       "      <td>processwithreferenceproduct</td>\n",
       "      <td>electricity, high voltage</td>\n",
       "    </tr>\n",
       "  </tbody>\n",
       "</table>\n",
       "<p>200 rows × 20 columns</p>\n",
       "</div>"
      ],
      "text/plain": [
       "     row_index  col_index    amount  row_id  col_id              row_database  \\\n",
       "0          894       3795  0.193041    1390    8158  ecoinvent-3.10-biosphere   \n",
       "1          716      11171  0.093577    1031   15534  ecoinvent-3.10-biosphere   \n",
       "2          716       4864  0.018326    1031    9227  ecoinvent-3.10-biosphere   \n",
       "3          716        153  0.015115    1031    4516  ecoinvent-3.10-biosphere   \n",
       "4          716      21164  0.005255    1031   25527  ecoinvent-3.10-biosphere   \n",
       "..         ...        ...       ...     ...     ...                       ...   \n",
       "195         80       9221  0.000014     107   13584  ecoinvent-3.10-biosphere   \n",
       "196        716       3684  0.000014    1031    8047  ecoinvent-3.10-biosphere   \n",
       "197        716        328  0.000014    1031    4691  ecoinvent-3.10-biosphere   \n",
       "198        718      20376  0.000014    1034   24739  ecoinvent-3.10-biosphere   \n",
       "199        716        766  0.000014    1031    5129  ecoinvent-3.10-biosphere   \n",
       "\n",
       "                                 row_code                row_name  \\\n",
       "0    70ef743b-3ed5-4a6d-b192-fb6d62378555         Methane, fossil   \n",
       "1    aa7cac3a-3625-41d4-bc54-33e2cf11ec46  Carbon dioxide, fossil   \n",
       "2    aa7cac3a-3625-41d4-bc54-33e2cf11ec46  Carbon dioxide, fossil   \n",
       "3    aa7cac3a-3625-41d4-bc54-33e2cf11ec46  Carbon dioxide, fossil   \n",
       "4    aa7cac3a-3625-41d4-bc54-33e2cf11ec46  Carbon dioxide, fossil   \n",
       "..                                    ...                     ...   \n",
       "195  f9749677-9c9f-4678-ab55-c607dfdc2cb9  Carbon dioxide, fossil   \n",
       "196  aa7cac3a-3625-41d4-bc54-33e2cf11ec46  Carbon dioxide, fossil   \n",
       "197  aa7cac3a-3625-41d4-bc54-33e2cf11ec46  Carbon dioxide, fossil   \n",
       "198  349b29d1-3e58-4c66-98b9-9d1a076efd2e  Carbon dioxide, fossil   \n",
       "199  aa7cac3a-3625-41d4-bc54-33e2cf11ec46  Carbon dioxide, fossil   \n",
       "\n",
       "    row_location  row_unit  row_type                          row_categories  \\\n",
       "0           None  kilogram  emission  air::non-urban air or from high stacks   \n",
       "1           None  kilogram  emission  air::non-urban air or from high stacks   \n",
       "2           None  kilogram  emission  air::non-urban air or from high stacks   \n",
       "3           None  kilogram  emission  air::non-urban air or from high stacks   \n",
       "4           None  kilogram  emission  air::non-urban air or from high stacks   \n",
       "..           ...       ...       ...                                     ...   \n",
       "195         None  kilogram  emission          air::urban air close to ground   \n",
       "196         None  kilogram  emission  air::non-urban air or from high stacks   \n",
       "197         None  kilogram  emission  air::non-urban air or from high stacks   \n",
       "198         None  kilogram  emission                                     air   \n",
       "199         None  kilogram  emission  air::non-urban air or from high stacks   \n",
       "\n",
       "    row_product         col_database                          col_code  \\\n",
       "0          None  ecoinvent-3.10-apos  7b5a5559edda911873790bbcb60e6e6d   \n",
       "1          None  ecoinvent-3.10-apos  d9d2c422fa1f93b8eba0eedd2c1eed4b   \n",
       "2          None  ecoinvent-3.10-apos  21bc6d3090f800221bf8fec10c5cb926   \n",
       "3          None  ecoinvent-3.10-apos  b59e11d6b0705d752468fbe345a3c890   \n",
       "4          None  ecoinvent-3.10-apos  af773879ef758a1bb18281db03837750   \n",
       "..          ...                  ...                               ...   \n",
       "195        None  ecoinvent-3.10-apos  e1fe506535af6a474217dfeb82104ea6   \n",
       "196        None  ecoinvent-3.10-apos  43643666f6e70fb6b0045670ec8a10b1   \n",
       "197        None  ecoinvent-3.10-apos  18e83b444edc926f08399647d7c01df2   \n",
       "198        None  ecoinvent-3.10-apos  2c0b0375b7d2a843d2d0c8e457f6d34f   \n",
       "199        None  ecoinvent-3.10-apos  68e7f51034314248ac95e6977ec26c7c   \n",
       "\n",
       "                                              col_name col_location  \\\n",
       "0    natural gas venting from petroleum/natural gas...          GLO   \n",
       "1    treatment of waste natural gas, sweet, burned ...          GLO   \n",
       "2                     sweet gas, burned in gas turbine          GLO   \n",
       "3    electricity production, natural gas, conventio...           IR   \n",
       "4    electricity production, natural gas, combined ...           IR   \n",
       "..                                                 ...          ...   \n",
       "195  heat and power co-generation, natural gas, 500...           CH   \n",
       "196  heat and power co-generation, natural gas, con...          RoW   \n",
       "197  electricity production, natural gas, combined ...           JP   \n",
       "198                                 clinker production           BR   \n",
       "199            heat and power co-generation, hard coal           RU   \n",
       "\n",
       "          col_unit                     col_type  \\\n",
       "0      cubic meter  processwithreferenceproduct   \n",
       "1        megajoule  processwithreferenceproduct   \n",
       "2        megajoule  processwithreferenceproduct   \n",
       "3    kilowatt hour  processwithreferenceproduct   \n",
       "4    kilowatt hour  processwithreferenceproduct   \n",
       "..             ...                          ...   \n",
       "195      megajoule  processwithreferenceproduct   \n",
       "196  kilowatt hour  processwithreferenceproduct   \n",
       "197  kilowatt hour  processwithreferenceproduct   \n",
       "198       kilogram  processwithreferenceproduct   \n",
       "199  kilowatt hour  processwithreferenceproduct   \n",
       "\n",
       "                         col_reference_product  \n",
       "0                          natural gas, vented  \n",
       "1                     waste natural gas, sweet  \n",
       "2             sweet gas, burned in gas turbine  \n",
       "3                    electricity, high voltage  \n",
       "4                    electricity, high voltage  \n",
       "..                                         ...  \n",
       "195  heat, district or industrial, natural gas  \n",
       "196                  electricity, high voltage  \n",
       "197                  electricity, high voltage  \n",
       "198                                    clinker  \n",
       "199                  electricity, high voltage  \n",
       "\n",
       "[200 rows x 20 columns]"
      ]
     },
     "execution_count": 46,
     "metadata": {},
     "output_type": "execute_result"
    }
   ],
   "source": [
    "my_lca.to_dataframe()"
   ]
  },
  {
   "cell_type": "code",
   "execution_count": 54,
   "metadata": {},
   "outputs": [
    {
     "data": {
      "text/plain": [
       "24033"
      ]
     },
     "execution_count": 54,
     "metadata": {},
     "output_type": "execute_result"
    }
   ],
   "source": [
    "len([prod for prod in my_lca.product_dict])"
   ]
  },
  {
   "cell_type": "code",
   "execution_count": 56,
   "metadata": {},
   "outputs": [
    {
     "data": {
      "text/plain": [
       "bw2data.backends.proxies.Activity"
      ]
     },
     "execution_count": 56,
     "metadata": {},
     "output_type": "execute_result"
    }
   ],
   "source": [
    "type(ei.random())"
   ]
  },
  {
   "cell_type": "code",
   "execution_count": 61,
   "metadata": {},
   "outputs": [
    {
     "data": {
      "text/plain": [
       "'33b4b840340fe3ca1d57a2b04bb30763'"
      ]
     },
     "execution_count": 61,
     "metadata": {},
     "output_type": "execute_result"
    }
   ],
   "source": [
    "ei.random().get('code')"
   ]
  },
  {
   "cell_type": "code",
   "execution_count": 65,
   "metadata": {},
   "outputs": [
    {
     "data": {
      "text/plain": [
       "26543"
      ]
     },
     "execution_count": 65,
     "metadata": {},
     "output_type": "execute_result"
    }
   ],
   "source": [
    "ei.random().get('id')"
   ]
  },
  {
   "cell_type": "code",
   "execution_count": 64,
   "metadata": {},
   "outputs": [
    {
     "name": "stdout",
     "output_type": "stream",
     "text": [
      "comment\n",
      "classifications\n",
      "activity type\n",
      "activity\n",
      "database\n",
      "filename\n",
      "location\n",
      "name\n",
      "synonyms\n",
      "parameters\n",
      "authors\n",
      "type\n",
      "reference product\n",
      "flow\n",
      "unit\n",
      "production amount\n",
      "code\n",
      "id\n"
     ]
    }
   ],
   "source": [
    "for key in ei.random():\n",
    "    print(key)"
   ]
  },
  {
   "cell_type": "code",
   "execution_count": 66,
   "metadata": {},
   "outputs": [
    {
     "data": {
      "text/plain": [
       "'market for tin dioxide' (kilogram, GLO, None)"
      ]
     },
     "execution_count": 66,
     "metadata": {},
     "output_type": "execute_result"
    }
   ],
   "source": [
    "bd.get_node(id=26543)"
   ]
  },
  {
   "cell_type": "code",
   "execution_count": 72,
   "metadata": {},
   "outputs": [
    {
     "data": {
      "text/plain": [
       "4718"
      ]
     },
     "execution_count": 72,
     "metadata": {},
     "output_type": "execute_result"
    }
   ],
   "source": [
    "[prod for prod in my_lca.product_dict][355]"
   ]
  },
  {
   "cell_type": "code",
   "execution_count": 68,
   "metadata": {},
   "outputs": [
    {
     "data": {
      "text/plain": [
       "'lithium iron phosphate production, hydrothermal process' (kilogram, RoW, None)"
      ]
     },
     "execution_count": 68,
     "metadata": {},
     "output_type": "execute_result"
    }
   ],
   "source": [
    "bd.get_node(id=4363)"
   ]
  },
  {
   "cell_type": "code",
   "execution_count": 73,
   "metadata": {},
   "outputs": [
    {
     "data": {
      "text/plain": [
       "'market for lemon' (kilogram, GLO, None)"
      ]
     },
     "execution_count": 73,
     "metadata": {},
     "output_type": "execute_result"
    }
   ],
   "source": [
    "bd.get_node(id=4718)"
   ]
  },
  {
   "cell_type": "code",
   "execution_count": null,
   "metadata": {},
   "outputs": [],
   "source": []
  }
 ],
 "metadata": {
  "kernelspec": {
   "display_name": "bw25",
   "language": "python",
   "name": "python3"
  },
  "language_info": {
   "codemirror_mode": {
    "name": "ipython",
    "version": 3
   },
   "file_extension": ".py",
   "mimetype": "text/x-python",
   "name": "python",
   "nbconvert_exporter": "python",
   "pygments_lexer": "ipython3",
   "version": "3.11.10"
  }
 },
 "nbformat": 4,
 "nbformat_minor": 2
}
