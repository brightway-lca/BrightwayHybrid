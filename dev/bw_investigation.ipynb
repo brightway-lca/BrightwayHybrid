{
 "cells": [
  {
   "cell_type": "code",
   "execution_count": 1,
   "metadata": {},
   "outputs": [],
   "source": [
    "import bw2data as bd\n",
    "import bw2calc as bc\n",
    "import bw2io as bi"
   ]
  },
  {
   "cell_type": "code",
   "execution_count": 7,
   "metadata": {},
   "outputs": [
    {
     "data": {
      "text/plain": [
       "Brightway2 projects manager with 3 objects:\n",
       "\t3.10\n",
       "\tUSEEIO-1.1\n",
       "\tdefault\n",
       "Use `projects.report()` to get a report on all projects."
      ]
     },
     "execution_count": 7,
     "metadata": {},
     "output_type": "execute_result"
    }
   ],
   "source": [
    "bd.projects"
   ]
  },
  {
   "cell_type": "code",
   "execution_count": 9,
   "metadata": {},
   "outputs": [],
   "source": [
    "def safe_delete_brightway_project(name: str) -> None:\n",
    "    try:\n",
    "        bd.projects.delete_project(\n",
    "            name = name,\n",
    "            delete_dir = True\n",
    "        )\n",
    "    except:\n",
    "        pass"
   ]
  },
  {
   "cell_type": "code",
   "execution_count": 10,
   "metadata": {},
   "outputs": [],
   "source": [
    "bd.projects.set_current(\"ei_3_10\")"
   ]
  },
  {
   "cell_type": "code",
   "execution_count": 11,
   "metadata": {},
   "outputs": [
    {
     "data": {
      "text/plain": [
       "Databases dictionary with 0 objects"
      ]
     },
     "execution_count": 11,
     "metadata": {},
     "output_type": "execute_result"
    }
   ],
   "source": [
    "bd.databases"
   ]
  },
  {
   "cell_type": "code",
   "execution_count": 12,
   "metadata": {},
   "outputs": [
    {
     "name": "stdout",
     "output_type": "stream",
     "text": [
      "Applying strategy: normalize_units\n",
      "Applying strategy: drop_unspecified_subcategories\n",
      "Applying strategy: ensure_categories_are_tuples\n",
      "Applied 3 strategies in 0.00 seconds\n",
      "4362 datasets\n",
      "\t0 exchanges\n",
      "\tLinks to the following databases:\n",
      "\n",
      "\t0 unlinked exchanges (0 types)\n",
      "\t\t\n"
     ]
    },
    {
     "name": "stderr",
     "output_type": "stream",
     "text": [
      "100%|██████████| 4362/4362 [00:00<00:00, 43008.39it/s]"
     ]
    },
    {
     "name": "stdout",
     "output_type": "stream",
     "text": [
      "\u001b[2m12:31:07\u001b[0m [\u001b[32m\u001b[1minfo     \u001b[0m] \u001b[1mVacuuming database            \u001b[0m\n"
     ]
    },
    {
     "name": "stderr",
     "output_type": "stream",
     "text": [
      "\n"
     ]
    },
    {
     "name": "stdout",
     "output_type": "stream",
     "text": [
      "Created database: ecoinvent-3.10-biosphere\n",
      "Extracting XML data from 24033 datasets\n",
      "Extracted 24033 datasets in 28.91 seconds\n",
      "Applying strategy: normalize_units\n",
      "Applying strategy: update_ecoinvent_locations\n",
      "Applying strategy: remove_zero_amount_coproducts\n",
      "Applying strategy: remove_zero_amount_inputs_with_no_activity\n",
      "Applying strategy: remove_unnamed_parameters\n",
      "Applying strategy: es2_assign_only_product_with_amount_as_reference_product\n",
      "Applying strategy: assign_single_product_as_activity\n",
      "Applying strategy: create_composite_code\n",
      "Applying strategy: drop_unspecified_subcategories\n",
      "Applying strategy: fix_ecoinvent_flows_pre35\n",
      "Applying strategy: drop_temporary_outdated_biosphere_flows\n",
      "Applying strategy: link_biosphere_by_flow_uuid\n",
      "Applying strategy: link_internal_technosphere_by_composite_code\n",
      "Applying strategy: delete_exchanges_missing_activity\n",
      "Applying strategy: delete_ghost_exchanges\n",
      "Applying strategy: remove_uncertainty_from_negative_loss_exchanges\n",
      "Applying strategy: fix_unreasonably_high_lognormal_uncertainties\n",
      "Applying strategy: convert_activity_parameters_to_list\n",
      "Applying strategy: add_cpc_classification_from_single_reference_product\n",
      "Applying strategy: delete_none_synonyms\n",
      "Applying strategy: update_social_flows_in_older_consequential\n",
      "Applying strategy: set_lognormal_loc_value\n",
      "Applied 22 strategies in 6.33 seconds\n",
      "24033 datasets\n",
      "\t1313387 exchanges\n",
      "\tLinks to the following databases:\n",
      "\t\tecoinvent-3.10-apos (704732 exchanges)\n",
      "\t\tecoinvent-3.10-biosphere (608655 exchanges)\n",
      "\t0 unlinked exchanges (0 types)\n",
      "\t\t\n",
      "\u001b[2m12:31:48\u001b[0m [\u001b[33m\u001b[1mwarning  \u001b[0m] \u001b[1mNot able to determine geocollections for all datasets. This database is not ready for regionalization.\u001b[0m\n"
     ]
    },
    {
     "name": "stderr",
     "output_type": "stream",
     "text": [
      "100%|██████████| 24033/24033 [00:44<00:00, 535.69it/s]\n"
     ]
    },
    {
     "name": "stdout",
     "output_type": "stream",
     "text": [
      "\u001b[2m12:32:33\u001b[0m [\u001b[32m\u001b[1minfo     \u001b[0m] \u001b[1mVacuuming database            \u001b[0m\n",
      "Created database: ecoinvent-3.10-apos\n"
     ]
    }
   ],
   "source": [
    "if 'ecoinvent-3.10-apos' not in bd.databases:\n",
    "    bi.import_ecoinvent_release(\n",
    "        version='3.10',\n",
    "        system_model='apos',\n",
    "        username='MichaelWeinold',\n",
    "        password='jaqpaj-Mippuw-8hyjhe'\n",
    "    )"
   ]
  },
  {
   "cell_type": "code",
   "execution_count": 14,
   "metadata": {},
   "outputs": [],
   "source": [
    "ei = bd.Database(\"ecoinvent-3.10-apos\")\n",
    "bio = bd.Database(\"ecoinvent-3.10-biosphere\")"
   ]
  },
  {
   "cell_type": "code",
   "execution_count": 15,
   "metadata": {},
   "outputs": [
    {
     "data": {
      "text/plain": [
       "Brightway2 Method: IPCC 2021: climate change: global warming potential (GWP100)"
      ]
     },
     "execution_count": 15,
     "metadata": {},
     "output_type": "execute_result"
    }
   ],
   "source": [
    "bd.Method(('IPCC 2021', 'climate change', 'global warming potential (GWP100)'))"
   ]
  },
  {
   "cell_type": "code",
   "execution_count": 16,
   "metadata": {},
   "outputs": [
    {
     "name": "stderr",
     "output_type": "stream",
     "text": [
      "/opt/homebrew/Caskroom/miniconda/base/envs/bw25/lib/python3.11/site-packages/scikits/umfpack/umfpack.py:736: UmfpackWarning: (almost) singular matrix! (estimated cond. number: 5.95e+12)\n",
      "  warnings.warn(msg, UmfpackWarning)\n"
     ]
    }
   ],
   "source": [
    "my_functional_unit, data_objs, _ = bd.prepare_lca_inputs(\n",
    "    {ei.random(): 1},\n",
    "    method=('ecoinvent-3.10', 'IPCC 2021', 'climate change: fossil', 'global warming potential (GWP100)'))\n",
    "my_lca = bc.LCA(demand=my_functional_unit, data_objs=data_objs)\n",
    "my_lca.lci()\n",
    "my_lca.lcia()"
   ]
  },
  {
   "cell_type": "code",
   "execution_count": 17,
   "metadata": {},
   "outputs": [
    {
     "data": {
      "text/plain": [
       "{'overwrite': False,\n",
       " 'format': 'Ecoinvent XML',\n",
       " 'depends': ['ecoinvent-3.10-biosphere'],\n",
       " 'backend': 'sqlite',\n",
       " 'number': 24033,\n",
       " 'modified': '2025-03-07T12:31:48.177644',\n",
       " 'geocollections': ['world'],\n",
       " 'processed': '2025-03-07T12:32:56.087815',\n",
       " 'dirty': False,\n",
       " 'searchable': True}"
      ]
     },
     "execution_count": 17,
     "metadata": {},
     "output_type": "execute_result"
    }
   ],
   "source": [
    "ei.metadata"
   ]
  },
  {
   "cell_type": "code",
   "execution_count": 18,
   "metadata": {},
   "outputs": [],
   "source": [
    "A_P = my_lca.technosphere_matrix.todense()"
   ]
  },
  {
   "cell_type": "code",
   "execution_count": 19,
   "metadata": {},
   "outputs": [
    {
     "data": {
      "text/plain": [
       "(24033, 24033)"
      ]
     },
     "execution_count": 19,
     "metadata": {},
     "output_type": "execute_result"
    }
   ],
   "source": [
    "A_P.shape"
   ]
  },
  {
   "cell_type": "code",
   "execution_count": 20,
   "metadata": {},
   "outputs": [
    {
     "data": {
      "text/plain": [
       "['technosphere_mm',\n",
       " 'biosphere_mm',\n",
       " 'characterization_mm',\n",
       " 'normalization_mm',\n",
       " 'weighting_mm']"
      ]
     },
     "execution_count": 20,
     "metadata": {},
     "output_type": "execute_result"
    }
   ],
   "source": [
    "my_lca.matrix_labels"
   ]
  },
  {
   "cell_type": "code",
   "execution_count": 21,
   "metadata": {},
   "outputs": [
    {
     "data": {
      "text/plain": [
       "<matrix_utils.mapped_matrix.MappedMatrix at 0x45c664c50>"
      ]
     },
     "execution_count": 21,
     "metadata": {},
     "output_type": "execute_result"
    }
   ],
   "source": [
    "my_lca.technosphere_mm"
   ]
  },
  {
   "cell_type": "code",
   "execution_count": 22,
   "metadata": {},
   "outputs": [
    {
     "data": {
      "text/plain": [
       "['product', 'activity', 'biosphere']"
      ]
     },
     "execution_count": 22,
     "metadata": {},
     "output_type": "execute_result"
    }
   ],
   "source": [
    "[dct for dct in my_lca.dicts]"
   ]
  },
  {
   "cell_type": "code",
   "execution_count": 23,
   "metadata": {},
   "outputs": [
    {
     "data": {
      "text/plain": [
       "array([0., 0., 0., ..., 0., 0., 0.])"
      ]
     },
     "execution_count": 23,
     "metadata": {},
     "output_type": "execute_result"
    }
   ],
   "source": [
    "my_lca.demand_array"
   ]
  },
  {
   "cell_type": "code",
   "execution_count": 24,
   "metadata": {},
   "outputs": [
    {
     "data": {
      "text/html": [
       "<div>\n",
       "<style scoped>\n",
       "    .dataframe tbody tr th:only-of-type {\n",
       "        vertical-align: middle;\n",
       "    }\n",
       "\n",
       "    .dataframe tbody tr th {\n",
       "        vertical-align: top;\n",
       "    }\n",
       "\n",
       "    .dataframe thead th {\n",
       "        text-align: right;\n",
       "    }\n",
       "</style>\n",
       "<table border=\"1\" class=\"dataframe\">\n",
       "  <thead>\n",
       "    <tr style=\"text-align: right;\">\n",
       "      <th></th>\n",
       "      <th>row_index</th>\n",
       "      <th>col_index</th>\n",
       "      <th>amount</th>\n",
       "      <th>row_id</th>\n",
       "      <th>col_id</th>\n",
       "      <th>row_database</th>\n",
       "      <th>row_code</th>\n",
       "      <th>row_name</th>\n",
       "      <th>row_location</th>\n",
       "      <th>row_unit</th>\n",
       "      <th>row_type</th>\n",
       "      <th>row_categories</th>\n",
       "      <th>row_product</th>\n",
       "      <th>col_database</th>\n",
       "      <th>col_code</th>\n",
       "      <th>col_name</th>\n",
       "      <th>col_location</th>\n",
       "      <th>col_unit</th>\n",
       "      <th>col_type</th>\n",
       "      <th>col_reference_product</th>\n",
       "    </tr>\n",
       "  </thead>\n",
       "  <tbody>\n",
       "    <tr>\n",
       "      <th>0</th>\n",
       "      <td>718</td>\n",
       "      <td>18961</td>\n",
       "      <td>-0.209532</td>\n",
       "      <td>1034</td>\n",
       "      <td>23324</td>\n",
       "      <td>ecoinvent-3.10-biosphere</td>\n",
       "      <td>349b29d1-3e58-4c66-98b9-9d1a076efd2e</td>\n",
       "      <td>Carbon dioxide, fossil</td>\n",
       "      <td>None</td>\n",
       "      <td>kilogram</td>\n",
       "      <td>emission</td>\n",
       "      <td>air</td>\n",
       "      <td>None</td>\n",
       "      <td>ecoinvent-3.10-apos</td>\n",
       "      <td>ba4528d154a0f09a55f734b6bc4f0a1c</td>\n",
       "      <td>clinker production</td>\n",
       "      <td>RoW</td>\n",
       "      <td>kilogram</td>\n",
       "      <td>processwithreferenceproduct</td>\n",
       "      <td>clinker</td>\n",
       "    </tr>\n",
       "    <tr>\n",
       "      <th>1</th>\n",
       "      <td>718</td>\n",
       "      <td>19444</td>\n",
       "      <td>-0.018006</td>\n",
       "      <td>1034</td>\n",
       "      <td>23807</td>\n",
       "      <td>ecoinvent-3.10-biosphere</td>\n",
       "      <td>349b29d1-3e58-4c66-98b9-9d1a076efd2e</td>\n",
       "      <td>Carbon dioxide, fossil</td>\n",
       "      <td>None</td>\n",
       "      <td>kilogram</td>\n",
       "      <td>emission</td>\n",
       "      <td>air</td>\n",
       "      <td>None</td>\n",
       "      <td>ecoinvent-3.10-apos</td>\n",
       "      <td>0c73389b5e3d2a299a9982503250bc10</td>\n",
       "      <td>clinker production</td>\n",
       "      <td>IN</td>\n",
       "      <td>kilogram</td>\n",
       "      <td>processwithreferenceproduct</td>\n",
       "      <td>clinker</td>\n",
       "    </tr>\n",
       "    <tr>\n",
       "      <th>2</th>\n",
       "      <td>718</td>\n",
       "      <td>11871</td>\n",
       "      <td>-0.012950</td>\n",
       "      <td>1034</td>\n",
       "      <td>16234</td>\n",
       "      <td>ecoinvent-3.10-biosphere</td>\n",
       "      <td>349b29d1-3e58-4c66-98b9-9d1a076efd2e</td>\n",
       "      <td>Carbon dioxide, fossil</td>\n",
       "      <td>None</td>\n",
       "      <td>kilogram</td>\n",
       "      <td>emission</td>\n",
       "      <td>air</td>\n",
       "      <td>None</td>\n",
       "      <td>ecoinvent-3.10-apos</td>\n",
       "      <td>1dad137226a08cd7fc6fa46ea02f8364</td>\n",
       "      <td>clinker production</td>\n",
       "      <td>Europe without Switzerland</td>\n",
       "      <td>kilogram</td>\n",
       "      <td>processwithreferenceproduct</td>\n",
       "      <td>clinker</td>\n",
       "    </tr>\n",
       "    <tr>\n",
       "      <th>3</th>\n",
       "      <td>718</td>\n",
       "      <td>490</td>\n",
       "      <td>-0.012818</td>\n",
       "      <td>1034</td>\n",
       "      <td>4853</td>\n",
       "      <td>ecoinvent-3.10-biosphere</td>\n",
       "      <td>349b29d1-3e58-4c66-98b9-9d1a076efd2e</td>\n",
       "      <td>Carbon dioxide, fossil</td>\n",
       "      <td>None</td>\n",
       "      <td>kilogram</td>\n",
       "      <td>emission</td>\n",
       "      <td>air</td>\n",
       "      <td>None</td>\n",
       "      <td>ecoinvent-3.10-apos</td>\n",
       "      <td>5d604861824ccee49cdef03d797018c8</td>\n",
       "      <td>clinker production</td>\n",
       "      <td>US</td>\n",
       "      <td>kilogram</td>\n",
       "      <td>processwithreferenceproduct</td>\n",
       "      <td>clinker</td>\n",
       "    </tr>\n",
       "    <tr>\n",
       "      <th>4</th>\n",
       "      <td>894</td>\n",
       "      <td>3795</td>\n",
       "      <td>-0.008572</td>\n",
       "      <td>1390</td>\n",
       "      <td>8158</td>\n",
       "      <td>ecoinvent-3.10-biosphere</td>\n",
       "      <td>70ef743b-3ed5-4a6d-b192-fb6d62378555</td>\n",
       "      <td>Methane, fossil</td>\n",
       "      <td>None</td>\n",
       "      <td>kilogram</td>\n",
       "      <td>emission</td>\n",
       "      <td>air::non-urban air or from high stacks</td>\n",
       "      <td>None</td>\n",
       "      <td>ecoinvent-3.10-apos</td>\n",
       "      <td>7b5a5559edda911873790bbcb60e6e6d</td>\n",
       "      <td>natural gas venting from petroleum/natural gas...</td>\n",
       "      <td>GLO</td>\n",
       "      <td>cubic meter</td>\n",
       "      <td>processwithreferenceproduct</td>\n",
       "      <td>natural gas, vented</td>\n",
       "    </tr>\n",
       "    <tr>\n",
       "      <th>...</th>\n",
       "      <td>...</td>\n",
       "      <td>...</td>\n",
       "      <td>...</td>\n",
       "      <td>...</td>\n",
       "      <td>...</td>\n",
       "      <td>...</td>\n",
       "      <td>...</td>\n",
       "      <td>...</td>\n",
       "      <td>...</td>\n",
       "      <td>...</td>\n",
       "      <td>...</td>\n",
       "      <td>...</td>\n",
       "      <td>...</td>\n",
       "      <td>...</td>\n",
       "      <td>...</td>\n",
       "      <td>...</td>\n",
       "      <td>...</td>\n",
       "      <td>...</td>\n",
       "      <td>...</td>\n",
       "      <td>...</td>\n",
       "    </tr>\n",
       "    <tr>\n",
       "      <th>195</th>\n",
       "      <td>716</td>\n",
       "      <td>486</td>\n",
       "      <td>-0.000073</td>\n",
       "      <td>1031</td>\n",
       "      <td>4849</td>\n",
       "      <td>ecoinvent-3.10-biosphere</td>\n",
       "      <td>aa7cac3a-3625-41d4-bc54-33e2cf11ec46</td>\n",
       "      <td>Carbon dioxide, fossil</td>\n",
       "      <td>None</td>\n",
       "      <td>kilogram</td>\n",
       "      <td>emission</td>\n",
       "      <td>air::non-urban air or from high stacks</td>\n",
       "      <td>None</td>\n",
       "      <td>ecoinvent-3.10-apos</td>\n",
       "      <td>2394787a55ec17962d49d2b452e2028b</td>\n",
       "      <td>electricity production, lignite</td>\n",
       "      <td>US-TRE</td>\n",
       "      <td>kilowatt hour</td>\n",
       "      <td>processwithreferenceproduct</td>\n",
       "      <td>electricity, high voltage</td>\n",
       "    </tr>\n",
       "    <tr>\n",
       "      <th>196</th>\n",
       "      <td>80</td>\n",
       "      <td>6191</td>\n",
       "      <td>-0.000072</td>\n",
       "      <td>107</td>\n",
       "      <td>10554</td>\n",
       "      <td>ecoinvent-3.10-biosphere</td>\n",
       "      <td>f9749677-9c9f-4678-ab55-c607dfdc2cb9</td>\n",
       "      <td>Carbon dioxide, fossil</td>\n",
       "      <td>None</td>\n",
       "      <td>kilogram</td>\n",
       "      <td>emission</td>\n",
       "      <td>air::urban air close to ground</td>\n",
       "      <td>None</td>\n",
       "      <td>ecoinvent-3.10-apos</td>\n",
       "      <td>f8ea0bf2ca242fbe97aa2ebe5d479181</td>\n",
       "      <td>heat production, natural gas, at industrial fu...</td>\n",
       "      <td>Europe without Switzerland</td>\n",
       "      <td>megajoule</td>\n",
       "      <td>processwithreferenceproduct</td>\n",
       "      <td>heat, district or industrial, natural gas</td>\n",
       "    </tr>\n",
       "    <tr>\n",
       "      <th>197</th>\n",
       "      <td>2516</td>\n",
       "      <td>22358</td>\n",
       "      <td>-0.000072</td>\n",
       "      <td>4195</td>\n",
       "      <td>26721</td>\n",
       "      <td>ecoinvent-3.10-biosphere</td>\n",
       "      <td>20185046-64bb-4c09-a8e7-e8a9e144ca98</td>\n",
       "      <td>Dinitrogen monoxide</td>\n",
       "      <td>None</td>\n",
       "      <td>kilogram</td>\n",
       "      <td>emission</td>\n",
       "      <td>air</td>\n",
       "      <td>None</td>\n",
       "      <td>ecoinvent-3.10-apos</td>\n",
       "      <td>93646566dd3840dbcbce98d14bcb5d49</td>\n",
       "      <td>diesel, burned in building machine</td>\n",
       "      <td>GLO</td>\n",
       "      <td>megajoule</td>\n",
       "      <td>processwithreferenceproduct</td>\n",
       "      <td>diesel, burned in building machine</td>\n",
       "    </tr>\n",
       "    <tr>\n",
       "      <th>198</th>\n",
       "      <td>716</td>\n",
       "      <td>3469</td>\n",
       "      <td>-0.000071</td>\n",
       "      <td>1031</td>\n",
       "      <td>7832</td>\n",
       "      <td>ecoinvent-3.10-biosphere</td>\n",
       "      <td>aa7cac3a-3625-41d4-bc54-33e2cf11ec46</td>\n",
       "      <td>Carbon dioxide, fossil</td>\n",
       "      <td>None</td>\n",
       "      <td>kilogram</td>\n",
       "      <td>emission</td>\n",
       "      <td>air::non-urban air or from high stacks</td>\n",
       "      <td>None</td>\n",
       "      <td>ecoinvent-3.10-apos</td>\n",
       "      <td>12f5023e0370ec61faa11e9825a50aa9</td>\n",
       "      <td>electricity production, hard coal</td>\n",
       "      <td>CL</td>\n",
       "      <td>kilowatt hour</td>\n",
       "      <td>processwithreferenceproduct</td>\n",
       "      <td>electricity, high voltage</td>\n",
       "    </tr>\n",
       "    <tr>\n",
       "      <th>199</th>\n",
       "      <td>80</td>\n",
       "      <td>14039</td>\n",
       "      <td>-0.000071</td>\n",
       "      <td>107</td>\n",
       "      <td>18402</td>\n",
       "      <td>ecoinvent-3.10-biosphere</td>\n",
       "      <td>f9749677-9c9f-4678-ab55-c607dfdc2cb9</td>\n",
       "      <td>Carbon dioxide, fossil</td>\n",
       "      <td>None</td>\n",
       "      <td>kilogram</td>\n",
       "      <td>emission</td>\n",
       "      <td>air::urban air close to ground</td>\n",
       "      <td>None</td>\n",
       "      <td>ecoinvent-3.10-apos</td>\n",
       "      <td>8271a1796eccf347c0786669904f05b9</td>\n",
       "      <td>carbon black production</td>\n",
       "      <td>GLO</td>\n",
       "      <td>kilogram</td>\n",
       "      <td>processwithreferenceproduct</td>\n",
       "      <td>carbon black</td>\n",
       "    </tr>\n",
       "  </tbody>\n",
       "</table>\n",
       "<p>200 rows × 20 columns</p>\n",
       "</div>"
      ],
      "text/plain": [
       "     row_index  col_index    amount  row_id  col_id              row_database  \\\n",
       "0          718      18961 -0.209532    1034   23324  ecoinvent-3.10-biosphere   \n",
       "1          718      19444 -0.018006    1034   23807  ecoinvent-3.10-biosphere   \n",
       "2          718      11871 -0.012950    1034   16234  ecoinvent-3.10-biosphere   \n",
       "3          718        490 -0.012818    1034    4853  ecoinvent-3.10-biosphere   \n",
       "4          894       3795 -0.008572    1390    8158  ecoinvent-3.10-biosphere   \n",
       "..         ...        ...       ...     ...     ...                       ...   \n",
       "195        716        486 -0.000073    1031    4849  ecoinvent-3.10-biosphere   \n",
       "196         80       6191 -0.000072     107   10554  ecoinvent-3.10-biosphere   \n",
       "197       2516      22358 -0.000072    4195   26721  ecoinvent-3.10-biosphere   \n",
       "198        716       3469 -0.000071    1031    7832  ecoinvent-3.10-biosphere   \n",
       "199         80      14039 -0.000071     107   18402  ecoinvent-3.10-biosphere   \n",
       "\n",
       "                                 row_code                row_name  \\\n",
       "0    349b29d1-3e58-4c66-98b9-9d1a076efd2e  Carbon dioxide, fossil   \n",
       "1    349b29d1-3e58-4c66-98b9-9d1a076efd2e  Carbon dioxide, fossil   \n",
       "2    349b29d1-3e58-4c66-98b9-9d1a076efd2e  Carbon dioxide, fossil   \n",
       "3    349b29d1-3e58-4c66-98b9-9d1a076efd2e  Carbon dioxide, fossil   \n",
       "4    70ef743b-3ed5-4a6d-b192-fb6d62378555         Methane, fossil   \n",
       "..                                    ...                     ...   \n",
       "195  aa7cac3a-3625-41d4-bc54-33e2cf11ec46  Carbon dioxide, fossil   \n",
       "196  f9749677-9c9f-4678-ab55-c607dfdc2cb9  Carbon dioxide, fossil   \n",
       "197  20185046-64bb-4c09-a8e7-e8a9e144ca98     Dinitrogen monoxide   \n",
       "198  aa7cac3a-3625-41d4-bc54-33e2cf11ec46  Carbon dioxide, fossil   \n",
       "199  f9749677-9c9f-4678-ab55-c607dfdc2cb9  Carbon dioxide, fossil   \n",
       "\n",
       "    row_location  row_unit  row_type                          row_categories  \\\n",
       "0           None  kilogram  emission                                     air   \n",
       "1           None  kilogram  emission                                     air   \n",
       "2           None  kilogram  emission                                     air   \n",
       "3           None  kilogram  emission                                     air   \n",
       "4           None  kilogram  emission  air::non-urban air or from high stacks   \n",
       "..           ...       ...       ...                                     ...   \n",
       "195         None  kilogram  emission  air::non-urban air or from high stacks   \n",
       "196         None  kilogram  emission          air::urban air close to ground   \n",
       "197         None  kilogram  emission                                     air   \n",
       "198         None  kilogram  emission  air::non-urban air or from high stacks   \n",
       "199         None  kilogram  emission          air::urban air close to ground   \n",
       "\n",
       "    row_product         col_database                          col_code  \\\n",
       "0          None  ecoinvent-3.10-apos  ba4528d154a0f09a55f734b6bc4f0a1c   \n",
       "1          None  ecoinvent-3.10-apos  0c73389b5e3d2a299a9982503250bc10   \n",
       "2          None  ecoinvent-3.10-apos  1dad137226a08cd7fc6fa46ea02f8364   \n",
       "3          None  ecoinvent-3.10-apos  5d604861824ccee49cdef03d797018c8   \n",
       "4          None  ecoinvent-3.10-apos  7b5a5559edda911873790bbcb60e6e6d   \n",
       "..          ...                  ...                               ...   \n",
       "195        None  ecoinvent-3.10-apos  2394787a55ec17962d49d2b452e2028b   \n",
       "196        None  ecoinvent-3.10-apos  f8ea0bf2ca242fbe97aa2ebe5d479181   \n",
       "197        None  ecoinvent-3.10-apos  93646566dd3840dbcbce98d14bcb5d49   \n",
       "198        None  ecoinvent-3.10-apos  12f5023e0370ec61faa11e9825a50aa9   \n",
       "199        None  ecoinvent-3.10-apos  8271a1796eccf347c0786669904f05b9   \n",
       "\n",
       "                                              col_name  \\\n",
       "0                                   clinker production   \n",
       "1                                   clinker production   \n",
       "2                                   clinker production   \n",
       "3                                   clinker production   \n",
       "4    natural gas venting from petroleum/natural gas...   \n",
       "..                                                 ...   \n",
       "195                    electricity production, lignite   \n",
       "196  heat production, natural gas, at industrial fu...   \n",
       "197                 diesel, burned in building machine   \n",
       "198                  electricity production, hard coal   \n",
       "199                            carbon black production   \n",
       "\n",
       "                   col_location       col_unit                     col_type  \\\n",
       "0                           RoW       kilogram  processwithreferenceproduct   \n",
       "1                            IN       kilogram  processwithreferenceproduct   \n",
       "2    Europe without Switzerland       kilogram  processwithreferenceproduct   \n",
       "3                            US       kilogram  processwithreferenceproduct   \n",
       "4                           GLO    cubic meter  processwithreferenceproduct   \n",
       "..                          ...            ...                          ...   \n",
       "195                      US-TRE  kilowatt hour  processwithreferenceproduct   \n",
       "196  Europe without Switzerland      megajoule  processwithreferenceproduct   \n",
       "197                         GLO      megajoule  processwithreferenceproduct   \n",
       "198                          CL  kilowatt hour  processwithreferenceproduct   \n",
       "199                         GLO       kilogram  processwithreferenceproduct   \n",
       "\n",
       "                         col_reference_product  \n",
       "0                                      clinker  \n",
       "1                                      clinker  \n",
       "2                                      clinker  \n",
       "3                                      clinker  \n",
       "4                          natural gas, vented  \n",
       "..                                         ...  \n",
       "195                  electricity, high voltage  \n",
       "196  heat, district or industrial, natural gas  \n",
       "197         diesel, burned in building machine  \n",
       "198                  electricity, high voltage  \n",
       "199                               carbon black  \n",
       "\n",
       "[200 rows x 20 columns]"
      ]
     },
     "execution_count": 24,
     "metadata": {},
     "output_type": "execute_result"
    }
   ],
   "source": [
    "my_lca.to_dataframe()"
   ]
  },
  {
   "cell_type": "code",
   "execution_count": 25,
   "metadata": {},
   "outputs": [
    {
     "data": {
      "text/plain": [
       "24033"
      ]
     },
     "execution_count": 25,
     "metadata": {},
     "output_type": "execute_result"
    }
   ],
   "source": [
    "len([prod for prod in my_lca.product_dict])"
   ]
  },
  {
   "cell_type": "code",
   "execution_count": 26,
   "metadata": {},
   "outputs": [
    {
     "data": {
      "text/plain": [
       "bw2data.backends.proxies.Activity"
      ]
     },
     "execution_count": 26,
     "metadata": {},
     "output_type": "execute_result"
    }
   ],
   "source": [
    "type(ei.random())"
   ]
  },
  {
   "cell_type": "code",
   "execution_count": 27,
   "metadata": {},
   "outputs": [
    {
     "data": {
      "text/plain": [
       "'d3c443c19e8204e69f800bd926df1ff8'"
      ]
     },
     "execution_count": 27,
     "metadata": {},
     "output_type": "execute_result"
    }
   ],
   "source": [
    "ei.random().get('code')"
   ]
  },
  {
   "cell_type": "code",
   "execution_count": 28,
   "metadata": {},
   "outputs": [
    {
     "data": {
      "text/plain": [
       "15125"
      ]
     },
     "execution_count": 28,
     "metadata": {},
     "output_type": "execute_result"
    }
   ],
   "source": [
    "ei.random().get('id')"
   ]
  },
  {
   "cell_type": "code",
   "execution_count": 29,
   "metadata": {},
   "outputs": [
    {
     "name": "stdout",
     "output_type": "stream",
     "text": [
      "comment\n",
      "classifications\n",
      "activity type\n",
      "activity\n",
      "database\n",
      "filename\n",
      "location\n",
      "name\n",
      "synonyms\n",
      "parameters\n",
      "authors\n",
      "type\n",
      "reference product\n",
      "flow\n",
      "unit\n",
      "production amount\n",
      "code\n",
      "id\n"
     ]
    }
   ],
   "source": [
    "for key in ei.random():\n",
    "    print(key)"
   ]
  },
  {
   "cell_type": "code",
   "execution_count": 30,
   "metadata": {},
   "outputs": [
    {
     "data": {
      "text/plain": [
       "'market for tin dioxide' (kilogram, GLO, None)"
      ]
     },
     "execution_count": 30,
     "metadata": {},
     "output_type": "execute_result"
    }
   ],
   "source": [
    "bd.get_node(id=26543)"
   ]
  },
  {
   "cell_type": "code",
   "execution_count": 31,
   "metadata": {},
   "outputs": [
    {
     "data": {
      "text/plain": [
       "4718"
      ]
     },
     "execution_count": 31,
     "metadata": {},
     "output_type": "execute_result"
    }
   ],
   "source": [
    "[prod for prod in my_lca.product_dict][355]"
   ]
  },
  {
   "cell_type": "code",
   "execution_count": 32,
   "metadata": {},
   "outputs": [
    {
     "data": {
      "text/plain": [
       "'lithium iron phosphate production, hydrothermal process' (kilogram, RoW, None)"
      ]
     },
     "execution_count": 32,
     "metadata": {},
     "output_type": "execute_result"
    }
   ],
   "source": [
    "bd.get_node(id=4363)"
   ]
  },
  {
   "cell_type": "code",
   "execution_count": 33,
   "metadata": {},
   "outputs": [
    {
     "data": {
      "text/plain": [
       "'market for lemon' (kilogram, GLO, None)"
      ]
     },
     "execution_count": 33,
     "metadata": {},
     "output_type": "execute_result"
    }
   ],
   "source": [
    "bd.get_node(id=4718)"
   ]
  },
  {
   "cell_type": "code",
   "execution_count": 34,
   "metadata": {},
   "outputs": [
    {
     "data": {
      "text/plain": [
       "Databases dictionary with 2 object(s):\n",
       "\tecoinvent-3.10-apos\n",
       "\tecoinvent-3.10-biosphere"
      ]
     },
     "execution_count": 34,
     "metadata": {},
     "output_type": "execute_result"
    }
   ],
   "source": [
    "bd.databases"
   ]
  },
  {
   "cell_type": "code",
   "execution_count": 35,
   "metadata": {},
   "outputs": [
    {
     "data": {
      "text/plain": [
       "Brightway2 SQLiteBackend: ecoinvent-3.10-apos"
      ]
     },
     "execution_count": 35,
     "metadata": {},
     "output_type": "execute_result"
    }
   ],
   "source": [
    "bd.Database(\"ecoinvent-3.10-apos\")"
   ]
  },
  {
   "cell_type": "code",
   "execution_count": 38,
   "metadata": {},
   "outputs": [],
   "source": [
    "randact = ei.random()"
   ]
  },
  {
   "cell_type": "code",
   "execution_count": 41,
   "metadata": {},
   "outputs": [
    {
     "data": {
      "text/plain": [
       "[Exchange: 1.0 kilogram 'market for land tenure, arable land, measured as carbon net primary productivity, forest, intensive' (kilogram, BR-SP, None) to 'market for land tenure, arable land, measured as carbon net primary productivity, forest, intensive' (kilogram, BR-SP, None)>,\n",
       " Exchange: 0.0766792332076679 kilogram 'land already in use, perennial cropland to forest, intensive' (kilogram, BR-SP, None) to 'market for land tenure, arable land, measured as carbon net primary productivity, forest, intensive' (kilogram, BR-SP, None)>,\n",
       " Exchange: 0.809141908580914 kilogram 'land already in use, pasture, man made to forest, intensive' (kilogram, BR-SP, None) to 'market for land tenure, arable land, measured as carbon net primary productivity, forest, intensive' (kilogram, BR-SP, None)>,\n",
       " Exchange: 0.114178858211418 kilogram 'land already in use, annual cropland to forest, intensive' (kilogram, BR-SP, None) to 'market for land tenure, arable land, measured as carbon net primary productivity, forest, intensive' (kilogram, BR-SP, None)>]"
      ]
     },
     "execution_count": 41,
     "metadata": {},
     "output_type": "execute_result"
    }
   ],
   "source": [
    "[exc for exc in randact.exchanges()]"
   ]
  },
  {
   "cell_type": "code",
   "execution_count": 46,
   "metadata": {},
   "outputs": [],
   "source": [
    "exiobaseimporter = bi.importers.exiobase3_monetary.Exiobase3MonetaryImporter(\n",
    "    dirpath='/Users/michaelweinold/data/IOT_2020_ixi.zip',\n",
    "    db_name='exiobase3_monetary',\n",
    "    ignore_small_balancing_corrections=True\n",
    ")"
   ]
  },
  {
   "cell_type": "code",
   "execution_count": 47,
   "metadata": {},
   "outputs": [
    {
     "ename": "AttributeError",
     "evalue": "'Exiobase3MonetaryImporter' object has no attribute 'data'",
     "output_type": "error",
     "traceback": [
      "\u001b[0;31m---------------------------------------------------------------------------\u001b[0m",
      "\u001b[0;31mAttributeError\u001b[0m                            Traceback (most recent call last)",
      "Cell \u001b[0;32mIn[47], line 2\u001b[0m\n\u001b[1;32m      1\u001b[0m exiobaseimporter\u001b[38;5;241m.\u001b[39mapply_strategies()\n\u001b[0;32m----> 2\u001b[0m \u001b[43mexiobaseimporter\u001b[49m\u001b[38;5;241;43m.\u001b[39;49m\u001b[43mstatistics\u001b[49m\u001b[43m(\u001b[49m\u001b[43m)\u001b[49m\n",
      "File \u001b[0;32m/opt/homebrew/Caskroom/miniconda/base/envs/bw25/lib/python3.11/site-packages/bw2io/importers/base_lci.py:96\u001b[0m, in \u001b[0;36mLCIImporter.statistics\u001b[0;34m(self, print_stats)\u001b[0m\n\u001b[1;32m     94\u001b[0m \u001b[38;5;28;01mdef\u001b[39;00m \u001b[38;5;21mstatistics\u001b[39m(\u001b[38;5;28mself\u001b[39m, print_stats: \u001b[38;5;28mbool\u001b[39m \u001b[38;5;241m=\u001b[39m \u001b[38;5;28;01mTrue\u001b[39;00m) \u001b[38;5;241m-\u001b[39m\u001b[38;5;241m>\u001b[39m Tuple[\u001b[38;5;28mint\u001b[39m, \u001b[38;5;28mint\u001b[39m, \u001b[38;5;28mint\u001b[39m, \u001b[38;5;28mint\u001b[39m]:\n\u001b[1;32m     95\u001b[0m     links \u001b[38;5;241m=\u001b[39m collections\u001b[38;5;241m.\u001b[39mdefaultdict(\u001b[38;5;28mint\u001b[39m)\n\u001b[0;32m---> 96\u001b[0m     num_datasets \u001b[38;5;241m=\u001b[39m \u001b[38;5;28mlen\u001b[39m(\u001b[38;5;28;43mself\u001b[39;49m\u001b[38;5;241;43m.\u001b[39;49m\u001b[43mdata\u001b[49m)\n\u001b[1;32m     97\u001b[0m     num_exchanges \u001b[38;5;241m=\u001b[39m \u001b[38;5;241m0\u001b[39m\n\u001b[1;32m     98\u001b[0m     \u001b[38;5;28;01mfor\u001b[39;00m ds \u001b[38;5;129;01min\u001b[39;00m \u001b[38;5;28mself\u001b[39m\u001b[38;5;241m.\u001b[39mdata:\n",
      "\u001b[0;31mAttributeError\u001b[0m: 'Exiobase3MonetaryImporter' object has no attribute 'data'"
     ]
    }
   ],
   "source": [
    "exiobaseimporter.apply_strategies()\n",
    "exiobaseimporter.statistics()"
   ]
  }
 ],
 "metadata": {
  "kernelspec": {
   "display_name": "bw25",
   "language": "python",
   "name": "python3"
  },
  "language_info": {
   "codemirror_mode": {
    "name": "ipython",
    "version": 3
   },
   "file_extension": ".py",
   "mimetype": "text/x-python",
   "name": "python",
   "nbconvert_exporter": "python",
   "pygments_lexer": "ipython3",
   "version": "3.11.10"
  }
 },
 "nbformat": 4,
 "nbformat_minor": 2
}
