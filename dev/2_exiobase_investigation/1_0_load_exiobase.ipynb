{
 "cells": [
  {
   "cell_type": "markdown",
   "metadata": {},
   "source": [
    "# 0.1. imports"
   ]
  },
  {
   "cell_type": "code",
   "execution_count": 1,
   "metadata": {},
   "outputs": [],
   "source": [
    "# i/o\n",
    "import sys\n",
    "import os\n",
    "from pathlib import Path\n",
    "import gzip\n",
    "import pickle\n",
    "# configuration\n",
    "import yaml\n",
    "# lca\n",
    "import ecospold2matrix as e2m\n",
    "import pymrio\n",
    "#import brightway2 as bw\n",
    "# type hints\n",
    "from ecospold2matrix import ecospold2matrix\n",
    "from pymrio import IOSystem\n",
    "# data science\n",
    "import pandas as pd\n",
    "# deep copy\n",
    "import copy"
   ]
  },
  {
   "cell_type": "markdown",
   "metadata": {},
   "source": [
    "# 0.2. config"
   ]
  },
  {
   "cell_type": "code",
   "execution_count": 2,
   "metadata": {},
   "outputs": [],
   "source": [
    "with open('../config.yaml', 'r') as filestream:\n",
    "    config = yaml.load(filestream, Loader = yaml.FullLoader)"
   ]
  },
  {
   "cell_type": "markdown",
   "metadata": {},
   "source": [
    "# 0.3. file paths\n",
    "\n",
    "## 0.3.1. directories"
   ]
  },
  {
   "cell_type": "code",
   "execution_count": 3,
   "metadata": {},
   "outputs": [],
   "source": [
    "%%capture\n",
    "print(path_dir_data := Path(Path.home(), config['path_dir_data']))\n",
    "print(path_dir_data_raw := Path(path_dir_data, config['path_dir_data_raw']))\n",
    "print(path_dir_data_processed := Path(path_dir_data, config['path_dir_data_processed']))"
   ]
  },
  {
   "cell_type": "markdown",
   "metadata": {},
   "source": [
    "## 0.3.2. files"
   ]
  },
  {
   "cell_type": "code",
   "execution_count": 4,
   "metadata": {},
   "outputs": [],
   "source": [
    "%%capture\n",
    "print(path_dir_exiobase_zip := Path(path_dir_data_raw, config['exiobase_3.8']))\n",
    "print(path_file_exiobase_pymrio_io_system := Path(path_dir_data_processed, config['pymrio_class_instance']))"
   ]
  },
  {
   "attachments": {},
   "cell_type": "markdown",
   "metadata": {},
   "source": [
    "# 1. load `Exiobase`\n",
    "\n",
    "## 1.1. download `Exiobase`\n",
    "\n"
   ]
  },
  {
   "cell_type": "code",
   "execution_count": 5,
   "metadata": {},
   "outputs": [
    {
     "data": {
      "text/plain": [
       "Description: EXIOBASE3 metadata file for pymrio\n",
       "MRIO Name: EXIO3\n",
       "System: pxp\n",
       "Version: 10.5281/zenodo.3583070\n",
       "File: /Users/michaelweinold/data/data_raw/metadata.json\n",
       "History:\n",
       "20230110 12:34:55 - FILEIO -  Downloaded https://zenodo.org/record/5589597/files/IOT_2011_pxp.zip to IOT_2011_pxp.zip"
      ]
     },
     "execution_count": 5,
     "metadata": {},
     "output_type": "execute_result"
    }
   ],
   "source": [
    "pymrio.download_exiobase3(\n",
    "    storage_folder = path_dir_data_raw / 'exiobase_3.8',\n",
    "    system = \"pxp\",\n",
    "    years = [2011]\n",
    ")"
   ]
  },
  {
   "attachments": {},
   "cell_type": "markdown",
   "metadata": {},
   "source": [
    "## 1.2. load from `zip` file"
   ]
  },
  {
   "cell_type": "code",
   "execution_count": 6,
   "metadata": {},
   "outputs": [],
   "source": [
    "exiobase: pymrio.IOSystem = pymrio.parse_exiobase3(path_dir_exiobase_zip)"
   ]
  },
  {
   "attachments": {},
   "cell_type": "markdown",
   "metadata": {},
   "source": [
    "## 1.3. compute missing matrices"
   ]
  },
  {
   "cell_type": "code",
   "execution_count": 7,
   "metadata": {},
   "outputs": [
    {
     "data": {
      "text/plain": [
       "<pymrio.core.mriosystem.IOSystem at 0x28f893f10>"
      ]
     },
     "execution_count": 7,
     "metadata": {},
     "output_type": "execute_result"
    }
   ],
   "source": [
    "exiobase.calc_all()"
   ]
  },
  {
   "attachments": {},
   "cell_type": "markdown",
   "metadata": {},
   "source": [
    "# 2. export to `pickle` file"
   ]
  },
  {
   "cell_type": "code",
   "execution_count": 8,
   "metadata": {},
   "outputs": [],
   "source": [
    "with open(path_file_exiobase_pymrio_io_system, 'wb') as file_handle:\n",
    "    pickle.dump(obj = exiobase, file = file_handle, protocol=pickle.HIGHEST_PROTOCOL)"
   ]
  }
 ],
 "metadata": {
  "kernelspec": {
   "display_name": "Python 3.10.6 ('pylcaio')",
   "language": "python",
   "name": "python3"
  },
  "language_info": {
   "codemirror_mode": {
    "name": "ipython",
    "version": 3
   },
   "file_extension": ".py",
   "mimetype": "text/x-python",
   "name": "python",
   "nbconvert_exporter": "python",
   "pygments_lexer": "ipython3",
   "version": "3.11.0"
  },
  "orig_nbformat": 4,
  "vscode": {
   "interpreter": {
    "hash": "af11b17298303d3420ac04a2d81997bb73d15b4df2e0afffe06f0aa93756cff5"
   }
  }
 },
 "nbformat": 4,
 "nbformat_minor": 2
}
