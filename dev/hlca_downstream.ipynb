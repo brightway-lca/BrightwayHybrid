{
 "cells": [
  {
   "cell_type": "code",
   "execution_count": 1,
   "metadata": {},
   "outputs": [],
   "source": [
    "import sympy as sp\n",
    "from sympy import init_printing\n",
    "init_printing(use_unicode=True)"
   ]
  },
  {
   "cell_type": "markdown",
   "metadata": {},
   "source": [
    "# Variables"
   ]
  },
  {
   "cell_type": "code",
   "execution_count": 2,
   "metadata": {},
   "outputs": [],
   "source": [
    "x_2 = sp.symbols('x_2')\n",
    "x_B = sp.symbols('x_B')\n",
    "x_Bstar = sp.symbols('x_{B^*}')\n",
    "x_A = sp.symbols('x_A')"
   ]
  },
  {
   "cell_type": "code",
   "execution_count": 3,
   "metadata": {},
   "outputs": [],
   "source": [
    "z_2A = sp.symbols('z_{2A}')\n",
    "z_BA = sp.symbols('z_{BA}')\n",
    "z_BstarA = sp.symbols('z_{B^*A}')"
   ]
  },
  {
   "cell_type": "code",
   "execution_count": 4,
   "metadata": {},
   "outputs": [],
   "source": [
    "a_BA = sp.symbols('a_{BA}')\n",
    "a_BstarA = sp.symbols('a_{B^*A}')\n",
    "a_2A = sp.symbols('a_{2A}')"
   ]
  },
  {
   "cell_type": "code",
   "execution_count": 5,
   "metadata": {},
   "outputs": [],
   "source": [
    "b_2 = sp.symbols('b_2')\n",
    "b_B = sp.symbols('b_B')\n",
    "b_Bstar = sp.symbols('b_{B^*}')"
   ]
  },
  {
   "cell_type": "code",
   "execution_count": 6,
   "metadata": {},
   "outputs": [],
   "source": [
    "e_2 = sp.symbols('e_2')\n",
    "e_B = sp.symbols('e_B')\n",
    "e_Bstar = sp.symbols('e_{B^*}')"
   ]
  },
  {
   "cell_type": "markdown",
   "metadata": {},
   "source": [
    "# Relations"
   ]
  },
  {
   "cell_type": "markdown",
   "metadata": {},
   "source": [
    "\\begin{align*}\n",
    "e_B &= b_{B} x_B \\\\\n",
    "e_{B^*} &= b_{B^*} x_{B^*} \\\\\n",
    "e_2 &= b_2 x_2 \\\\\n",
    "\\end{align*}"
   ]
  },
  {
   "cell_type": "code",
   "execution_count": 7,
   "metadata": {},
   "outputs": [],
   "source": [
    "def expr_b_B():\n",
    "    return e_B - (b_B * x_B)  # = 0, to be read like this!\n",
    "def expr_b_Bstar():\n",
    "    return e_Bstar - (b_Bstar * x_Bstar)\n",
    "def expr_b_2():\n",
    "    return e_2 - (b_2 * x_2)"
   ]
  },
  {
   "cell_type": "markdown",
   "metadata": {},
   "source": [
    "\\begin{align*}\n",
    "a_{2A} &= z_{2A} / x_A \\\\\n",
    "a_{BA} &= z_{BA} / x_A \\\\\n",
    "a_{B^*A} &= z_{B^*A} / x_A \\\\\n",
    "\\end{align*}"
   ]
  },
  {
   "cell_type": "code",
   "execution_count": 8,
   "metadata": {},
   "outputs": [],
   "source": [
    "def expr_a_2A():\n",
    "    return a_2A - (z_2A / x_A)\n",
    "def expr_a_BA():\n",
    "    return a_BA -(z_BA / x_A)\n",
    "def expr_a_BstarA():\n",
    "    return a_BstarA - (z_BstarA / x_A)"
   ]
  },
  {
   "cell_type": "code",
   "execution_count": 9,
   "metadata": {},
   "outputs": [
    {
     "data": {
      "image/png": "[encoded data removed]",
      "text/latex": [
       "$\\displaystyle \\frac{z_{B^*A}}{x_{A}}$"
      ],
      "text/plain": [
       "z_{B__*A}\n",
       "─────────\n",
       "   x_A   "
      ]
     },
     "execution_count": 9,
     "metadata": {},
     "output_type": "execute_result"
    }
   ],
   "source": [
    "sp.solve(expr_a_BstarA(), a_BstarA)[0]"
   ]
  },
  {
   "cell_type": "markdown",
   "metadata": {},
   "source": [
    "# Conditions"
   ]
  },
  {
   "cell_type": "markdown",
   "metadata": {},
   "source": [
    "\\begin{align*}\n",
    "x_B &= x_{B^*} + x_2 \\\\\n",
    "z_{BA} &= z_{B^*A} + z_{2A} \\\\\n",
    "e_B &= e_{B^*} + e_2 \\\\\n",
    "\\end{align*}"
   ]
  },
  {
   "cell_type": "code",
   "execution_count": 10,
   "metadata": {},
   "outputs": [],
   "source": [
    "def cond_prod_x():\n",
    "    return x_B -(x_Bstar + x_2)\n",
    "def cond_flow_A_to_B():\n",
    "    return z_BA - (z_BstarA + z_2A)\n",
    "def cond_burden_B():\n",
    "    return e_B - (e_Bstar + e_2)"
   ]
  },
  {
   "cell_type": "markdown",
   "metadata": {},
   "source": [
    "# Numerical Values\n",
    "\n",
    "These are the variables that practitioners could know..."
   ]
  },
  {
   "cell_type": "code",
   "execution_count": 60,
   "metadata": {},
   "outputs": [],
   "source": [
    "# environmental burdens\n",
    "num_e_2 = 0.2\n",
    "num_e_B = 1.2\n",
    "# total annual production of A\n",
    "num_x_A = 5.0\n",
    "# total annual flow to A\n",
    "num_z_2A = 0.4\n",
    "num_z_BA = 0.7\n",
    "# total annual production of B and 2\n",
    "num_x_2 = 0.6\n",
    "num_x_B = 3.0"
   ]
  },
  {
   "cell_type": "code",
   "execution_count": 61,
   "metadata": {},
   "outputs": [],
   "source": [
    "def calculate_z_BstarA(z_BstarA):\n",
    "    num_z_BstarA = sp.solve(cond_flow_A_to_B(), z_BstarA)[0].subs(\n",
    "        [\n",
    "            (z_2A, num_z_2A),\n",
    "            (z_BA, num_z_BA),\n",
    "        ]\n",
    "    )\n",
    "    return num_z_BstarA\n",
    "\n",
    "\n",
    "def calculate_x_Bstar(x_Bstar):\n",
    "    num_x_Bstar = sp.solve(cond_prod_x(), x_Bstar)[0].subs(\n",
    "        [\n",
    "            (x_B, num_x_B),\n",
    "            (x_2, num_x_2),\n",
    "        ]\n",
    "    )\n",
    "    return num_x_Bstar"
   ]
  },
  {
   "cell_type": "code",
   "execution_count": 62,
   "metadata": {},
   "outputs": [],
   "source": [
    "num_z_BstarA = calculate_z_BstarA(z_BstarA)\n",
    "num_x_Bstar = calculate_x_Bstar(x_Bstar)"
   ]
  },
  {
   "cell_type": "code",
   "execution_count": 63,
   "metadata": {},
   "outputs": [],
   "source": [
    "num_a_BstarA = num_z_BstarA / num_x_A\n",
    "num_e_Bstar = num_e_B - num_e_2"
   ]
  },
  {
   "cell_type": "code",
   "execution_count": 64,
   "metadata": {},
   "outputs": [
    {
     "data": {
      "image/png": "[encoded data removed]",
      "text/latex": [
       "$\\displaystyle 0.3$"
      ],
      "text/plain": [
       "0.300000000000000"
      ]
     },
     "execution_count": 64,
     "metadata": {},
     "output_type": "execute_result"
    }
   ],
   "source": [
    "num_z_BstarA"
   ]
  },
  {
   "cell_type": "code",
   "execution_count": 65,
   "metadata": {},
   "outputs": [
    {
     "data": {
      "image/png": "[encoded data removed]",
      "text/latex": [
       "$\\displaystyle 0.06$"
      ],
      "text/plain": [
       "0.0600000000000000"
      ]
     },
     "execution_count": 65,
     "metadata": {},
     "output_type": "execute_result"
    }
   ],
   "source": [
    "num_a_BstarA"
   ]
  },
  {
   "cell_type": "code",
   "execution_count": 66,
   "metadata": {},
   "outputs": [
    {
     "data": {
      "image/png": "[encoded data removed]",
      "text/latex": [
       "$\\displaystyle 2.4$"
      ],
      "text/plain": [
       "2.40000000000000"
      ]
     },
     "execution_count": 66,
     "metadata": {},
     "output_type": "execute_result"
    }
   ],
   "source": [
    "num_x_Bstar"
   ]
  },
  {
   "cell_type": "code",
   "execution_count": 67,
   "metadata": {},
   "outputs": [
    {
     "data": {
      "image/png": "[encoded data removed]",
      "text/latex": [
       "$\\displaystyle 1.0$"
      ],
      "text/plain": [
       "1.0"
      ]
     },
     "execution_count": 67,
     "metadata": {},
     "output_type": "execute_result"
    }
   ],
   "source": [
    "num_e_Bstar"
   ]
  },
  {
   "cell_type": "markdown",
   "metadata": {},
   "source": [
    "# Equation to Test"
   ]
  },
  {
   "cell_type": "code",
   "execution_count": 19,
   "metadata": {},
   "outputs": [],
   "source": [
    "s_io = sp.symbols('s_{io}')\n",
    "s_hybrid = sp.symbols('s_{hybrid}')"
   ]
  },
  {
   "cell_type": "code",
   "execution_count": 20,
   "metadata": {},
   "outputs": [],
   "source": [
    "expr_s_io = s_io - (b_B * a_BA)"
   ]
  },
  {
   "cell_type": "code",
   "execution_count": 21,
   "metadata": {},
   "outputs": [
    {
     "data": {
      "image/png": "[encoded data removed]",
      "text/latex": [
       "$\\displaystyle a_{BA} b_{B}$"
      ],
      "text/plain": [
       "a_{BA}⋅b_B"
      ]
     },
     "execution_count": 21,
     "metadata": {},
     "output_type": "execute_result"
    }
   ],
   "source": [
    "sp.solve(expr_s_io, s_io)[0]"
   ]
  },
  {
   "cell_type": "code",
   "execution_count": 22,
   "metadata": {},
   "outputs": [],
   "source": [
    "expr_s_hybrid = s_hybrid - (b_Bstar * a_BstarA + b_2 * a_2A)"
   ]
  },
  {
   "cell_type": "code",
   "execution_count": 23,
   "metadata": {},
   "outputs": [
    {
     "data": {
      "image/png": "[encoded data removed]",
      "text/latex": [
       "$\\displaystyle a_{2A} b_{2} + a_{B^*A} b_{B^*}$"
      ],
      "text/plain": [
       "a_{2A}⋅b₂ + a_{B__*A}⋅b_{B__*}"
      ]
     },
     "execution_count": 23,
     "metadata": {},
     "output_type": "execute_result"
    }
   ],
   "source": [
    "sp.solve(expr_s_hybrid, s_hybrid)[0]"
   ]
  },
  {
   "cell_type": "markdown",
   "metadata": {},
   "source": [
    "# Testing\n",
    "## RHS"
   ]
  },
  {
   "cell_type": "code",
   "execution_count": 24,
   "metadata": {},
   "outputs": [
    {
     "data": {
      "image/png": "[encoded data removed]",
      "text/latex": [
       "$\\displaystyle a_{BA} b_{B}$"
      ],
      "text/plain": [
       "a_{BA}⋅b_B"
      ]
     },
     "execution_count": 24,
     "metadata": {},
     "output_type": "execute_result"
    }
   ],
   "source": [
    "sp.solve(expr_s_io, s_io)[0]"
   ]
  },
  {
   "cell_type": "code",
   "execution_count": 25,
   "metadata": {},
   "outputs": [],
   "source": [
    "rhs = expr_s_io.subs(\n",
    "    [\n",
    "        (b_B, sp.solve(expr_b_B(), b_B)[0]), # express b in terms of e and x\n",
    "        (a_BA, sp.solve(expr_a_BA(), a_BA)[0]), # express a in terms of z and x\n",
    "    ]\n",
    ")"
   ]
  },
  {
   "cell_type": "code",
   "execution_count": 26,
   "metadata": {},
   "outputs": [
    {
     "data": {
      "image/png": "[encoded data removed]",
      "text/latex": [
       "$\\displaystyle \\frac{e_{B} z_{BA}}{x_{A} x_{B}}$"
      ],
      "text/plain": [
       "e_B⋅z_{BA}\n",
       "──────────\n",
       " x_A⋅x_B  "
      ]
     },
     "execution_count": 26,
     "metadata": {},
     "output_type": "execute_result"
    }
   ],
   "source": [
    "sp.solve(rhs, s_io)[0]"
   ]
  },
  {
   "cell_type": "code",
   "execution_count": 68,
   "metadata": {},
   "outputs": [
    {
     "data": {
      "image/png": "[encoded data removed]",
      "text/latex": [
       "$\\displaystyle 0.056$"
      ],
      "text/plain": [
       "0.0560000000000000"
      ]
     },
     "execution_count": 68,
     "metadata": {},
     "output_type": "execute_result"
    }
   ],
   "source": [
    "sp.solve(rhs, s_io)[0].subs(\n",
    "    [\n",
    "        (e_B, num_e_B),\n",
    "        (x_A, num_x_A),\n",
    "        (x_B, num_x_B),\n",
    "        (z_BA, num_z_BA),\n",
    "    ]\n",
    ").simplify()"
   ]
  },
  {
   "cell_type": "markdown",
   "metadata": {},
   "source": [
    "## LHS"
   ]
  },
  {
   "cell_type": "code",
   "execution_count": 28,
   "metadata": {},
   "outputs": [
    {
     "data": {
      "image/png": "[encoded data removed]",
      "text/latex": [
       "$\\displaystyle a_{2A} b_{2} + a_{B^*A} b_{B^*}$"
      ],
      "text/plain": [
       "a_{2A}⋅b₂ + a_{B__*A}⋅b_{B__*}"
      ]
     },
     "execution_count": 28,
     "metadata": {},
     "output_type": "execute_result"
    }
   ],
   "source": [
    "sp.solve(expr_s_hybrid, s_hybrid)[0]"
   ]
  },
  {
   "cell_type": "code",
   "execution_count": 29,
   "metadata": {},
   "outputs": [],
   "source": [
    "lhs = expr_s_hybrid.subs(\n",
    "    [\n",
    "        (b_2, sp.solve(expr_b_2(), b_2)[0]), # express b in terms of e and x\n",
    "        (a_2A, sp.solve(expr_a_2A(), a_2A)[0]), # express a in terms of z and x\n",
    "        (b_Bstar, sp.solve(expr_b_Bstar(), b_Bstar)[0]), # express b in terms of e and x\n",
    "        (a_BstarA, sp.solve(expr_a_BstarA(), a_BstarA)[0]), # express a in terms of z and x\n",
    "    ]\n",
    ")"
   ]
  },
  {
   "cell_type": "code",
   "execution_count": 30,
   "metadata": {},
   "outputs": [
    {
     "data": {
      "image/png": "[encoded data removed]",
      "text/latex": [
       "$\\displaystyle \\frac{e_{2} z_{2A}}{x_{2} x_{A}} + \\frac{e_{B^*} z_{B^*A}}{x_{A} x_{B^*}}$"
      ],
      "text/plain": [
       "e₂⋅z_{2A}   e_{B__*}⋅z_{B__*A}\n",
       "───────── + ──────────────────\n",
       " x₂⋅x_A        x_A⋅x_{B__*}   "
      ]
     },
     "execution_count": 30,
     "metadata": {},
     "output_type": "execute_result"
    }
   ],
   "source": [
    "sp.solve(lhs, s_hybrid)[0]"
   ]
  },
  {
   "cell_type": "code",
   "execution_count": 69,
   "metadata": {},
   "outputs": [
    {
     "data": {
      "image/png": "[encoded data removed]",
      "text/latex": [
       "$\\displaystyle 0.0516666666666667$"
      ],
      "text/plain": [
       "0.0516666666666667"
      ]
     },
     "execution_count": 69,
     "metadata": {},
     "output_type": "execute_result"
    }
   ],
   "source": [
    "sp.solve(lhs, s_hybrid)[0].subs(\n",
    "    [\n",
    "        (e_2, num_e_2),\n",
    "        (x_A, num_x_A),\n",
    "        (x_2, num_x_2),\n",
    "        (z_2A, num_z_2A),\n",
    "        (z_BstarA, num_z_BstarA),\n",
    "        (x_Bstar, num_x_Bstar),\n",
    "        (e_Bstar, num_e_Bstar),\n",
    "    ]\n",
    ")"
   ]
  },
  {
   "cell_type": "code",
   "execution_count": null,
   "metadata": {},
   "outputs": [],
   "source": []
  }
 ],
 "metadata": {
  "kernelspec": {
   "display_name": "main",
   "language": "python",
   "name": "python3"
  },
  "language_info": {
   "codemirror_mode": {
    "name": "ipython",
    "version": 3
   },
   "file_extension": ".py",
   "mimetype": "text/x-python",
   "name": "python",
   "nbconvert_exporter": "python",
   "pygments_lexer": "ipython3",
   "version": "3.11.8"
  }
 },
 "nbformat": 4,
 "nbformat_minor": 2
}
