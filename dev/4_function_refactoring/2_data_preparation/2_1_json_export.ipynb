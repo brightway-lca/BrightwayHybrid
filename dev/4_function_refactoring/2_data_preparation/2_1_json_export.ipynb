{
 "cells": [
  {
   "attachments": {},
   "cell_type": "markdown",
   "metadata": {},
   "source": [
    "# 0.1. imports"
   ]
  },
  {
   "cell_type": "code",
   "execution_count": 3,
   "metadata": {},
   "outputs": [],
   "source": [
    "import json\n",
    "import pandas as pd"
   ]
  },
  {
   "attachments": {},
   "cell_type": "markdown",
   "metadata": {},
   "source": [
    "# 1. data export"
   ]
  },
  {
   "cell_type": "code",
   "execution_count": 12,
   "metadata": {},
   "outputs": [],
   "source": [
    "dict_exiobase_environmental_extensions_sum_rows: dict = {\n",
    "    \"Benzo(a)pyrene - air\": \"'Benzo(a)pyrene - combustion - air' | 'B(a)P - non combustion - Primary aluminium production - air' | 'B(a)P - non combustion - Production of coke oven coke - air' | 'B(a)P - non combustion - Production of gascoke - air'\",\n",
    "    \"Benzo(b)fluoranthene - air\": \"'Benzo(b)fluoranthene - combustion - air' | 'B(b)F - non combustion - Primary aluminium production - air' | 'B(b)F - non combustion - Production of coke oven coke - air' | 'B(b)F - non combustion - Production of gascoke - air'\",\n",
    "    \"Benzo(k)fluoranthene - air\": \"'Benzo(k)fluoranthene - combustion - air' | 'B(k)F - non combustion - Primary aluminium production - air' | 'B(k)F - non combustion - Production of coke oven coke - air' | 'B(k)F - non combustion - Production of gascoke - air'\",\n",
    "    \"CO2 - biogenic - air\": \"'CO2 - waste - biogenic - air'\",\n",
    "    \"Pxx - soil\": \"'Pxx - agriculture - soil' | 'P - agriculture - soil'\",\n",
    "    \"CH4 - air\": \"'CH4'\",\n",
    "    \"N2O - air\": \"'N2O'\",\n",
    "    \"SOx - air\": \"'SOx'\",\n",
    "    \"NH3 - air\": \"'NH3'\",\n",
    "    \"HCB - air\": \"'HCB'\",\n",
    "    \"NMVOC - air\": \"'NMVOC'\",\n",
    "    \"PM10 - air\": \"'PM10'\",\n",
    "    \"PM2.5 - air\": \"'PM2.5'\",\n",
    "    \"TSP - air\": \"'TSP'\",\n",
    "    \"Cd - air\": \"'Cd'\",\n",
    "    \"Hg - air\": \"'Hg'\",\n",
    "    \"Pb - air\": \"'Pb'\",\n",
    "    \"Zn - air\": \"'Zn'\",\n",
    "    \"PAH - air\": \"'PAH'\",\n",
    "    \"CO2 - air\": \"'CO2'  & ~'biogenic'\",\n",
    "    \"CO - air\": \"'CO'  & '2' not\",\n",
    "    \"NOx - air\": \"'NOx' | 'NOX'\",\n",
    "    \"Indeno\\\"1,2,3-cd)pyrene - air\": \"'Indeno'\",\n",
    "    \"PCBs - air\": \"'PCB'\",\n",
    "    \"PCDD_F - air\": \"'PCDD'\",\n",
    "    \"As - air\": \"'As -'\",\n",
    "    \"Ni - air\": \"'Ni -'\",\n",
    "    \"Cr - air\": \"'Cr -'\",\n",
    "    \"Cu - air\": \"'Cu -'\",\n",
    "    \"Se - air\": \"'Se -'\",\n",
    "    \"N - water\": \"'N -'  & 'water'\",\n",
    "    \"P - water\": \"'P -'  & 'water' \"\n",
    "}"
   ]
  },
  {
   "cell_type": "code",
   "execution_count": 5,
   "metadata": {},
   "outputs": [],
   "source": [
    "list_exiobase_environmental_extensions_drop_rows: list = [\n",
    "    \"Energy Carrier Net\",\n",
    "    \"Emissions nec - waste - undef\"\n",
    "]"
   ]
  },
  {
   "cell_type": "code",
   "execution_count": 14,
   "metadata": {},
   "outputs": [],
   "source": [
    "with open('./dict_exiobase_environmental_extensions_sum_rows.json', 'w') as outfile:\n",
    "    json.dump(dict_exiobase_environmental_extensions_sum_rows, outfile, indent = 4)"
   ]
  },
  {
   "cell_type": "code",
   "execution_count": 6,
   "metadata": {},
   "outputs": [],
   "source": [
    "with open('./list_exiobase_environmental_extensions_drop_rows.json', 'w') as outfile:\n",
    "    json.dump(list_exiobase_environmental_extensions_drop_rows, outfile, indent = 4)"
   ]
  }
 ],
 "metadata": {
  "kernelspec": {
   "display_name": "pylcaio",
   "language": "python",
   "name": "python3"
  },
  "language_info": {
   "codemirror_mode": {
    "name": "ipython",
    "version": 3
   },
   "file_extension": ".py",
   "mimetype": "text/x-python",
   "name": "python",
   "nbconvert_exporter": "python",
   "pygments_lexer": "ipython3",
   "version": "3.11.0"
  },
  "orig_nbformat": 4,
  "vscode": {
   "interpreter": {
    "hash": "af11b17298303d3420ac04a2d81997bb73d15b4df2e0afffe06f0aa93756cff5"
   }
  }
 },
 "nbformat": 4,
 "nbformat_minor": 2
}
