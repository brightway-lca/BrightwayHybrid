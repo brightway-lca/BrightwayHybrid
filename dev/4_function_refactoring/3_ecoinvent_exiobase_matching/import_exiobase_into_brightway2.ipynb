{
 "cells": [
  {
   "attachments": {},
   "cell_type": "markdown",
   "metadata": {},
   "source": [
    "# 0.1. imports"
   ]
  },
  {
   "cell_type": "code",
   "execution_count": 4,
   "metadata": {},
   "outputs": [],
   "source": [
    "# lca\n",
    "import bw2data\n",
    "import bw2io\n",
    "# i/o\n",
    "import gzip\n",
    "# data science\n",
    "import pandas as pd\n",
    "import  numpy\n",
    "import scipy"
   ]
  },
  {
   "cell_type": "code",
   "execution_count": 2,
   "metadata": {},
   "outputs": [],
   "source": [
    "%load_ext autoreload\n",
    "%autoreload 2"
   ]
  },
  {
   "attachments": {},
   "cell_type": "markdown",
   "metadata": {},
   "source": [
    "# 1. load required data\n",
    "## 1.1. load `pylcaio` object"
   ]
  },
  {
   "cell_type": "code",
   "execution_count": 5,
   "metadata": {},
   "outputs": [],
   "source": [
    "with gzip.open('/Users/michaelweinold/data/data_processed/hybrid.pickle','rb') as f:\n",
    "    hybrid_pickle = pd.read_pickle(f)"
   ]
  },
  {
   "attachments": {},
   "cell_type": "markdown",
   "metadata": {},
   "source": [
    "# 2. refactoring\n",
    "## 2.1. legacy function"
   ]
  },
  {
   "cell_type": "code",
   "execution_count": null,
   "metadata": {},
   "outputs": [],
   "source": [
    "def import_exiobase_into_brightway2(self):\n",
    "\n",
    "        print('Starting import of exiobase')\n",
    "        print('Aggregating results')\n",
    "        # calculating aggregated results for exiobase\n",
    "        self.Lio = scipy.sparse.csr_matrix(\n",
    "            np.linalg.solve(np.eye(self.A_io.shape[0]) - self.A_io.todense(), np.eye(self.A_io.shape[0])))\n",
    "        aggregated_results = pd.DataFrame((self.C_io.dot(self.F_io).dot(self.Lio)).todense(), self.impact_categories_IO,\n",
    "                                          pd.MultiIndex.from_product([self.regions_of_IO, self.sectors_of_IO]))\n",
    "        print('Formating data')\n",
    "        # create hash codes for exiobase sectors\n",
    "        give_hash_to_exio = dict.fromkeys(aggregated_results.columns)\n",
    "        give_hash_to_exio = {k: hashlib.md5(str(k).encode()).hexdigest() for k, v in give_hash_to_exio.items()}\n",
    "        aggregated_results.columns = [give_hash_to_exio[i] for i in aggregated_results.columns]\n",
    "\n",
    "        # link IMPACT World+ impact categories typology to the methods abbreviations used in brightway2\n",
    "        IW_pylcaio_to_bw2 = dict.fromkeys(self.impact_categories_IO)\n",
    "        for IW_category in IW_pylcaio_to_bw2:\n",
    "            if 'PDF' in IW_category or 'DALY' in IW_category:\n",
    "                IW_pylcaio_to_bw2[IW_category] = \\\n",
    "                bw2data.methods.get(('IMPACTWorld+ (Default_Recommended_Damage 1.46)', IW_category.split(' (')[0]))[\n",
    "                    'abbreviation']\n",
    "            else:\n",
    "                IW_pylcaio_to_bw2[IW_category] = \\\n",
    "                bw2data.methods.get(('IMPACTWorld+ (Default_Recommended_Midpoint 1.28)', IW_category.split(' (')[0]))[\n",
    "                    'abbreviation']\n",
    "        aggregated_results.index = list(IW_pylcaio_to_bw2.values())"
   ]
  },
  {
   "attachments": {},
   "cell_type": "markdown",
   "metadata": {},
   "source": [
    "## 2.2. investigation"
   ]
  },
  {
   "attachments": {},
   "cell_type": "markdown",
   "metadata": {},
   "source": [
    "## 2.3. new function\n"
   ]
  }
 ],
 "metadata": {
  "kernelspec": {
   "display_name": "pylcaio_ecoinvent_3_8",
   "language": "python",
   "name": "python3"
  },
  "language_info": {
   "codemirror_mode": {
    "name": "ipython",
    "version": 3
   },
   "file_extension": ".py",
   "mimetype": "text/x-python",
   "name": "python",
   "nbconvert_exporter": "python",
   "pygments_lexer": "ipython3",
   "version": "3.11.0"
  },
  "orig_nbformat": 4,
  "vscode": {
   "interpreter": {
    "hash": "4c94ee24e1532ac4488012501eb7eb91918c4fcf855f7040e8d54c11fc95bf9d"
   }
  }
 },
 "nbformat": 4,
 "nbformat_minor": 2
}
