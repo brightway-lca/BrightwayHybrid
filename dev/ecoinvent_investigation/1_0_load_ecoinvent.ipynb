{
 "cells": [
  {
   "attachments": {},
   "cell_type": "markdown",
   "metadata": {},
   "source": [
    "# 0.1. imports"
   ]
  },
  {
   "cell_type": "code",
   "execution_count": 1,
   "metadata": {},
   "outputs": [],
   "source": [
    "# i/o\n",
    "import sys\n",
    "import os\n",
    "from pathlib import Path\n",
    "import gzip\n",
    "import pickle\n",
    "# configuration\n",
    "import yaml\n",
    "# lca\n",
    "import ecospold2matrix as e2m\n",
    "import pymrio\n",
    "#import brightway2 as bw\n",
    "# type hints\n",
    "from ecospold2matrix import ecospold2matrix\n",
    "from pymrio import IOSystem\n",
    "# data science\n",
    "import pandas as pd\n",
    "# deep copy\n",
    "import copy"
   ]
  },
  {
   "attachments": {},
   "cell_type": "markdown",
   "metadata": {},
   "source": [
    "# 0.2. config"
   ]
  },
  {
   "cell_type": "code",
   "execution_count": 2,
   "metadata": {},
   "outputs": [],
   "source": [
    "with open('../config.yaml', 'r') as filestream:\n",
    "    config = yaml.load(filestream, Loader = yaml.FullLoader)"
   ]
  },
  {
   "attachments": {},
   "cell_type": "markdown",
   "metadata": {},
   "source": [
    "# 0.3. load `pylcaio`"
   ]
  },
  {
   "cell_type": "code",
   "execution_count": 3,
   "metadata": {},
   "outputs": [],
   "source": [
    "sys.path.append(str(Path(Path.home(), config['path_dir_repo_pylcaio'])))\n",
    "import pylcaio "
   ]
  },
  {
   "attachments": {},
   "cell_type": "markdown",
   "metadata": {},
   "source": [
    "# 0.4. file paths\n",
    "## 0.4.1. names"
   ]
  },
  {
   "cell_type": "code",
   "execution_count": 4,
   "metadata": {},
   "outputs": [],
   "source": [
    "%%capture\n",
    "print(ecoinvent_version_name := config['ecoinvent_version_name'])"
   ]
  },
  {
   "attachments": {},
   "cell_type": "markdown",
   "metadata": {},
   "source": [
    "## 0.4.2. directories"
   ]
  },
  {
   "cell_type": "code",
   "execution_count": 5,
   "metadata": {},
   "outputs": [],
   "source": [
    "%%capture\n",
    "print(path_dir_data := Path(Path.home(), config['path_dir_data']))\n",
    "print(path_dir_data_raw := Path(path_dir_data, config['path_dir_data_raw']))\n",
    "print(path_dir_data_processed := Path(path_dir_data, config['path_dir_data_processed']))\n",
    "print(path_dir_processing_logs := Path(path_dir_data_processed, config['path_dir_processing_logs']))\n",
    "# ecoinvent\n",
    "print(path_dir_ecoinvent := Path(path_dir_data_raw, ecoinvent_version_name))"
   ]
  },
  {
   "attachments": {},
   "cell_type": "markdown",
   "metadata": {},
   "source": [
    "## 0.4.3. files"
   ]
  },
  {
   "cell_type": "code",
   "execution_count": 8,
   "metadata": {},
   "outputs": [],
   "source": [
    "%%capture\n",
    "print(path_file_ecoinvent_characterization := Path(path_dir_data_raw, config['ecoinvent_characterization_file']))"
   ]
  },
  {
   "attachments": {},
   "cell_type": "markdown",
   "metadata": {},
   "source": [
    "# 1.1. load `Ecoinvent`\n",
    "## 1.1.1 read ecoinvent and write to pickle\n",
    "⏳ ~12min"
   ]
  },
  {
   "cell_type": "code",
   "execution_count": 15,
   "metadata": {},
   "outputs": [
    {
     "name": "stderr",
     "output_type": "stream",
     "text": [
      "2023-01-03 14:48:34,407 - ecoinvent_3.5_cutoff_ecoSpold02 - INFO - Ecospold2Matrix Processing\n",
      "2023-01-03 14:48:34,417 - ecoinvent_3.5_cutoff_ecoSpold02 - INFO - Current git commit: 9a062cd045c2285999f296ef9a524bf3da58c6a7\n",
      "2023-01-03 14:48:34,418 - ecoinvent_3.5_cutoff_ecoSpold02 - INFO - Project name: ecoinvent_3.5_cutoff_ecoSpold02\n",
      "2023-01-03 14:48:34,419 - ecoinvent_3.5_cutoff_ecoSpold02 - INFO - Unit process and Master data directory: /Users/michaelweinold/data/data_raw/ecoinvent_3.5_cutoff_ecoSpold02\n",
      "2023-01-03 14:48:34,419 - ecoinvent_3.5_cutoff_ecoSpold02 - INFO - Data saved in: /Users/michaelweinold/data/data_processed\n",
      "2023-01-03 14:48:34,419 - ecoinvent_3.5_cutoff_ecoSpold02 - INFO - Replace Not-a-Number instances with 0.0 in all matrices\n",
      "2023-01-03 14:48:34,420 - ecoinvent_3.5_cutoff_ecoSpold02 - INFO - Pickle intermediate results to files\n",
      "2023-01-03 14:48:34,420 - ecoinvent_3.5_cutoff_ecoSpold02 - INFO - Order processes based on: ISIC, activityName\n",
      "2023-01-03 14:48:34,420 - ecoinvent_3.5_cutoff_ecoSpold02 - INFO - Order elementary exchanges based on: comp, name, subcomp\n",
      "2023-01-03 14:48:34,434 - ecoinvent_3.5_cutoff_ecoSpold02 - WARNING - obs2char_subcomps constraints temporarily relaxed because not full recipe parsed\n"
     ]
    }
   ],
   "source": [
    "parser = e2m.Ecospold2Matrix(\n",
    "    sys_dir = str(path_dir_ecoinvent), # passing a Posix Path object breaks the functionality\n",
    "    characterisation_file = path_file_ecoinvent_characterization,\n",
    "    project_name = ecoinvent_version_name,\n",
    "    out_dir = path_dir_data_processed,\n",
    "    positive_waste = False,\n",
    "    nan2null = True\n",
    ")\n",
    "parser.save_interm = False\n",
    "parser.prefer_pickles = True"
   ]
  },
  {
   "cell_type": "code",
   "execution_count": 16,
   "metadata": {},
   "outputs": [
    {
     "name": "stderr",
     "output_type": "stream",
     "text": [
      "2023-01-03 14:48:41,554 - ecoinvent_3.5_cutoff_ecoSpold02 - INFO - Products extracted from IntermediateExchanges.xml with SHA-1 of b2c87a5bf5982a60515a6e1160e43c620a218369\n",
      "2023-01-03 14:48:55,012 - ecoinvent_3.5_cutoff_ecoSpold02 - WARNING - Removed 1148 duplicate rows from activity_list, see duplicate_activity_list.csv.\n",
      "2023-01-03 14:48:55,068 - ecoinvent_3.5_cutoff_ecoSpold02 - INFO - Activities extracted from ActivityIndex.xml with SHA-1 of 3ac94e9826a9a031ff2e0bfbdceeecaeb72a9117\n",
      "2023-01-03 14:48:55,093 - ecoinvent_3.5_cutoff_ecoSpold02 - INFO - Processing 16022 files in /Users/michaelweinold/data/data_raw/ecoinvent_3.5_cutoff_ecoSpold02/datasets\n",
      "2023-01-03 14:49:51,153 - ecoinvent_3.5_cutoff_ecoSpold02 - INFO - Processing 16022 files - this may take a while ...\n",
      "2023-01-03 14:51:07,770 - ecoinvent_3.5_cutoff_ecoSpold02 - INFO - Elementary flows extracted from ElementaryExchanges.xml with SHA-1 of 0caa74a71870c1432557a91516a6da63d319b594\n",
      "2023-01-03 14:51:07,791 - ecoinvent_3.5_cutoff_ecoSpold02 - INFO - OK.   No untraceable flows.\n",
      "2023-01-03 14:51:07,964 - ecoinvent_3.5_cutoff_ecoSpold02 - INFO - OK. Source activities seem in order. Each product traceable to an activity that actually does produce or distribute this product.\n",
      "2023-01-03 14:51:08,254 - ecoinvent_3.5_cutoff_ecoSpold02 - INFO - Starting to assemble the matrices\n",
      "2023-01-03 14:51:10,146 - ecoinvent_3.5_cutoff_ecoSpold02 - INFO - fillna\n",
      "2023-01-03 14:51:14,013 - ecoinvent_3.5_cutoff_ecoSpold02 - INFO - Starting normalizing matrices\n",
      "2023-01-03 14:51:22,279 - ecoinvent_3.5_cutoff_ecoSpold02 - INFO - Characterisation file seems to be ecoinvent LCIA implementation. Will apply simple name matching\n"
     ]
    },
    {
     "name": "stdout",
     "output_type": "stream",
     "text": [
      "starting characterisation\n"
     ]
    },
    {
     "name": "stderr",
     "output_type": "stream",
     "text": [
      "2023-01-03 14:51:34,188 - ecoinvent_3.5_cutoff_ecoSpold02 - INFO - Will use column 7, named CF_35, for characterisation factors\n",
      "2023-01-03 14:51:34,189 - ecoinvent_3.5_cutoff_ecoSpold02 - INFO - Starting characterisation matching\n",
      "2023-01-03 14:51:38,078 - ecoinvent_3.5_cutoff_ecoSpold02 - INFO - Characterisation matching done. C matrix created\n",
      "2023-01-03 14:51:38,120 - ecoinvent_3.5_cutoff_ecoSpold02 - INFO - Starting to export to file\n",
      "2023-01-03 14:51:38,121 - ecoinvent_3.5_cutoff_ecoSpold02 - INFO - about to write to file\n",
      "2023-01-03 14:55:08,571 - ecoinvent_3.5_cutoff_ecoSpold02 - INFO - Final, symmetric, normalized matrices saved in /Users/michaelweinold/data/data_processed/ecoinvent_3.5_cutoff_ecoSpold02Pandas_symmNorm.gz.pickle with SHA-1 of 9f1d76d633cca6be7f1e2f9e2fecf010c70033b0\n",
      "2023-01-03 14:58:40,225 - ecoinvent_3.5_cutoff_ecoSpold02 - INFO - Final, symmetric, scaled-up flow matrices saved in /Users/michaelweinold/data/data_processed/ecoinvent_3.5_cutoff_ecoSpold02Pandas_symmScale.gz.pickle with SHA-1 of 0003fede397d060b8dc1624e7dd9646c0e33304c\n",
      "2023-01-03 14:58:40,226 - ecoinvent_3.5_cutoff_ecoSpold02 - INFO - Done running ecospold2matrix.ecospold_to_Leontief\n"
     ]
    }
   ],
   "source": [
    "parser.ecospold_to_Leontief(\n",
    "    fileformats = 'Pandas',\n",
    "    with_absolute_flows = True\n",
    ")"
   ]
  },
  {
   "attachments": {},
   "cell_type": "markdown",
   "metadata": {},
   "source": [
    "## 1.1.2 remove all files other than the pickled dictionaries of `pd.DataFrame`s"
   ]
  },
  {
   "cell_type": "code",
   "execution_count": 31,
   "metadata": {},
   "outputs": [],
   "source": [
    "Path.unlink(Path.cwd() / (ecoinvent_version_name + '_characterisation.db'), missing_ok = True)\n",
    "Path.unlink(Path.cwd() / 'C_long', missing_ok = True)"
   ]
  }
 ],
 "metadata": {
  "kernelspec": {
   "display_name": "Python 3.10.6 ('pylcaio')",
   "language": "python",
   "name": "python3"
  },
  "language_info": {
   "codemirror_mode": {
    "name": "ipython",
    "version": 3
   },
   "file_extension": ".py",
   "mimetype": "text/x-python",
   "name": "python",
   "nbconvert_exporter": "python",
   "pygments_lexer": "ipython3",
   "version": "3.11.0"
  },
  "orig_nbformat": 4,
  "vscode": {
   "interpreter": {
    "hash": "af11b17298303d3420ac04a2d81997bb73d15b4df2e0afffe06f0aa93756cff5"
   }
  }
 },
 "nbformat": 4,
 "nbformat_minor": 2
}
