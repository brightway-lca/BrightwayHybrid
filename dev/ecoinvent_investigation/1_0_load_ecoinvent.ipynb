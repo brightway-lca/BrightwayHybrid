{
 "cells": [
  {
   "attachments": {},
   "cell_type": "markdown",
   "metadata": {},
   "source": [
    "# 0.1. imports"
   ]
  },
  {
   "cell_type": "code",
   "execution_count": 1,
   "metadata": {},
   "outputs": [],
   "source": [
    "# i/o\n",
    "import sys\n",
    "import os\n",
    "from pathlib import Path\n",
    "import gzip\n",
    "import pickle\n",
    "# configuration\n",
    "import yaml\n",
    "# lca\n",
    "import ecospold2matrix as e2m\n",
    "import pymrio\n",
    "#import brightway2 as bw\n",
    "# type hints\n",
    "from ecospold2matrix import ecospold2matrix\n",
    "from pymrio import IOSystem\n",
    "# data science\n",
    "import pandas as pd\n",
    "# deep copy\n",
    "import copy"
   ]
  },
  {
   "attachments": {},
   "cell_type": "markdown",
   "metadata": {},
   "source": [
    "# 0.2. config"
   ]
  },
  {
   "cell_type": "code",
   "execution_count": 2,
   "metadata": {},
   "outputs": [],
   "source": [
    "with open('../config.yaml', 'r') as filestream:\n",
    "    config = yaml.load(filestream, Loader = yaml.FullLoader)"
   ]
  },
  {
   "attachments": {},
   "cell_type": "markdown",
   "metadata": {},
   "source": [
    "# 0.3. load `pylcaio`"
   ]
  },
  {
   "cell_type": "code",
   "execution_count": 3,
   "metadata": {},
   "outputs": [],
   "source": [
    "sys.path.append(Path.joinpath(Path.home(), config['pylcaio'])) # required for local import of pylcaio\n",
    "import pylcaio"
   ]
  },
  {
   "attachments": {},
   "cell_type": "markdown",
   "metadata": {},
   "source": [
    "# 0.4. file paths\n",
    "## 0.4.1. names"
   ]
  },
  {
   "cell_type": "code",
   "execution_count": 4,
   "metadata": {},
   "outputs": [],
   "source": [
    "%%capture\n",
    "print(ecoinvent_version_name := 'ecoinvent_3.5_cutoff_ecoSpold02')"
   ]
  },
  {
   "attachments": {},
   "cell_type": "markdown",
   "metadata": {},
   "source": [
    "## 0.4.2. directories"
   ]
  },
  {
   "cell_type": "code",
   "execution_count": 28,
   "metadata": {},
   "outputs": [],
   "source": [
    "%%capture\n",
    "print(path_dir_data := Path.joinpath(Path.home(), config['path_dir_data']))\n",
    "print(path_dir_data_raw := Path.joinpath(path_dir_data, config['path_dir_data_raw']))\n",
    "print(path_dir_data_processed := Path.joinpath(path_dir_data, config['path_dir_data_processed']))\n",
    "print(path_dir_processing_logs := Path.joinpath(path_dir_data_processed, config['path_dir_processing_logs']))\n",
    "# ecoinvent\n",
    "print(path_dir_ecoinvent := Path.joinpath(path_dir_data_raw, ecoinvent_version_name))"
   ]
  },
  {
   "attachments": {},
   "cell_type": "markdown",
   "metadata": {},
   "source": [
    "# 1.1. load `Ecoinvent`\n",
    "## 1.1.1 read ecoinvent and write to pickle\n",
    "⏳ ~12min"
   ]
  },
  {
   "cell_type": "code",
   "execution_count": 7,
   "metadata": {},
   "outputs": [
    {
     "name": "stderr",
     "output_type": "stream",
     "text": [
      "2023-01-03 08:49:07,826 - ecoinvent_3.5_cutoff_ecoSpold02 - INFO - Ecospold2Matrix Processing\n",
      "2023-01-03 08:49:07,837 - ecoinvent_3.5_cutoff_ecoSpold02 - INFO - Current git commit: 14d0e991c19b124b5e1310207919726587af711e\n",
      "2023-01-03 08:49:07,839 - ecoinvent_3.5_cutoff_ecoSpold02 - INFO - Project name: ecoinvent_3.5_cutoff_ecoSpold02\n",
      "2023-01-03 08:49:07,839 - ecoinvent_3.5_cutoff_ecoSpold02 - INFO - Unit process and Master data directory: /Users/michaelweinold/data/data_raw/ecoinvent_3.5_cutoff_ecoSpold02\n",
      "2023-01-03 08:49:07,840 - ecoinvent_3.5_cutoff_ecoSpold02 - INFO - Data saved in: /Users/michaelweinold/data/data_processed\n",
      "2023-01-03 08:49:07,840 - ecoinvent_3.5_cutoff_ecoSpold02 - INFO - Replace Not-a-Number instances with 0.0 in all matrices\n",
      "2023-01-03 08:49:07,840 - ecoinvent_3.5_cutoff_ecoSpold02 - INFO - Pickle intermediate results to files\n",
      "2023-01-03 08:49:07,841 - ecoinvent_3.5_cutoff_ecoSpold02 - INFO - Order processes based on: ISIC, activityName\n",
      "2023-01-03 08:49:07,841 - ecoinvent_3.5_cutoff_ecoSpold02 - INFO - Order elementary exchanges based on: comp, name, subcomp\n",
      "rm: ecoinvent_3.5_cutoff_ecoSpold02_characterisation.db: No such file or directory\n",
      "2023-01-03 08:49:07,854 - ecoinvent_3.5_cutoff_ecoSpold02 - WARNING - obs2char_subcomps constraints temporarily relaxed because not full recipe parsed\n"
     ]
    }
   ],
   "source": [
    "parser = e2m.Ecospold2Matrix(\n",
    "    sys_dir = path_dir_ecoinvent,\n",
    "    project_name = ecoinvent_version_name,\n",
    "    out_dir = path_dir_data_processed,\n",
    "    positive_waste = False,\n",
    "    nan2null = True\n",
    ")\n",
    "parser.save_interm = False\n",
    "parser.prefer_pickles = True"
   ]
  },
  {
   "cell_type": "code",
   "execution_count": 8,
   "metadata": {},
   "outputs": [
    {
     "name": "stderr",
     "output_type": "stream",
     "text": [
      "2023-01-03 08:49:08,017 - ecoinvent_3.5_cutoff_ecoSpold02 - INFO - Products extracted from IntermediateExchanges.xml with SHA-1 of b2c87a5bf5982a60515a6e1160e43c620a218369\n",
      "2023-01-03 08:49:22,237 - ecoinvent_3.5_cutoff_ecoSpold02 - WARNING - Removed 1148 duplicate rows from activity_list, see duplicate_activity_list.csv.\n",
      "2023-01-03 08:49:22,327 - ecoinvent_3.5_cutoff_ecoSpold02 - INFO - Activities extracted from ActivityIndex.xml with SHA-1 of 3ac94e9826a9a031ff2e0bfbdceeecaeb72a9117\n",
      "2023-01-03 08:49:22,350 - ecoinvent_3.5_cutoff_ecoSpold02 - INFO - Processing 16022 files in /Users/michaelweinold/data/data_raw/ecoinvent_3.5_cutoff_ecoSpold02/datasets\n",
      "2023-01-03 08:50:13,537 - ecoinvent_3.5_cutoff_ecoSpold02 - INFO - Processing 16022 files - this may take a while ...\n",
      "2023-01-03 08:51:24,722 - ecoinvent_3.5_cutoff_ecoSpold02 - INFO - Elementary flows extracted from ElementaryExchanges.xml with SHA-1 of 0caa74a71870c1432557a91516a6da63d319b594\n",
      "2023-01-03 08:51:24,738 - ecoinvent_3.5_cutoff_ecoSpold02 - INFO - OK.   No untraceable flows.\n",
      "2023-01-03 08:51:24,918 - ecoinvent_3.5_cutoff_ecoSpold02 - INFO - OK. Source activities seem in order. Each product traceable to an activity that actually does produce or distribute this product.\n",
      "2023-01-03 08:51:25,211 - ecoinvent_3.5_cutoff_ecoSpold02 - INFO - Starting to assemble the matrices\n",
      "2023-01-03 08:51:26,475 - ecoinvent_3.5_cutoff_ecoSpold02 - INFO - fillna\n",
      "2023-01-03 08:51:30,032 - ecoinvent_3.5_cutoff_ecoSpold02 - INFO - Starting normalizing matrices\n",
      "2023-01-03 08:51:36,702 - ecoinvent_3.5_cutoff_ecoSpold02 - INFO - Starting to export to file\n",
      "2023-01-03 08:51:36,703 - ecoinvent_3.5_cutoff_ecoSpold02 - INFO - about to write to file\n",
      "2023-01-03 08:55:08,433 - ecoinvent_3.5_cutoff_ecoSpold02 - INFO - Final, symmetric, normalized matrices saved in /Users/michaelweinold/data/data_processed/ecoinvent_3.5_cutoff_ecoSpold02Pandas_symmNorm.gz.pickle with SHA-1 of 9207800e1697e0ed26f7f26ad3861a47e8e8704f\n",
      "2023-01-03 08:58:38,063 - ecoinvent_3.5_cutoff_ecoSpold02 - INFO - Final, symmetric, scaled-up flow matrices saved in /Users/michaelweinold/data/data_processed/ecoinvent_3.5_cutoff_ecoSpold02Pandas_symmScale.gz.pickle with SHA-1 of 5c5d4e0f08878c169090a914fd36d81509746756\n",
      "2023-01-03 08:58:38,064 - ecoinvent_3.5_cutoff_ecoSpold02 - INFO - Done running ecospold2matrix.ecospold_to_Leontief\n"
     ]
    }
   ],
   "source": [
    "parser.ecospold_to_Leontief(\n",
    "    fileformats = 'Pandas',\n",
    "    with_absolute_flows = True\n",
    ")"
   ]
  },
  {
   "attachments": {},
   "cell_type": "markdown",
   "metadata": {},
   "source": [
    "## 1.1.2 remove database file"
   ]
  },
  {
   "cell_type": "code",
   "execution_count": null,
   "metadata": {},
   "outputs": [],
   "source": [
    "Path.unlink(Path.cwd() / (ecoinvent_version_name + '_characterisation.db'))"
   ]
  }
 ],
 "metadata": {
  "kernelspec": {
   "display_name": "Python 3.10.6 ('pylcaio')",
   "language": "python",
   "name": "python3"
  },
  "language_info": {
   "codemirror_mode": {
    "name": "ipython",
    "version": 3
   },
   "file_extension": ".py",
   "mimetype": "text/x-python",
   "name": "python",
   "nbconvert_exporter": "python",
   "pygments_lexer": "ipython3",
   "version": "3.11.0"
  },
  "orig_nbformat": 4,
  "vscode": {
   "interpreter": {
    "hash": "af11b17298303d3420ac04a2d81997bb73d15b4df2e0afffe06f0aa93756cff5"
   }
  }
 },
 "nbformat": 4,
 "nbformat_minor": 2
}
