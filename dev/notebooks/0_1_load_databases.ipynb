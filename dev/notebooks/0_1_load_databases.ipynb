{
 "cells": [
  {
   "cell_type": "markdown",
   "metadata": {},
   "source": [
    "### 0.0 follow setup instructions\n",
    "\n",
    "ℹ️ use [`pylcaio.yml`](https://github.com/michaelweinold/config_conda/blob/main/pylcaio.yml) to set up working conda environment.\n",
    "\n",
    "⚠️ beware the estimated hardware requirements:\n",
    "\n",
    "1. \\>16GB RAM\n",
    "\n",
    "⚠️ beware the following error messages:\n",
    "\n",
    "1. [`AttributeError: 'IOSystem' object has no attribute 'Z' and then KeyError: 'PRO'`](https://github.com/michaelweinold/pylcaio_integration_with_brightway/issues/4) \\\n",
    "Caused by repeated execution of the `database_loader.combine_ecoinvent_exiobase()` and/or `lcaio_object.hybridize()` functions.\n",
    "\n",
    "⚠️ `brightway` import [currently breaks `%autoreload` magic](https://github.com/brightway-lca/brightway2/issues/49)\n",
    "\n",
    "### 0.1. imports\n",
    "#### 0.1.1. regular imports"
   ]
  },
  {
   "cell_type": "code",
   "execution_count": 1,
   "metadata": {},
   "outputs": [],
   "source": [
    "# i/o\n",
    "import sys\n",
    "import os\n",
    "from pathlib import Path\n",
    "import gzip\n",
    "import pickle\n",
    "# configuration\n",
    "import yaml\n",
    "# lca\n",
    "import ecospold2matrix as e2m\n",
    "import pymrio\n",
    "#import brightway2 as bw\n",
    "# type hints\n",
    "from ecospold2matrix import ecospold2matrix\n",
    "from pymrio import IOSystem\n",
    "# data science\n",
    "import pandas as pd\n",
    "# deep copy\n",
    "import copy"
   ]
  },
  {
   "cell_type": "markdown",
   "metadata": {},
   "source": [
    "#### 0.1.2. local imports"
   ]
  },
  {
   "cell_type": "markdown",
   "metadata": {},
   "source": [
    "#### 0.1.3. load configuration file"
   ]
  },
  {
   "cell_type": "code",
   "execution_count": 3,
   "metadata": {},
   "outputs": [],
   "source": [
    "with open('config.yaml', 'r') as filestream:\n",
    "    config = yaml.load(filestream, Loader = yaml.FullLoader)"
   ]
  },
  {
   "cell_type": "markdown",
   "metadata": {},
   "source": [
    "#### 0.1.4. load `pylcaio`"
   ]
  },
  {
   "cell_type": "code",
   "execution_count": 4,
   "metadata": {},
   "outputs": [],
   "source": [
    "sys.path.append(os.path.join(Path.home(), config['pylcaio'])) # required for local import of pylcaio\n",
    "import pylcaio"
   ]
  },
  {
   "cell_type": "markdown",
   "metadata": {},
   "source": [
    "### 0.2. file paths\n",
    "#### 0.2.1. directories"
   ]
  },
  {
   "cell_type": "code",
   "execution_count": 5,
   "metadata": {},
   "outputs": [],
   "source": [
    "%%capture\n",
    "# home directory\n",
    "print(path_dir_home := Path.home())\n",
    "# input directory\n",
    "print(path_dir_databases := os.path.join(path_dir_home, config['path_dir_databases']))\n",
    "# output directories\n",
    "print(path_dir_data := os.path.join(path_dir_home, config['path_dir_data']))\n",
    "print(path_dir_pylcaio := os.path.join(path_dir_home, path_dir_data, config['path_dir_pylcaio']))\n",
    "print(path_dir_pymrio := os.path.join(path_dir_home, path_dir_data, config['path_dir_pymrio']))\n",
    "print(path_dir_e2m := os.path.join(path_dir_home, path_dir_data, config['path_dir_e2m']))"
   ]
  },
  {
   "cell_type": "markdown",
   "metadata": {},
   "source": [
    "#### 0.2.2. files"
   ]
  },
  {
   "cell_type": "code",
   "execution_count": 6,
   "metadata": {},
   "outputs": [],
   "source": [
    "%%capture\n",
    "# databases\n",
    "print(path_exiobase := os.path.join(path_dir_home, path_dir_databases, config['exiobase']))\n",
    "print(path_dir_ecoinvent := os.path.join(path_dir_home, path_dir_databases, config['ecoinvent']))\n",
    "# pylcaio output\n",
    "print(path_pylcaio_database_loader_class_instance := os.path.join(path_dir_pylcaio, config['pylcaio_database_loader_class_instance']))\n",
    "print(path_pylcaio_class_instance_before_hybrid := os.path.join(path_dir_pylcaio, config['pylcaio_class_instance_before_hybrid']))\n",
    "print(path_pylcaio_class_instance_after_hybrid := os.path.join(path_dir_pylcaio, config['pylcaio_class_instance_after_hybrid']))\n",
    "# pymrio output\n",
    "print(path_pymrio_class_instance := os.path.join(path_dir_pymrio, config['pymrio_class_instance']))"
   ]
  },
  {
   "cell_type": "code",
   "execution_count": 7,
   "metadata": {},
   "outputs": [
    {
     "name": "stdout",
     "output_type": "stream",
     "text": [
      "zsh:1: no matches found: /srv/data/ecoinvent-3.5-cutoff/*\n"
     ]
    }
   ],
   "source": [
    "!mkdir -p $path_dir_data\n",
    "!mkdir -p $path_dir_e2m\n",
    "!mkdir -p $path_dir_ecoinvent && cp -ru /srv/data/ecoinvent-3.5-cutoff/* $path_dir_ecoinvent\n",
    "#!mkdir -p $path_exiobase && cp -ru /srv/data/exiobase_monetary_pxp/* $path_exiobase"
   ]
  },
  {
   "cell_type": "markdown",
   "metadata": {},
   "source": [
    "### 1.1. read databases and create dataframes\n"
   ]
  },
  {
   "cell_type": "code",
   "execution_count": 8,
   "metadata": {},
   "outputs": [],
   "source": [
    "load_from_disk: bool = False"
   ]
  },
  {
   "cell_type": "markdown",
   "metadata": {},
   "source": [
    "#### 1.1.1 read Exiobase database and save pickle to disk\n",
    "\n",
    "❔ creates pymrio.IOSystem class instance (collection of pd.DataFrames etc.) \\\n",
    "⏳ ~1min if `load_from_disk == False`"
   ]
  },
  {
   "cell_type": "code",
   "execution_count": 10,
   "metadata": {},
   "outputs": [
    {
     "data": {
      "text/plain": [
       "'/Users/michaelweinold/data/data_pymrio/pymrio_class_instance.pkl'"
      ]
     },
     "execution_count": 10,
     "metadata": {},
     "output_type": "execute_result"
    }
   ],
   "source": [
    "path_pymrio_class_instance"
   ]
  },
  {
   "cell_type": "code",
   "execution_count": 9,
   "metadata": {},
   "outputs": [
    {
     "ename": "ReadError",
     "evalue": "Given path does not exist",
     "output_type": "error",
     "traceback": [
      "\u001b[0;31m---------------------------------------------------------------------------\u001b[0m",
      "\u001b[0;31mReadError\u001b[0m                                 Traceback (most recent call last)",
      "File \u001b[0;32m<timed exec>:5\u001b[0m\n",
      "File \u001b[0;32m/opt/homebrew/Caskroom/miniconda/base/envs/pylcaio/lib/python3.10/site-packages/pymrio/tools/ioparser.py:704\u001b[0m, in \u001b[0;36mparse_exiobase3\u001b[0;34m(path)\u001b[0m\n\u001b[1;32m    680\u001b[0m \u001b[39mdef\u001b[39;00m \u001b[39mparse_exiobase3\u001b[39m(path):\n\u001b[1;32m    681\u001b[0m     \u001b[39m\"\"\"Parses the public EXIOBASE 3 system\u001b[39;00m\n\u001b[1;32m    682\u001b[0m \n\u001b[1;32m    683\u001b[0m \u001b[39m    This parser works with either the compressed zip\u001b[39;00m\n\u001b[0;32m   (...)\u001b[0m\n\u001b[1;32m    702\u001b[0m \n\u001b[1;32m    703\u001b[0m \u001b[39m    \"\"\"\u001b[39;00m\n\u001b[0;32m--> 704\u001b[0m     io \u001b[39m=\u001b[39m load_all(path)\n\u001b[1;32m    705\u001b[0m     \u001b[39m# need to rename the final demand satellite,\u001b[39;00m\n\u001b[1;32m    706\u001b[0m     \u001b[39m# wrong name in the standard distribution\u001b[39;00m\n\u001b[1;32m    707\u001b[0m     \u001b[39mtry\u001b[39;00m:\n",
      "File \u001b[0;32m/opt/homebrew/Caskroom/miniconda/base/envs/pylcaio/lib/python3.10/site-packages/pymrio/core/fileio.py:131\u001b[0m, in \u001b[0;36mload_all\u001b[0;34m(path, include_core, subfolders, path_in_arc)\u001b[0m\n\u001b[1;32m    125\u001b[0m             path_in_arc \u001b[39m=\u001b[39m os\u001b[39m.\u001b[39mpath\u001b[39m.\u001b[39mdirname(fpfiles[\u001b[39m0\u001b[39m])\n\u001b[1;32m    127\u001b[0m     logging\u001b[39m.\u001b[39mdebug(\n\u001b[1;32m    128\u001b[0m         \u001b[39m\"\u001b[39m\u001b[39mExpect file parameter-file at \u001b[39m\u001b[39m{}\u001b[39;00m\u001b[39m in \u001b[39m\u001b[39m{}\u001b[39;00m\u001b[39m\"\u001b[39m\u001b[39m.\u001b[39mformat(path_in_arc, path)\n\u001b[1;32m    129\u001b[0m     )\n\u001b[0;32m--> 131\u001b[0m io \u001b[39m=\u001b[39m load(path, include_core\u001b[39m=\u001b[39;49minclude_core, path_in_arc\u001b[39m=\u001b[39;49mpath_in_arc)\n\u001b[1;32m    133\u001b[0m \u001b[39mif\u001b[39;00m zipfile\u001b[39m.\u001b[39mis_zipfile(\u001b[39mstr\u001b[39m(path)):\n\u001b[1;32m    134\u001b[0m     root_in_zip \u001b[39m=\u001b[39m os\u001b[39m.\u001b[39mpath\u001b[39m.\u001b[39mdirname(path_in_arc)\n",
      "File \u001b[0;32m/opt/homebrew/Caskroom/miniconda/base/envs/pylcaio/lib/python3.10/site-packages/pymrio/core/fileio.py:241\u001b[0m, in \u001b[0;36mload\u001b[0;34m(path, include_core, path_in_arc)\u001b[0m\n\u001b[1;32m    238\u001b[0m path \u001b[39m=\u001b[39m Path(path)\n\u001b[1;32m    240\u001b[0m \u001b[39mif\u001b[39;00m \u001b[39mnot\u001b[39;00m path\u001b[39m.\u001b[39mexists():\n\u001b[0;32m--> 241\u001b[0m     \u001b[39mraise\u001b[39;00m ReadError(\u001b[39m\"\u001b[39m\u001b[39mGiven path does not exist\u001b[39m\u001b[39m\"\u001b[39m)\n\u001b[1;32m    243\u001b[0m file_para \u001b[39m=\u001b[39m get_file_para(path\u001b[39m=\u001b[39mpath, path_in_arc\u001b[39m=\u001b[39mpath_in_arc)\n\u001b[1;32m    245\u001b[0m \u001b[39mif\u001b[39;00m file_para\u001b[39m.\u001b[39mcontent[\u001b[39m\"\u001b[39m\u001b[39msystemtype\u001b[39m\u001b[39m\"\u001b[39m] \u001b[39m==\u001b[39m GENERIC_NAMES[\u001b[39m\"\u001b[39m\u001b[39miosys\u001b[39m\u001b[39m\"\u001b[39m]:\n",
      "\u001b[0;31mReadError\u001b[0m: Given path does not exist"
     ]
    }
   ],
   "source": [
    "%%time\n",
    "if load_from_disk == True:\n",
    "     with open(path_pymrio_class_instance, 'rb') as filestream:\n",
    "        exiobase: pymrio.core.mriosystem.IOSystem = pd.read_pickle(filestream)\n",
    "else:\n",
    "    exiobase: pymrio.IOSystem = pymrio.parse_exiobase3(path_exiobase)\n",
    "    with open(path_pymrio_class_instance, 'wb') as file_handle:    \n",
    "        pickle.dump(obj = exiobase, file = file_handle, protocol=pickle.HIGHEST_PROTOCOL)"
   ]
  },
  {
   "cell_type": "markdown",
   "metadata": {},
   "source": [
    "#### 1.1.2 read ecoinvent\n",
    "\n",
    "❔ creates e2m.Ecospold2Matrix class instance and writes dataframe to defined output directory in `pickle` format. \\\n",
    "⏳ ~12min if `load_from_disk == False`"
   ]
  },
  {
   "cell_type": "code",
   "execution_count": 17,
   "metadata": {},
   "outputs": [
    {
     "name": "stdout",
     "output_type": "stream",
     "text": [
      "ecoinvent_3_5_cutoff\n",
      "/home/weinold/data/data_e2m/ecoinvent_3_5_cutoff/_log\n",
      "/home/weinold/data/data_e2m/ecoinvent_3_5_cutoffPandas_symmNorm.gz.pickle\n",
      "*.db\n"
     ]
    }
   ],
   "source": [
    "%%capture\n",
    "print(e2m_project_name := config['e2m_project_name'])\n",
    "print(path_dir_e2m_logs := os.path.join(path_dir_e2m, e2m_project_name, config['path_dir_e2m_logs']))\n",
    "print(path_file_e2m_pickle := os.path.join(path_dir_e2m, e2m_project_name + config['e2m_pickle_filename']))\n",
    "print(pattern_e2m_characterization_db := '*.db')"
   ]
  },
  {
   "cell_type": "code",
   "execution_count": null,
   "metadata": {},
   "outputs": [],
   "source": [
    "def delete_e2m_files(list_string: list) -> None:\n",
    "    for i in list_string:\n",
    "        !rm -rf $i\n",
    "    pass"
   ]
  },
  {
   "cell_type": "code",
   "execution_count": 11,
   "metadata": {},
   "outputs": [],
   "source": [
    "def copy_ecoinvent_from_shared_to_local(path: path_dir_ecoinvent) -> None:\n",
    "    !mkdir -p $path_dir_ecoinvent && cp -ru /srv/data/ecoinvent-3.5-cutoff/* $path_dir_ecoinvent\n",
    "    pass"
   ]
  },
  {
   "cell_type": "code",
   "execution_count": 13,
   "metadata": {},
   "outputs": [
    {
     "name": "stderr",
     "output_type": "stream",
     "text": [
      "2022-09-12 11:28:40,279 - ecoinvent_3_5_cutoff - INFO - Ecospold2Matrix Processing\n",
      "2022-09-12 11:28:40,282 - ecoinvent_3_5_cutoff - INFO - Current git commit: e9d511bcbee84ffbbaee8d6b2bb8b8565815bff0\n",
      "2022-09-12 11:28:40,282 - ecoinvent_3_5_cutoff - INFO - Project name: ecoinvent_3_5_cutoff\n",
      "2022-09-12 11:28:40,283 - ecoinvent_3_5_cutoff - INFO - Unit process and Master data directory: /home/weinold/data_pylcaio_input/ecoinvent-3.5-cutoff\n",
      "2022-09-12 11:28:40,283 - ecoinvent_3_5_cutoff - INFO - Data saved in: /home/weinold/data/data_e2m\n",
      "2022-09-12 11:28:40,284 - ecoinvent_3_5_cutoff - INFO - Replace Not-a-Number instances with 0.0 in all matrices\n",
      "2022-09-12 11:28:40,284 - ecoinvent_3_5_cutoff - INFO - Pickle intermediate results to files\n",
      "2022-09-12 11:28:40,285 - ecoinvent_3_5_cutoff - INFO - Order processes based on: ISIC, activityName\n",
      "2022-09-12 11:28:40,285 - ecoinvent_3_5_cutoff - INFO - Order elementary exchanges based on: comp, name, subcomp\n",
      "rm: cannot remove 'ecoinvent_3_5_cutoff_characterisation.db': No such file or directory\n",
      "2022-09-12 11:28:40,300 - ecoinvent_3_5_cutoff - WARNING - obs2char_subcomps constraints temporarily relaxed because not full recipe parsed\n",
      "2022-09-12 11:28:40,386 - ecoinvent_3_5_cutoff - INFO - Products extracted from IntermediateExchanges.xml with SHA-1 of b2c87a5bf5982a60515a6e1160e43c620a218369\n",
      "2022-09-12 11:28:49,304 - ecoinvent_3_5_cutoff - WARNING - Removed 1148 duplicate rows from activity_list, see duplicate_activity_list.csv.\n",
      "2022-09-12 11:28:49,355 - ecoinvent_3_5_cutoff - INFO - Activities extracted from ActivityIndex.xml with SHA-1 of 3ac94e9826a9a031ff2e0bfbdceeecaeb72a9117\n",
      "2022-09-12 11:28:49,376 - ecoinvent_3_5_cutoff - INFO - Processing 16022 files in /home/weinold/data_pylcaio_input/ecoinvent-3.5-cutoff/datasets\n",
      "2022-09-12 11:29:49,340 - ecoinvent_3_5_cutoff - INFO - Flows saved in /home/weinold/data_pylcaio_input/ecoinvent-3.5-cutoff/flows.pickle with SHA-1 of cc46592ef24fcf45f7acc935b4fc76a8acbd062c\n",
      "2022-09-12 11:29:49,421 - ecoinvent_3_5_cutoff - INFO - Processing 16022 files - this may take a while ...\n",
      "2022-09-12 11:30:49,410 - ecoinvent_3_5_cutoff - INFO - Elementary flows extracted from ElementaryExchanges.xml with SHA-1 of 0caa74a71870c1432557a91516a6da63d319b594\n",
      "2022-09-12 11:30:49,453 - ecoinvent_3_5_cutoff - INFO - Labels saved in /home/weinold/data_pylcaio_input/ecoinvent-3.5-cutoff/rawlabels.pickle with SHA-1 of 8bc41809cd42bb043ce5c69ae0ab324f16a25bc8\n",
      "2022-09-12 11:30:49,463 - ecoinvent_3_5_cutoff - INFO - OK.   No untraceable flows.\n",
      "2022-09-12 11:30:49,665 - ecoinvent_3_5_cutoff - INFO - OK. Source activities seem in order. Each product traceable to an activity that actually does produce or distribute this product.\n",
      "2022-09-12 11:30:50,000 - ecoinvent_3_5_cutoff - INFO - Starting to assemble the matrices\n",
      "2022-09-12 11:30:51,450 - ecoinvent_3_5_cutoff - INFO - fillna\n",
      "2022-09-12 11:30:57,946 - ecoinvent_3_5_cutoff - INFO - Starting normalizing matrices\n",
      "2022-09-12 11:31:08,263 - ecoinvent_3_5_cutoff - INFO - Starting to export to file\n",
      "2022-09-12 11:31:08,266 - ecoinvent_3_5_cutoff - INFO - about to write to file\n",
      "2022-09-12 11:34:06,834 - ecoinvent_3_5_cutoff - INFO - Final, symmetric, normalized matrices saved in /home/weinold/data/data_e2m/ecoinvent_3_5_cutoffPandas_symmNorm.gz.pickle with SHA-1 of 5bc8dda293582551adcd09b2d96b4c9788b64795\n",
      "2022-09-12 11:37:05,604 - ecoinvent_3_5_cutoff - INFO - Final, symmetric, scaled-up flow matrices saved in /home/weinold/data/data_e2m/ecoinvent_3_5_cutoffPandas_symmScale.gz.pickle with SHA-1 of 49b09d5ad8dc20064fc21d00cae3017df7fa0dfc\n",
      "2022-09-12 11:37:05,604 - ecoinvent_3_5_cutoff - INFO - Done running ecospold2matrix.ecospold_to_Leontief\n"
     ]
    },
    {
     "ename": "FileNotFoundError",
     "evalue": "[Errno 2] No such file or directory: '/home/weinold/data/data_e2m/ecoinvent_3_5_cutoff/Pandas_symmNorm.gz.pickle'",
     "output_type": "error",
     "traceback": [
      "\u001b[0;31m---------------------------------------------------------------------------\u001b[0m",
      "\u001b[0;31mFileNotFoundError\u001b[0m                         Traceback (most recent call last)",
      "Cell \u001b[0;32mIn [13], line 23\u001b[0m\n\u001b[1;32m     13\u001b[0m parser \u001b[38;5;241m=\u001b[39m e2m\u001b[38;5;241m.\u001b[39mEcospold2Matrix(\n\u001b[1;32m     14\u001b[0m     sys_dir \u001b[38;5;241m=\u001b[39m path_dir_ecoinvent,\n\u001b[1;32m     15\u001b[0m     project_name \u001b[38;5;241m=\u001b[39m e2m_project_name,\n\u001b[0;32m   (...)\u001b[0m\n\u001b[1;32m     18\u001b[0m     positive_waste \u001b[38;5;241m=\u001b[39m \u001b[38;5;28;01mFalse\u001b[39;00m,\n\u001b[1;32m     19\u001b[0m     nan2null \u001b[38;5;241m=\u001b[39m \u001b[38;5;28;01mTrue\u001b[39;00m)\n\u001b[1;32m     20\u001b[0m parser\u001b[38;5;241m.\u001b[39mecospold_to_Leontief(\n\u001b[1;32m     21\u001b[0m     fileformats \u001b[38;5;241m=\u001b[39m \u001b[38;5;124m'\u001b[39m\u001b[38;5;124mPandas\u001b[39m\u001b[38;5;124m'\u001b[39m,\n\u001b[1;32m     22\u001b[0m     with_absolute_flows\u001b[38;5;241m=\u001b[39m\u001b[38;5;28;01mTrue\u001b[39;00m)\n\u001b[0;32m---> 23\u001b[0m ecoinvent: \u001b[38;5;28mdict\u001b[39m \u001b[38;5;241m=\u001b[39m \u001b[43mread_ecoinvent_pickle\u001b[49m\u001b[43m(\u001b[49m\u001b[43mpath_file_e2m_pickle\u001b[49m\u001b[43m)\u001b[49m\n",
      "File \u001b[0;32m~/github/brightway2-hybridization/dev/notebooks/helpers.py:9\u001b[0m, in \u001b[0;36mread_ecoinvent_pickle\u001b[0;34m(path_ecoinvent_pickle)\u001b[0m\n\u001b[1;32m      8\u001b[0m \u001b[39mdef\u001b[39;00m \u001b[39mread_ecoinvent_pickle\u001b[39m(path_ecoinvent_pickle: \u001b[39mstr\u001b[39m) \u001b[39m-\u001b[39m\u001b[39m>\u001b[39m pd\u001b[39m.\u001b[39mDataFrame:\n\u001b[0;32m----> 9\u001b[0m     \u001b[39mwith\u001b[39;00m gzip\u001b[39m.\u001b[39;49mopen(path_ecoinvent_pickle, \u001b[39m'\u001b[39;49m\u001b[39mrb\u001b[39;49m\u001b[39m'\u001b[39;49m) \u001b[39mas\u001b[39;00m file_in:\n\u001b[1;32m     10\u001b[0m         file_in \u001b[39m=\u001b[39m pd\u001b[39m.\u001b[39mread_pickle(file_in)\n\u001b[1;32m     11\u001b[0m     \u001b[39mreturn\u001b[39;00m file_in\n",
      "File \u001b[0;32m~/miniconda3/envs/pylcaio/lib/python3.10/gzip.py:58\u001b[0m, in \u001b[0;36mopen\u001b[0;34m(filename, mode, compresslevel, encoding, errors, newline)\u001b[0m\n\u001b[1;32m     56\u001b[0m gz_mode \u001b[39m=\u001b[39m mode\u001b[39m.\u001b[39mreplace(\u001b[39m\"\u001b[39m\u001b[39mt\u001b[39m\u001b[39m\"\u001b[39m, \u001b[39m\"\u001b[39m\u001b[39m\"\u001b[39m)\n\u001b[1;32m     57\u001b[0m \u001b[39mif\u001b[39;00m \u001b[39misinstance\u001b[39m(filename, (\u001b[39mstr\u001b[39m, \u001b[39mbytes\u001b[39m, os\u001b[39m.\u001b[39mPathLike)):\n\u001b[0;32m---> 58\u001b[0m     binary_file \u001b[39m=\u001b[39m GzipFile(filename, gz_mode, compresslevel)\n\u001b[1;32m     59\u001b[0m \u001b[39melif\u001b[39;00m \u001b[39mhasattr\u001b[39m(filename, \u001b[39m\"\u001b[39m\u001b[39mread\u001b[39m\u001b[39m\"\u001b[39m) \u001b[39mor\u001b[39;00m \u001b[39mhasattr\u001b[39m(filename, \u001b[39m\"\u001b[39m\u001b[39mwrite\u001b[39m\u001b[39m\"\u001b[39m):\n\u001b[1;32m     60\u001b[0m     binary_file \u001b[39m=\u001b[39m GzipFile(\u001b[39mNone\u001b[39;00m, gz_mode, compresslevel, filename)\n",
      "File \u001b[0;32m~/miniconda3/envs/pylcaio/lib/python3.10/gzip.py:174\u001b[0m, in \u001b[0;36mGzipFile.__init__\u001b[0;34m(self, filename, mode, compresslevel, fileobj, mtime)\u001b[0m\n\u001b[1;32m    172\u001b[0m     mode \u001b[39m+\u001b[39m\u001b[39m=\u001b[39m \u001b[39m'\u001b[39m\u001b[39mb\u001b[39m\u001b[39m'\u001b[39m\n\u001b[1;32m    173\u001b[0m \u001b[39mif\u001b[39;00m fileobj \u001b[39mis\u001b[39;00m \u001b[39mNone\u001b[39;00m:\n\u001b[0;32m--> 174\u001b[0m     fileobj \u001b[39m=\u001b[39m \u001b[39mself\u001b[39m\u001b[39m.\u001b[39mmyfileobj \u001b[39m=\u001b[39m builtins\u001b[39m.\u001b[39;49mopen(filename, mode \u001b[39mor\u001b[39;49;00m \u001b[39m'\u001b[39;49m\u001b[39mrb\u001b[39;49m\u001b[39m'\u001b[39;49m)\n\u001b[1;32m    175\u001b[0m \u001b[39mif\u001b[39;00m filename \u001b[39mis\u001b[39;00m \u001b[39mNone\u001b[39;00m:\n\u001b[1;32m    176\u001b[0m     filename \u001b[39m=\u001b[39m \u001b[39mgetattr\u001b[39m(fileobj, \u001b[39m'\u001b[39m\u001b[39mname\u001b[39m\u001b[39m'\u001b[39m, \u001b[39m'\u001b[39m\u001b[39m'\u001b[39m)\n",
      "\u001b[0;31mFileNotFoundError\u001b[0m: [Errno 2] No such file or directory: '/home/weinold/data/data_e2m/ecoinvent_3_5_cutoff/Pandas_symmNorm.gz.pickle'"
     ]
    }
   ],
   "source": [
    "if load_from_disk == True:\n",
    "    ecoinvent: dict = read_ecoinvent_pickle(path_file_e2m_pickle)\n",
    "else:\n",
    "    delete_e2m_files(\n",
    "        [\n",
    "            path_dir_e2m,\n",
    "            path_dir_e2m_logs,\n",
    "            path_dir_ecoinvent,\n",
    "            pattern_e2m_characterization_db\n",
    "        ]\n",
    "    )\n",
    "    copy_ecoinvent_from_shared_to_local(path_dir_ecoinvent)\n",
    "    parser = e2m.Ecospold2Matrix(\n",
    "        sys_dir = path_dir_ecoinvent,\n",
    "        project_name = e2m_project_name,\n",
    "        out_dir = path_dir_e2m,\n",
    "        #characterisation_file = path_e2m_char_file,\n",
    "        positive_waste = False,\n",
    "        nan2null = True)\n",
    "    parser.ecospold_to_Leontief(\n",
    "        fileformats = 'Pandas',\n",
    "        with_absolute_flows=True)\n",
    "    with gzip.open(path_file_e2m_pickle, 'rb') as filestream:\n",
    "        ecoinvent: dict = pd.read_pickle(filestream)"
   ]
  },
  {
   "cell_type": "markdown",
   "metadata": {},
   "source": [
    "### 2.1. main `pylcaio` functionality"
   ]
  },
  {
   "cell_type": "code",
   "execution_count": 19,
   "metadata": {},
   "outputs": [],
   "source": [
    "database_loader: pylcaio.DatabaseLoader  = pylcaio.DatabaseLoader(\n",
    "    lca_database_processed = ecoinvent,\n",
    "    io_database_processed = exiobase,\n",
    "    lca_database_name_and_version = 'ecoinvent3.5',\n",
    "    io_database_name_and_version = 'exiobase3')"
   ]
  },
  {
   "cell_type": "code",
   "execution_count": 20,
   "metadata": {},
   "outputs": [],
   "source": [
    "with open(path_pylcaio_database_loader_class_instance, 'wb') as file_handle:\n",
    "    pickle.dump(obj = database_loader, file = file_handle, protocol=pickle.HIGHEST_PROTOCOL)"
   ]
  },
  {
   "cell_type": "code",
   "execution_count": 21,
   "metadata": {},
   "outputs": [
    {
     "name": "stdout",
     "output_type": "stream",
     "text": [
      "No path for the capital folder was provided. Capitals will not be endogenized\n"
     ]
    }
   ],
   "source": [
    "lcaio_object: pylcaio.LCAIO = database_loader.combine_ecoinvent_exiobase(\n",
    "    complete_extensions = False,\n",
    "    impact_world = False,\n",
    "    regionalized = False)"
   ]
  },
  {
   "cell_type": "code",
   "execution_count": 22,
   "metadata": {},
   "outputs": [],
   "source": [
    "with open(path_pylcaio_class_instance_before_hybrid, 'wb') as file_handle:\n",
    "    pickle.dump(obj = lcaio_object, file = file_handle, protocol=pickle.HIGHEST_PROTOCOL)"
   ]
  },
  {
   "cell_type": "code",
   "execution_count": 23,
   "metadata": {},
   "outputs": [
    {
     "name": "stdout",
     "output_type": "stream",
     "text": [
      "Indentifying Rest of World regions...\n",
      "Updating electricity prices...\n",
      "Calculating productions volumes...\n",
      "Adjusting low production volume processes...\n",
      "Extending inventory...\n",
      "Building H matrix...\n"
     ]
    },
    {
     "name": "stderr",
     "output_type": "stream",
     "text": [
      "/home/weinold/github/pylcaio_integration_with_brightway/src/pylcaio.py:877: FutureWarning: The frame.append method is deprecated and will be removed from pandas in a future version. Use pandas.concat instead.\n",
      "  self.H = self.H.append([self.H] * (self.number_of_countries_IO + self.number_of_RoW_IO - 1))\n"
     ]
    },
    {
     "name": "stdout",
     "output_type": "stream",
     "text": [
      "Building geography concordance...\n",
      "Filter H matrix...\n",
      "Build Cut-off matrix...\n",
      "Add processes with 'priceless scaling' to Cut-off matrix...\n"
     ]
    }
   ],
   "source": [
    "lcaio_object.hybridize(\n",
    "    price_neutral_cut_off_matrix = 'STAM',\n",
    "    capitals = False,\n",
    "    priceless_scaling = True)"
   ]
  },
  {
   "cell_type": "code",
   "execution_count": 24,
   "metadata": {},
   "outputs": [],
   "source": [
    "with open(path_pylcaio_class_instance_after_hybrid, 'wb') as file_handle:\n",
    "    pickle.dump(obj = lcaio_object, file = file_handle, protocol=pickle.HIGHEST_PROTOCOL)"
   ]
  },
  {
   "cell_type": "markdown",
   "metadata": {},
   "source": [
    "### 2.2. move files to `/srv/data` for use by everyone else\n",
    "\n",
    "⚠️ this needs `sudo` rights, so best execute in the command line"
   ]
  },
  {
   "cell_type": "code",
   "execution_count": 29,
   "metadata": {},
   "outputs": [
    {
     "data": {
      "text/plain": [
       "pylcaio.LCAIO"
      ]
     },
     "execution_count": 29,
     "metadata": {},
     "output_type": "execute_result"
    }
   ],
   "source": [
    "sudo mkdir -p /srv/data/pylcaio_output/pickle/*\n",
    "sudo cp -r /home/weinold/data_pylcaio_output/* /srv/data/pylcaio_output/pickle/*"
   ]
  },
  {
   "cell_type": "markdown",
   "metadata": {},
   "source": [
    "### X.1 exiobase download\n",
    "\n",
    "⚠️ only relevant for users with sudo rights\n",
    "\n",
    "to download the monetary product-by-production versions of Exiobase:\n",
    "\n",
    "1. download using pymrio (compare below)"
   ]
  },
  {
   "cell_type": "code",
   "execution_count": null,
   "metadata": {},
   "outputs": [],
   "source": [
    "pymrio.download_exiobase3(\n",
    "    storage_folder='/home/weinold',\n",
    "    system=\"pxp\",\n",
    "    years=[2011]\n",
    ")"
   ]
  },
  {
   "cell_type": "markdown",
   "metadata": {},
   "source": [
    "2. move files to /srv/data using `sudo`\n",
    "\n",
    "```\n",
    "sudo mv ~/*pxp.zip /srv/data/exiobase_monetary_pxp\n",
    "```"
   ]
  }
 ],
 "metadata": {
  "kernelspec": {
   "display_name": "Python 3.10.6 ('pylcaio')",
   "language": "python",
   "name": "python3"
  },
  "language_info": {
   "codemirror_mode": {
    "name": "ipython",
    "version": 3
   },
   "file_extension": ".py",
   "mimetype": "text/x-python",
   "name": "python",
   "nbconvert_exporter": "python",
   "pygments_lexer": "ipython3",
   "version": "3.10.6"
  },
  "orig_nbformat": 4,
  "vscode": {
   "interpreter": {
    "hash": "af11b17298303d3420ac04a2d81997bb73d15b4df2e0afffe06f0aa93756cff5"
   }
  }
 },
 "nbformat": 4,
 "nbformat_minor": 2
}
