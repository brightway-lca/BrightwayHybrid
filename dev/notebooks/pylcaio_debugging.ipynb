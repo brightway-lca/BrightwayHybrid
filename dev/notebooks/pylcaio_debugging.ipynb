{
 "cells": [
  {
   "cell_type": "markdown",
   "metadata": {},
   "source": [
    "### 0.1. imports\n",
    "#### 0.1.1. regular imports"
   ]
  },
  {
   "cell_type": "code",
   "execution_count": null,
   "metadata": {},
   "outputs": [],
   "source": [
    "# i/o\n",
    "import sys\n",
    "import os\n",
    "from pathlib import Path\n",
    "import gzip\n",
    "import pickle\n",
    "# data science\n",
    "import pandas as pd\n",
    "import numpy as np\n",
    "# type hints\n",
    "from pymrio import IOSystem\n",
    "# utlilities\n",
    "import copy"
   ]
  },
  {
   "cell_type": "markdown",
   "metadata": {},
   "source": [
    "#### 0.1.2. local imports"
   ]
  },
  {
   "cell_type": "code",
   "execution_count": null,
   "metadata": {},
   "outputs": [],
   "source": [
    "path_pylcaio = os.path.dirname(os.path.os.getcwd())\n",
    "sys.path.append(os.path.join(path_pylcaio, 'src')) # required for local import of pylcaio\n",
    "import pylcaio"
   ]
  },
  {
   "cell_type": "markdown",
   "metadata": {},
   "source": [
    "### 0.2. file paths"
   ]
  },
  {
   "cell_type": "code",
   "execution_count": null,
   "metadata": {},
   "outputs": [],
   "source": [
    "%%capture\n",
    "# home directory\n",
    "print(path_home := os.path.join('/home', os.getlogin()))\n",
    "# database main directory\n",
    "print(path_databases := 'data_pylcaio_input')\n",
    "# output directory\n",
    "print(path_dir_out := os.path.join(path_home, 'data_pylcaio_output'))\n",
    "# input file names\n",
    "# pylcaio\n",
    "print(path_file_out_pylcaio_class_instance_before_hybrid_pickle := os.path.join(path_dir_out, 'pylcaio_class_instance_before_hybrid.pkl'))\n",
    "print(path_file_out_pylcaio_class_instance_after_hybrid_pickle := os.path.join(path_dir_out, 'pylcaio_class_instance_after_hybrid.pkl'))\n",
    "# exiobase\n",
    "print(path_file_out_pymrio_class_instance_pickle := os.path.join(path_dir_out, 'pymrio_class_instance.pkl'))\n",
    "# ecoinvent\n",
    "print(path_dir_out_e2m := os.path.join(path_dir_out, 'e2m'))\n",
    "print(name_project_e2m := 'ecoinvent_3_5_cutoff')\n",
    "print(filename_project_e2m := os.path.join(name_project_e2m + 'Pandas_symmNorm.gz.pickle'))\n",
    "print(path_dir_e2m_logs := os.path.join(path_dir_out_e2m, name_project_e2m, '_log'))\n",
    "print(path_file_e2m_pickle := os.path.join(path_dir_out_e2m, filename_project_e2m))"
   ]
  },
  {
   "cell_type": "markdown",
   "metadata": {},
   "source": [
    "### 1.1. load pickled objects"
   ]
  },
  {
   "cell_type": "markdown",
   "metadata": {},
   "source": [
    "### 2.1. investigation (\"playground\")"
   ]
  }
 ],
 "metadata": {
  "kernelspec": {
   "display_name": "Python 3.9.0 64-bit ('3.9.0')",
   "language": "python",
   "name": "python3"
  },
  "language_info": {
   "name": "python",
   "version": "3.9.0"
  },
  "orig_nbformat": 4,
  "vscode": {
   "interpreter": {
    "hash": "8ac9ca70475864b81d4b10ec8af33fc4d216487d5a0e75614771e743db6d6a64"
   }
  }
 },
 "nbformat": 4,
 "nbformat_minor": 2
}
