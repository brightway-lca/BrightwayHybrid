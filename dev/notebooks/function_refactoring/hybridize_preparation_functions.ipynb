{
 "cells": [
  {
   "cell_type": "markdown",
   "metadata": {},
   "source": [
    "### 0.0 follow setup instructions\n",
    "\n",
    "ℹ️ use [`pylcaio.yml`](https://github.com/michaelweinold/config_conda/blob/main/pylcaio.yml) to set up working conda environment.\n",
    "\n",
    "### 0.1. imports\n",
    "#### 0.1.1. regular imports"
   ]
  },
  {
   "cell_type": "code",
   "execution_count": 1,
   "metadata": {},
   "outputs": [],
   "source": [
    "# i/o\n",
    "import sys\n",
    "import os\n",
    "from pathlib import Path\n",
    "import gzip\n",
    "import pickle\n",
    "import git\n",
    "import json\n",
    "# os specific settings\n",
    "import platform\n",
    "# configuration\n",
    "import yaml\n",
    "# lca\n",
    "import ecospold2matrix as e2m\n",
    "import pymrio\n",
    "#import brightway2 as bw\n",
    "# type hints\n",
    "from ecospold2matrix import ecospold2matrix\n",
    "from pymrio import IOSystem\n",
    "# data science\n",
    "import pandas as pd\n",
    "import numpy as np\n",
    "# deep copy\n",
    "import copy"
   ]
  },
  {
   "cell_type": "markdown",
   "metadata": {},
   "source": [
    "#### 0.1.2. load configuration file"
   ]
  },
  {
   "cell_type": "code",
   "execution_count": 2,
   "metadata": {},
   "outputs": [],
   "source": [
    "with open('../config.yaml', 'r') as filestream:\n",
    "    config = yaml.load(filestream, Loader = yaml.FullLoader)"
   ]
  },
  {
   "cell_type": "markdown",
   "metadata": {},
   "source": [
    "#### 0.1.3. local imports"
   ]
  },
  {
   "cell_type": "code",
   "execution_count": 3,
   "metadata": {},
   "outputs": [],
   "source": [
    "sys.path.append(os.path.join(Path.home(), config['pylcaio'])) # required for local import of pylcaio\n",
    "import pylcaio"
   ]
  },
  {
   "cell_type": "code",
   "execution_count": 4,
   "metadata": {},
   "outputs": [],
   "source": [
    "from hybridize_preparation_functions import (\n",
    "    identify_rest_of_world_regions,\n",
    "    identify_rows\n",
    ")"
   ]
  },
  {
   "cell_type": "markdown",
   "metadata": {},
   "source": [
    "### 0.2. file paths\n",
    "#### 0.2.1. directories"
   ]
  },
  {
   "cell_type": "code",
   "execution_count": 5,
   "metadata": {},
   "outputs": [],
   "source": [
    "%%capture\n",
    "# home directory\n",
    "print(path_dir_home := Path.home())\n",
    "print(path_dir_repo := git.Repo('.', search_parent_directories=True).working_tree_dir)\n",
    "# input directory\n",
    "print(path_dir_databases := os.path.join(path_dir_home, config['path_dir_databases']))\n",
    "# output directories\n",
    "print(path_dir_data := os.path.join(path_dir_home, config['path_dir_data']))\n",
    "print(path_dir_pylcaio := os.path.join(path_dir_home, path_dir_data, config['path_dir_pylcaio']))\n",
    "print(path_dir_pymrio := os.path.join(path_dir_home, path_dir_data, config['path_dir_pymrio']))\n",
    "print(path_dir_e2m := os.path.join(path_dir_home, path_dir_data, config['path_dir_e2m']))"
   ]
  },
  {
   "cell_type": "markdown",
   "metadata": {},
   "source": [
    "#### 0.2.2. files"
   ]
  },
  {
   "cell_type": "code",
   "execution_count": 6,
   "metadata": {},
   "outputs": [],
   "source": [
    "%%capture\n",
    "# databases\n",
    "print(path_exiobase := os.path.join(path_dir_home, path_dir_databases, config['exiobase']))\n",
    "print(path_dir_ecoinvent := os.path.join(path_dir_home, path_dir_databases, config['ecoinvent']))\n",
    "# pylcaio output\n",
    "print(path_pylcaio_database_loader_class_instance := os.path.join(path_dir_pylcaio, config['pylcaio_database_loader_class_instance']))\n",
    "print(path_pylcaio_class_instance_before_hybrid := os.path.join(path_dir_pylcaio, config['pylcaio_class_instance_before_hybrid']))\n",
    "print(path_pylcaio_class_instance_after_hybrid := os.path.join(path_dir_pylcaio, config['pylcaio_class_instance_after_hybrid']))\n",
    "# pymrio output\n",
    "print(path_pymrio_class_instance := os.path.join(path_dir_pymrio, config['pymrio_class_instance']))\n",
    "# e2m output\n",
    "print(e2m_project_name := config['e2m_project_name'])\n",
    "print(path_file_e2m_pickle := os.path.join(path_dir_e2m, e2m_project_name + config['e2m_pickle_filename']))"
   ]
  },
  {
   "cell_type": "code",
   "execution_count": 7,
   "metadata": {},
   "outputs": [],
   "source": [
    "%%capture\n",
    "print(path_dict_io_countries_per_lca_region := os.path.join(path_dir_repo, config['path_dict_io_countries_per_lca_region']))\n",
    "print(path_list_io_countries_and_regions := os.path.join(path_dir_repo, config['path_list_io_countries_and_regions']))\n",
    "print(path_list_io_countries := os.path.join(path_dir_repo, config['path_list_io_countries']))"
   ]
  },
  {
   "cell_type": "code",
   "execution_count": 8,
   "metadata": {},
   "outputs": [],
   "source": [
    "with open(file = path_dict_io_countries_per_lca_region, mode = 'r', encoding = 'utf-8') as filestream:\n",
    "    dict_io_countries_per_lca_region: dict = json.load(fp = filestream)\n",
    "with open(file = path_list_io_countries_and_regions, mode = 'r', encoding = 'utf-8') as filestream:\n",
    "    list_io_countries_and_regions: list = json.load(fp = filestream)\n",
    "with open(file = path_list_io_countries, mode = 'r', encoding = 'utf-8') as filestream:\n",
    "    list_io_countries: list = json.load(fp = filestream)"
   ]
  },
  {
   "cell_type": "code",
   "execution_count": 9,
   "metadata": {},
   "outputs": [],
   "source": [
    "with open(path_pylcaio_class_instance_before_hybrid, 'rb') as file_in:\n",
    "    pylcaio_object_before_hybrid: pylcaio.LCAIO = pd.read_pickle(file_in)\n",
    "PRO_f = pylcaio_object_before_hybrid.PRO_f"
   ]
  },
  {
   "cell_type": "markdown",
   "metadata": {},
   "source": [
    "#### 1.1. function implementation"
   ]
  },
  {
   "cell_type": "code",
   "execution_count": 13,
   "metadata": {},
   "outputs": [
    {
     "name": "stdout",
     "output_type": "stream",
     "text": [
      "69.5 ms ± 419 µs per loop (mean ± std. dev. of 7 runs, 10 loops each)\n"
     ]
    }
   ],
   "source": [
    "%%timeit\n",
    "df_test = identify_rest_of_world_regions(df_in = PRO_f, list_io_countries=list_io_countries, dict_io_countries_per_lca_region=dict_io_countries_per_lca_region)"
   ]
  },
  {
   "cell_type": "code",
   "execution_count": 12,
   "metadata": {},
   "outputs": [
    {
     "name": "stdout",
     "output_type": "stream",
     "text": [
      "273 ms ± 4.41 ms per loop (mean ± std. dev. of 7 runs, 1 loop each)\n"
     ]
    }
   ],
   "source": [
    "%%timeit\n",
    "df_test = identify_rows(pylcaio_object_before_hybrid)"
   ]
  },
  {
   "cell_type": "markdown",
   "metadata": {},
   "source": [
    "PRO_f dataframe:\n",
    "\n",
    "| index | activityNameId | io_geography |\n",
    "| ----- | -------------- | ------------ |\n",
    "| 10 | 1 | RoW |\n",
    "| 11 | 1 | CH |\n",
    "| 12 | 1 | AT |\n",
    "| 13 | 2 | RoW |\n",
    "| 14 | 2 | DE |\n",
    "| 15 | 2 | CH |\n",
    "| 16 | 3 | FR |\n",
    "| 17 | 3 | BE |\n",
    "| 18 | 4 | RoW |\n",
    "| 19 | 4 | CH |\n",
    "| 20 | 4 | AT |\n",
    "\n",
    "should look like:\n",
    "\n",
    "| activityNameId | io_geography_list | RoW_region |\n",
    "| -------------- | ----------------- | ---------- |\n",
    "| 1 | RoW, CH, AT | RoW(1) |\n",
    "| 2 | RoW, DE, CH | RoW(2) |\n",
    "| 4 | RoW, CH, AT | RoW(1) |\n",
    "\n",
    "where for activityNameId == 1, RoW region is list_io_countries - [CH, AT]\n"
   ]
  },
  {
   "cell_type": "code",
   "execution_count": null,
   "metadata": {},
   "outputs": [],
   "source": [
    "def calc_productions(self):\n",
    "    \"\"\" Calculates the different total productions for either countries, regions or RoWs\n",
    "\n",
    "    Returns:\n",
    "    -------\n",
    "        The updated self.total_prod_country, self.total_prod_region and self.total_prod_RoW dataframe\n",
    "\n",
    "    \"\"\"\n",
    "\n",
    "    # the user needs to determine the total demand before being able to calculate productions\n",
    "    listdrop = []\n",
    "\n",
    "    absent_countries = {}\n",
    "    for i in range(0, len(list(self.countries_per_regions.values()))):\n",
    "        absent_country = [item for item in self.listcountry if\n",
    "                            item not in list(self.countries_per_regions.values())[i]]\n",
    "        absent_countries[list(self.countries_per_regions.keys())[i]] = absent_country\n",
    "\n",
    "    self.total_prod_country =  pd.DataFrame(\n",
    "        self.X_io.todense(), index=pd.MultiIndex.from_product([self.regions_of_IO, self.sectors_of_IO],\n",
    "                                                                names=['region', 'sector']), columns=['production'])\n",
    "\n",
    "    listmatrixxx = []\n",
    "    listlisteee = []\n",
    "    listdfff = []\n",
    "    for i in range(0, len(absent_countries)):\n",
    "        listmatrixxx.append('matrixxx' + str(i))\n",
    "        listlisteee.append('listeee' + str(i))\n",
    "        listdfff.append('dfff' + str(i))\n",
    "    listact = []\n",
    "    for i in range(0, self.number_of_products_IO):\n",
    "        listact.append(self.total_prod_country.index[i][1])\n",
    "    for i in range(0, len(list(absent_countries.values()))):\n",
    "        listadd = []\n",
    "        listmatrixxx[i] = self.total_prod_country.drop(list(absent_countries.values())[i], axis=0, level=0)\n",
    "        for k in range(0, self.number_of_products_IO):\n",
    "            somme = 0\n",
    "            for j in range(0, len(listmatrixxx[i]), self.number_of_products_IO):\n",
    "                somme += listmatrixxx[i].iloc[j + k, 0]\n",
    "            listadd.append(somme)\n",
    "        listlisteee[i] = listadd\n",
    "        listdfff[i] = pd.DataFrame(listlisteee[i], listact, [list(absent_countries.keys())[i]])\n",
    "        self.total_prod_region = self.total_prod_region.join(listdfff[i], how='outer')\n",
    "\n",
    "    # next step we will consider the rest-of-the-World geographies, so the user has to run 'identify_RoWs' first\n",
    "    if len(self.dictRoW) == 0:\n",
    "        print('You need to run \"identify_rows\" before calculating the productions')\n",
    "        return\n",
    "\n",
    "    listmatrixxxx = []\n",
    "    listlisteeee = []\n",
    "    listdffff = []\n",
    "    for k in range(0, len(list(self.dictRoW.keys()))):\n",
    "        listmatrixxxx.append('matrixxxx' + str(k))\n",
    "        listlisteeee.append('listeeee' + str(k))\n",
    "        listdffff.append('dfff' + str(k))\n",
    "        listdrop = []\n",
    "        for i in range(0, len(self.dictRoW)):\n",
    "            listadd = []\n",
    "            for j in range(0, len(self.listcountry)):\n",
    "                if self.listcountry[j] not in list(self.dictRoW.values())[i]:\n",
    "                    listadd.append(self.listcountry[j])\n",
    "            listdrop.append(listadd)\n",
    "\n",
    "    for i in range(0, len(list(self.dictRoW.keys()))):\n",
    "        listadd = []\n",
    "        listmatrixxxx[i] = self.total_prod_country.drop(listdrop[i], axis=0, level=0)\n",
    "        for k in range(0, self.number_of_products_IO):\n",
    "            somme = 0\n",
    "            for j in range(0, len(listmatrixxxx[i]), self.number_of_products_IO):\n",
    "                somme += listmatrixxxx[i].iloc[j + k, 0]\n",
    "            listadd.append(somme)\n",
    "        listlisteeee[i] = listadd\n",
    "        listdffff[i] = pd.DataFrame(listlisteeee[i], listact, [list(self.dictRoW.keys())[i]])\n",
    "        self.total_prod_RoW = self.total_prod_RoW.join(listdffff[i], how='outer')"
   ]
  }
 ],
 "metadata": {
  "kernelspec": {
   "display_name": "Python 3.10.6 ('pylcaio')",
   "language": "python",
   "name": "python3"
  },
  "language_info": {
   "codemirror_mode": {
    "name": "ipython",
    "version": 3
   },
   "file_extension": ".py",
   "mimetype": "text/x-python",
   "name": "python",
   "nbconvert_exporter": "python",
   "pygments_lexer": "ipython3",
   "version": "3.10.6"
  },
  "orig_nbformat": 4,
  "vscode": {
   "interpreter": {
    "hash": "af11b17298303d3420ac04a2d81997bb73d15b4df2e0afffe06f0aa93756cff5"
   }
  }
 },
 "nbformat": 4,
 "nbformat_minor": 2
}
