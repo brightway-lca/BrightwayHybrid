{
 "cells": [
  {
   "cell_type": "markdown",
   "metadata": {},
   "source": [
    "### 0.0 follow setup instructions\n",
    "\n",
    "ℹ️ use [`pylcaio.yml`](https://github.com/michaelweinold/config_conda/blob/main/pylcaio.yml) to set up working conda environment.\n",
    "\n",
    "### 0.1. imports\n",
    "#### 0.1.1. regular imports"
   ]
  },
  {
   "cell_type": "code",
   "execution_count": 1,
   "metadata": {},
   "outputs": [],
   "source": [
    "# i/o\n",
    "import sys\n",
    "import os\n",
    "from pathlib import Path\n",
    "import gzip\n",
    "import pickle\n",
    "# os specific settings\n",
    "import platform\n",
    "# configuration\n",
    "import yaml\n",
    "# lca\n",
    "import ecospold2matrix as e2m\n",
    "import pymrio\n",
    "#import brightway2 as bw\n",
    "# type hints\n",
    "from ecospold2matrix import ecospold2matrix\n",
    "from pymrio import IOSystem\n",
    "# data science\n",
    "import pandas as pd\n",
    "# deep copy\n",
    "import copy"
   ]
  },
  {
   "cell_type": "markdown",
   "metadata": {},
   "source": [
    "#### 0.1.2. load configuration file"
   ]
  },
  {
   "cell_type": "code",
   "execution_count": 2,
   "metadata": {},
   "outputs": [],
   "source": [
    "with open('config.yaml', 'r') as filestream:\n",
    "    config = yaml.load(filestream, Loader = yaml.FullLoader)"
   ]
  },
  {
   "cell_type": "markdown",
   "metadata": {},
   "source": [
    "#### 0.1.3. load `pylcaio`"
   ]
  },
  {
   "cell_type": "code",
   "execution_count": 3,
   "metadata": {},
   "outputs": [
    {
     "name": "stdout",
     "output_type": "stream",
     "text": [
      "Using environment variable BRIGHTWAY2_DIR for data directory:\n",
      "/home/weinold/bw_data\n"
     ]
    }
   ],
   "source": [
    "sys.path.append(os.path.join(Path.home(), config['pylcaio'])) # required for local import of pylcaio\n",
    "import pylcaio"
   ]
  },
  {
   "cell_type": "markdown",
   "metadata": {},
   "source": [
    "### 0.2. file paths\n",
    "#### 0.2.1. directories"
   ]
  },
  {
   "cell_type": "code",
   "execution_count": 4,
   "metadata": {},
   "outputs": [],
   "source": [
    "%%capture\n",
    "# home directory\n",
    "print(path_dir_home := Path.home())\n",
    "# input directory\n",
    "print(path_dir_databases := os.path.join(path_dir_home, config['path_dir_databases']))\n",
    "# output directories\n",
    "print(path_dir_data := os.path.join(path_dir_home, config['path_dir_data']))\n",
    "print(path_dir_pylcaio := os.path.join(path_dir_home, path_dir_data, config['path_dir_pylcaio']))\n",
    "print(path_dir_pymrio := os.path.join(path_dir_home, path_dir_data, config['path_dir_pymrio']))\n",
    "print(path_dir_e2m := os.path.join(path_dir_home, path_dir_data, config['path_dir_e2m']))"
   ]
  },
  {
   "cell_type": "markdown",
   "metadata": {},
   "source": [
    "#### 0.2.2. files"
   ]
  },
  {
   "cell_type": "code",
   "execution_count": 6,
   "metadata": {},
   "outputs": [],
   "source": [
    "%%capture\n",
    "# databases\n",
    "print(path_exiobase := os.path.join(path_dir_home, path_dir_databases, config['exiobase']))\n",
    "print(path_dir_ecoinvent := os.path.join(path_dir_home, path_dir_databases, config['ecoinvent']))\n",
    "# pylcaio output\n",
    "print(path_pylcaio_database_loader_class_instance := os.path.join(path_dir_pylcaio, config['pylcaio_database_loader_class_instance']))\n",
    "print(path_pylcaio_class_instance_before_hybrid := os.path.join(path_dir_pylcaio, config['pylcaio_class_instance_before_hybrid']))\n",
    "print(path_pylcaio_class_instance_after_hybrid := os.path.join(path_dir_pylcaio, config['pylcaio_class_instance_after_hybrid']))\n",
    "# pymrio output\n",
    "print(path_pymrio_class_instance := os.path.join(path_dir_pymrio, config['pymrio_class_instance']))"
   ]
  },
  {
   "cell_type": "markdown",
   "metadata": {},
   "source": [
    "### 1.1. load pickled objects\n",
    "#### 1.1.1. pickled loaded databases"
   ]
  },
  {
   "cell_type": "code",
   "execution_count": 8,
   "metadata": {},
   "outputs": [],
   "source": [
    "#with gzip.open(path_file_e2m_pickle, 'rb') as file_in:\n",
    "#    ecoinvent: dict = pd.read_pickle(file_in)"
   ]
  },
  {
   "cell_type": "code",
   "execution_count": 7,
   "metadata": {},
   "outputs": [],
   "source": [
    "with open(path_pymrio_class_instance, 'rb') as file_in:\n",
    "    exiobase: pymrio.core.mriosystem.IOSystem = pd.read_pickle(file_in)"
   ]
  },
  {
   "cell_type": "markdown",
   "metadata": {},
   "source": [
    "#### 1.1.2 pickled `pylcaio` class instances"
   ]
  },
  {
   "cell_type": "code",
   "execution_count": 27,
   "metadata": {},
   "outputs": [],
   "source": [
    "with open(path_pylcaio_database_loader_class_instance, 'rb') as file_in:\n",
    "    pylcaio_database_loader_class_instance: pylcaio.DatabaseLoader = pd.read_pickle(file_in)"
   ]
  },
  {
   "cell_type": "code",
   "execution_count": 28,
   "metadata": {},
   "outputs": [],
   "source": [
    "with open(path_pylcaio_class_instance_before_hybrid, 'rb') as file_in:\n",
    "    pylcaio_object_before_hybrid: pylcaio.LCAIO = pd.read_pickle(file_in)"
   ]
  },
  {
   "cell_type": "code",
   "execution_count": 29,
   "metadata": {},
   "outputs": [],
   "source": [
    "with open(path_pylcaio_class_instance_after_hybrid, 'rb') as file_in:\n",
    "    pylcaio_object_after_hybrid: pylcaio.LCAIO = pd.read_pickle(file_in)"
   ]
  },
  {
   "cell_type": "markdown",
   "metadata": {},
   "source": [
    "### 2.1. investigation (\"playground\")"
   ]
  },
  {
   "cell_type": "code",
   "execution_count": 30,
   "metadata": {},
   "outputs": [
    {
     "name": "stdout",
     "output_type": "stream",
     "text": [
      "No path for the capital folder was provided. Capitals will not be endogenized\n"
     ]
    }
   ],
   "source": [
    "lcaio_object: pylcaio.LCAIO = pylcaio_database_loader_class_instance.combine_ecoinvent_exiobase(\n",
    "    complete_extensions = False,\n",
    "    impact_world = False,\n",
    "    regionalized = False)"
   ]
  },
  {
   "cell_type": "code",
   "execution_count": 31,
   "metadata": {},
   "outputs": [
    {
     "name": "stdout",
     "output_type": "stream",
     "text": [
      "Indentifying Rest of World regions...\n",
      "Updating electricity prices...\n",
      "Calculating productions volumes...\n",
      "Adjusting low production volume processes...\n",
      "Extending inventory...\n",
      "Building H matrix...\n"
     ]
    },
    {
     "name": "stderr",
     "output_type": "stream",
     "text": [
      "/home/weinold/github/pylcaio/src/pylcaio.py:874: FutureWarning: The frame.append method is deprecated and will be removed from pandas in a future version. Use pandas.concat instead.\n",
      "  self.H = self.H.append([self.H] * (self.number_of_countries_IO + self.number_of_RoW_IO - 1))\n"
     ]
    },
    {
     "name": "stdout",
     "output_type": "stream",
     "text": [
      "Building geography concordance...\n",
      "Filter H matrix...\n",
      "Build Cut-off matrix...\n",
      "Add processes with 'priceless scaling' to Cut-off matrix...\n"
     ]
    }
   ],
   "source": [
    "lcaio_object.hybridize(\n",
    "    price_neutral_cut_off_matrix = 'STAM',\n",
    "    capitals = False,\n",
    "    priceless_scaling = True)"
   ]
  }
 ],
 "metadata": {
  "kernelspec": {
   "display_name": "Python 3.10.6 ('pylcaio': conda)",
   "language": "python",
   "name": "python3"
  },
  "language_info": {
   "codemirror_mode": {
    "name": "ipython",
    "version": 3
   },
   "file_extension": ".py",
   "mimetype": "text/x-python",
   "name": "python",
   "nbconvert_exporter": "python",
   "pygments_lexer": "ipython3",
   "version": "3.10.6"
  },
  "orig_nbformat": 4,
  "vscode": {
   "interpreter": {
    "hash": "f467ae6f28fc2a0e97326396cf55b215b4c09969dfcc2e6c7c36ad6b4a612a7b"
   }
  }
 },
 "nbformat": 4,
 "nbformat_minor": 2
}
