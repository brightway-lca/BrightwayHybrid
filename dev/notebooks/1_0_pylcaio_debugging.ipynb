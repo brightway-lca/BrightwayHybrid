{
 "cells": [
  {
   "cell_type": "markdown",
   "metadata": {},
   "source": [
    "### 0.0 follow setup instructions\n",
    "\n",
    "ℹ️ use [`pylcaio.yml`](https://github.com/michaelweinold/config_conda/blob/main/pylcaio.yml) to set up working conda environment.\n",
    "\n",
    "### 0.1. imports\n",
    "#### 0.1.1. regular imports"
   ]
  },
  {
   "cell_type": "code",
   "execution_count": 1,
   "metadata": {},
   "outputs": [],
   "source": [
    "# i/o\n",
    "import sys\n",
    "import os\n",
    "from pathlib import Path\n",
    "import gzip\n",
    "import pickle\n",
    "# os specific settings\n",
    "import platform\n",
    "# configuration\n",
    "import yaml\n",
    "# lca\n",
    "import ecospold2matrix as e2m\n",
    "import pymrio\n",
    "#import brightway2 as bw\n",
    "# type hints\n",
    "from ecospold2matrix import ecospold2matrix\n",
    "from pymrio import IOSystem\n",
    "# data science\n",
    "import pandas as pd\n",
    "# deep copy\n",
    "import copy"
   ]
  },
  {
   "cell_type": "markdown",
   "metadata": {},
   "source": [
    "#### 0.1.2. load configuration file"
   ]
  },
  {
   "cell_type": "code",
   "execution_count": 2,
   "metadata": {},
   "outputs": [],
   "source": [
    "with open('config.yaml', 'r') as filestream:\n",
    "    config = yaml.load(filestream, Loader = yaml.FullLoader)"
   ]
  },
  {
   "cell_type": "markdown",
   "metadata": {},
   "source": [
    "#### 0.1.3. load `pylcaio`"
   ]
  },
  {
   "cell_type": "code",
   "execution_count": 3,
   "metadata": {},
   "outputs": [],
   "source": [
    "sys.path.append(os.path.join(Path.home(), config['pylcaio'])) # required for local import of pylcaio\n",
    "import pylcaio"
   ]
  },
  {
   "cell_type": "markdown",
   "metadata": {},
   "source": [
    "### 0.2. file paths\n",
    "#### 0.2.1. directories"
   ]
  },
  {
   "cell_type": "code",
   "execution_count": 4,
   "metadata": {},
   "outputs": [],
   "source": [
    "%%capture\n",
    "# home directory\n",
    "print(path_dir_home := Path.home())\n",
    "print(path_dir_repo := git.Repo('.', search_parent_directories=True).working_tree_dir)\n",
    "# input directory\n",
    "print(path_dir_databases := os.path.join(path_dir_home, config['path_dir_databases']))\n",
    "# output directories\n",
    "print(path_dir_data := os.path.join(path_dir_home, config['path_dir_data']))\n",
    "print(path_dir_pylcaio := os.path.join(path_dir_home, path_dir_data, config['path_dir_pylcaio']))\n",
    "print(path_dir_pymrio := os.path.join(path_dir_home, path_dir_data, config['path_dir_pymrio']))\n",
    "print(path_dir_e2m := os.path.join(path_dir_home, path_dir_data, config['path_dir_e2m']))"
   ]
  },
  {
   "cell_type": "markdown",
   "metadata": {},
   "source": [
    "#### 0.2.2. files"
   ]
  },
  {
   "cell_type": "code",
   "execution_count": 5,
   "metadata": {},
   "outputs": [],
   "source": [
    "%%capture\n",
    "# databases\n",
    "print(path_exiobase := os.path.join(path_dir_home, path_dir_databases, config['exiobase']))\n",
    "print(path_dir_ecoinvent := os.path.join(path_dir_home, path_dir_databases, config['ecoinvent']))\n",
    "# pylcaio output\n",
    "print(path_pylcaio_database_loader_class_instance := os.path.join(path_dir_pylcaio, config['pylcaio_database_loader_class_instance']))\n",
    "print(path_pylcaio_class_instance_before_hybrid := os.path.join(path_dir_pylcaio, config['pylcaio_class_instance_before_hybrid']))\n",
    "print(path_pylcaio_class_instance_after_hybrid := os.path.join(path_dir_pylcaio, config['pylcaio_class_instance_after_hybrid']))\n",
    "# pymrio output\n",
    "print(path_pymrio_class_instance := os.path.join(path_dir_pymrio, config['pymrio_class_instance']))\n",
    "# e2m output\n",
    "print(e2m_project_name := config['e2m_project_name'])\n",
    "print(path_file_e2m_pickle := os.path.join(path_dir_e2m, e2m_project_name + config['e2m_pickle_filename']))"
   ]
  },
  {
   "cell_type": "markdown",
   "metadata": {},
   "source": [
    "### 1.1. load pickled objects\n",
    "#### 1.1.1. pickled loaded databases"
   ]
  },
  {
   "cell_type": "code",
   "execution_count": 6,
   "metadata": {},
   "outputs": [],
   "source": [
    "with gzip.open(path_file_e2m_pickle, 'rb') as file_in:\n",
    "    ecoinvent: dict = pd.read_pickle(file_in)"
   ]
  },
  {
   "cell_type": "code",
   "execution_count": 7,
   "metadata": {},
   "outputs": [],
   "source": [
    "with open(path_pymrio_class_instance, 'rb') as file_in:\n",
    "    exiobase: pymrio.core.mriosystem.IOSystem = pd.read_pickle(file_in)"
   ]
  },
  {
   "cell_type": "markdown",
   "metadata": {},
   "source": [
    "#### 1.1.2 pickled `pylcaio` class instances"
   ]
  },
  {
   "cell_type": "code",
   "execution_count": 21,
   "metadata": {},
   "outputs": [],
   "source": [
    "with open(path_pylcaio_database_loader_class_instance, 'rb') as file_in:\n",
    "    pylcaio_database_loader_class_instance: pylcaio.DatabaseLoader = pd.read_pickle(file_in)"
   ]
  },
  {
   "cell_type": "code",
   "execution_count": 35,
   "metadata": {},
   "outputs": [],
   "source": [
    "with open(path_pylcaio_class_instance_before_hybrid, 'rb') as file_in:\n",
    "    pylcaio_object_before_hybrid: pylcaio.LCAIO = pd.read_pickle(file_in)"
   ]
  },
  {
   "cell_type": "code",
   "execution_count": 28,
   "metadata": {},
   "outputs": [],
   "source": [
    "with open(path_pylcaio_class_instance_after_hybrid, 'rb') as file_in:\n",
    "    pylcaio_object_after_hybrid: pylcaio.LCAIO = pd.read_pickle(file_in)"
   ]
  },
  {
   "cell_type": "markdown",
   "metadata": {},
   "source": [
    "### 2.1. investigation (\"playground\")"
   ]
  },
  {
   "cell_type": "code",
   "execution_count": 11,
   "metadata": {},
   "outputs": [
    {
     "name": "stdout",
     "output_type": "stream",
     "text": [
      "Indentifying Rest of World regions...\n",
      "Updating electricity prices...\n",
      "Calculating productions volumes...\n"
     ]
    },
    {
     "ename": "KeyboardInterrupt",
     "evalue": "",
     "output_type": "error",
     "traceback": [
      "\u001b[0;31m---------------------------------------------------------------------------\u001b[0m",
      "\u001b[0;31mKeyboardInterrupt\u001b[0m                         Traceback (most recent call last)",
      "Cell \u001b[0;32mIn [11], line 1\u001b[0m\n\u001b[0;32m----> 1\u001b[0m \u001b[43mpylcaio_object_before_hybrid\u001b[49m\u001b[38;5;241;43m.\u001b[39;49m\u001b[43mhybridize\u001b[49m\u001b[43m(\u001b[49m\n\u001b[1;32m      2\u001b[0m \u001b[43m    \u001b[49m\u001b[43mprice_neutral_cut_off_matrix\u001b[49m\u001b[43m \u001b[49m\u001b[38;5;241;43m=\u001b[39;49m\u001b[43m \u001b[49m\u001b[38;5;124;43m'\u001b[39;49m\u001b[38;5;124;43mSTAM\u001b[39;49m\u001b[38;5;124;43m'\u001b[39;49m\u001b[43m,\u001b[49m\n\u001b[1;32m      3\u001b[0m \u001b[43m    \u001b[49m\u001b[43mcapitals\u001b[49m\u001b[43m \u001b[49m\u001b[38;5;241;43m=\u001b[39;49m\u001b[43m \u001b[49m\u001b[38;5;28;43;01mFalse\u001b[39;49;00m\u001b[43m,\u001b[49m\n\u001b[1;32m      4\u001b[0m \u001b[43m    \u001b[49m\u001b[43mpriceless_scaling\u001b[49m\u001b[43m \u001b[49m\u001b[38;5;241;43m=\u001b[39;49m\u001b[43m \u001b[49m\u001b[38;5;28;43;01mTrue\u001b[39;49;00m\n\u001b[1;32m      5\u001b[0m \u001b[43m)\u001b[49m\n",
      "File \u001b[0;32m~/github/pylcaio/src/pylcaio.py:859\u001b[0m, in \u001b[0;36mLCAIO.hybridize\u001b[0;34m(self, price_neutral_cut_off_matrix, capitals, priceless_scaling)\u001b[0m\n\u001b[1;32m    857\u001b[0m \u001b[39mself\u001b[39m\u001b[39m.\u001b[39mupdate_prices_electricity()\n\u001b[1;32m    858\u001b[0m \u001b[39mprint\u001b[39m(\u001b[39m\"\u001b[39m\u001b[39mCalculating productions volumes...\u001b[39m\u001b[39m\"\u001b[39m)\n\u001b[0;32m--> 859\u001b[0m \u001b[39mself\u001b[39;49m\u001b[39m.\u001b[39;49mcalc_productions()\n\u001b[1;32m    860\u001b[0m \u001b[39mprint\u001b[39m(\u001b[39m\"\u001b[39m\u001b[39mAdjusting low production volume processes...\u001b[39m\u001b[39m\"\u001b[39m)\n\u001b[1;32m    861\u001b[0m \u001b[39mself\u001b[39m\u001b[39m.\u001b[39mlow_production_volume_processes()\n",
      "File \u001b[0;32m~/github/pylcaio/src/pylcaio.py:1293\u001b[0m, in \u001b[0;36mLCAIO.calc_productions\u001b[0;34m(self)\u001b[0m\n\u001b[1;32m   1291\u001b[0m     somme \u001b[39m=\u001b[39m \u001b[39m0\u001b[39m\n\u001b[1;32m   1292\u001b[0m     \u001b[39mfor\u001b[39;00m j \u001b[39min\u001b[39;00m \u001b[39mrange\u001b[39m(\u001b[39m0\u001b[39m, \u001b[39mlen\u001b[39m(listmatrixxxx[i]), \u001b[39mself\u001b[39m\u001b[39m.\u001b[39mnumber_of_products_IO):\n\u001b[0;32m-> 1293\u001b[0m         somme \u001b[39m+\u001b[39m\u001b[39m=\u001b[39m listmatrixxxx[i]\u001b[39m.\u001b[39;49miloc[j \u001b[39m+\u001b[39;49m k, \u001b[39m0\u001b[39;49m]\n\u001b[1;32m   1294\u001b[0m     listadd\u001b[39m.\u001b[39mappend(somme)\n\u001b[1;32m   1295\u001b[0m listlisteeee[i] \u001b[39m=\u001b[39m listadd\n",
      "File \u001b[0;32m/opt/homebrew/Caskroom/miniconda/base/envs/pylcaio/lib/python3.10/site-packages/pandas/core/indexing.py:955\u001b[0m, in \u001b[0;36m_LocationIndexer.__getitem__\u001b[0;34m(self, key)\u001b[0m\n\u001b[1;32m    954\u001b[0m \u001b[39mdef\u001b[39;00m \u001b[39m__getitem__\u001b[39m(\u001b[39mself\u001b[39m, key):\n\u001b[0;32m--> 955\u001b[0m     check_deprecated_indexers(key)\n\u001b[1;32m    956\u001b[0m     \u001b[39mif\u001b[39;00m \u001b[39mtype\u001b[39m(key) \u001b[39mis\u001b[39;00m \u001b[39mtuple\u001b[39m:\n\u001b[1;32m    957\u001b[0m         key \u001b[39m=\u001b[39m \u001b[39mtuple\u001b[39m(\u001b[39mlist\u001b[39m(x) \u001b[39mif\u001b[39;00m is_iterator(x) \u001b[39melse\u001b[39;00m x \u001b[39mfor\u001b[39;00m x \u001b[39min\u001b[39;00m key)\n",
      "File \u001b[0;32m/opt/homebrew/Caskroom/miniconda/base/envs/pylcaio/lib/python3.10/site-packages/pandas/core/indexing.py:2491\u001b[0m, in \u001b[0;36mcheck_deprecated_indexers\u001b[0;34m(key)\u001b[0m\n\u001b[1;32m   2486\u001b[0m \u001b[39mdef\u001b[39;00m \u001b[39mcheck_deprecated_indexers\u001b[39m(key) \u001b[39m-\u001b[39m\u001b[39m>\u001b[39m \u001b[39mNone\u001b[39;00m:\n\u001b[1;32m   2487\u001b[0m     \u001b[39m\"\"\"Checks if the key is a deprecated indexer.\"\"\"\u001b[39;00m\n\u001b[1;32m   2488\u001b[0m     \u001b[39mif\u001b[39;00m (\n\u001b[1;32m   2489\u001b[0m         \u001b[39misinstance\u001b[39m(key, \u001b[39mset\u001b[39m)\n\u001b[1;32m   2490\u001b[0m         \u001b[39mor\u001b[39;00m \u001b[39misinstance\u001b[39m(key, \u001b[39mtuple\u001b[39m)\n\u001b[0;32m-> 2491\u001b[0m         \u001b[39mand\u001b[39;00m \u001b[39many\u001b[39m(\u001b[39misinstance\u001b[39m(x, \u001b[39mset\u001b[39m) \u001b[39mfor\u001b[39;00m x \u001b[39min\u001b[39;00m key)\n\u001b[1;32m   2492\u001b[0m     ):\n\u001b[1;32m   2493\u001b[0m         warnings\u001b[39m.\u001b[39mwarn(\n\u001b[1;32m   2494\u001b[0m             \u001b[39m\"\u001b[39m\u001b[39mPassing a set as an indexer is deprecated and will raise in \u001b[39m\u001b[39m\"\u001b[39m\n\u001b[1;32m   2495\u001b[0m             \u001b[39m\"\u001b[39m\u001b[39ma future version. Use a list instead.\u001b[39m\u001b[39m\"\u001b[39m,\n\u001b[1;32m   2496\u001b[0m             \u001b[39mFutureWarning\u001b[39;00m,\n\u001b[1;32m   2497\u001b[0m             stacklevel\u001b[39m=\u001b[39mfind_stack_level(),\n\u001b[1;32m   2498\u001b[0m         )\n\u001b[1;32m   2499\u001b[0m     \u001b[39mif\u001b[39;00m (\n\u001b[1;32m   2500\u001b[0m         \u001b[39misinstance\u001b[39m(key, \u001b[39mdict\u001b[39m)\n\u001b[1;32m   2501\u001b[0m         \u001b[39mor\u001b[39;00m \u001b[39misinstance\u001b[39m(key, \u001b[39mtuple\u001b[39m)\n\u001b[1;32m   2502\u001b[0m         \u001b[39mand\u001b[39;00m \u001b[39many\u001b[39m(\u001b[39misinstance\u001b[39m(x, \u001b[39mdict\u001b[39m) \u001b[39mfor\u001b[39;00m x \u001b[39min\u001b[39;00m key)\n\u001b[1;32m   2503\u001b[0m     ):\n",
      "\u001b[0;31mKeyboardInterrupt\u001b[0m: "
     ]
    }
   ],
   "source": [
    "pylcaio_object_before_hybrid.hybridize(\n",
    "    price_neutral_cut_off_matrix = 'STAM',\n",
    "    capitals = False,\n",
    "    priceless_scaling = True\n",
    ")"
   ]
  }
 ],
 "metadata": {
  "kernelspec": {
   "display_name": "Python 3.10.6 ('pylcaio')",
   "language": "python",
   "name": "python3"
  },
  "language_info": {
   "codemirror_mode": {
    "name": "ipython",
    "version": 3
   },
   "file_extension": ".py",
   "mimetype": "text/x-python",
   "name": "python",
   "nbconvert_exporter": "python",
   "pygments_lexer": "ipython3",
   "version": "3.10.6"
  },
  "orig_nbformat": 4,
  "vscode": {
   "interpreter": {
    "hash": "af11b17298303d3420ac04a2d81997bb73d15b4df2e0afffe06f0aa93756cff5"
   }
  }
 },
 "nbformat": 4,
 "nbformat_minor": 2
}
