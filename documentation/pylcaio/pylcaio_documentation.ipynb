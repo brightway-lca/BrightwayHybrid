{
 "cells": [
  {
   "cell_type": "markdown",
   "metadata": {},
   "source": [
    "ℹ️ contains information on the data types and table schema of the `pylcaio` package"
   ]
  },
  {
   "cell_type": "markdown",
   "metadata": {},
   "source": [
    "#### [`calc_productions()`](https://github.com/OASES-project/pylcaio/blob/master/src/pylcaio.py#L1223)\n",
    "\n",
    "input:\n",
    "\n",
    "\n",
    "\n",
    "return:\n",
    "\n",
    "`self.total_prod_country`\n",
    "`self.total_prod_region`\n",
    "`self.total_prod_RoW dataframe`"
   ]
  },
  {
   "cell_type": "markdown",
   "metadata": {},
   "source": [
    "#### [`identify_rows()`](https://github.com/OASES-project/pylcaio/blob/master/src/pylcaio.py#L1118)\n",
    "\n",
    "input:\n",
    "\n",
    "`self.PRO_f`: metadata of the LCA database processes\n",
    "\n",
    "| index | activityNameId | geography |\n",
    "| ----- | -------------- | --------- |\n",
    "| 10 | 1 | RoW |\n",
    "| 11 | 1 | US |\n",
    "| 12 | 1 | CA |\n",
    "| 13 | 2 | RoW |\n",
    "| 14 | 2 | JP |\n",
    "| 15 | 2 | US |\n",
    "| 16 | 3 | FR |\n",
    "| 17 | 3 | BE |\n",
    "| 18 | 4 | RoW |\n",
    "| 19 | 4 | US |\n",
    "| 20 | 4 | CA |\n",
    "\n",
    "`self.countries_per_regions`: list of IO countries per LCA regions\n",
    "\n",
    "`countries_per_regions` = {}\n",
    "\n",
    "`self.listcountry`: list of IO countries\n",
    "\n",
    "`listcountry = ['US', 'CA', 'JP', 'BE', 'FR']`\n",
    "\n",
    "intermediate:\n",
    "\n",
    "| activityNameId | geography_list | rest_of_world_geography_list | rest_of_world_index |\n",
    "| -------------- | -------------- | ---------------------------- | ------------------- |\n",
    "| 1 | RoW, US, CA | JP, BE, FR | RoW_1 |\n",
    "| 2 | RoW, JP, US | CA, BE, FR | RoW_2 |\n",
    "| 4 | RoW, US, CA | CA, BE, FR | RoW_1 |\n",
    "\n",
    "return:\n",
    "\n",
    "`self.PRO_f` (updated)\n",
    "\n",
    "| index | activityNameId | geography |\n",
    "| ----- | -------------- | --------- |\n",
    "| 10 | 1 | RoW_1 |\n",
    "| 11 | 1 | US |\n",
    "| 12 | 1 | CA |\n",
    "| 13 | 2 | RoW_2 |\n",
    "| 14 | 2 | JP |\n",
    "| 15 | 2 | US |\n",
    "| 16 | 3 | FR |\n",
    "| 17 | 3 | BE |\n",
    "| 18 | 4 | RoW_1 |\n",
    "| 19 | 4 | US |\n",
    "| 20 | 4 | CA |\n",
    "\n",
    "`self.dictRoW = {'RoW_1': ['JP', 'BE', 'FR'], 'RoW_2': ['CA', 'BE', 'FR']}`"
   ]
  }
 ],
 "metadata": {
  "kernelspec": {
   "display_name": "Python 3.10.6 64-bit",
   "language": "python",
   "name": "python3"
  },
  "language_info": {
   "name": "python",
   "version": "3.10.8 (main, Oct 21 2022, 22:22:30) [Clang 14.0.0 (clang-1400.0.29.202)]"
  },
  "orig_nbformat": 4,
  "vscode": {
   "interpreter": {
    "hash": "b0fa6594d8f4cbf19f97940f81e996739fb7646882a419484c72d19e05852a7e"
   }
  }
 },
 "nbformat": 4,
 "nbformat_minor": 2
}
